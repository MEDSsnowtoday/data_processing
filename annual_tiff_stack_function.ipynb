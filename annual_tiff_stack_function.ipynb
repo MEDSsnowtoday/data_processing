{
 "cells": [
  {
   "cell_type": "markdown",
   "id": "e6858da4-9791-4e39-8414-e64c1eb1ce14",
   "metadata": {},
   "source": [
    "# Function to Create GeoTiff Stacks"
   ]
  },
  {
   "cell_type": "code",
   "execution_count": 1,
   "id": "3f7575d5-7f2d-48ec-a78b-3548509e6b44",
   "metadata": {},
   "outputs": [],
   "source": [
    "import glob\n",
    "import os\n",
    "from osgeo import gdal, osr\n",
    "import numpy as np\n",
    "import pandas as pd\n",
    "import rasterio\n",
    "from rasterio.plot import show"
   ]
  },
  {
   "cell_type": "markdown",
   "id": "60c63a65-9afe-44b7-82e0-98836e676629",
   "metadata": {},
   "source": [
    "## Geotiff Transformation Functions\n",
    "### Projection Info"
   ]
  },
  {
   "cell_type": "code",
   "execution_count": 2,
   "id": "9def2fb7-c2a7-4b43-9544-bf2013686b2f",
   "metadata": {},
   "outputs": [],
   "source": [
    "# x dimension of array\n",
    "X_width = 1334\n",
    "# y dimension of array\n",
    "Y_height = 1841\n",
    "# Projection data of sample GeoTiff\n",
    "Projection = 'PROJCS[\"Albers Conical Equal Area\",GEOGCS[\"WGS 84\",DATUM[\"WGS_1984\",SPHEROID[\"WGS 84\",6378137,298.257223563,AUTHORITY[\"EPSG\",\"7030\"]],AUTHORITY[\"EPSG\",\"6326\"]],PRIMEM[\"Greenwich\",0],UNIT[\"degree\",0.0174532925199433,AUTHORITY[\"EPSG\",\"9122\"]],AUTHORITY[\"EPSG\",\"4326\"]],PROJECTION[\"Albers_Conic_Equal_Area\"],PARAMETER[\"latitude_of_center\",0],PARAMETER[\"longitude_of_center\",-120],PARAMETER[\"standard_parallel_1\",34],PARAMETER[\"standard_parallel_2\",40.5],PARAMETER[\"false_easting\",0],PARAMETER[\"false_northing\",-4000000],UNIT[\"meters\",1],AXIS[\"Easting\",EAST],AXIS[\"Northing\",NORTH]]'\n",
    "# transformation data of array\n",
    "ReferencingMatrix = [-285750.0, 500.0, 0.0, 500250.0, 0.0, -500.0]"
   ]
  },
  {
   "cell_type": "markdown",
   "id": "a8f62ea1-475a-4ef2-aff8-3b2e2cf17bc1",
   "metadata": {},
   "source": [
    "### Convert a Single Year into a Stacked Geotiff"
   ]
  },
  {
   "cell_type": "code",
   "execution_count": 3,
   "id": "2d96b799-4168-4ec4-b80e-1247ce8c6edd",
   "metadata": {},
   "outputs": [],
   "source": [
    "def CreateGeoTiff2(name, array, geo_transform, projection):\n",
    "    \n",
    "    driver = gdal.GetDriverByName('GTiff')\n",
    "\n",
    "    DataSet = driver.Create(name, array.shape[2], array.shape[1], array.shape[0], gdal.GDT_Float32)\n",
    "    DataSet.SetGeoTransform(geo_transform)\n",
    "    DataSet.SetProjection(projection)\n",
    "    for i, image in enumerate(array, 1):\n",
    "        DataSet.GetRasterBand(i).WriteArray( image )\n",
    "    DataSet.FlushCache()\n",
    "    return name"
   ]
  },
  {
   "cell_type": "markdown",
   "id": "327fd7f3-3c0d-449c-9fe5-9eb6804fb7e4",
   "metadata": {},
   "source": [
    "## Snow Cover Data Cleaning Function"
   ]
  },
  {
   "cell_type": "code",
   "execution_count": 4,
   "id": "d58a341b-1e42-457e-99f6-a0bf20d0bc11",
   "metadata": {},
   "outputs": [],
   "source": [
    "def PrepFilesForGeoTiff_SnowCover(filepath):\n",
    "    sf_datasets = gdal.Open(filepath, gdal.GA_ReadOnly).GetSubDatasets()\n",
    "    sf_data = gdal.Open(sf_datasets[3][0]) #(sds[3] chooses 4th dataset in the subdirectory (i.e., snow fraction). The second bracket [0] needed to open dataset.\n",
    "    sf_data_array = sf_data.ReadAsArray() #Changes the selected dataset into an array.\n",
    "    sf_data_float=sf_data_array.astype('float')\n",
    "    sf_data_float[sf_data_float == 255] = np.nan\n",
    "    sf_data_float[sf_data_float == 0] = np.nan\n",
    "    sf_data_for_geotiff_function = np.transpose(sf_data_float, (0, 2, 1))\n",
    "    \n",
    "    return sf_data_for_geotiff_function\n",
    "    "
   ]
  },
  {
   "cell_type": "code",
   "execution_count": 16,
   "id": "7a3f4aed-1114-4699-bd9a-dfa7cdf016f4",
   "metadata": {},
   "outputs": [],
   "source": [
    "# wy2001\n",
    "filepath_sf2001 = 'data/snow_fraction_data/Sierra2001.h5'\n",
    "sf2001_data_for_geotiff_function = PrepFilesForGeoTiff_SnowCover(filepath_sf2001)\n",
    "CreateGeoTiff2('stacked_tiffs/wy2001_snow_cover_percent_stack.tif', sf2001_data_for_geotiff_function, ReferencingMatrix, Projection)"
   ]
  },
  {
   "cell_type": "code",
   "execution_count": 19,
   "id": "1004bfa2-204f-4131-be16-ad2c6cacf22a",
   "metadata": {},
   "outputs": [],
   "source": [
    "# wy2002\n",
    "filepath_sf2002 = 'data/snow_fraction_data/Sierra2002.h5'\n",
    "sf2002_data_for_geotiff_function = PrepFilesForGeoTiff_SnowCover(filepath_sf2002)\n",
    "CreateGeoTiff2('stacked_tiffs/wy2002_snow_cover_percent_stack.tif', sf2002_data_for_geotiff_function, ReferencingMatrix, Projection)"
   ]
  },
  {
   "cell_type": "code",
   "execution_count": 20,
   "id": "364b61e7-e466-493f-bd29-9ebca84710d9",
   "metadata": {},
   "outputs": [],
   "source": [
    "# wy2003\n",
    "filepath_sf2003 = 'data/snow_fraction_data/Sierra2003.h5'\n",
    "sf2003_data_for_geotiff_function = PrepFilesForGeoTiff_SnowCover(filepath_sf2003)\n",
    "CreateGeoTiff2('stacked_tiffs/wy2003_snow_cover_percent_stack.tif', sf2003_data_for_geotiff_function, ReferencingMatrix, Projection)"
   ]
  },
  {
   "cell_type": "code",
   "execution_count": 21,
   "id": "fe45de36-cc51-4253-b8e9-ea6e9982adc3",
   "metadata": {},
   "outputs": [],
   "source": [
    "# wy2004\n",
    "filepath_sf2004 = 'data/snow_fraction_data/Sierra2004.h5'\n",
    "sf2004_data_for_geotiff_function = PrepFilesForGeoTiff_SnowCover(filepath_sf2004)\n",
    "CreateGeoTiff2('stacked_tiffs/wy2004_snow_cover_percent_stack.tif', sf2004_data_for_geotiff_function, ReferencingMatrix, Projection)"
   ]
  },
  {
   "cell_type": "code",
   "execution_count": 22,
   "id": "cd01c504-1998-42cb-a79f-4525b490336d",
   "metadata": {},
   "outputs": [],
   "source": [
    "# wy2005\n",
    "filepath_sf2005 = 'data/snow_fraction_data/Sierra2005.h5'\n",
    "sf2005_data_for_geotiff_function = PrepFilesForGeoTiff_SnowCover(filepath_sf2005)\n",
    "CreateGeoTiff2('stacked_tiffs/wy2005_snow_cover_percent_stack.tif', sf2005_data_for_geotiff_function, ReferencingMatrix, Projection)"
   ]
  },
  {
   "cell_type": "code",
   "execution_count": 23,
   "id": "0e187d27-a81c-4161-819b-c23e41e90a4c",
   "metadata": {},
   "outputs": [],
   "source": [
    "# wy2006\n",
    "filepath_sf2006 = 'data/snow_fraction_data/Sierra2006.h5'\n",
    "sf2006_data_for_geotiff_function = PrepFilesForGeoTiff_SnowCover(filepath_sf2006)\n",
    "CreateGeoTiff2('stacked_tiffs/wy2006_snow_cover_percent_stack.tif', sf2006_data_for_geotiff_function, ReferencingMatrix, Projection)"
   ]
  },
  {
   "cell_type": "code",
   "execution_count": 24,
   "id": "e48ae671-31f2-47b5-b4f5-ff91d0bbca8b",
   "metadata": {},
   "outputs": [],
   "source": [
    "# wy2007\n",
    "filepath_sf2007 = 'data/snow_fraction_data/Sierra2007.h5'\n",
    "sf2007_data_for_geotiff_function = PrepFilesForGeoTiff_SnowCover(filepath_sf2007)\n",
    "CreateGeoTiff2('stacked_tiffs/wy2007_snow_cover_percent_stack.tif', sf2007_data_for_geotiff_function, ReferencingMatrix, Projection)"
   ]
  },
  {
   "cell_type": "code",
   "execution_count": 25,
   "id": "120b421e-f25a-4edb-aa61-0e2ad70cea23",
   "metadata": {},
   "outputs": [],
   "source": [
    "# wy2008\n",
    "filepath_sf2008 = 'data/snow_fraction_data/Sierra2008.h5'\n",
    "sf2008_data_for_geotiff_function = PrepFilesForGeoTiff_SnowCover(filepath_sf2008)\n",
    "CreateGeoTiff2('stacked_tiffs/wy2008_snow_cover_percent_stack.tif', sf2008_data_for_geotiff_function, ReferencingMatrix, Projection)"
   ]
  },
  {
   "cell_type": "code",
   "execution_count": 26,
   "id": "97847b32-07d7-45f8-80da-752d3af8e86e",
   "metadata": {},
   "outputs": [],
   "source": [
    "# wy2009\n",
    "filepath_sf2009 = 'data/snow_fraction_data/Sierra2009.h5'\n",
    "sf2009_data_for_geotiff_function = PrepFilesForGeoTiff_SnowCover(filepath_sf2009)\n",
    "CreateGeoTiff2('stacked_tiffs/wy2009_snow_cover_percent_stack.tif', sf2009_data_for_geotiff_function, ReferencingMatrix, Projection)"
   ]
  },
  {
   "cell_type": "code",
   "execution_count": 27,
   "id": "9d483b76-a27d-4bef-8a9d-13d0d504f906",
   "metadata": {},
   "outputs": [],
   "source": [
    "# wy2010\n",
    "filepath_sf2010 = 'data/snow_fraction_data/Sierra2010.h5'\n",
    "sf2010_data_for_geotiff_function = PrepFilesForGeoTiff_SnowCover(filepath_sf2010)\n",
    "CreateGeoTiff2('stacked_tiffs/wy2010_snow_cover_percent_stack.tif', sf2010_data_for_geotiff_function, ReferencingMatrix, Projection)"
   ]
  },
  {
   "cell_type": "code",
   "execution_count": 28,
   "id": "233b9289-023a-429a-955f-33cbc26cb07d",
   "metadata": {},
   "outputs": [],
   "source": [
    "# wy2011\n",
    "filepath_sf2011 = 'data/snow_fraction_data/Sierra2011.h5'\n",
    "sf2011_data_for_geotiff_function = PrepFilesForGeoTiff_SnowCover(filepath_sf2011)\n",
    "CreateGeoTiff2('stacked_tiffs/wy2011_snow_cover_percent_stack.tif', sf2011_data_for_geotiff_function, ReferencingMatrix, Projection)"
   ]
  },
  {
   "cell_type": "code",
   "execution_count": 29,
   "id": "deb8dfd2-3a21-486f-ab42-9035469e30b7",
   "metadata": {},
   "outputs": [],
   "source": [
    "# wy2012\n",
    "filepath_sf2012 = 'data/snow_fraction_data/Sierra2012.h5'\n",
    "sf2012_data_for_geotiff_function = PrepFilesForGeoTiff_SnowCover(filepath_sf2012)\n",
    "CreateGeoTiff2('stacked_tiffs/wy2012_snow_cover_percent_stack.tif', sf2012_data_for_geotiff_function, ReferencingMatrix, Projection)"
   ]
  },
  {
   "cell_type": "code",
   "execution_count": 30,
   "id": "668ab688-8661-47d1-931e-00f42443e38e",
   "metadata": {},
   "outputs": [],
   "source": [
    "# wy2013\n",
    "filepath_sf2013 = 'data/snow_fraction_data/Sierra2013.h5'\n",
    "sf2013_data_for_geotiff_function = PrepFilesForGeoTiff_SnowCover(filepath_sf2013)\n",
    "CreateGeoTiff2('stacked_tiffs/wy2013_snow_cover_percent_stack.tif', sf2013_data_for_geotiff_function, ReferencingMatrix, Projection)"
   ]
  },
  {
   "cell_type": "code",
   "execution_count": 31,
   "id": "5ce65de5-3977-4b05-b106-8df3a98c67bf",
   "metadata": {},
   "outputs": [],
   "source": [
    "# wy2014\n",
    "filepath_sf2014 = 'data/snow_fraction_data/Sierra2014.h5'\n",
    "sf2014_data_for_geotiff_function = PrepFilesForGeoTiff_SnowCover(filepath_sf2014)\n",
    "CreateGeoTiff2('stacked_tiffs/wy2014_snow_cover_percent_stack.tif', sf2014_data_for_geotiff_function, ReferencingMatrix, Projection)"
   ]
  },
  {
   "cell_type": "code",
   "execution_count": 32,
   "id": "7d785d90-d9b5-43ce-b79b-f2ee1b091c0c",
   "metadata": {},
   "outputs": [],
   "source": [
    "# wy2015\n",
    "filepath_sf2015 = 'data/snow_fraction_data/Sierra2015.h5'\n",
    "sf2015_data_for_geotiff_function = PrepFilesForGeoTiff_SnowCover(filepath_sf2015)\n",
    "CreateGeoTiff2('stacked_tiffs/wy2015_snow_cover_percent_stack.tif', sf2015_data_for_geotiff_function, ReferencingMatrix, Projection)"
   ]
  },
  {
   "cell_type": "code",
   "execution_count": 33,
   "id": "29072fc4-5299-4ebc-a8d7-6926aedc9473",
   "metadata": {},
   "outputs": [],
   "source": [
    "# wy2016\n",
    "filepath_sf2016 = 'data/snow_fraction_data/Sierra2016.h5'\n",
    "sf2016_data_for_geotiff_function = PrepFilesForGeoTiff_SnowCover(filepath_sf2016)\n",
    "CreateGeoTiff2('stacked_tiffs/wy2016_snow_cover_percent_stack.tif', sf2016_data_for_geotiff_function, ReferencingMatrix, Projection)"
   ]
  },
  {
   "cell_type": "code",
   "execution_count": 34,
   "id": "f7ac70dd-c091-460a-8adf-d555a10528e9",
   "metadata": {},
   "outputs": [],
   "source": [
    "# wy2017\n",
    "filepath_sf2017 = 'data/snow_fraction_data/Sierra2017.h5'\n",
    "sf2017_data_for_geotiff_function = PrepFilesForGeoTiff_SnowCover(filepath_sf2017)\n",
    "CreateGeoTiff2('stacked_tiffs/wy2017_snow_cover_percent_stack.tif', sf2017_data_for_geotiff_function, ReferencingMatrix, Projection)"
   ]
  },
  {
   "cell_type": "code",
   "execution_count": 35,
   "id": "a5e6de66-7e49-4e6e-b9f6-98e98b808b2a",
   "metadata": {},
   "outputs": [],
   "source": [
    "# wy2018\n",
    "filepath_sf2018 = 'data/snow_fraction_data/Sierra2018.h5'\n",
    "sf2018_data_for_geotiff_function = PrepFilesForGeoTiff_SnowCover(filepath_sf2018)\n",
    "CreateGeoTiff2('stacked_tiffs/wy2018_snow_cover_percent_stack.tif', sf2018_data_for_geotiff_function, ReferencingMatrix, Projection)"
   ]
  },
  {
   "cell_type": "code",
   "execution_count": 36,
   "id": "55d4e613-40d8-4315-8571-8c81da1e3558",
   "metadata": {},
   "outputs": [],
   "source": [
    "# wy2019\n",
    "filepath_sf2019 = 'data/snow_fraction_data/Sierra2019.h5'\n",
    "sf2019_data_for_geotiff_function = PrepFilesForGeoTiff_SnowCover(filepath_sf2019)\n",
    "CreateGeoTiff2('stacked_tiffs/wy2019_snow_cover_percent_stack.tif', sf2019_data_for_geotiff_function, ReferencingMatrix, Projection)"
   ]
  },
  {
   "cell_type": "markdown",
   "id": "7bf643ec-f556-404a-ad14-5d3ba1112734",
   "metadata": {},
   "source": [
    "## Albedo Data Cleaning Function"
   ]
  },
  {
   "cell_type": "code",
   "execution_count": 4,
   "id": "652dacab-d389-4d37-aeb9-412efcab9d64",
   "metadata": {},
   "outputs": [],
   "source": [
    "def PrepFilesForGeoTiff_Albedo(filepath):\n",
    "    albedo_data = gdal.Open(filepath, gdal.GA_ReadOnly)\n",
    "    albedo_data_array = albedo_data.ReadAsArray()\n",
    "    albedo_data_float=albedo_data_array.astype('float')\n",
    "    albedo_data_float[albedo_data_float == 65535] = np.nan\n",
    "    albedo_data_float[albedo_data_float == 0] = np.nan\n",
    "    albedo_data_float = albedo_data_float / 10000\n",
    "    albedo_data_for_geotiff_function = np.transpose(albedo_data_float, (0, 2, 1))\n",
    "    \n",
    "    return albedo_data_for_geotiff_function"
   ]
  },
  {
   "cell_type": "code",
   "execution_count": 13,
   "id": "2b04bf3c-b715-457b-a988-54bcd4a75c45",
   "metadata": {},
   "outputs": [
    {
     "data": {
      "text/plain": [
       "'stacked_tiffs/wy2001_albedo_stack.tif'"
      ]
     },
     "execution_count": 13,
     "metadata": {},
     "output_type": "execute_result"
    }
   ],
   "source": [
    "# wy2001\n",
    "filepath_albedo2001 = 'data/albedo_data/SierraAlbedo2001.h5'\n",
    "albedo2001_data_for_geotiff_function = PrepFilesForGeoTiff_Albedo(filepath_albedo2001)\n",
    "CreateGeoTiff2('stacked_tiffs/wy2001_albedo_stack.tif', albedo2001_data_for_geotiff_function, ReferencingMatrix, Projection)"
   ]
  },
  {
   "cell_type": "code",
   "execution_count": 14,
   "id": "e80440c3-f67b-4b39-a71f-065c8c70d810",
   "metadata": {},
   "outputs": [
    {
     "data": {
      "text/plain": [
       "'stacked_tiffs/wy2002_albedo_stack.tif'"
      ]
     },
     "execution_count": 14,
     "metadata": {},
     "output_type": "execute_result"
    }
   ],
   "source": [
    "# wy2002\n",
    "filepath_albedo2002 = 'data/albedo_data/SierraAlbedo2002.h5'\n",
    "albedo2002_data_for_geotiff_function = PrepFilesForGeoTiff_Albedo(filepath_albedo2002)\n",
    "CreateGeoTiff2('stacked_tiffs/wy2002_albedo_stack.tif', albedo2002_data_for_geotiff_function, ReferencingMatrix, Projection)"
   ]
  },
  {
   "cell_type": "code",
   "execution_count": 15,
   "id": "f009f1c4-1a72-4457-b777-2a0a1ddd6c94",
   "metadata": {},
   "outputs": [
    {
     "data": {
      "text/plain": [
       "'stacked_tiffs/wy2003_albedo_stack.tif'"
      ]
     },
     "execution_count": 15,
     "metadata": {},
     "output_type": "execute_result"
    }
   ],
   "source": [
    "# wy2003\n",
    "filepath_albedo2003 = 'data/albedo_data/SierraAlbedo2003.h5'\n",
    "albedo2003_data_for_geotiff_function = PrepFilesForGeoTiff_Albedo(filepath_albedo2003)\n",
    "CreateGeoTiff2('stacked_tiffs/wy2003_albedo_stack.tif', albedo2003_data_for_geotiff_function, ReferencingMatrix, Projection)"
   ]
  },
  {
   "cell_type": "code",
   "execution_count": 17,
   "id": "3b5138b1-e4b2-4c4c-abff-ffb635341076",
   "metadata": {},
   "outputs": [
    {
     "data": {
      "text/plain": [
       "'stacked_tiffs/wy2004_albedo_stack.tif'"
      ]
     },
     "execution_count": 17,
     "metadata": {},
     "output_type": "execute_result"
    }
   ],
   "source": [
    "# wy2004\n",
    "filepath_albedo2004 = 'data/albedo_data/SierraAlbedo2004.h5'\n",
    "albedo2004_data_for_geotiff_function = PrepFilesForGeoTiff_Albedo(filepath_albedo2004)\n",
    "CreateGeoTiff2('stacked_tiffs/wy2004_albedo_stack.tif', albedo2004_data_for_geotiff_function, ReferencingMatrix, Projection)"
   ]
  },
  {
   "cell_type": "code",
   "execution_count": 7,
   "id": "f45b971e-0eb7-47d3-9e60-2391a8454916",
   "metadata": {},
   "outputs": [
    {
     "data": {
      "text/plain": [
       "'stacked_tiffs/wy2005_albedo_stack.tif'"
      ]
     },
     "execution_count": 7,
     "metadata": {},
     "output_type": "execute_result"
    }
   ],
   "source": [
    "# wy2005\n",
    "filepath_albedo2005 = 'data/albedo_data/SierraAlbedo2005.h5'\n",
    "albedo2005_data_for_geotiff_function = PrepFilesForGeoTiff_Albedo(filepath_albedo2005)\n",
    "CreateGeoTiff2('stacked_tiffs/wy2005_albedo_stack.tif', albedo2005_data_for_geotiff_function, ReferencingMatrix, Projection)"
   ]
  },
  {
   "cell_type": "code",
   "execution_count": 8,
   "id": "8ad02d1c-c07c-4d54-af7d-4052aa60efec",
   "metadata": {},
   "outputs": [
    {
     "data": {
      "text/plain": [
       "'stacked_tiffs/wy2006_albedo_stack.tif'"
      ]
     },
     "execution_count": 8,
     "metadata": {},
     "output_type": "execute_result"
    }
   ],
   "source": [
    "# wy2006\n",
    "filepath_albedo2006 = 'data/albedo_data/SierraAlbedo2006.h5'\n",
    "albedo2006_data_for_geotiff_function = PrepFilesForGeoTiff_Albedo(filepath_albedo2006)\n",
    "CreateGeoTiff2('stacked_tiffs/wy2006_albedo_stack.tif', albedo2006_data_for_geotiff_function, ReferencingMatrix, Projection)"
   ]
  },
  {
   "cell_type": "code",
   "execution_count": 9,
   "id": "cfab325f-db89-4658-956f-b81c3ecb3a14",
   "metadata": {},
   "outputs": [
    {
     "data": {
      "text/plain": [
       "'stacked_tiffs/wy2007_albedo_stack.tif'"
      ]
     },
     "execution_count": 9,
     "metadata": {},
     "output_type": "execute_result"
    }
   ],
   "source": [
    "# wy2007\n",
    "filepath_albedo2007 = 'data/albedo_data/SierraAlbedo2007.h5'\n",
    "albedo2007_data_for_geotiff_function = PrepFilesForGeoTiff_Albedo(filepath_albedo2007)\n",
    "CreateGeoTiff2('stacked_tiffs/wy2007_albedo_stack.tif', albedo2007_data_for_geotiff_function, ReferencingMatrix, Projection)"
   ]
  },
  {
   "cell_type": "code",
   "execution_count": 10,
   "id": "cacb7ae6-ad1e-43a6-ac1b-d34aeb262b6d",
   "metadata": {},
   "outputs": [
    {
     "data": {
      "text/plain": [
       "'stacked_tiffs/wy2008_albedo_stack.tif'"
      ]
     },
     "execution_count": 10,
     "metadata": {},
     "output_type": "execute_result"
    }
   ],
   "source": [
    "# wy2008\n",
    "filepath_albedo2008 = 'data/albedo_data/SierraAlbedo2008.h5'\n",
    "albedo2008_data_for_geotiff_function = PrepFilesForGeoTiff_Albedo(filepath_albedo2008)\n",
    "CreateGeoTiff2('stacked_tiffs/wy2008_albedo_stack.tif', albedo2008_data_for_geotiff_function, ReferencingMatrix, Projection)"
   ]
  },
  {
   "cell_type": "code",
   "execution_count": 11,
   "id": "b0a841ae-1a4f-44d4-98ba-d669099b5f76",
   "metadata": {},
   "outputs": [
    {
     "data": {
      "text/plain": [
       "'stacked_tiffs/wy2009_albedo_stack.tif'"
      ]
     },
     "execution_count": 11,
     "metadata": {},
     "output_type": "execute_result"
    }
   ],
   "source": [
    "# wy2009\n",
    "filepath_albedo2009 = 'data/albedo_data/SierraAlbedo2009.h5'\n",
    "albedo2009_data_for_geotiff_function = PrepFilesForGeoTiff_Albedo(filepath_albedo2009)\n",
    "CreateGeoTiff2('stacked_tiffs/wy2009_albedo_stack.tif', albedo2009_data_for_geotiff_function, ReferencingMatrix, Projection)"
   ]
  },
  {
   "cell_type": "code",
   "execution_count": 12,
   "id": "ee7a86bb-d715-47ba-b02c-aa58f56d4aeb",
   "metadata": {},
   "outputs": [
    {
     "data": {
      "text/plain": [
       "'stacked_tiffs/wy2010_albedo_stack.tif'"
      ]
     },
     "execution_count": 12,
     "metadata": {},
     "output_type": "execute_result"
    }
   ],
   "source": [
    "# wy2010\n",
    "filepath_albedo2010 = 'data/albedo_data/SierraAlbedo2010.h5'\n",
    "albedo2010_data_for_geotiff_function = PrepFilesForGeoTiff_Albedo(filepath_albedo2010)\n",
    "CreateGeoTiff2('stacked_tiffs/wy2010_albedo_stack.tif', albedo2010_data_for_geotiff_function, ReferencingMatrix, Projection)"
   ]
  },
  {
   "cell_type": "code",
   "execution_count": 13,
   "id": "1e21dd0b-e9a6-4d2f-88d4-c32479ed4614",
   "metadata": {},
   "outputs": [
    {
     "data": {
      "text/plain": [
       "'stacked_tiffs/wy2011_albedo_stack.tif'"
      ]
     },
     "execution_count": 13,
     "metadata": {},
     "output_type": "execute_result"
    }
   ],
   "source": [
    "# wy2011\n",
    "filepath_albedo2011 = 'data/albedo_data/SierraAlbedo2011.h5'\n",
    "albedo2011_data_for_geotiff_function = PrepFilesForGeoTiff_Albedo(filepath_albedo2011)\n",
    "CreateGeoTiff2('stacked_tiffs/wy2011_albedo_stack.tif', albedo2011_data_for_geotiff_function, ReferencingMatrix, Projection)"
   ]
  },
  {
   "cell_type": "code",
   "execution_count": 14,
   "id": "a719c158-c3a6-4d45-b3e3-fdf1e524dea7",
   "metadata": {},
   "outputs": [
    {
     "data": {
      "text/plain": [
       "'stacked_tiffs/wy2012_albedo_stack.tif'"
      ]
     },
     "execution_count": 14,
     "metadata": {},
     "output_type": "execute_result"
    }
   ],
   "source": [
    "# wy2012\n",
    "filepath_albedo2012 = 'data/albedo_data/SierraAlbedo2012.h5'\n",
    "albedo2012_data_for_geotiff_function = PrepFilesForGeoTiff_Albedo(filepath_albedo2012)\n",
    "CreateGeoTiff2('stacked_tiffs/wy2012_albedo_stack.tif', albedo2012_data_for_geotiff_function, ReferencingMatrix, Projection)"
   ]
  },
  {
   "cell_type": "code",
   "execution_count": 15,
   "id": "953de9b6-3e9f-4862-85c2-a2f781dfebdd",
   "metadata": {},
   "outputs": [
    {
     "data": {
      "text/plain": [
       "'stacked_tiffs/wy2013_albedo_stack.tif'"
      ]
     },
     "execution_count": 15,
     "metadata": {},
     "output_type": "execute_result"
    }
   ],
   "source": [
    "# wy2013\n",
    "filepath_albedo2013 = 'data/albedo_data/SierraAlbedo2013.h5'\n",
    "albedo2013_data_for_geotiff_function = PrepFilesForGeoTiff_Albedo(filepath_albedo2013)\n",
    "CreateGeoTiff2('stacked_tiffs/wy2013_albedo_stack.tif', albedo2013_data_for_geotiff_function, ReferencingMatrix, Projection)"
   ]
  },
  {
   "cell_type": "code",
   "execution_count": 16,
   "id": "b0f30ed1-6c60-4d27-a320-2abaadd12323",
   "metadata": {},
   "outputs": [
    {
     "data": {
      "text/plain": [
       "'stacked_tiffs/wy2014_albedo_stack.tif'"
      ]
     },
     "execution_count": 16,
     "metadata": {},
     "output_type": "execute_result"
    }
   ],
   "source": [
    "# wy2014\n",
    "filepath_albedo2014 = 'data/albedo_data/SierraAlbedo2014.h5'\n",
    "albedo2014_data_for_geotiff_function = PrepFilesForGeoTiff_Albedo(filepath_albedo2014)\n",
    "CreateGeoTiff2('stacked_tiffs/wy2014_albedo_stack.tif', albedo2014_data_for_geotiff_function, ReferencingMatrix, Projection)"
   ]
  },
  {
   "cell_type": "code",
   "execution_count": 17,
   "id": "f037b818-b540-46f9-9d4e-72c864adcdc4",
   "metadata": {},
   "outputs": [
    {
     "data": {
      "text/plain": [
       "'stacked_tiffs/wy2015_albedo_stack.tif'"
      ]
     },
     "execution_count": 17,
     "metadata": {},
     "output_type": "execute_result"
    }
   ],
   "source": [
    "# wy2015\n",
    "filepath_albedo2015 = 'data/albedo_data/SierraAlbedo2015.h5'\n",
    "albedo2015_data_for_geotiff_function = PrepFilesForGeoTiff_Albedo(filepath_albedo2015)\n",
    "CreateGeoTiff2('stacked_tiffs/wy2015_albedo_stack.tif', albedo2015_data_for_geotiff_function, ReferencingMatrix, Projection)"
   ]
  },
  {
   "cell_type": "code",
   "execution_count": 18,
   "id": "fbb99c59-ae26-4987-b04c-486a1dbd9ade",
   "metadata": {},
   "outputs": [
    {
     "data": {
      "text/plain": [
       "'stacked_tiffs/wy2016_albedo_stack.tif'"
      ]
     },
     "execution_count": 18,
     "metadata": {},
     "output_type": "execute_result"
    }
   ],
   "source": [
    "# wy2016\n",
    "filepath_albedo2016 = 'data/albedo_data/SierraAlbedo2016.h5'\n",
    "albedo2016_data_for_geotiff_function = PrepFilesForGeoTiff_Albedo(filepath_albedo2016)\n",
    "CreateGeoTiff2('stacked_tiffs/wy2016_albedo_stack.tif', albedo2016_data_for_geotiff_function, ReferencingMatrix, Projection)"
   ]
  },
  {
   "cell_type": "code",
   "execution_count": 6,
   "id": "ec7f9125-5868-4e31-811e-48921d30d547",
   "metadata": {},
   "outputs": [
    {
     "data": {
      "text/plain": [
       "'stacked_tiffs/wy2017_albedo_stack.tif'"
      ]
     },
     "execution_count": 6,
     "metadata": {},
     "output_type": "execute_result"
    }
   ],
   "source": [
    "# wy2017\n",
    "filepath_albedo2017 = 'data/albedo_data/SierraAlbedo2017.h5'\n",
    "albedo2017_data_for_geotiff_function = PrepFilesForGeoTiff_Albedo(filepath_albedo2017)\n",
    "CreateGeoTiff2('stacked_tiffs/wy2017_albedo_stack.tif', albedo2017_data_for_geotiff_function, ReferencingMatrix, Projection)"
   ]
  },
  {
   "cell_type": "code",
   "execution_count": 5,
   "id": "cbe2440a-9b4d-4637-86f3-a041a86cfe95",
   "metadata": {},
   "outputs": [
    {
     "data": {
      "text/plain": [
       "'stacked_tiffs/wy2018_albedo_stack.tif'"
      ]
     },
     "execution_count": 5,
     "metadata": {},
     "output_type": "execute_result"
    }
   ],
   "source": [
    "# wy2018\n",
    "filepath_albedo2018 = 'data/albedo_data/SierraAlbedo2018.h5'\n",
    "albedo2018_data_for_geotiff_function = PrepFilesForGeoTiff_Albedo(filepath_albedo2018)\n",
    "CreateGeoTiff2('stacked_tiffs/wy2018_albedo_stack.tif', albedo2018_data_for_geotiff_function, ReferencingMatrix, Projection)"
   ]
  },
  {
   "cell_type": "code",
   "execution_count": 7,
   "id": "307c2e0f-94b2-4e80-b196-da40e7e0a645",
   "metadata": {},
   "outputs": [
    {
     "data": {
      "text/plain": [
       "'stacked_tiffs/wy2019_albedo_stack.tif'"
      ]
     },
     "execution_count": 7,
     "metadata": {},
     "output_type": "execute_result"
    }
   ],
   "source": [
    "# wy2019\n",
    "filepath_albedo2019 = 'data/albedo_data/SierraAlbedo2019.h5'\n",
    "albedo2019_data_for_geotiff_function = PrepFilesForGeoTiff_Albedo(filepath_albedo2019)\n",
    "CreateGeoTiff2('stacked_tiffs/wy2019_albedo_stack.tif', albedo2019_data_for_geotiff_function, ReferencingMatrix, Projection)"
   ]
  },
  {
   "cell_type": "markdown",
   "id": "26126ae9-72d4-43a5-ba52-d4e0bf70e236",
   "metadata": {},
   "source": [
    "## Iso Dates"
   ]
  },
  {
   "cell_type": "code",
   "execution_count": 14,
   "id": "8a7abd3f-905a-4bce-abfd-01fcad42f54d",
   "metadata": {},
   "outputs": [],
   "source": [
    "def GetISOdates(filepath):\n",
    "    sf_data = gdal.Open(filepath)\n",
    "    iso_dates = sf_data.GetMetadata()['ISOdates']\n",
    "    return iso_dates"
   ]
  },
  {
   "cell_type": "code",
   "execution_count": 17,
   "id": "7a9d5c7d-b1e0-4991-97ee-fa3e7951452a",
   "metadata": {},
   "outputs": [
    {
     "data": {
      "text/plain": [
       "'2000275 2000276 2000277 2000278 2000279 2000280 2000281 2000282 2000283 2000284 2000285 2000286 2000287 2000288 2000289 2000290 2000291 2000292 2000293 2000294 2000295 2000296 2000297 2000298 2000299 2000300 2000301 2000302 2000303 2000304 2000305 2000306 2000307 2000308 2000309 2000310 2000311 2000312 2000313 2000314 2000315 2000316 2000317 2000318 2000319 2000320 2000321 2000322 2000323 2000324 2000325 2000326 2000327 2000328 2000329 2000330 2000331 2000332 2000333 2000334 2000335 2000336 2000337 2000338 2000339 2000340 2000341 2000342 2000343 2000344 2000345 2000346 2000347 2000348 2000349 2000350 2000351 2000352 2000353 2000354 2000355 2000356 2000357 2000358 2000359 2000360 2000361 2000362 2000363 2000364 2000365 2000366 2001001 2001002 2001003 2001004 2001005 2001006 2001007 2001008 2001009 2001010 2001011 2001012 2001013 2001014 2001015 2001016 2001017 2001018 2001019 2001020 2001021 2001022 2001023 2001024 2001025 2001026 2001027 2001028 2001029 2001030 2001031 2001032 2001033 2001034 2001035 2001036 2001037 2001038 2001039 2001040 2001041 2001042 2001043 2001044 2001045 2001046 2001047 2001048 2001049 2001050 2001051 2001052 2001053 2001054 2001055 2001056 2001057 2001058 2001059 2001060 2001061 2001062 2001063 2001064 2001065 2001066 2001067 2001068 2001069 2001070 2001071 2001072 2001073 2001074 2001075 2001076 2001077 2001078 2001079 2001080 2001081 2001082 2001083 2001084 2001085 2001086 2001087 2001088 2001089 2001090 2001091 2001092 2001093 2001094 2001095 2001096 2001097 2001098 2001099 2001100 2001101 2001102 2001103 2001104 2001105 2001106 2001107 2001108 2001109 2001110 2001111 2001112 2001113 2001114 2001115 2001116 2001117 2001118 2001119 2001120 2001121 2001122 2001123 2001124 2001125 2001126 2001127 2001128 2001129 2001130 2001131 2001132 2001133 2001134 2001135 2001136 2001137 2001138 2001139 2001140 2001141 2001142 2001143 2001144 2001145 2001146 2001147 2001148 2001149 2001150 2001151 2001152 2001153 2001154 2001155 2001156 2001157 2001158 2001159 2001160 2001161 2001162 2001163 2001164 2001165 2001166 2001167 2001168 2001169 2001170 2001171 2001172 2001173 2001174 2001175 2001176 2001177 2001178 2001179 2001180 2001181 2001182 2001183 2001184 2001185 2001186 2001187 2001188 2001189 2001190 2001191 2001192 2001193 2001194 2001195 2001196 2001197 2001198 2001199 2001200 2001201 2001202 2001203 2001204 2001205 2001206 2001207 2001208 2001209 2001210 2001211 2001212 2001213 2001214 2001215 2001216 2001217 2001218 2001219 2001220 2001221 2001222 2001223 2001224 2001225 2001226 2001227 2001228 2001229 2001230 2001231 2001232 2001233 2001234 2001235 2001236 2001237 2001238 2001239 2001240 2001241 2001242 2001243 2001244 2001245 2001246 2001247 2001248 2001249 2001250 2001251 2001252 2001253 2001254 2001255 2001256 2001257 2001258 2001259 2001260 2001261 2001262 2001263 2001264 2001265 2001266 2001267 2001268 2001269 2001270 2001271 2001272 2001273 '"
      ]
     },
     "execution_count": 17,
     "metadata": {},
     "output_type": "execute_result"
    }
   ],
   "source": [
    "# wy2001\n",
    "wy2001_isodates = GetISOdates(filepath_sf2001)\n",
    "wy2001_isodates"
   ]
  },
  {
   "cell_type": "code",
   "execution_count": 37,
   "id": "83223f2c-8880-4a33-8f34-eec83133dda4",
   "metadata": {},
   "outputs": [
    {
     "data": {
      "text/plain": [
       "'2001274 2001275 2001276 2001277 2001278 2001279 2001280 2001281 2001282 2001283 2001284 2001285 2001286 2001287 2001288 2001289 2001290 2001291 2001292 2001293 2001294 2001295 2001296 2001297 2001298 2001299 2001300 2001301 2001302 2001303 2001304 2001305 2001306 2001307 2001308 2001309 2001310 2001311 2001312 2001313 2001314 2001315 2001316 2001317 2001318 2001319 2001320 2001321 2001322 2001323 2001324 2001325 2001326 2001327 2001328 2001329 2001330 2001331 2001332 2001333 2001334 2001335 2001336 2001337 2001338 2001339 2001340 2001341 2001342 2001343 2001344 2001345 2001346 2001347 2001348 2001349 2001350 2001351 2001352 2001353 2001354 2001355 2001356 2001357 2001358 2001359 2001360 2001361 2001362 2001363 2001364 2001365 2002001 2002002 2002003 2002004 2002005 2002006 2002007 2002008 2002009 2002010 2002011 2002012 2002013 2002014 2002015 2002016 2002017 2002018 2002019 2002020 2002021 2002022 2002023 2002024 2002025 2002026 2002027 2002028 2002029 2002030 2002031 2002032 2002033 2002034 2002035 2002036 2002037 2002038 2002039 2002040 2002041 2002042 2002043 2002044 2002045 2002046 2002047 2002048 2002049 2002050 2002051 2002052 2002053 2002054 2002055 2002056 2002057 2002058 2002059 2002060 2002061 2002062 2002063 2002064 2002065 2002066 2002067 2002068 2002069 2002070 2002071 2002072 2002073 2002074 2002075 2002076 2002077 2002078 2002079 2002080 2002081 2002082 2002083 2002084 2002085 2002086 2002087 2002088 2002089 2002090 2002091 2002092 2002093 2002094 2002095 2002096 2002097 2002098 2002099 2002100 2002101 2002102 2002103 2002104 2002105 2002106 2002107 2002108 2002109 2002110 2002111 2002112 2002113 2002114 2002115 2002116 2002117 2002118 2002119 2002120 2002121 2002122 2002123 2002124 2002125 2002126 2002127 2002128 2002129 2002130 2002131 2002132 2002133 2002134 2002135 2002136 2002137 2002138 2002139 2002140 2002141 2002142 2002143 2002144 2002145 2002146 2002147 2002148 2002149 2002150 2002151 2002152 2002153 2002154 2002155 2002156 2002157 2002158 2002159 2002160 2002161 2002162 2002163 2002164 2002165 2002166 2002167 2002168 2002169 2002170 2002171 2002172 2002173 2002174 2002175 2002176 2002177 2002178 2002179 2002180 2002181 2002182 2002183 2002184 2002185 2002186 2002187 2002188 2002189 2002190 2002191 2002192 2002193 2002194 2002195 2002196 2002197 2002198 2002199 2002200 2002201 2002202 2002203 2002204 2002205 2002206 2002207 2002208 2002209 2002210 2002211 2002212 2002213 2002214 2002215 2002216 2002217 2002218 2002219 2002220 2002221 2002222 2002223 2002224 2002225 2002226 2002227 2002228 2002229 2002230 2002231 2002232 2002233 2002234 2002235 2002236 2002237 2002238 2002239 2002240 2002241 2002242 2002243 2002244 2002245 2002246 2002247 2002248 2002249 2002250 2002251 2002252 2002253 2002254 2002255 2002256 2002257 2002258 2002259 2002260 2002261 2002262 2002263 2002264 2002265 2002266 2002267 2002268 2002269 2002270 2002271 2002272 2002273 '"
      ]
     },
     "execution_count": 37,
     "metadata": {},
     "output_type": "execute_result"
    }
   ],
   "source": [
    "# wy2002\n",
    "wy2002_isodates = GetISOdates(filepath_sf2002)\n",
    "wy2002_isodates"
   ]
  },
  {
   "cell_type": "code",
   "execution_count": 38,
   "id": "43166ec9-fdf1-4c87-af9d-8fbbd1d22d94",
   "metadata": {},
   "outputs": [
    {
     "data": {
      "text/plain": [
       "'2002274 2002275 2002276 2002277 2002278 2002279 2002280 2002281 2002282 2002283 2002284 2002285 2002286 2002287 2002288 2002289 2002290 2002291 2002292 2002293 2002294 2002295 2002296 2002297 2002298 2002299 2002300 2002301 2002302 2002303 2002304 2002305 2002306 2002307 2002308 2002309 2002310 2002311 2002312 2002313 2002314 2002315 2002316 2002317 2002318 2002319 2002320 2002321 2002322 2002323 2002324 2002325 2002326 2002327 2002328 2002329 2002330 2002331 2002332 2002333 2002334 2002335 2002336 2002337 2002338 2002339 2002340 2002341 2002342 2002343 2002344 2002345 2002346 2002347 2002348 2002349 2002350 2002351 2002352 2002353 2002354 2002355 2002356 2002357 2002358 2002359 2002360 2002361 2002362 2002363 2002364 2002365 2003001 2003002 2003003 2003004 2003005 2003006 2003007 2003008 2003009 2003010 2003011 2003012 2003013 2003014 2003015 2003016 2003017 2003018 2003019 2003020 2003021 2003022 2003023 2003024 2003025 2003026 2003027 2003028 2003029 2003030 2003031 2003032 2003033 2003034 2003035 2003036 2003037 2003038 2003039 2003040 2003041 2003042 2003043 2003044 2003045 2003046 2003047 2003048 2003049 2003050 2003051 2003052 2003053 2003054 2003055 2003056 2003057 2003058 2003059 2003060 2003061 2003062 2003063 2003064 2003065 2003066 2003067 2003068 2003069 2003070 2003071 2003072 2003073 2003074 2003075 2003076 2003077 2003078 2003079 2003080 2003081 2003082 2003083 2003084 2003085 2003086 2003087 2003088 2003089 2003090 2003091 2003092 2003093 2003094 2003095 2003096 2003097 2003098 2003099 2003100 2003101 2003102 2003103 2003104 2003105 2003106 2003107 2003108 2003109 2003110 2003111 2003112 2003113 2003114 2003115 2003116 2003117 2003118 2003119 2003120 2003121 2003122 2003123 2003124 2003125 2003126 2003127 2003128 2003129 2003130 2003131 2003132 2003133 2003134 2003135 2003136 2003137 2003138 2003139 2003140 2003141 2003142 2003143 2003144 2003145 2003146 2003147 2003148 2003149 2003150 2003151 2003152 2003153 2003154 2003155 2003156 2003157 2003158 2003159 2003160 2003161 2003162 2003163 2003164 2003165 2003166 2003167 2003168 2003169 2003170 2003171 2003172 2003173 2003174 2003175 2003176 2003177 2003178 2003179 2003180 2003181 2003182 2003183 2003184 2003185 2003186 2003187 2003188 2003189 2003190 2003191 2003192 2003193 2003194 2003195 2003196 2003197 2003198 2003199 2003200 2003201 2003202 2003203 2003204 2003205 2003206 2003207 2003208 2003209 2003210 2003211 2003212 2003213 2003214 2003215 2003216 2003217 2003218 2003219 2003220 2003221 2003222 2003223 2003224 2003225 2003226 2003227 2003228 2003229 2003230 2003231 2003232 2003233 2003234 2003235 2003236 2003237 2003238 2003239 2003240 2003241 2003242 2003243 2003244 2003245 2003246 2003247 2003248 2003249 2003250 2003251 2003252 2003253 2003254 2003255 2003256 2003257 2003258 2003259 2003260 2003261 2003262 2003263 2003264 2003265 2003266 2003267 2003268 2003269 2003270 2003271 2003272 2003273 '"
      ]
     },
     "execution_count": 38,
     "metadata": {},
     "output_type": "execute_result"
    }
   ],
   "source": [
    "# wy2003\n",
    "wy2003_isodates = GetISOdates(filepath_sf2003)\n",
    "wy2003_isodates"
   ]
  },
  {
   "cell_type": "code",
   "execution_count": 39,
   "id": "520a18f8-dfb6-4519-a6e5-8da2be073f7a",
   "metadata": {},
   "outputs": [
    {
     "data": {
      "text/plain": [
       "'2003274 2003275 2003276 2003277 2003278 2003279 2003280 2003281 2003282 2003283 2003284 2003285 2003286 2003287 2003288 2003289 2003290 2003291 2003292 2003293 2003294 2003295 2003296 2003297 2003298 2003299 2003300 2003301 2003302 2003303 2003304 2003305 2003306 2003307 2003308 2003309 2003310 2003311 2003312 2003313 2003314 2003315 2003316 2003317 2003318 2003319 2003320 2003321 2003322 2003323 2003324 2003325 2003326 2003327 2003328 2003329 2003330 2003331 2003332 2003333 2003334 2003335 2003336 2003337 2003338 2003339 2003340 2003341 2003342 2003343 2003344 2003345 2003346 2003347 2003348 2003349 2003350 2003351 2003352 2003353 2003354 2003355 2003356 2003357 2003358 2003359 2003360 2003361 2003362 2003363 2003364 2003365 2004001 2004002 2004003 2004004 2004005 2004006 2004007 2004008 2004009 2004010 2004011 2004012 2004013 2004014 2004015 2004016 2004017 2004018 2004019 2004020 2004021 2004022 2004023 2004024 2004025 2004026 2004027 2004028 2004029 2004030 2004031 2004032 2004033 2004034 2004035 2004036 2004037 2004038 2004039 2004040 2004041 2004042 2004043 2004044 2004045 2004046 2004047 2004048 2004049 2004050 2004051 2004052 2004053 2004054 2004055 2004056 2004057 2004058 2004059 2004060 2004061 2004062 2004063 2004064 2004065 2004066 2004067 2004068 2004069 2004070 2004071 2004072 2004073 2004074 2004075 2004076 2004077 2004078 2004079 2004080 2004081 2004082 2004083 2004084 2004085 2004086 2004087 2004088 2004089 2004090 2004091 2004092 2004093 2004094 2004095 2004096 2004097 2004098 2004099 2004100 2004101 2004102 2004103 2004104 2004105 2004106 2004107 2004108 2004109 2004110 2004111 2004112 2004113 2004114 2004115 2004116 2004117 2004118 2004119 2004120 2004121 2004122 2004123 2004124 2004125 2004126 2004127 2004128 2004129 2004130 2004131 2004132 2004133 2004134 2004135 2004136 2004137 2004138 2004139 2004140 2004141 2004142 2004143 2004144 2004145 2004146 2004147 2004148 2004149 2004150 2004151 2004152 2004153 2004154 2004155 2004156 2004157 2004158 2004159 2004160 2004161 2004162 2004163 2004164 2004165 2004166 2004167 2004168 2004169 2004170 2004171 2004172 2004173 2004174 2004175 2004176 2004177 2004178 2004179 2004180 2004181 2004182 2004183 2004184 2004185 2004186 2004187 2004188 2004189 2004190 2004191 2004192 2004193 2004194 2004195 2004196 2004197 2004198 2004199 2004200 2004201 2004202 2004203 2004204 2004205 2004206 2004207 2004208 2004209 2004210 2004211 2004212 2004213 2004214 2004215 2004216 2004217 2004218 2004219 2004220 2004221 2004222 2004223 2004224 2004225 2004226 2004227 2004228 2004229 2004230 2004231 2004232 2004233 2004234 2004235 2004236 2004237 2004238 2004239 2004240 2004241 2004242 2004243 2004244 2004245 2004246 2004247 2004248 2004249 2004250 2004251 2004252 2004253 2004254 2004255 2004256 2004257 2004258 2004259 2004260 2004261 2004262 2004263 2004264 2004265 2004266 2004267 2004268 2004269 2004270 2004271 2004272 2004273 2004274 '"
      ]
     },
     "execution_count": 39,
     "metadata": {},
     "output_type": "execute_result"
    }
   ],
   "source": [
    "# wy2004\n",
    "wy2004_isodates = GetISOdates(filepath_sf2004)\n",
    "wy2004_isodates"
   ]
  },
  {
   "cell_type": "code",
   "execution_count": 40,
   "id": "c85659a9-53ce-4e27-ac51-1e6fb256cb5f",
   "metadata": {},
   "outputs": [
    {
     "data": {
      "text/plain": [
       "'2004275 2004276 2004277 2004278 2004279 2004280 2004281 2004282 2004283 2004284 2004285 2004286 2004287 2004288 2004289 2004290 2004291 2004292 2004293 2004294 2004295 2004296 2004297 2004298 2004299 2004300 2004301 2004302 2004303 2004304 2004305 2004306 2004307 2004308 2004309 2004310 2004311 2004312 2004313 2004314 2004315 2004316 2004317 2004318 2004319 2004320 2004321 2004322 2004323 2004324 2004325 2004326 2004327 2004328 2004329 2004330 2004331 2004332 2004333 2004334 2004335 2004336 2004337 2004338 2004339 2004340 2004341 2004342 2004343 2004344 2004345 2004346 2004347 2004348 2004349 2004350 2004351 2004352 2004353 2004354 2004355 2004356 2004357 2004358 2004359 2004360 2004361 2004362 2004363 2004364 2004365 2004366 2005001 2005002 2005003 2005004 2005005 2005006 2005007 2005008 2005009 2005010 2005011 2005012 2005013 2005014 2005015 2005016 2005017 2005018 2005019 2005020 2005021 2005022 2005023 2005024 2005025 2005026 2005027 2005028 2005029 2005030 2005031 2005032 2005033 2005034 2005035 2005036 2005037 2005038 2005039 2005040 2005041 2005042 2005043 2005044 2005045 2005046 2005047 2005048 2005049 2005050 2005051 2005052 2005053 2005054 2005055 2005056 2005057 2005058 2005059 2005060 2005061 2005062 2005063 2005064 2005065 2005066 2005067 2005068 2005069 2005070 2005071 2005072 2005073 2005074 2005075 2005076 2005077 2005078 2005079 2005080 2005081 2005082 2005083 2005084 2005085 2005086 2005087 2005088 2005089 2005090 2005091 2005092 2005093 2005094 2005095 2005096 2005097 2005098 2005099 2005100 2005101 2005102 2005103 2005104 2005105 2005106 2005107 2005108 2005109 2005110 2005111 2005112 2005113 2005114 2005115 2005116 2005117 2005118 2005119 2005120 2005121 2005122 2005123 2005124 2005125 2005126 2005127 2005128 2005129 2005130 2005131 2005132 2005133 2005134 2005135 2005136 2005137 2005138 2005139 2005140 2005141 2005142 2005143 2005144 2005145 2005146 2005147 2005148 2005149 2005150 2005151 2005152 2005153 2005154 2005155 2005156 2005157 2005158 2005159 2005160 2005161 2005162 2005163 2005164 2005165 2005166 2005167 2005168 2005169 2005170 2005171 2005172 2005173 2005174 2005175 2005176 2005177 2005178 2005179 2005180 2005181 2005182 2005183 2005184 2005185 2005186 2005187 2005188 2005189 2005190 2005191 2005192 2005193 2005194 2005195 2005196 2005197 2005198 2005199 2005200 2005201 2005202 2005203 2005204 2005205 2005206 2005207 2005208 2005209 2005210 2005211 2005212 2005213 2005214 2005215 2005216 2005217 2005218 2005219 2005220 2005221 2005222 2005223 2005224 2005225 2005226 2005227 2005228 2005229 2005230 2005231 2005232 2005233 2005234 2005235 2005236 2005237 2005238 2005239 2005240 2005241 2005242 2005243 2005244 2005245 2005246 2005247 2005248 2005249 2005250 2005251 2005252 2005253 2005254 2005255 2005256 2005257 2005258 2005259 2005260 2005261 2005262 2005263 2005264 2005265 2005266 2005267 2005268 2005269 2005270 2005271 2005272 2005273 '"
      ]
     },
     "execution_count": 40,
     "metadata": {},
     "output_type": "execute_result"
    }
   ],
   "source": [
    "# wy2005\n",
    "wy2005_isodates = GetISOdates(filepath_sf2005)\n",
    "wy2005_isodates"
   ]
  },
  {
   "cell_type": "code",
   "execution_count": 41,
   "id": "444add1d-5a3a-4101-8910-b216444c3c50",
   "metadata": {},
   "outputs": [
    {
     "data": {
      "text/plain": [
       "'2005274 2005275 2005276 2005277 2005278 2005279 2005280 2005281 2005282 2005283 2005284 2005285 2005286 2005287 2005288 2005289 2005290 2005291 2005292 2005293 2005294 2005295 2005296 2005297 2005298 2005299 2005300 2005301 2005302 2005303 2005304 2005305 2005306 2005307 2005308 2005309 2005310 2005311 2005312 2005313 2005314 2005315 2005316 2005317 2005318 2005319 2005320 2005321 2005322 2005323 2005324 2005325 2005326 2005327 2005328 2005329 2005330 2005331 2005332 2005333 2005334 2005335 2005336 2005337 2005338 2005339 2005340 2005341 2005342 2005343 2005344 2005345 2005346 2005347 2005348 2005349 2005350 2005351 2005352 2005353 2005354 2005355 2005356 2005357 2005358 2005359 2005360 2005361 2005362 2005363 2005364 2005365 2006001 2006002 2006003 2006004 2006005 2006006 2006007 2006008 2006009 2006010 2006011 2006012 2006013 2006014 2006015 2006016 2006017 2006018 2006019 2006020 2006021 2006022 2006023 2006024 2006025 2006026 2006027 2006028 2006029 2006030 2006031 2006032 2006033 2006034 2006035 2006036 2006037 2006038 2006039 2006040 2006041 2006042 2006043 2006044 2006045 2006046 2006047 2006048 2006049 2006050 2006051 2006052 2006053 2006054 2006055 2006056 2006057 2006058 2006059 2006060 2006061 2006062 2006063 2006064 2006065 2006066 2006067 2006068 2006069 2006070 2006071 2006072 2006073 2006074 2006075 2006076 2006077 2006078 2006079 2006080 2006081 2006082 2006083 2006084 2006085 2006086 2006087 2006088 2006089 2006090 2006091 2006092 2006093 2006094 2006095 2006096 2006097 2006098 2006099 2006100 2006101 2006102 2006103 2006104 2006105 2006106 2006107 2006108 2006109 2006110 2006111 2006112 2006113 2006114 2006115 2006116 2006117 2006118 2006119 2006120 2006121 2006122 2006123 2006124 2006125 2006126 2006127 2006128 2006129 2006130 2006131 2006132 2006133 2006134 2006135 2006136 2006137 2006138 2006139 2006140 2006141 2006142 2006143 2006144 2006145 2006146 2006147 2006148 2006149 2006150 2006151 2006152 2006153 2006154 2006155 2006156 2006157 2006158 2006159 2006160 2006161 2006162 2006163 2006164 2006165 2006166 2006167 2006168 2006169 2006170 2006171 2006172 2006173 2006174 2006175 2006176 2006177 2006178 2006179 2006180 2006181 2006182 2006183 2006184 2006185 2006186 2006187 2006188 2006189 2006190 2006191 2006192 2006193 2006194 2006195 2006196 2006197 2006198 2006199 2006200 2006201 2006202 2006203 2006204 2006205 2006206 2006207 2006208 2006209 2006210 2006211 2006212 2006213 2006214 2006215 2006216 2006217 2006218 2006219 2006220 2006221 2006222 2006223 2006224 2006225 2006226 2006227 2006228 2006229 2006230 2006231 2006232 2006233 2006234 2006235 2006236 2006237 2006238 2006239 2006240 2006241 2006242 2006243 2006244 2006245 2006246 2006247 2006248 2006249 2006250 2006251 2006252 2006253 2006254 2006255 2006256 2006257 2006258 2006259 2006260 2006261 2006262 2006263 2006264 2006265 2006266 2006267 2006268 2006269 2006270 2006271 2006272 2006273 '"
      ]
     },
     "execution_count": 41,
     "metadata": {},
     "output_type": "execute_result"
    }
   ],
   "source": [
    "# wy2006\n",
    "wy2006_isodates = GetISOdates(filepath_sf2006)\n",
    "wy2006_isodates"
   ]
  },
  {
   "cell_type": "code",
   "execution_count": 42,
   "id": "3035891e-bdb9-40b9-976f-4d87e742bf92",
   "metadata": {},
   "outputs": [
    {
     "data": {
      "text/plain": [
       "'2006274 2006275 2006276 2006277 2006278 2006279 2006280 2006281 2006282 2006283 2006284 2006285 2006286 2006287 2006288 2006289 2006290 2006291 2006292 2006293 2006294 2006295 2006296 2006297 2006298 2006299 2006300 2006301 2006302 2006303 2006304 2006305 2006306 2006307 2006308 2006309 2006310 2006311 2006312 2006313 2006314 2006315 2006316 2006317 2006318 2006319 2006320 2006321 2006322 2006323 2006324 2006325 2006326 2006327 2006328 2006329 2006330 2006331 2006332 2006333 2006334 2006335 2006336 2006337 2006338 2006339 2006340 2006341 2006342 2006343 2006344 2006345 2006346 2006347 2006348 2006349 2006350 2006351 2006352 2006353 2006354 2006355 2006356 2006357 2006358 2006359 2006360 2006361 2006362 2006363 2006364 2006365 2007001 2007002 2007003 2007004 2007005 2007006 2007007 2007008 2007009 2007010 2007011 2007012 2007013 2007014 2007015 2007016 2007017 2007018 2007019 2007020 2007021 2007022 2007023 2007024 2007025 2007026 2007027 2007028 2007029 2007030 2007031 2007032 2007033 2007034 2007035 2007036 2007037 2007038 2007039 2007040 2007041 2007042 2007043 2007044 2007045 2007046 2007047 2007048 2007049 2007050 2007051 2007052 2007053 2007054 2007055 2007056 2007057 2007058 2007059 2007060 2007061 2007062 2007063 2007064 2007065 2007066 2007067 2007068 2007069 2007070 2007071 2007072 2007073 2007074 2007075 2007076 2007077 2007078 2007079 2007080 2007081 2007082 2007083 2007084 2007085 2007086 2007087 2007088 2007089 2007090 2007091 2007092 2007093 2007094 2007095 2007096 2007097 2007098 2007099 2007100 2007101 2007102 2007103 2007104 2007105 2007106 2007107 2007108 2007109 2007110 2007111 2007112 2007113 2007114 2007115 2007116 2007117 2007118 2007119 2007120 2007121 2007122 2007123 2007124 2007125 2007126 2007127 2007128 2007129 2007130 2007131 2007132 2007133 2007134 2007135 2007136 2007137 2007138 2007139 2007140 2007141 2007142 2007143 2007144 2007145 2007146 2007147 2007148 2007149 2007150 2007151 2007152 2007153 2007154 2007155 2007156 2007157 2007158 2007159 2007160 2007161 2007162 2007163 2007164 2007165 2007166 2007167 2007168 2007169 2007170 2007171 2007172 2007173 2007174 2007175 2007176 2007177 2007178 2007179 2007180 2007181 2007182 2007183 2007184 2007185 2007186 2007187 2007188 2007189 2007190 2007191 2007192 2007193 2007194 2007195 2007196 2007197 2007198 2007199 2007200 2007201 2007202 2007203 2007204 2007205 2007206 2007207 2007208 2007209 2007210 2007211 2007212 2007213 2007214 2007215 2007216 2007217 2007218 2007219 2007220 2007221 2007222 2007223 2007224 2007225 2007226 2007227 2007228 2007229 2007230 2007231 2007232 2007233 2007234 2007235 2007236 2007237 2007238 2007239 2007240 2007241 2007242 2007243 2007244 2007245 2007246 2007247 2007248 2007249 2007250 2007251 2007252 2007253 2007254 2007255 2007256 2007257 2007258 2007259 2007260 2007261 2007262 2007263 2007264 2007265 2007266 2007267 2007268 2007269 2007270 2007271 2007272 2007273 '"
      ]
     },
     "execution_count": 42,
     "metadata": {},
     "output_type": "execute_result"
    }
   ],
   "source": [
    "# wy2007\n",
    "wy2007_isodates = GetISOdates(filepath_sf2007)\n",
    "wy2007_isodates"
   ]
  },
  {
   "cell_type": "code",
   "execution_count": 43,
   "id": "99fe4005-64ad-401c-97b2-1ce29cfeeeca",
   "metadata": {},
   "outputs": [
    {
     "data": {
      "text/plain": [
       "'2007274 2007275 2007276 2007277 2007278 2007279 2007280 2007281 2007282 2007283 2007284 2007285 2007286 2007287 2007288 2007289 2007290 2007291 2007292 2007293 2007294 2007295 2007296 2007297 2007298 2007299 2007300 2007301 2007302 2007303 2007304 2007305 2007306 2007307 2007308 2007309 2007310 2007311 2007312 2007313 2007314 2007315 2007316 2007317 2007318 2007319 2007320 2007321 2007322 2007323 2007324 2007325 2007326 2007327 2007328 2007329 2007330 2007331 2007332 2007333 2007334 2007335 2007336 2007337 2007338 2007339 2007340 2007341 2007342 2007343 2007344 2007345 2007346 2007347 2007348 2007349 2007350 2007351 2007352 2007353 2007354 2007355 2007356 2007357 2007358 2007359 2007360 2007361 2007362 2007363 2007364 2007365 2008001 2008002 2008003 2008004 2008005 2008006 2008007 2008008 2008009 2008010 2008011 2008012 2008013 2008014 2008015 2008016 2008017 2008018 2008019 2008020 2008021 2008022 2008023 2008024 2008025 2008026 2008027 2008028 2008029 2008030 2008031 2008032 2008033 2008034 2008035 2008036 2008037 2008038 2008039 2008040 2008041 2008042 2008043 2008044 2008045 2008046 2008047 2008048 2008049 2008050 2008051 2008052 2008053 2008054 2008055 2008056 2008057 2008058 2008059 2008060 2008061 2008062 2008063 2008064 2008065 2008066 2008067 2008068 2008069 2008070 2008071 2008072 2008073 2008074 2008075 2008076 2008077 2008078 2008079 2008080 2008081 2008082 2008083 2008084 2008085 2008086 2008087 2008088 2008089 2008090 2008091 2008092 2008093 2008094 2008095 2008096 2008097 2008098 2008099 2008100 2008101 2008102 2008103 2008104 2008105 2008106 2008107 2008108 2008109 2008110 2008111 2008112 2008113 2008114 2008115 2008116 2008117 2008118 2008119 2008120 2008121 2008122 2008123 2008124 2008125 2008126 2008127 2008128 2008129 2008130 2008131 2008132 2008133 2008134 2008135 2008136 2008137 2008138 2008139 2008140 2008141 2008142 2008143 2008144 2008145 2008146 2008147 2008148 2008149 2008150 2008151 2008152 2008153 2008154 2008155 2008156 2008157 2008158 2008159 2008160 2008161 2008162 2008163 2008164 2008165 2008166 2008167 2008168 2008169 2008170 2008171 2008172 2008173 2008174 2008175 2008176 2008177 2008178 2008179 2008180 2008181 2008182 2008183 2008184 2008185 2008186 2008187 2008188 2008189 2008190 2008191 2008192 2008193 2008194 2008195 2008196 2008197 2008198 2008199 2008200 2008201 2008202 2008203 2008204 2008205 2008206 2008207 2008208 2008209 2008210 2008211 2008212 2008213 2008214 2008215 2008216 2008217 2008218 2008219 2008220 2008221 2008222 2008223 2008224 2008225 2008226 2008227 2008228 2008229 2008230 2008231 2008232 2008233 2008234 2008235 2008236 2008237 2008238 2008239 2008240 2008241 2008242 2008243 2008244 2008245 2008246 2008247 2008248 2008249 2008250 2008251 2008252 2008253 2008254 2008255 2008256 2008257 2008258 2008259 2008260 2008261 2008262 2008263 2008264 2008265 2008266 2008267 2008268 2008269 2008270 2008271 2008272 2008273 2008274 '"
      ]
     },
     "execution_count": 43,
     "metadata": {},
     "output_type": "execute_result"
    }
   ],
   "source": [
    "# wy2008\n",
    "wy2008_isodates = GetISOdates(filepath_sf2008)\n",
    "wy2008_isodates"
   ]
  },
  {
   "cell_type": "code",
   "execution_count": 44,
   "id": "1ad06b7f-e3a5-4074-baf2-24ab2e65deaf",
   "metadata": {},
   "outputs": [
    {
     "data": {
      "text/plain": [
       "'2008275 2008276 2008277 2008278 2008279 2008280 2008281 2008282 2008283 2008284 2008285 2008286 2008287 2008288 2008289 2008290 2008291 2008292 2008293 2008294 2008295 2008296 2008297 2008298 2008299 2008300 2008301 2008302 2008303 2008304 2008305 2008306 2008307 2008308 2008309 2008310 2008311 2008312 2008313 2008314 2008315 2008316 2008317 2008318 2008319 2008320 2008321 2008322 2008323 2008324 2008325 2008326 2008327 2008328 2008329 2008330 2008331 2008332 2008333 2008334 2008335 2008336 2008337 2008338 2008339 2008340 2008341 2008342 2008343 2008344 2008345 2008346 2008347 2008348 2008349 2008350 2008351 2008352 2008353 2008354 2008355 2008356 2008357 2008358 2008359 2008360 2008361 2008362 2008363 2008364 2008365 2008366 2009001 2009002 2009003 2009004 2009005 2009006 2009007 2009008 2009009 2009010 2009011 2009012 2009013 2009014 2009015 2009016 2009017 2009018 2009019 2009020 2009021 2009022 2009023 2009024 2009025 2009026 2009027 2009028 2009029 2009030 2009031 2009032 2009033 2009034 2009035 2009036 2009037 2009038 2009039 2009040 2009041 2009042 2009043 2009044 2009045 2009046 2009047 2009048 2009049 2009050 2009051 2009052 2009053 2009054 2009055 2009056 2009057 2009058 2009059 2009060 2009061 2009062 2009063 2009064 2009065 2009066 2009067 2009068 2009069 2009070 2009071 2009072 2009073 2009074 2009075 2009076 2009077 2009078 2009079 2009080 2009081 2009082 2009083 2009084 2009085 2009086 2009087 2009088 2009089 2009090 2009091 2009092 2009093 2009094 2009095 2009096 2009097 2009098 2009099 2009100 2009101 2009102 2009103 2009104 2009105 2009106 2009107 2009108 2009109 2009110 2009111 2009112 2009113 2009114 2009115 2009116 2009117 2009118 2009119 2009120 2009121 2009122 2009123 2009124 2009125 2009126 2009127 2009128 2009129 2009130 2009131 2009132 2009133 2009134 2009135 2009136 2009137 2009138 2009139 2009140 2009141 2009142 2009143 2009144 2009145 2009146 2009147 2009148 2009149 2009150 2009151 2009152 2009153 2009154 2009155 2009156 2009157 2009158 2009159 2009160 2009161 2009162 2009163 2009164 2009165 2009166 2009167 2009168 2009169 2009170 2009171 2009172 2009173 2009174 2009175 2009176 2009177 2009178 2009179 2009180 2009181 2009182 2009183 2009184 2009185 2009186 2009187 2009188 2009189 2009190 2009191 2009192 2009193 2009194 2009195 2009196 2009197 2009198 2009199 2009200 2009201 2009202 2009203 2009204 2009205 2009206 2009207 2009208 2009209 2009210 2009211 2009212 2009213 2009214 2009215 2009216 2009217 2009218 2009219 2009220 2009221 2009222 2009223 2009224 2009225 2009226 2009227 2009228 2009229 2009230 2009231 2009232 2009233 2009234 2009235 2009236 2009237 2009238 2009239 2009240 2009241 2009242 2009243 2009244 2009245 2009246 2009247 2009248 2009249 2009250 2009251 2009252 2009253 2009254 2009255 2009256 2009257 2009258 2009259 2009260 2009261 2009262 2009263 2009264 2009265 2009266 2009267 2009268 2009269 2009270 2009271 2009272 2009273 '"
      ]
     },
     "execution_count": 44,
     "metadata": {},
     "output_type": "execute_result"
    }
   ],
   "source": [
    "# wy2009\n",
    "wy2009_isodates = GetISOdates(filepath_sf2009)\n",
    "wy2009_isodates"
   ]
  },
  {
   "cell_type": "code",
   "execution_count": 45,
   "id": "859592b2-adb6-498e-9ff7-233defe534d6",
   "metadata": {},
   "outputs": [
    {
     "data": {
      "text/plain": [
       "'2009274 2009275 2009276 2009277 2009278 2009279 2009280 2009281 2009282 2009283 2009284 2009285 2009286 2009287 2009288 2009289 2009290 2009291 2009292 2009293 2009294 2009295 2009296 2009297 2009298 2009299 2009300 2009301 2009302 2009303 2009304 2009305 2009306 2009307 2009308 2009309 2009310 2009311 2009312 2009313 2009314 2009315 2009316 2009317 2009318 2009319 2009320 2009321 2009322 2009323 2009324 2009325 2009326 2009327 2009328 2009329 2009330 2009331 2009332 2009333 2009334 2009335 2009336 2009337 2009338 2009339 2009340 2009341 2009342 2009343 2009344 2009345 2009346 2009347 2009348 2009349 2009350 2009351 2009352 2009353 2009354 2009355 2009356 2009357 2009358 2009359 2009360 2009361 2009362 2009363 2009364 2009365 2010001 2010002 2010003 2010004 2010005 2010006 2010007 2010008 2010009 2010010 2010011 2010012 2010013 2010014 2010015 2010016 2010017 2010018 2010019 2010020 2010021 2010022 2010023 2010024 2010025 2010026 2010027 2010028 2010029 2010030 2010031 2010032 2010033 2010034 2010035 2010036 2010037 2010038 2010039 2010040 2010041 2010042 2010043 2010044 2010045 2010046 2010047 2010048 2010049 2010050 2010051 2010052 2010053 2010054 2010055 2010056 2010057 2010058 2010059 2010060 2010061 2010062 2010063 2010064 2010065 2010066 2010067 2010068 2010069 2010070 2010071 2010072 2010073 2010074 2010075 2010076 2010077 2010078 2010079 2010080 2010081 2010082 2010083 2010084 2010085 2010086 2010087 2010088 2010089 2010090 2010091 2010092 2010093 2010094 2010095 2010096 2010097 2010098 2010099 2010100 2010101 2010102 2010103 2010104 2010105 2010106 2010107 2010108 2010109 2010110 2010111 2010112 2010113 2010114 2010115 2010116 2010117 2010118 2010119 2010120 2010121 2010122 2010123 2010124 2010125 2010126 2010127 2010128 2010129 2010130 2010131 2010132 2010133 2010134 2010135 2010136 2010137 2010138 2010139 2010140 2010141 2010142 2010143 2010144 2010145 2010146 2010147 2010148 2010149 2010150 2010151 2010152 2010153 2010154 2010155 2010156 2010157 2010158 2010159 2010160 2010161 2010162 2010163 2010164 2010165 2010166 2010167 2010168 2010169 2010170 2010171 2010172 2010173 2010174 2010175 2010176 2010177 2010178 2010179 2010180 2010181 2010182 2010183 2010184 2010185 2010186 2010187 2010188 2010189 2010190 2010191 2010192 2010193 2010194 2010195 2010196 2010197 2010198 2010199 2010200 2010201 2010202 2010203 2010204 2010205 2010206 2010207 2010208 2010209 2010210 2010211 2010212 2010213 2010214 2010215 2010216 2010217 2010218 2010219 2010220 2010221 2010222 2010223 2010224 2010225 2010226 2010227 2010228 2010229 2010230 2010231 2010232 2010233 2010234 2010235 2010236 2010237 2010238 2010239 2010240 2010241 2010242 2010243 2010244 2010245 2010246 2010247 2010248 2010249 2010250 2010251 2010252 2010253 2010254 2010255 2010256 2010257 2010258 2010259 2010260 2010261 2010262 2010263 2010264 2010265 2010266 2010267 2010268 2010269 2010270 2010271 2010272 2010273 '"
      ]
     },
     "execution_count": 45,
     "metadata": {},
     "output_type": "execute_result"
    }
   ],
   "source": [
    "# wy2010\n",
    "wy2010_isodates = GetISOdates(filepath_sf2010)\n",
    "wy2010_isodates"
   ]
  },
  {
   "cell_type": "code",
   "execution_count": 46,
   "id": "275e00b3-c798-4a0e-9317-151a528a32f3",
   "metadata": {},
   "outputs": [
    {
     "data": {
      "text/plain": [
       "'2010274 2010275 2010276 2010277 2010278 2010279 2010280 2010281 2010282 2010283 2010284 2010285 2010286 2010287 2010288 2010289 2010290 2010291 2010292 2010293 2010294 2010295 2010296 2010297 2010298 2010299 2010300 2010301 2010302 2010303 2010304 2010305 2010306 2010307 2010308 2010309 2010310 2010311 2010312 2010313 2010314 2010315 2010316 2010317 2010318 2010319 2010320 2010321 2010322 2010323 2010324 2010325 2010326 2010327 2010328 2010329 2010330 2010331 2010332 2010333 2010334 2010335 2010336 2010337 2010338 2010339 2010340 2010341 2010342 2010343 2010344 2010345 2010346 2010347 2010348 2010349 2010350 2010351 2010352 2010353 2010354 2010355 2010356 2010357 2010358 2010359 2010360 2010361 2010362 2010363 2010364 2010365 2011001 2011002 2011003 2011004 2011005 2011006 2011007 2011008 2011009 2011010 2011011 2011012 2011013 2011014 2011015 2011016 2011017 2011018 2011019 2011020 2011021 2011022 2011023 2011024 2011025 2011026 2011027 2011028 2011029 2011030 2011031 2011032 2011033 2011034 2011035 2011036 2011037 2011038 2011039 2011040 2011041 2011042 2011043 2011044 2011045 2011046 2011047 2011048 2011049 2011050 2011051 2011052 2011053 2011054 2011055 2011056 2011057 2011058 2011059 2011060 2011061 2011062 2011063 2011064 2011065 2011066 2011067 2011068 2011069 2011070 2011071 2011072 2011073 2011074 2011075 2011076 2011077 2011078 2011079 2011080 2011081 2011082 2011083 2011084 2011085 2011086 2011087 2011088 2011089 2011090 2011091 2011092 2011093 2011094 2011095 2011096 2011097 2011098 2011099 2011100 2011101 2011102 2011103 2011104 2011105 2011106 2011107 2011108 2011109 2011110 2011111 2011112 2011113 2011114 2011115 2011116 2011117 2011118 2011119 2011120 2011121 2011122 2011123 2011124 2011125 2011126 2011127 2011128 2011129 2011130 2011131 2011132 2011133 2011134 2011135 2011136 2011137 2011138 2011139 2011140 2011141 2011142 2011143 2011144 2011145 2011146 2011147 2011148 2011149 2011150 2011151 2011152 2011153 2011154 2011155 2011156 2011157 2011158 2011159 2011160 2011161 2011162 2011163 2011164 2011165 2011166 2011167 2011168 2011169 2011170 2011171 2011172 2011173 2011174 2011175 2011176 2011177 2011178 2011179 2011180 2011181 2011182 2011183 2011184 2011185 2011186 2011187 2011188 2011189 2011190 2011191 2011192 2011193 2011194 2011195 2011196 2011197 2011198 2011199 2011200 2011201 2011202 2011203 2011204 2011205 2011206 2011207 2011208 2011209 2011210 2011211 2011212 2011213 2011214 2011215 2011216 2011217 2011218 2011219 2011220 2011221 2011222 2011223 2011224 2011225 2011226 2011227 2011228 2011229 2011230 2011231 2011232 2011233 2011234 2011235 2011236 2011237 2011238 2011239 2011240 2011241 2011242 2011243 2011244 2011245 2011246 2011247 2011248 2011249 2011250 2011251 2011252 2011253 2011254 2011255 2011256 2011257 2011258 2011259 2011260 2011261 2011262 2011263 2011264 2011265 2011266 2011267 2011268 2011269 2011270 2011271 2011272 2011273 '"
      ]
     },
     "execution_count": 46,
     "metadata": {},
     "output_type": "execute_result"
    }
   ],
   "source": [
    "# wy2011\n",
    "wy2011_isodates = GetISOdates(filepath_sf2011)\n",
    "wy2011_isodates"
   ]
  },
  {
   "cell_type": "code",
   "execution_count": 47,
   "id": "5f6e54fb-7ba4-48a9-b718-335e3f20cfe4",
   "metadata": {},
   "outputs": [
    {
     "data": {
      "text/plain": [
       "'2011274 2011275 2011276 2011277 2011278 2011279 2011280 2011281 2011282 2011283 2011284 2011285 2011286 2011287 2011288 2011289 2011290 2011291 2011292 2011293 2011294 2011295 2011296 2011297 2011298 2011299 2011300 2011301 2011302 2011303 2011304 2011305 2011306 2011307 2011308 2011309 2011310 2011311 2011312 2011313 2011314 2011315 2011316 2011317 2011318 2011319 2011320 2011321 2011322 2011323 2011324 2011325 2011326 2011327 2011328 2011329 2011330 2011331 2011332 2011333 2011334 2011335 2011336 2011337 2011338 2011339 2011340 2011341 2011342 2011343 2011344 2011345 2011346 2011347 2011348 2011349 2011350 2011351 2011352 2011353 2011354 2011355 2011356 2011357 2011358 2011359 2011360 2011361 2011362 2011363 2011364 2011365 2012001 2012002 2012003 2012004 2012005 2012006 2012007 2012008 2012009 2012010 2012011 2012012 2012013 2012014 2012015 2012016 2012017 2012018 2012019 2012020 2012021 2012022 2012023 2012024 2012025 2012026 2012027 2012028 2012029 2012030 2012031 2012032 2012033 2012034 2012035 2012036 2012037 2012038 2012039 2012040 2012041 2012042 2012043 2012044 2012045 2012046 2012047 2012048 2012049 2012050 2012051 2012052 2012053 2012054 2012055 2012056 2012057 2012058 2012059 2012060 2012061 2012062 2012063 2012064 2012065 2012066 2012067 2012068 2012069 2012070 2012071 2012072 2012073 2012074 2012075 2012076 2012077 2012078 2012079 2012080 2012081 2012082 2012083 2012084 2012085 2012086 2012087 2012088 2012089 2012090 2012091 2012092 2012093 2012094 2012095 2012096 2012097 2012098 2012099 2012100 2012101 2012102 2012103 2012104 2012105 2012106 2012107 2012108 2012109 2012110 2012111 2012112 2012113 2012114 2012115 2012116 2012117 2012118 2012119 2012120 2012121 2012122 2012123 2012124 2012125 2012126 2012127 2012128 2012129 2012130 2012131 2012132 2012133 2012134 2012135 2012136 2012137 2012138 2012139 2012140 2012141 2012142 2012143 2012144 2012145 2012146 2012147 2012148 2012149 2012150 2012151 2012152 2012153 2012154 2012155 2012156 2012157 2012158 2012159 2012160 2012161 2012162 2012163 2012164 2012165 2012166 2012167 2012168 2012169 2012170 2012171 2012172 2012173 2012174 2012175 2012176 2012177 2012178 2012179 2012180 2012181 2012182 2012183 2012184 2012185 2012186 2012187 2012188 2012189 2012190 2012191 2012192 2012193 2012194 2012195 2012196 2012197 2012198 2012199 2012200 2012201 2012202 2012203 2012204 2012205 2012206 2012207 2012208 2012209 2012210 2012211 2012212 2012213 2012214 2012215 2012216 2012217 2012218 2012219 2012220 2012221 2012222 2012223 2012224 2012225 2012226 2012227 2012228 2012229 2012230 2012231 2012232 2012233 2012234 2012235 2012236 2012237 2012238 2012239 2012240 2012241 2012242 2012243 2012244 2012245 2012246 2012247 2012248 2012249 2012250 2012251 2012252 2012253 2012254 2012255 2012256 2012257 2012258 2012259 2012260 2012261 2012262 2012263 2012264 2012265 2012266 2012267 2012268 2012269 2012270 2012271 2012272 2012273 2012274 '"
      ]
     },
     "execution_count": 47,
     "metadata": {},
     "output_type": "execute_result"
    }
   ],
   "source": [
    "# wy2012\n",
    "wy2012_isodates = GetISOdates(filepath_sf2012)\n",
    "wy2012_isodates"
   ]
  },
  {
   "cell_type": "code",
   "execution_count": 48,
   "id": "3cbbc35c-ca1c-4fa9-a4db-6ae8724bfaf1",
   "metadata": {},
   "outputs": [
    {
     "data": {
      "text/plain": [
       "'2012275 2012276 2012277 2012278 2012279 2012280 2012281 2012282 2012283 2012284 2012285 2012286 2012287 2012288 2012289 2012290 2012291 2012292 2012293 2012294 2012295 2012296 2012297 2012298 2012299 2012300 2012301 2012302 2012303 2012304 2012305 2012306 2012307 2012308 2012309 2012310 2012311 2012312 2012313 2012314 2012315 2012316 2012317 2012318 2012319 2012320 2012321 2012322 2012323 2012324 2012325 2012326 2012327 2012328 2012329 2012330 2012331 2012332 2012333 2012334 2012335 2012336 2012337 2012338 2012339 2012340 2012341 2012342 2012343 2012344 2012345 2012346 2012347 2012348 2012349 2012350 2012351 2012352 2012353 2012354 2012355 2012356 2012357 2012358 2012359 2012360 2012361 2012362 2012363 2012364 2012365 2012366 2013001 2013002 2013003 2013004 2013005 2013006 2013007 2013008 2013009 2013010 2013011 2013012 2013013 2013014 2013015 2013016 2013017 2013018 2013019 2013020 2013021 2013022 2013023 2013024 2013025 2013026 2013027 2013028 2013029 2013030 2013031 2013032 2013033 2013034 2013035 2013036 2013037 2013038 2013039 2013040 2013041 2013042 2013043 2013044 2013045 2013046 2013047 2013048 2013049 2013050 2013051 2013052 2013053 2013054 2013055 2013056 2013057 2013058 2013059 2013060 2013061 2013062 2013063 2013064 2013065 2013066 2013067 2013068 2013069 2013070 2013071 2013072 2013073 2013074 2013075 2013076 2013077 2013078 2013079 2013080 2013081 2013082 2013083 2013084 2013085 2013086 2013087 2013088 2013089 2013090 2013091 2013092 2013093 2013094 2013095 2013096 2013097 2013098 2013099 2013100 2013101 2013102 2013103 2013104 2013105 2013106 2013107 2013108 2013109 2013110 2013111 2013112 2013113 2013114 2013115 2013116 2013117 2013118 2013119 2013120 2013121 2013122 2013123 2013124 2013125 2013126 2013127 2013128 2013129 2013130 2013131 2013132 2013133 2013134 2013135 2013136 2013137 2013138 2013139 2013140 2013141 2013142 2013143 2013144 2013145 2013146 2013147 2013148 2013149 2013150 2013151 2013152 2013153 2013154 2013155 2013156 2013157 2013158 2013159 2013160 2013161 2013162 2013163 2013164 2013165 2013166 2013167 2013168 2013169 2013170 2013171 2013172 2013173 2013174 2013175 2013176 2013177 2013178 2013179 2013180 2013181 2013182 2013183 2013184 2013185 2013186 2013187 2013188 2013189 2013190 2013191 2013192 2013193 2013194 2013195 2013196 2013197 2013198 2013199 2013200 2013201 2013202 2013203 2013204 2013205 2013206 2013207 2013208 2013209 2013210 2013211 2013212 2013213 2013214 2013215 2013216 2013217 2013218 2013219 2013220 2013221 2013222 2013223 2013224 2013225 2013226 2013227 2013228 2013229 2013230 2013231 2013232 2013233 2013234 2013235 2013236 2013237 2013238 2013239 2013240 2013241 2013242 2013243 2013244 2013245 2013246 2013247 2013248 2013249 2013250 2013251 2013252 2013253 2013254 2013255 2013256 2013257 2013258 2013259 2013260 2013261 2013262 2013263 2013264 2013265 2013266 2013267 2013268 2013269 2013270 2013271 2013272 2013273 '"
      ]
     },
     "execution_count": 48,
     "metadata": {},
     "output_type": "execute_result"
    }
   ],
   "source": [
    "# wy2013\n",
    "wy2013_isodates = GetISOdates(filepath_sf2013)\n",
    "wy2013_isodates"
   ]
  },
  {
   "cell_type": "code",
   "execution_count": 49,
   "id": "e2556d52-33ff-422b-95d8-aeae8ce9ee17",
   "metadata": {},
   "outputs": [
    {
     "data": {
      "text/plain": [
       "'2013274 2013275 2013276 2013277 2013278 2013279 2013280 2013281 2013282 2013283 2013284 2013285 2013286 2013287 2013288 2013289 2013290 2013291 2013292 2013293 2013294 2013295 2013296 2013297 2013298 2013299 2013300 2013301 2013302 2013303 2013304 2013305 2013306 2013307 2013308 2013309 2013310 2013311 2013312 2013313 2013314 2013315 2013316 2013317 2013318 2013319 2013320 2013321 2013322 2013323 2013324 2013325 2013326 2013327 2013328 2013329 2013330 2013331 2013332 2013333 2013334 2013335 2013336 2013337 2013338 2013339 2013340 2013341 2013342 2013343 2013344 2013345 2013346 2013347 2013348 2013349 2013350 2013351 2013352 2013353 2013354 2013355 2013356 2013357 2013358 2013359 2013360 2013361 2013362 2013363 2013364 2013365 2014001 2014002 2014003 2014004 2014005 2014006 2014007 2014008 2014009 2014010 2014011 2014012 2014013 2014014 2014015 2014016 2014017 2014018 2014019 2014020 2014021 2014022 2014023 2014024 2014025 2014026 2014027 2014028 2014029 2014030 2014031 2014032 2014033 2014034 2014035 2014036 2014037 2014038 2014039 2014040 2014041 2014042 2014043 2014044 2014045 2014046 2014047 2014048 2014049 2014050 2014051 2014052 2014053 2014054 2014055 2014056 2014057 2014058 2014059 2014060 2014061 2014062 2014063 2014064 2014065 2014066 2014067 2014068 2014069 2014070 2014071 2014072 2014073 2014074 2014075 2014076 2014077 2014078 2014079 2014080 2014081 2014082 2014083 2014084 2014085 2014086 2014087 2014088 2014089 2014090 2014091 2014092 2014093 2014094 2014095 2014096 2014097 2014098 2014099 2014100 2014101 2014102 2014103 2014104 2014105 2014106 2014107 2014108 2014109 2014110 2014111 2014112 2014113 2014114 2014115 2014116 2014117 2014118 2014119 2014120 2014121 2014122 2014123 2014124 2014125 2014126 2014127 2014128 2014129 2014130 2014131 2014132 2014133 2014134 2014135 2014136 2014137 2014138 2014139 2014140 2014141 2014142 2014143 2014144 2014145 2014146 2014147 2014148 2014149 2014150 2014151 2014152 2014153 2014154 2014155 2014156 2014157 2014158 2014159 2014160 2014161 2014162 2014163 2014164 2014165 2014166 2014167 2014168 2014169 2014170 2014171 2014172 2014173 2014174 2014175 2014176 2014177 2014178 2014179 2014180 2014181 2014182 2014183 2014184 2014185 2014186 2014187 2014188 2014189 2014190 2014191 2014192 2014193 2014194 2014195 2014196 2014197 2014198 2014199 2014200 2014201 2014202 2014203 2014204 2014205 2014206 2014207 2014208 2014209 2014210 2014211 2014212 2014213 2014214 2014215 2014216 2014217 2014218 2014219 2014220 2014221 2014222 2014223 2014224 2014225 2014226 2014227 2014228 2014229 2014230 2014231 2014232 2014233 2014234 2014235 2014236 2014237 2014238 2014239 2014240 2014241 2014242 2014243 2014244 2014245 2014246 2014247 2014248 2014249 2014250 2014251 2014252 2014253 2014254 2014255 2014256 2014257 2014258 2014259 2014260 2014261 2014262 2014263 2014264 2014265 2014266 2014267 2014268 2014269 2014270 2014271 2014272 2014273 '"
      ]
     },
     "execution_count": 49,
     "metadata": {},
     "output_type": "execute_result"
    }
   ],
   "source": [
    "# wy2014\n",
    "wy2014_isodates = GetISOdates(filepath_sf2014)\n",
    "wy2014_isodates"
   ]
  },
  {
   "cell_type": "code",
   "execution_count": 50,
   "id": "b76deec0-8a33-4e4b-9b1d-9cdb04845ba4",
   "metadata": {},
   "outputs": [
    {
     "data": {
      "text/plain": [
       "'2014274 2014275 2014276 2014277 2014278 2014279 2014280 2014281 2014282 2014283 2014284 2014285 2014286 2014287 2014288 2014289 2014290 2014291 2014292 2014293 2014294 2014295 2014296 2014297 2014298 2014299 2014300 2014301 2014302 2014303 2014304 2014305 2014306 2014307 2014308 2014309 2014310 2014311 2014312 2014313 2014314 2014315 2014316 2014317 2014318 2014319 2014320 2014321 2014322 2014323 2014324 2014325 2014326 2014327 2014328 2014329 2014330 2014331 2014332 2014333 2014334 2014335 2014336 2014337 2014338 2014339 2014340 2014341 2014342 2014343 2014344 2014345 2014346 2014347 2014348 2014349 2014350 2014351 2014352 2014353 2014354 2014355 2014356 2014357 2014358 2014359 2014360 2014361 2014362 2014363 2014364 2014365 2015001 2015002 2015003 2015004 2015005 2015006 2015007 2015008 2015009 2015010 2015011 2015012 2015013 2015014 2015015 2015016 2015017 2015018 2015019 2015020 2015021 2015022 2015023 2015024 2015025 2015026 2015027 2015028 2015029 2015030 2015031 2015032 2015033 2015034 2015035 2015036 2015037 2015038 2015039 2015040 2015041 2015042 2015043 2015044 2015045 2015046 2015047 2015048 2015049 2015050 2015051 2015052 2015053 2015054 2015055 2015056 2015057 2015058 2015059 2015060 2015061 2015062 2015063 2015064 2015065 2015066 2015067 2015068 2015069 2015070 2015071 2015072 2015073 2015074 2015075 2015076 2015077 2015078 2015079 2015080 2015081 2015082 2015083 2015084 2015085 2015086 2015087 2015088 2015089 2015090 2015091 2015092 2015093 2015094 2015095 2015096 2015097 2015098 2015099 2015100 2015101 2015102 2015103 2015104 2015105 2015106 2015107 2015108 2015109 2015110 2015111 2015112 2015113 2015114 2015115 2015116 2015117 2015118 2015119 2015120 2015121 2015122 2015123 2015124 2015125 2015126 2015127 2015128 2015129 2015130 2015131 2015132 2015133 2015134 2015135 2015136 2015137 2015138 2015139 2015140 2015141 2015142 2015143 2015144 2015145 2015146 2015147 2015148 2015149 2015150 2015151 2015152 2015153 2015154 2015155 2015156 2015157 2015158 2015159 2015160 2015161 2015162 2015163 2015164 2015165 2015166 2015167 2015168 2015169 2015170 2015171 2015172 2015173 2015174 2015175 2015176 2015177 2015178 2015179 2015180 2015181 2015182 2015183 2015184 2015185 2015186 2015187 2015188 2015189 2015190 2015191 2015192 2015193 2015194 2015195 2015196 2015197 2015198 2015199 2015200 2015201 2015202 2015203 2015204 2015205 2015206 2015207 2015208 2015209 2015210 2015211 2015212 2015213 2015214 2015215 2015216 2015217 2015218 2015219 2015220 2015221 2015222 2015223 2015224 2015225 2015226 2015227 2015228 2015229 2015230 2015231 2015232 2015233 2015234 2015235 2015236 2015237 2015238 2015239 2015240 2015241 2015242 2015243 2015244 2015245 2015246 2015247 2015248 2015249 2015250 2015251 2015252 2015253 2015254 2015255 2015256 2015257 2015258 2015259 2015260 2015261 2015262 2015263 2015264 2015265 2015266 2015267 2015268 2015269 2015270 2015271 2015272 2015273 '"
      ]
     },
     "execution_count": 50,
     "metadata": {},
     "output_type": "execute_result"
    }
   ],
   "source": [
    "# wy2015\n",
    "wy2015_isodates = GetISOdates(filepath_sf2015)\n",
    "wy2015_isodates"
   ]
  },
  {
   "cell_type": "code",
   "execution_count": 51,
   "id": "f81e6cf6-10f1-483e-b19a-ad7553674fd2",
   "metadata": {},
   "outputs": [
    {
     "data": {
      "text/plain": [
       "'2015274 2015275 2015276 2015277 2015278 2015279 2015280 2015281 2015282 2015283 2015284 2015285 2015286 2015287 2015288 2015289 2015290 2015291 2015292 2015293 2015294 2015295 2015296 2015297 2015298 2015299 2015300 2015301 2015302 2015303 2015304 2015305 2015306 2015307 2015308 2015309 2015310 2015311 2015312 2015313 2015314 2015315 2015316 2015317 2015318 2015319 2015320 2015321 2015322 2015323 2015324 2015325 2015326 2015327 2015328 2015329 2015330 2015331 2015332 2015333 2015334 2015335 2015336 2015337 2015338 2015339 2015340 2015341 2015342 2015343 2015344 2015345 2015346 2015347 2015348 2015349 2015350 2015351 2015352 2015353 2015354 2015355 2015356 2015357 2015358 2015359 2015360 2015361 2015362 2015363 2015364 2015365 2016001 2016002 2016003 2016004 2016005 2016006 2016007 2016008 2016009 2016010 2016011 2016012 2016013 2016014 2016015 2016016 2016017 2016018 2016019 2016020 2016021 2016022 2016023 2016024 2016025 2016026 2016027 2016028 2016029 2016030 2016031 2016032 2016033 2016034 2016035 2016036 2016037 2016038 2016039 2016040 2016041 2016042 2016043 2016044 2016045 2016046 2016047 2016048 2016049 2016050 2016051 2016052 2016053 2016054 2016055 2016056 2016057 2016058 2016059 2016060 2016061 2016062 2016063 2016064 2016065 2016066 2016067 2016068 2016069 2016070 2016071 2016072 2016073 2016074 2016075 2016076 2016077 2016078 2016079 2016080 2016081 2016082 2016083 2016084 2016085 2016086 2016087 2016088 2016089 2016090 2016091 2016092 2016093 2016094 2016095 2016096 2016097 2016098 2016099 2016100 2016101 2016102 2016103 2016104 2016105 2016106 2016107 2016108 2016109 2016110 2016111 2016112 2016113 2016114 2016115 2016116 2016117 2016118 2016119 2016120 2016121 2016122 2016123 2016124 2016125 2016126 2016127 2016128 2016129 2016130 2016131 2016132 2016133 2016134 2016135 2016136 2016137 2016138 2016139 2016140 2016141 2016142 2016143 2016144 2016145 2016146 2016147 2016148 2016149 2016150 2016151 2016152 2016153 2016154 2016155 2016156 2016157 2016158 2016159 2016160 2016161 2016162 2016163 2016164 2016165 2016166 2016167 2016168 2016169 2016170 2016171 2016172 2016173 2016174 2016175 2016176 2016177 2016178 2016179 2016180 2016181 2016182 2016183 2016184 2016185 2016186 2016187 2016188 2016189 2016190 2016191 2016192 2016193 2016194 2016195 2016196 2016197 2016198 2016199 2016200 2016201 2016202 2016203 2016204 2016205 2016206 2016207 2016208 2016209 2016210 2016211 2016212 2016213 2016214 2016215 2016216 2016217 2016218 2016219 2016220 2016221 2016222 2016223 2016224 2016225 2016226 2016227 2016228 2016229 2016230 2016231 2016232 2016233 2016234 2016235 2016236 2016237 2016238 2016239 2016240 2016241 2016242 2016243 2016244 2016245 2016246 2016247 2016248 2016249 2016250 2016251 2016252 2016253 2016254 2016255 2016256 2016257 2016258 2016259 2016260 2016261 2016262 2016263 2016264 2016265 2016266 2016267 2016268 2016269 2016270 2016271 2016272 2016273 2016274 '"
      ]
     },
     "execution_count": 51,
     "metadata": {},
     "output_type": "execute_result"
    }
   ],
   "source": [
    "# wy2016\n",
    "wy2016_isodates = GetISOdates(filepath_sf2016)\n",
    "wy2016_isodates"
   ]
  },
  {
   "cell_type": "code",
   "execution_count": 52,
   "id": "5f8c886a-76f8-440b-8f41-2aab412489dd",
   "metadata": {},
   "outputs": [
    {
     "data": {
      "text/plain": [
       "'2016275 2016276 2016277 2016278 2016279 2016280 2016281 2016282 2016283 2016284 2016285 2016286 2016287 2016288 2016289 2016290 2016291 2016292 2016293 2016294 2016295 2016296 2016297 2016298 2016299 2016300 2016301 2016302 2016303 2016304 2016305 2016306 2016307 2016308 2016309 2016310 2016311 2016312 2016313 2016314 2016315 2016316 2016317 2016318 2016319 2016320 2016321 2016322 2016323 2016324 2016325 2016326 2016327 2016328 2016329 2016330 2016331 2016332 2016333 2016334 2016335 2016336 2016337 2016338 2016339 2016340 2016341 2016342 2016343 2016344 2016345 2016346 2016347 2016348 2016349 2016350 2016351 2016352 2016353 2016354 2016355 2016356 2016357 2016358 2016359 2016360 2016361 2016362 2016363 2016364 2016365 2016366 2017001 2017002 2017003 2017004 2017005 2017006 2017007 2017008 2017009 2017010 2017011 2017012 2017013 2017014 2017015 2017016 2017017 2017018 2017019 2017020 2017021 2017022 2017023 2017024 2017025 2017026 2017027 2017028 2017029 2017030 2017031 2017032 2017033 2017034 2017035 2017036 2017037 2017038 2017039 2017040 2017041 2017042 2017043 2017044 2017045 2017046 2017047 2017048 2017049 2017050 2017051 2017052 2017053 2017054 2017055 2017056 2017057 2017058 2017059 2017060 2017061 2017062 2017063 2017064 2017065 2017066 2017067 2017068 2017069 2017070 2017071 2017072 2017073 2017074 2017075 2017076 2017077 2017078 2017079 2017080 2017081 2017082 2017083 2017084 2017085 2017086 2017087 2017088 2017089 2017090 2017091 2017092 2017093 2017094 2017095 2017096 2017097 2017098 2017099 2017100 2017101 2017102 2017103 2017104 2017105 2017106 2017107 2017108 2017109 2017110 2017111 2017112 2017113 2017114 2017115 2017116 2017117 2017118 2017119 2017120 2017121 2017122 2017123 2017124 2017125 2017126 2017127 2017128 2017129 2017130 2017131 2017132 2017133 2017134 2017135 2017136 2017137 2017138 2017139 2017140 2017141 2017142 2017143 2017144 2017145 2017146 2017147 2017148 2017149 2017150 2017151 2017152 2017153 2017154 2017155 2017156 2017157 2017158 2017159 2017160 2017161 2017162 2017163 2017164 2017165 2017166 2017167 2017168 2017169 2017170 2017171 2017172 2017173 2017174 2017175 2017176 2017177 2017178 2017179 2017180 2017181 2017182 2017183 2017184 2017185 2017186 2017187 2017188 2017189 2017190 2017191 2017192 2017193 2017194 2017195 2017196 2017197 2017198 2017199 2017200 2017201 2017202 2017203 2017204 2017205 2017206 2017207 2017208 2017209 2017210 2017211 2017212 2017213 2017214 2017215 2017216 2017217 2017218 2017219 2017220 2017221 2017222 2017223 2017224 2017225 2017226 2017227 2017228 2017229 2017230 2017231 2017232 2017233 2017234 2017235 2017236 2017237 2017238 2017239 2017240 2017241 2017242 2017243 2017244 2017245 2017246 2017247 2017248 2017249 2017250 2017251 2017252 2017253 2017254 2017255 2017256 2017257 2017258 2017259 2017260 2017261 2017262 2017263 2017264 2017265 2017266 2017267 2017268 2017269 2017270 2017271 2017272 2017273 '"
      ]
     },
     "execution_count": 52,
     "metadata": {},
     "output_type": "execute_result"
    }
   ],
   "source": [
    "# wy2017\n",
    "wy2017_isodates = GetISOdates(filepath_sf2017)\n",
    "wy2017_isodates"
   ]
  },
  {
   "cell_type": "code",
   "execution_count": 53,
   "id": "de063e24-9a4c-4d8a-81a6-fe20e7b289cb",
   "metadata": {},
   "outputs": [
    {
     "data": {
      "text/plain": [
       "'2017274 2017275 2017276 2017277 2017278 2017279 2017280 2017281 2017282 2017283 2017284 2017285 2017286 2017287 2017288 2017289 2017290 2017291 2017292 2017293 2017294 2017295 2017296 2017297 2017298 2017299 2017300 2017301 2017302 2017303 2017304 2017305 2017306 2017307 2017308 2017309 2017310 2017311 2017312 2017313 2017314 2017315 2017316 2017317 2017318 2017319 2017320 2017321 2017322 2017323 2017324 2017325 2017326 2017327 2017328 2017329 2017330 2017331 2017332 2017333 2017334 2017335 2017336 2017337 2017338 2017339 2017340 2017341 2017342 2017343 2017344 2017345 2017346 2017347 2017348 2017349 2017350 2017351 2017352 2017353 2017354 2017355 2017356 2017357 2017358 2017359 2017360 2017361 2017362 2017363 2017364 2017365 2018001 2018002 2018003 2018004 2018005 2018006 2018007 2018008 2018009 2018010 2018011 2018012 2018013 2018014 2018015 2018016 2018017 2018018 2018019 2018020 2018021 2018022 2018023 2018024 2018025 2018026 2018027 2018028 2018029 2018030 2018031 2018032 2018033 2018034 2018035 2018036 2018037 2018038 2018039 2018040 2018041 2018042 2018043 2018044 2018045 2018046 2018047 2018048 2018049 2018050 2018051 2018052 2018053 2018054 2018055 2018056 2018057 2018058 2018059 2018060 2018061 2018062 2018063 2018064 2018065 2018066 2018067 2018068 2018069 2018070 2018071 2018072 2018073 2018074 2018075 2018076 2018077 2018078 2018079 2018080 2018081 2018082 2018083 2018084 2018085 2018086 2018087 2018088 2018089 2018090 2018091 2018092 2018093 2018094 2018095 2018096 2018097 2018098 2018099 2018100 2018101 2018102 2018103 2018104 2018105 2018106 2018107 2018108 2018109 2018110 2018111 2018112 2018113 2018114 2018115 2018116 2018117 2018118 2018119 2018120 2018121 2018122 2018123 2018124 2018125 2018126 2018127 2018128 2018129 2018130 2018131 2018132 2018133 2018134 2018135 2018136 2018137 2018138 2018139 2018140 2018141 2018142 2018143 2018144 2018145 2018146 2018147 2018148 2018149 2018150 2018151 2018152 2018153 2018154 2018155 2018156 2018157 2018158 2018159 2018160 2018161 2018162 2018163 2018164 2018165 2018166 2018167 2018168 2018169 2018170 2018171 2018172 2018173 2018174 2018175 2018176 2018177 2018178 2018179 2018180 2018181 2018182 2018183 2018184 2018185 2018186 2018187 2018188 2018189 2018190 2018191 2018192 2018193 2018194 2018195 2018196 2018197 2018198 2018199 2018200 2018201 2018202 2018203 2018204 2018205 2018206 2018207 2018208 2018209 2018210 2018211 2018212 2018213 2018214 2018215 2018216 2018217 2018218 2018219 2018220 2018221 2018222 2018223 2018224 2018225 2018226 2018227 2018228 2018229 2018230 2018231 2018232 2018233 2018234 2018235 2018236 2018237 2018238 2018239 2018240 2018241 2018242 2018243 2018244 2018245 2018246 2018247 2018248 2018249 2018250 2018251 2018252 2018253 2018254 2018255 2018256 2018257 2018258 2018259 2018260 2018261 2018262 2018263 2018264 2018265 2018266 2018267 2018268 2018269 2018270 2018271 2018272 2018273 '"
      ]
     },
     "execution_count": 53,
     "metadata": {},
     "output_type": "execute_result"
    }
   ],
   "source": [
    "# wy2018\n",
    "wy2018_isodates = GetISOdates(filepath_sf2018)\n",
    "wy2018_isodates"
   ]
  },
  {
   "cell_type": "code",
   "execution_count": 54,
   "id": "ab94d71f-7a5b-44ca-abb3-5cf1e96af889",
   "metadata": {},
   "outputs": [
    {
     "data": {
      "text/plain": [
       "'2018274 2018275 2018276 2018277 2018278 2018279 2018280 2018281 2018282 2018283 2018284 2018285 2018286 2018287 2018288 2018289 2018290 2018291 2018292 2018293 2018294 2018295 2018296 2018297 2018298 2018299 2018300 2018301 2018302 2018303 2018304 2018305 2018306 2018307 2018308 2018309 2018310 2018311 2018312 2018313 2018314 2018315 2018316 2018317 2018318 2018319 2018320 2018321 2018322 2018323 2018324 2018325 2018326 2018327 2018328 2018329 2018330 2018331 2018332 2018333 2018334 2018335 2018336 2018337 2018338 2018339 2018340 2018341 2018342 2018343 2018344 2018345 2018346 2018347 2018348 2018349 2018350 2018351 2018352 2018353 2018354 2018355 2018356 2018357 2018358 2018359 2018360 2018361 2018362 2018363 2018364 2018365 2019001 2019002 2019003 2019004 2019005 2019006 2019007 2019008 2019009 2019010 2019011 2019012 2019013 2019014 2019015 2019016 2019017 2019018 2019019 2019020 2019021 2019022 2019023 2019024 2019025 2019026 2019027 2019028 2019029 2019030 2019031 2019032 2019033 2019034 2019035 2019036 2019037 2019038 2019039 2019040 2019041 2019042 2019043 2019044 2019045 2019046 2019047 2019048 2019049 2019050 2019051 2019052 2019053 2019054 2019055 2019056 2019057 2019058 2019059 2019060 2019061 2019062 2019063 2019064 2019065 2019066 2019067 2019068 2019069 2019070 2019071 2019072 2019073 2019074 2019075 2019076 2019077 2019078 2019079 2019080 2019081 2019082 2019083 2019084 2019085 2019086 2019087 2019088 2019089 2019090 2019091 2019092 2019093 2019094 2019095 2019096 2019097 2019098 2019099 2019100 2019101 2019102 2019103 2019104 2019105 2019106 2019107 2019108 2019109 2019110 2019111 2019112 2019113 2019114 2019115 2019116 2019117 2019118 2019119 2019120 2019121 2019122 2019123 2019124 2019125 2019126 2019127 2019128 2019129 2019130 2019131 2019132 2019133 2019134 2019135 2019136 2019137 2019138 2019139 2019140 2019141 2019142 2019143 2019144 2019145 2019146 2019147 2019148 2019149 2019150 2019151 2019152 2019153 2019154 2019155 2019156 2019157 2019158 2019159 2019160 2019161 2019162 2019163 2019164 2019165 2019166 2019167 2019168 2019169 2019170 2019171 2019172 2019173 2019174 2019175 2019176 2019177 2019178 2019179 2019180 2019181 2019182 2019183 2019184 2019185 2019186 2019187 2019188 2019189 2019190 2019191 2019192 2019193 2019194 2019195 2019196 2019197 2019198 2019199 2019200 2019201 2019202 2019203 2019204 2019205 2019206 2019207 2019208 2019209 2019210 2019211 2019212 2019213 2019214 2019215 2019216 2019217 2019218 2019219 2019220 2019221 2019222 2019223 2019224 2019225 2019226 2019227 2019228 2019229 2019230 2019231 2019232 2019233 2019234 2019235 2019236 2019237 2019238 2019239 2019240 2019241 2019242 2019243 2019244 2019245 2019246 2019247 2019248 2019249 2019250 2019251 2019252 2019253 2019254 2019255 2019256 2019257 2019258 2019259 2019260 2019261 2019262 2019263 2019264 2019265 2019266 2019267 2019268 2019269 2019270 2019271 2019272 2019273 '"
      ]
     },
     "execution_count": 54,
     "metadata": {},
     "output_type": "execute_result"
    }
   ],
   "source": [
    "# wy2019\n",
    "wy2019_isodates = GetISOdates(filepath_sf2019)\n",
    "wy2019_isodates"
   ]
  },
  {
   "cell_type": "code",
   "execution_count": null,
   "id": "2b8692d3-fdd8-4656-aa31-d84bf950619b",
   "metadata": {},
   "outputs": [],
   "source": []
  }
 ],
 "metadata": {
  "kernelspec": {
   "display_name": "Python 3 (ipykernel)",
   "language": "python",
   "name": "python3"
  },
  "language_info": {
   "codemirror_mode": {
    "name": "ipython",
    "version": 3
   },
   "file_extension": ".py",
   "mimetype": "text/x-python",
   "name": "python",
   "nbconvert_exporter": "python",
   "pygments_lexer": "ipython3",
   "version": "3.8.12"
  }
 },
 "nbformat": 4,
 "nbformat_minor": 5
}
