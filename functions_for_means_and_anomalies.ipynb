{
 "cells": [
  {
   "cell_type": "markdown",
   "id": "f0504e0d-0613-4fd6-acfb-ff0057044d2d",
   "metadata": {},
   "source": [
    "# Scow Cover Percent and Albedo Statistics\n",
    "## Averages and Anomalies for the Period of Record: wy2001-wy2019"
   ]
  },
  {
   "cell_type": "markdown",
   "id": "bc5cb438-c3e6-4064-87c2-ffb808bd04e9",
   "metadata": {},
   "source": [
    "This notebook processes snow cover and albedo data from https://snow.ucsb.edu/index.php/remotely-sensed-products/.\n",
    "The analysis calculates monthly and annual averages and anomalies for the period of record which includes water years 2001 through 2019.\n",
    "\n",
    "**Files generated from this notebook were used as inputs to the MEDS Snow Today Shiny App**\n",
    "https://shiny.snow.ucsb.edu/snow_today_shiny_app/"
   ]
  },
  {
   "cell_type": "markdown",
   "id": "4cabc718-5987-412d-ab74-6ad01dfbbbbf",
   "metadata": {},
   "source": [
    "# Table of Contents\n",
    "[1. File Paths](#file_paths)\n",
    "\n",
    "[2. Global Variables](#global_variables)\n",
    "\n",
    "[3. Geotiff Transformation Function](#geotiff_transformation)\n",
    "\n",
    "[4. Snow Cover Percent](#scp)\n",
    "\n",
    "[5. Albedo](#albedo)\n",
    "\n",
    "[6. Project Area Mask](#mask)\n"
   ]
  },
  {
   "cell_type": "code",
   "execution_count": 1,
   "id": "90ffb7f2-2988-49f4-80f6-f368d9b9ad02",
   "metadata": {},
   "outputs": [
    {
     "name": "stderr",
     "output_type": "stream",
     "text": [
      "/Users/marierivers/opt/anaconda3/envs/eds223/lib/python3.8/site-packages/xarray/backends/cfgrib_.py:27: UserWarning: Failed to load cfgrib - most likely there is a problem accessing the ecCodes library. Try `import cfgrib` to get the full error message\n",
      "  warnings.warn(\n"
     ]
    }
   ],
   "source": [
    "# import packages\n",
    "import netCDF4\n",
    "import xarray\n",
    "import numpy as np\n",
    "from osgeo import gdal\n",
    "import rioxarray \n",
    "import warnings\n",
    "from numpy import array"
   ]
  },
  {
   "cell_type": "markdown",
   "id": "4cb41cee-5c66-4e70-86cc-a60770195bf9",
   "metadata": {},
   "source": [
    "<a id='file_paths'></a> \n",
    "# File Paths"
   ]
  },
  {
   "cell_type": "code",
   "execution_count": 12,
   "id": "6b868908-cf2e-4d95-b9bf-ee15ea450bc9",
   "metadata": {},
   "outputs": [],
   "source": [
    "# snow cover file paths\n",
    "wy2001_sf = '../data/snow_fraction_data/Sierra2001.h5'\n",
    "wy2002_sf = '../data/snow_fraction_data/Sierra2002.h5'\n",
    "wy2003_sf = '../data/snow_fraction_data/Sierra2003.h5'\n",
    "wy2004_sf = '../data/snow_fraction_data/Sierra2004.h5' # leap year\n",
    "wy2005_sf = '../data/snow_fraction_data/Sierra2005.h5'\n",
    "wy2006_sf = '../data/snow_fraction_data/Sierra2006.h5'\n",
    "wy2007_sf = '../data/snow_fraction_data/Sierra2007.h5'\n",
    "wy2008_sf = '../data/snow_fraction_data/Sierra2008.h5' # leap year\n",
    "wy2009_sf = '../data/snow_fraction_data/Sierra2009.h5'\n",
    "wy2010_sf = '../data/snow_fraction_data/Sierra2010.h5'\n",
    "wy2011_sf = '../data/snow_fraction_data/Sierra2011.h5'\n",
    "wy2012_sf = '../data/snow_fraction_data/Sierra2012.h5' # leap year\n",
    "wy2013_sf = '../data/snow_fraction_data/Sierra2013.h5'\n",
    "wy2014_sf = '../data/snow_fraction_data/Sierra2014.h5'\n",
    "wy2015_sf = '../data/snow_fraction_data/Sierra2015.h5'\n",
    "wy2016_sf = '../data/snow_fraction_data/Sierra2016.h5' # leap year\n",
    "wy2017_sf = '../data/snow_fraction_data/Sierra2017.h5'\n",
    "wy2018_sf = '../data/snow_fraction_data/Sierra2018.h5'\n",
    "wy2019_sf = '../data/snow_fraction_data/Sierra2019.h5'"
   ]
  },
  {
   "cell_type": "code",
   "execution_count": 13,
   "id": "611d71d6-28cd-4332-82c8-8c6a42013185",
   "metadata": {},
   "outputs": [],
   "source": [
    "wy2001_albedo = '../data/albedo_data/SierraAlbedo2001.h5'\n",
    "wy2002_albedo = '../data/albedo_data/SierraAlbedo2002.h5'\n",
    "wy2003_albedo = '../data/albedo_data/SierraAlbedo2003.h5'\n",
    "wy2004_albedo = '../data/albedo_data/SierraAlbedo2004.h5'\n",
    "wy2005_albedo = '../data/albedo_data/SierraAlbedo2005.h5'\n",
    "wy2006_albedo = '../data/albedo_data/SierraAlbedo2006.h5'\n",
    "wy2007_albedo = '../data/albedo_data/SierraAlbedo2007.h5'\n",
    "wy2008_albedo = '../data/albedo_data/SierraAlbedo2008.h5'\n",
    "wy2009_albedo = '../data/albedo_data/SierraAlbedo2009.h5'\n",
    "wy2010_albedo = '../data/albedo_data/SierraAlbedo2010.h5'\n",
    "wy2011_albedo = '../data/albedo_data/SierraAlbedo2011.h5'\n",
    "wy2012_albedo = '../data/albedo_data/SierraAlbedo2012.h5'\n",
    "wy2013_albedo = '../data/albedo_data/SierraAlbedo2013.h5'\n",
    "wy2014_albedo = '../data/albedo_data/SierraAlbedo2014.h5'\n",
    "wy2015_albedo = '../data/albedo_data/SierraAlbedo2015.h5'\n",
    "wy2016_albedo = '../data/albedo_data/SierraAlbedo2016.h5'\n",
    "wy2017_albedo = '../data/albedo_data/SierraAlbedo2017.h5'\n",
    "wy2018_albedo = '../data/albedo_data/SierraAlbedo2018.h5'\n",
    "wy2019_albedo = '../data/albedo_data/SierraAlbedo2019.h5'"
   ]
  },
  {
   "cell_type": "markdown",
   "id": "785e16a6-f0df-4561-b6f3-fa114e65f242",
   "metadata": {},
   "source": [
    "<a id='global_variables'></a> \n",
    "# Global Variables"
   ]
  },
  {
   "cell_type": "code",
   "execution_count": 14,
   "id": "5f539a54-17d8-4482-a7bc-05e4b2a64f00",
   "metadata": {},
   "outputs": [],
   "source": [
    "january_start_index = 92\n",
    "january_end_index = 123\n",
    "february_start_index = 123\n",
    "february_end_index = 151\n",
    "march_start_index = 151\n",
    "march_end_index = 182\n",
    "april_start_index = 182\n",
    "april_end_index = 212\n",
    "may_start_index = 212 \n",
    "may_end_index = 243\n",
    "june_start_index = 243 \n",
    "june_end_index = 263\n",
    "july_start_index = 273 \n",
    "july_end_index = 304\n",
    "august_start_index = 304\n",
    "august_end_index = 335\n",
    "september_start_index = 335\n",
    "september_end_index = 365\n",
    "october_start_index = 0\n",
    "october_end_index =31\n",
    "november_start_index = 31\n",
    "november_end_index = 61\n",
    "december_start_index = 61\n",
    "december_end_index = 92\n",
    "february_leapyear_start_index = 123\n",
    "february_leapyear_end_index = 152\n",
    "march_leapyear_start_index = 152\n",
    "march_leapyear_end_index = 183\n",
    "april_leapyear_start_index = 183\n",
    "april_leapyear_end_index = 213\n",
    "may_leapyear_start_index = 213\n",
    "may_leapyear_end_index = 244\n",
    "june_leapyear_start_index = 244\n",
    "june_leapyear_end_index = 274\n",
    "july_leapyear_start_index = 274\n",
    "july_leapyear_end_index = 305\n",
    "august_leapyear_start_index = 305\n",
    "august_leapyear_end_index = 336\n",
    "september_leapyear_start_index = 336\n",
    "september_leapyear_end_index = 366"
   ]
  },
  {
   "cell_type": "markdown",
   "id": "74c9d3db-2f11-4009-a26d-c6b1287116c9",
   "metadata": {
    "tags": []
   },
   "source": [
    "<a id='geotiff_transformation'></a> \n",
    "# Geotiff Transformation Functions\n",
    "## Projection Info"
   ]
  },
  {
   "cell_type": "code",
   "execution_count": 15,
   "id": "db332714-d49d-4168-a022-192f3ea76008",
   "metadata": {},
   "outputs": [],
   "source": [
    "# x dimension of array\n",
    "X_width = 1334\n",
    "# y dimension of array\n",
    "Y_height = 1841\n",
    "# Projection data of sample GeoTiff\n",
    "Projection = 'PROJCS[\"Albers Conical Equal Area\",GEOGCS[\"WGS 84\",DATUM[\"WGS_1984\",SPHEROID[\"WGS 84\",6378137,298.257223563,AUTHORITY[\"EPSG\",\"7030\"]],AUTHORITY[\"EPSG\",\"6326\"]],PRIMEM[\"Greenwich\",0],UNIT[\"degree\",0.0174532925199433,AUTHORITY[\"EPSG\",\"9122\"]],AUTHORITY[\"EPSG\",\"4326\"]],PROJECTION[\"Albers_Conic_Equal_Area\"],PARAMETER[\"latitude_of_center\",0],PARAMETER[\"longitude_of_center\",-120],PARAMETER[\"standard_parallel_1\",34],PARAMETER[\"standard_parallel_2\",40.5],PARAMETER[\"false_easting\",0],PARAMETER[\"false_northing\",-4000000],UNIT[\"meters\",1],AXIS[\"Easting\",EAST],AXIS[\"Northing\",NORTH]]'\n",
    "# transformation data of array\n",
    "ReferencingMatrix = [-285750.0, 500.0, 0.0, 500250.0, 0.0, -500.0]"
   ]
  },
  {
   "cell_type": "code",
   "execution_count": 16,
   "id": "53134bbc-c9ab-4b86-b8ac-e844521a37e6",
   "metadata": {},
   "outputs": [],
   "source": [
    "def CreateGeoTiffStack(name, array, geo_transform, projection):\n",
    "    \n",
    "    driver = gdal.GetDriverByName('GTiff')\n",
    "\n",
    "    DataSet = driver.Create(name, array.shape[2], array.shape[1], array.shape[0], gdal.GDT_Float32)\n",
    "    DataSet.SetGeoTransform(geo_transform)\n",
    "    DataSet.SetProjection(projection)\n",
    "    for i, image in enumerate(array, 1):\n",
    "        DataSet.GetRasterBand(i).WriteArray( image )\n",
    "    DataSet.FlushCache()\n",
    "    return name"
   ]
  },
  {
   "cell_type": "markdown",
   "id": "75910ab2-efcf-42af-9899-433cd887eef6",
   "metadata": {},
   "source": [
    "<a id='scp'></a> \n",
    "# Snow Cover Percent"
   ]
  },
  {
   "cell_type": "markdown",
   "id": "56338530-416e-4a16-ae8e-840652cfc209",
   "metadata": {},
   "source": [
    " \n",
    "## Annual\n",
    "### Mean"
   ]
  },
  {
   "cell_type": "code",
   "execution_count": 17,
   "id": "9af9d2c0-59f2-4f45-8698-424f8177f60d",
   "metadata": {},
   "outputs": [],
   "source": [
    "def AnnualMeanSnowCoverPercent(filepath):\n",
    "    sierra_snow_cover = rioxarray.open_rasterio(filepath)\n",
    "    snow_cover_xarray = sierra_snow_cover['Grid_MODIS_GRID_500m_snow_fraction']\n",
    "    snow_cover_xarray = snow_cover_xarray.where(snow_cover_xarray != 255)\n",
    "    annual_mean_snow_cover_percent = snow_cover_xarray.isel(band=slice(0, 364)).mean(dim=\"band\") \n",
    "    annual_mean_snow_cover_percent_numpy = annual_mean_snow_cover_percent.to_numpy()\n",
    "    annual_mean_snow_cover_percent_numpy = np.transpose(annual_mean_snow_cover_percent_numpy)\n",
    "    #annual_mean_snow_cover_percent_numpy[annual_mean_snow_cover_percent_numpy == 0] = np.nan\n",
    "    \n",
    "    return(annual_mean_snow_cover_percent_numpy)"
   ]
  },
  {
   "cell_type": "code",
   "execution_count": 18,
   "id": "c67ae696-3dfa-4d49-b1c4-750d58c58eb2",
   "metadata": {},
   "outputs": [],
   "source": [
    "warnings.filterwarnings('ignore')\n",
    "\n",
    "# these are numpy arrays\n",
    "annual_mean_snow_cover_percent_2001 = AnnualMeanSnowCoverPercent(wy2001_sf)\n",
    "annual_mean_snow_cover_percent_2002 = AnnualMeanSnowCoverPercent(wy2002_sf)\n",
    "annual_mean_snow_cover_percent_2003 = AnnualMeanSnowCoverPercent(wy2003_sf)\n",
    "annual_mean_snow_cover_percent_2004 = AnnualMeanSnowCoverPercent(wy2004_sf)\n",
    "annual_mean_snow_cover_percent_2005 = AnnualMeanSnowCoverPercent(wy2005_sf)\n",
    "annual_mean_snow_cover_percent_2006 = AnnualMeanSnowCoverPercent(wy2006_sf)\n",
    "annual_mean_snow_cover_percent_2007 = AnnualMeanSnowCoverPercent(wy2007_sf)\n",
    "annual_mean_snow_cover_percent_2008 = AnnualMeanSnowCoverPercent(wy2008_sf)\n",
    "annual_mean_snow_cover_percent_2009 = AnnualMeanSnowCoverPercent(wy2009_sf)\n",
    "annual_mean_snow_cover_percent_2010 = AnnualMeanSnowCoverPercent(wy2010_sf)\n",
    "annual_mean_snow_cover_percent_2011 = AnnualMeanSnowCoverPercent(wy2011_sf)\n",
    "annual_mean_snow_cover_percent_2012 = AnnualMeanSnowCoverPercent(wy2012_sf)\n",
    "annual_mean_snow_cover_percent_2013 = AnnualMeanSnowCoverPercent(wy2013_sf)\n",
    "annual_mean_snow_cover_percent_2014 = AnnualMeanSnowCoverPercent(wy2014_sf)\n",
    "annual_mean_snow_cover_percent_2015 = AnnualMeanSnowCoverPercent(wy2015_sf)\n",
    "annual_mean_snow_cover_percent_2016 = AnnualMeanSnowCoverPercent(wy2016_sf)\n",
    "annual_mean_snow_cover_percent_2017 = AnnualMeanSnowCoverPercent(wy2017_sf)\n",
    "annual_mean_snow_cover_percent_2018 = AnnualMeanSnowCoverPercent(wy2018_sf)\n",
    "annual_mean_snow_cover_percent_2019 = AnnualMeanSnowCoverPercent(wy2019_sf)"
   ]
  },
  {
   "cell_type": "code",
   "execution_count": 19,
   "id": "dff1d386-aa08-4c79-a23f-60d58b9727d2",
   "metadata": {},
   "outputs": [
    {
     "data": {
      "text/plain": [
       "'stacked_tiffs/january_mean_albedo_stack.tif'"
      ]
     },
     "execution_count": 213,
     "metadata": {},
     "output_type": "execute_result"
    }
   ],
   "source": [
    "mean_annual_snow_cover_percent = (annual_mean_snow_cover_percent_2001 + annual_mean_snow_cover_percent_2002 + annual_mean_snow_cover_percent_2003 +\n",
    "                                  annual_mean_snow_cover_percent_2004 + annual_mean_snow_cover_percent_2005 + annual_mean_snow_cover_percent_2006 +\n",
    "                                  annual_mean_snow_cover_percent_2007 + annual_mean_snow_cover_percent_2008 + annual_mean_snow_cover_percent_2009 +\n",
    "                                  annual_mean_snow_cover_percent_2010 + annual_mean_snow_cover_percent_2011 + annual_mean_snow_cover_percent_2012 +\n",
    "                                  annual_mean_snow_cover_percent_2013 + annual_mean_snow_cover_percent_2014 + annual_mean_snow_cover_percent_2015 +\n",
    "                                  annual_mean_snow_cover_percent_2016 + annual_mean_snow_cover_percent_2017 + annual_mean_snow_cover_percent_2018 +\n",
    "                                  annual_mean_snow_cover_percent_2019) / 19"
   ]
  },
  {
   "cell_type": "code",
   "execution_count": 20,
   "id": "59f3e03e-48d6-4b50-88d2-7925960e899e",
   "metadata": {},
   "outputs": [
    {
     "data": {
      "text/plain": [
       "'stacked_tiffs/annual_snow_cover_percent_stack.tif'"
      ]
     },
     "execution_count": 214,
     "metadata": {},
     "output_type": "execute_result"
    }
   ],
   "source": [
    "# stack of annual mean snow cover, including average for period of record and average for each year\n",
    "annual_snow_cover_percent_stack = array([annual_mean_snow_cover_percent_2001, annual_mean_snow_cover_percent_2002,\n",
    "                                        annual_mean_snow_cover_percent_2003, annual_mean_snow_cover_percent_2004, annual_mean_snow_cover_percent_2005,\n",
    "                                        annual_mean_snow_cover_percent_2006, annual_mean_snow_cover_percent_2007, annual_mean_snow_cover_percent_2008, \n",
    "                                        annual_mean_snow_cover_percent_2009, annual_mean_snow_cover_percent_2010, annual_mean_snow_cover_percent_2011, \n",
    "                                        annual_mean_snow_cover_percent_2012, annual_mean_snow_cover_percent_2013, annual_mean_snow_cover_percent_2014, \n",
    "                                        annual_mean_snow_cover_percent_2015, annual_mean_snow_cover_percent_2016, annual_mean_snow_cover_percent_2017, \n",
    "                                        annual_mean_snow_cover_percent_2018, annual_mean_snow_cover_percent_2019, mean_annual_snow_cover_percent])\n",
    "annual_snow_cover_percent_stack[annual_snow_cover_percent_stack == 0] = np.nan\n",
    "\n",
    "CreateGeoTiffStack('stacked_tiffs/annual_snow_cover_percent_stack.tif', annual_snow_cover_percent_stack, ReferencingMatrix, Projection)"
   ]
  },
  {
   "cell_type": "code",
   "execution_count": 237,
   "id": "c7a3af49-0ee6-4bb5-9f07-35dae1203866",
   "metadata": {},
   "outputs": [
    {
     "data": {
      "text/plain": [
       "0.00014459224985540777"
      ]
     },
     "execution_count": 237,
     "metadata": {},
     "output_type": "execute_result"
    }
   ],
   "source": [
    "np.nanmin(annual_snow_cover_percent_stack)"
   ]
  },
  {
   "cell_type": "code",
   "execution_count": 239,
   "id": "8f35cfa1-f835-4bc3-851b-b3edd239b48d",
   "metadata": {},
   "outputs": [
    {
     "data": {
      "text/plain": [
       "94.81593406593407"
      ]
     },
     "execution_count": 239,
     "metadata": {},
     "output_type": "execute_result"
    }
   ],
   "source": [
    "np.nanmax(annual_snow_cover_percent_stack)"
   ]
  },
  {
   "cell_type": "code",
   "execution_count": 21,
   "id": "0c9f9fce-87e9-4511-8b36-fa2a9c93f196",
   "metadata": {},
   "outputs": [],
   "source": [
    "#annual_snow_cover_percent_stack.shape"
   ]
  },
  {
   "cell_type": "code",
   "execution_count": 22,
   "id": "9ce9f481-d3d6-4191-94c1-bb0fdeafeab7",
   "metadata": {},
   "outputs": [],
   "source": [
    "#type(annual_snow_cover_percent_stack)"
   ]
  },
  {
   "cell_type": "markdown",
   "id": "3aa6f53b-7a91-4dc3-83a6-ead5d5abed8b",
   "metadata": {},
   "source": [
    "### Anomaly"
   ]
  },
  {
   "cell_type": "code",
   "execution_count": 23,
   "id": "a768a0bc-ad64-4009-bd2d-af7af0092f39",
   "metadata": {},
   "outputs": [
    {
     "data": {
      "text/plain": [
       "'stacked_tiffs/annual_scp_anomaly_stack.tif'"
      ]
     },
     "execution_count": 215,
     "metadata": {},
     "output_type": "execute_result"
    }
   ],
   "source": [
    "wy2001_scp_anomaly = annual_mean_snow_cover_percent_2001 - mean_annual_snow_cover_percent\n",
    "wy2002_scp_anomaly = annual_mean_snow_cover_percent_2002 - mean_annual_snow_cover_percent\n",
    "wy2003_scp_anomaly = annual_mean_snow_cover_percent_2003 - mean_annual_snow_cover_percent\n",
    "wy2004_scp_anomaly = annual_mean_snow_cover_percent_2004 - mean_annual_snow_cover_percent\n",
    "wy2005_scp_anomaly = annual_mean_snow_cover_percent_2005 - mean_annual_snow_cover_percent\n",
    "wy2006_scp_anomaly = annual_mean_snow_cover_percent_2006 - mean_annual_snow_cover_percent\n",
    "wy2007_scp_anomaly = annual_mean_snow_cover_percent_2007 - mean_annual_snow_cover_percent\n",
    "wy2008_scp_anomaly = annual_mean_snow_cover_percent_2008 - mean_annual_snow_cover_percent\n",
    "wy2009_scp_anomaly = annual_mean_snow_cover_percent_2009 - mean_annual_snow_cover_percent\n",
    "wy2010_scp_anomaly = annual_mean_snow_cover_percent_2010 - mean_annual_snow_cover_percent\n",
    "wy2011_scp_anomaly = annual_mean_snow_cover_percent_2011 - mean_annual_snow_cover_percent\n",
    "wy2012_scp_anomaly = annual_mean_snow_cover_percent_2012 - mean_annual_snow_cover_percent\n",
    "wy2013_scp_anomaly = annual_mean_snow_cover_percent_2013 - mean_annual_snow_cover_percent\n",
    "wy2014_scp_anomaly = annual_mean_snow_cover_percent_2014 - mean_annual_snow_cover_percent\n",
    "wy2015_scp_anomaly = annual_mean_snow_cover_percent_2015 - mean_annual_snow_cover_percent\n",
    "wy2016_scp_anomaly = annual_mean_snow_cover_percent_2016 - mean_annual_snow_cover_percent\n",
    "wy2017_scp_anomaly = annual_mean_snow_cover_percent_2017 - mean_annual_snow_cover_percent\n",
    "wy2018_scp_anomaly = annual_mean_snow_cover_percent_2018 - mean_annual_snow_cover_percent\n",
    "wy2019_scp_anomaly = annual_mean_snow_cover_percent_2019 - mean_annual_snow_cover_percent\n",
    "\n",
    "annual_scp_anomaly_stack = array([wy2001_scp_anomaly, wy2002_scp_anomaly, wy2003_scp_anomaly, wy2004_scp_anomaly, wy2005_scp_anomaly,\n",
    "                                 wy2006_scp_anomaly, wy2007_scp_anomaly, wy2008_scp_anomaly, wy2009_scp_anomaly, wy2010_scp_anomaly,\n",
    "                                 wy2011_scp_anomaly, wy2012_scp_anomaly, wy2013_scp_anomaly, wy2014_scp_anomaly, wy2015_scp_anomaly,\n",
    "                                 wy2016_scp_anomaly, wy2017_scp_anomaly, wy2018_scp_anomaly, wy2019_scp_anomaly])\n",
    "\n",
    "annual_scp_anomaly_stack[annual_scp_anomaly_stack == 0] = np.nan\n",
    "\n",
    "CreateGeoTiffStack('stacked_tiffs/annual_scp_anomaly_stack.tif', annual_scp_anomaly_stack, ReferencingMatrix, Projection)\n"
   ]
  },
  {
   "cell_type": "code",
   "execution_count": 240,
   "id": "fbc11cfd-555b-4b6b-a528-7eb1a91d95cb",
   "metadata": {},
   "outputs": [
    {
     "data": {
      "text/plain": [
       "-46.09008097165992"
      ]
     },
     "execution_count": 240,
     "metadata": {},
     "output_type": "execute_result"
    }
   ],
   "source": [
    "np.nanmin(annual_scp_anomaly_stack)"
   ]
  },
  {
   "cell_type": "code",
   "execution_count": 241,
   "id": "1811cdb2-761a-4fca-b3a1-0dbb1d1ba2a6",
   "metadata": {},
   "outputs": [
    {
     "data": {
      "text/plain": [
       "32.752024291497975"
      ]
     },
     "execution_count": 241,
     "metadata": {},
     "output_type": "execute_result"
    }
   ],
   "source": [
    "np.nanmax(annual_scp_anomaly_stack)"
   ]
  },
  {
   "cell_type": "code",
   "execution_count": 24,
   "id": "7576af83-b4b0-4a1f-afd4-6f4ce164f1ea",
   "metadata": {},
   "outputs": [],
   "source": [
    "#type(annual_mean_snow_cover_percent_2001)"
   ]
  },
  {
   "cell_type": "code",
   "execution_count": 25,
   "id": "b8bba8c9-bc00-49e0-80bf-d59f91825967",
   "metadata": {},
   "outputs": [],
   "source": [
    "#annual_mean_snow_cover_percent_2001.shape"
   ]
  },
  {
   "cell_type": "code",
   "execution_count": 26,
   "id": "f3005bed-ef7e-45cb-990d-e150d7210b25",
   "metadata": {},
   "outputs": [],
   "source": [
    "#annual_mean_snow_cover_percent_2001"
   ]
  },
  {
   "cell_type": "markdown",
   "id": "a6177164-6422-4068-8c2c-e93200f473d0",
   "metadata": {},
   "source": [
    "## Monthly\n",
    "### Mean"
   ]
  },
  {
   "cell_type": "code",
   "execution_count": 27,
   "id": "95d49060-7d24-4257-a79d-6905b73967d3",
   "metadata": {},
   "outputs": [],
   "source": [
    "def MonthlySnowCoverPercent(filepath, start_index, end_index):\n",
    "    sierra_snow_cover = rioxarray.open_rasterio(filepath)\n",
    "    snow_cover_xarray = sierra_snow_cover['Grid_MODIS_GRID_500m_snow_fraction']\n",
    "    snow_cover_xarray = snow_cover_xarray.where(snow_cover_xarray != 255)\n",
    "    monthly_mean_snow_cover_percent = snow_cover_xarray.isel(band=slice(start_index, end_index)).mean(dim=\"band\")\n",
    "    monthly_mean_snow_cover_percent_numpy = monthly_mean_snow_cover_percent.to_numpy()\n",
    "    monthly_mean_snow_cover_percent_numpy = np.transpose(monthly_mean_snow_cover_percent_numpy)\n",
    "    #monthly_mean_snow_cover_percent_numpy[monthly_mean_snow_cover_percent_numpy == 0] = np.nan\n",
    "    \n",
    "    return(monthly_mean_snow_cover_percent_numpy)"
   ]
  },
  {
   "cell_type": "code",
   "execution_count": 28,
   "id": "a3cc874d-79cf-4cb2-9425-53f7f5c71f32",
   "metadata": {},
   "outputs": [],
   "source": [
    "warnings.filterwarnings('ignore')\n",
    "\n",
    "# wy2001\n",
    "january_scp_wy2001 = MonthlySnowCoverPercent(wy2001_sf, january_start_index, january_end_index)\n",
    "february_scp_wy2001 = MonthlySnowCoverPercent(wy2001_sf, february_start_index, february_end_index)\n",
    "march_scp_wy2001 = MonthlySnowCoverPercent(wy2001_sf, march_start_index, march_end_index)\n",
    "april_scp_wy2001 = MonthlySnowCoverPercent(wy2001_sf, april_start_index, april_end_index)\n",
    "may_scp_wy2001 = MonthlySnowCoverPercent(wy2001_sf, may_start_index, may_end_index)\n",
    "june_scp_wy2001 = MonthlySnowCoverPercent(wy2001_sf, june_start_index, june_end_index)\n",
    "july_scp_wy2001 = MonthlySnowCoverPercent(wy2001_sf, july_start_index, july_end_index)\n",
    "august_scp_wy2001 = MonthlySnowCoverPercent(wy2001_sf, august_start_index, august_end_index)\n",
    "september_scp_wy2001 = MonthlySnowCoverPercent(wy2001_sf, september_start_index, september_end_index)\n",
    "october_scp_wy2001 = MonthlySnowCoverPercent(wy2001_sf, october_start_index, october_end_index)\n",
    "november_scp_wy2001 = MonthlySnowCoverPercent(wy2001_sf, november_start_index, november_end_index)\n",
    "december_scp_wy2001 = MonthlySnowCoverPercent(wy2001_sf, december_start_index, december_end_index)\n",
    "\n",
    "# wy2001_monthly_mean_scp_stack = array([january_scp_wy2001, february_scp_wy2001, march_scp_wy2001, april_scp_wy2001,\n",
    "#                                       may_scp_wy2001, june_scp_wy2001, july_scp_wy2001, august_scp_wy2001, \n",
    "#                                        september_scp_wy2001, october_scp_wy2001, november_scp_wy2001, december_scp_wy2001])\n",
    "\n",
    "# wy2001_monthly_mean_scp_stack[wy2001_monthly_mean_scp_stack == 0] = np.nan\n",
    "\n",
    "# CreateGeoTiffStack('stacked_tiffs/wy2001_monthly_mean_scp_stack.tif', wy2001_monthly_mean_scp_stack, ReferencingMatrix, Projection)"
   ]
  },
  {
   "cell_type": "code",
   "execution_count": 29,
   "id": "4178ee8e-9b5e-4aed-876c-d6e2d26a2648",
   "metadata": {},
   "outputs": [],
   "source": [
    "warnings.filterwarnings('ignore')\n",
    "\n",
    "# wy2002\n",
    "january_scp_wy2002 = MonthlySnowCoverPercent(wy2002_sf, january_start_index, january_end_index)\n",
    "february_scp_wy2002 = MonthlySnowCoverPercent(wy2002_sf, february_start_index, february_end_index)\n",
    "march_scp_wy2002 = MonthlySnowCoverPercent(wy2002_sf, march_start_index, march_end_index)\n",
    "april_scp_wy2002 = MonthlySnowCoverPercent(wy2002_sf, april_start_index, april_end_index)\n",
    "may_scp_wy2002 = MonthlySnowCoverPercent(wy2002_sf, may_start_index, may_end_index)\n",
    "june_scp_wy2002 = MonthlySnowCoverPercent(wy2002_sf, june_start_index, june_end_index)\n",
    "july_scp_wy2002 = MonthlySnowCoverPercent(wy2002_sf, july_start_index, july_end_index)\n",
    "august_scp_wy2002 = MonthlySnowCoverPercent(wy2002_sf, august_start_index, august_end_index)\n",
    "september_scp_wy2002 = MonthlySnowCoverPercent(wy2002_sf, september_start_index, september_end_index)\n",
    "october_scp_wy2002 = MonthlySnowCoverPercent(wy2002_sf, october_start_index, october_end_index)\n",
    "november_scp_wy2002 = MonthlySnowCoverPercent(wy2002_sf, november_start_index, november_end_index)\n",
    "december_scp_wy2002 = MonthlySnowCoverPercent(wy2002_sf, december_start_index, december_end_index)\n",
    "\n",
    "# wy2002_monthly_mean_scp_stack = array([january_scp_wy2002, february_scp_wy2002, march_scp_wy2002, april_scp_wy2002,\n",
    "#                                       may_scp_wy2002, june_scp_wy2002, july_scp_wy2002, august_scp_wy2002, \n",
    "#                                        september_scp_wy2002, october_scp_wy2002, november_scp_wy2002, december_scp_wy2002])\n",
    "\n",
    "# wy2002_monthly_mean_scp_stack[wy2002_monthly_mean_scp_stack == 0] = np.nan\n",
    "\n",
    "# CreateGeoTiffStack('stacked_tiffs/wy2002_monthly_mean_scp_stack.tif', wy2002_monthly_mean_scp_stack, ReferencingMatrix, Projection)"
   ]
  },
  {
   "cell_type": "code",
   "execution_count": 30,
   "id": "26116f88-d5ee-4ab9-8e4e-f22b960ea129",
   "metadata": {},
   "outputs": [],
   "source": [
    "warnings.filterwarnings('ignore')\n",
    "\n",
    "# wy2003\n",
    "january_scp_wy2003 = MonthlySnowCoverPercent(wy2003_sf, january_start_index, january_end_index)\n",
    "february_scp_wy2003 = MonthlySnowCoverPercent(wy2003_sf, february_start_index, february_end_index)\n",
    "march_scp_wy2003 = MonthlySnowCoverPercent(wy2003_sf, march_start_index, march_end_index)\n",
    "april_scp_wy2003 = MonthlySnowCoverPercent(wy2003_sf, april_start_index, april_end_index)\n",
    "may_scp_wy2003 = MonthlySnowCoverPercent(wy2003_sf, may_start_index, may_end_index)\n",
    "june_scp_wy2003 = MonthlySnowCoverPercent(wy2003_sf, june_start_index, june_end_index)\n",
    "july_scp_wy2003 = MonthlySnowCoverPercent(wy2003_sf, july_start_index, july_end_index)\n",
    "august_scp_wy2003 = MonthlySnowCoverPercent(wy2003_sf, august_start_index, august_end_index)\n",
    "september_scp_wy2003 = MonthlySnowCoverPercent(wy2003_sf, september_start_index, september_end_index)\n",
    "october_scp_wy2003 = MonthlySnowCoverPercent(wy2003_sf, october_start_index, october_end_index)\n",
    "november_scp_wy2003 = MonthlySnowCoverPercent(wy2003_sf, november_start_index, november_end_index)\n",
    "december_scp_wy2003 = MonthlySnowCoverPercent(wy2003_sf, december_start_index, december_end_index)\n",
    "\n",
    "# wy2003_monthly_mean_scp_stack = array([january_scp_wy2003, february_scp_wy2003, march_scp_wy2003, april_scp_wy2003,\n",
    "#                                       may_scp_wy2003, june_scp_wy2003, july_scp_wy2003, august_scp_wy2003, \n",
    "#                                        september_scp_wy2003, october_scp_wy2003, november_scp_wy2003, december_scp_wy2003])\n",
    "\n",
    "# wy2003_monthly_mean_scp_stack[wy2003_monthly_mean_scp_stack == 0] = np.nan\n",
    "\n",
    "# CreateGeoTiffStack('stacked_tiffs/wy2003_monthly_mean_scp_stack.tif', wy2003_monthly_mean_scp_stack, ReferencingMatrix, Projection)"
   ]
  },
  {
   "cell_type": "code",
   "execution_count": 31,
   "id": "53238529-202b-4edd-a216-863a76b4ede8",
   "metadata": {},
   "outputs": [],
   "source": [
    "warnings.filterwarnings('ignore')\n",
    "\n",
    "# wy2004\n",
    "january_scp_wy2004 = MonthlySnowCoverPercent(wy2004_sf, january_start_index, january_end_index)\n",
    "february_scp_wy2004 = MonthlySnowCoverPercent(wy2004_sf, february_leapyear_start_index, february_leapyear_end_index)\n",
    "march_scp_wy2004 = MonthlySnowCoverPercent(wy2004_sf, march_leapyear_start_index, march_leapyear_end_index)\n",
    "april_scp_wy2004 = MonthlySnowCoverPercent(wy2004_sf, april_leapyear_start_index, april_leapyear_end_index)\n",
    "may_scp_wy2004 = MonthlySnowCoverPercent(wy2004_sf, may_leapyear_start_index, may_leapyear_end_index)\n",
    "june_scp_wy2004 = MonthlySnowCoverPercent(wy2004_sf, june_leapyear_start_index, june_leapyear_end_index)\n",
    "july_scp_wy2004 = MonthlySnowCoverPercent(wy2004_sf, july_leapyear_start_index, july_leapyear_end_index)\n",
    "august_scp_wy2004 = MonthlySnowCoverPercent(wy2004_sf, august_leapyear_start_index, august_leapyear_end_index)\n",
    "september_scp_wy2004 = MonthlySnowCoverPercent(wy2004_sf, september_leapyear_start_index, september_leapyear_end_index)\n",
    "october_scp_wy2004 = MonthlySnowCoverPercent(wy2004_sf, october_start_index, october_end_index)\n",
    "november_scp_wy2004 = MonthlySnowCoverPercent(wy2004_sf, november_start_index, november_end_index)\n",
    "december_scp_wy2004 = MonthlySnowCoverPercent(wy2004_sf, december_start_index, december_end_index)\n",
    "\n",
    "# wy2004_monthly_mean_scp_stack = array([january_scp_wy2004, february_scp_wy2004, march_scp_wy2004, april_scp_wy2004,\n",
    "#                                       may_scp_wy2004, june_scp_wy2004, july_scp_wy2004, august_scp_wy2004, \n",
    "#                                        september_scp_wy2004, october_scp_wy2004, november_scp_wy2004, december_scp_wy2004])\n",
    "\n",
    "# wy2004_monthly_mean_scp_stack[wy2004_monthly_mean_scp_stack == 0] = np.nan\n",
    "\n",
    "# CreateGeoTiffStack('stacked_tiffs/wy2004_monthly_mean_scp_stack.tif', wy2004_monthly_mean_scp_stack, ReferencingMatrix, Projection)"
   ]
  },
  {
   "cell_type": "code",
   "execution_count": 32,
   "id": "87642186-e6ce-4583-ac63-6748cefa5896",
   "metadata": {},
   "outputs": [],
   "source": [
    "warnings.filterwarnings('ignore')\n",
    "\n",
    "# wy2005\n",
    "january_scp_wy2005 = MonthlySnowCoverPercent(wy2005_sf, january_start_index, january_end_index)\n",
    "february_scp_wy2005 = MonthlySnowCoverPercent(wy2005_sf, february_start_index, february_end_index)\n",
    "march_scp_wy2005 = MonthlySnowCoverPercent(wy2005_sf, march_start_index, march_end_index)\n",
    "april_scp_wy2005 = MonthlySnowCoverPercent(wy2005_sf, april_start_index, april_end_index)\n",
    "may_scp_wy2005 = MonthlySnowCoverPercent(wy2005_sf, may_start_index, may_end_index)\n",
    "june_scp_wy2005 = MonthlySnowCoverPercent(wy2005_sf, june_start_index, june_end_index)\n",
    "july_scp_wy2005 = MonthlySnowCoverPercent(wy2005_sf, july_start_index, july_end_index)\n",
    "august_scp_wy2005 = MonthlySnowCoverPercent(wy2005_sf, august_start_index, august_end_index)\n",
    "september_scp_wy2005 = MonthlySnowCoverPercent(wy2005_sf, september_start_index, september_end_index)\n",
    "october_scp_wy2005 = MonthlySnowCoverPercent(wy2005_sf, october_start_index, october_end_index)\n",
    "november_scp_wy2005 = MonthlySnowCoverPercent(wy2005_sf, november_start_index, november_end_index)\n",
    "december_scp_wy2005 = MonthlySnowCoverPercent(wy2005_sf, december_start_index, december_end_index)\n",
    "\n",
    "# wy2005_monthly_mean_scp_stack = array([january_scp_wy2005, february_scp_wy2005, march_scp_wy2005, april_scp_wy2005,\n",
    "#                                       may_scp_wy2005, june_scp_wy2005, july_scp_wy2005, august_scp_wy2005, \n",
    "#                                        september_scp_wy2005, october_scp_wy2005, november_scp_wy2005, december_scp_wy2005])\n",
    "\n",
    "# wy2005_monthly_mean_scp_stack[wy2005_monthly_mean_scp_stack == 0] = np.nan\n",
    "\n",
    "# CreateGeoTiffStack('stacked_tiffs/wy2005_monthly_mean_scp_stack.tif', wy2005_monthly_mean_scp_stack, ReferencingMatrix, Projection)"
   ]
  },
  {
   "cell_type": "code",
   "execution_count": 33,
   "id": "9456ae19-58da-4472-8733-046bb260d5d9",
   "metadata": {},
   "outputs": [],
   "source": [
    "warnings.filterwarnings('ignore')\n",
    "\n",
    "# wy2006\n",
    "january_scp_wy2006 = MonthlySnowCoverPercent(wy2006_sf, january_start_index, january_end_index)\n",
    "february_scp_wy2006 = MonthlySnowCoverPercent(wy2006_sf, february_start_index, february_end_index)\n",
    "march_scp_wy2006 = MonthlySnowCoverPercent(wy2006_sf, march_start_index, march_end_index)\n",
    "april_scp_wy2006 = MonthlySnowCoverPercent(wy2006_sf, april_start_index, april_end_index)\n",
    "may_scp_wy2006 = MonthlySnowCoverPercent(wy2006_sf, may_start_index, may_end_index)\n",
    "june_scp_wy2006 = MonthlySnowCoverPercent(wy2006_sf, june_start_index, june_end_index)\n",
    "july_scp_wy2006 = MonthlySnowCoverPercent(wy2006_sf, july_start_index, july_end_index)\n",
    "august_scp_wy2006 = MonthlySnowCoverPercent(wy2006_sf, august_start_index, august_end_index)\n",
    "september_scp_wy2006 = MonthlySnowCoverPercent(wy2006_sf, september_start_index, september_end_index)\n",
    "october_scp_wy2006 = MonthlySnowCoverPercent(wy2006_sf, october_start_index, october_end_index)\n",
    "november_scp_wy2006 = MonthlySnowCoverPercent(wy2006_sf, november_start_index, november_end_index)\n",
    "december_scp_wy2006 = MonthlySnowCoverPercent(wy2006_sf, december_start_index, december_end_index)\n",
    "\n",
    "# wy2006_monthly_mean_scp_stack = array([january_scp_wy2006, february_scp_wy2006, march_scp_wy2006, april_scp_wy2006,\n",
    "#                                       may_scp_wy2006, june_scp_wy2006, july_scp_wy2006, august_scp_wy2006, \n",
    "#                                        september_scp_wy2006, october_scp_wy2006, november_scp_wy2006, december_scp_wy2006])\n",
    "\n",
    "# wy2006_monthly_mean_scp_stack[wy2006_monthly_mean_scp_stack == 0] = np.nan\n",
    "\n",
    "# CreateGeoTiffStack('stacked_tiffs/wy2006_monthly_mean_scp_stack.tif', wy2006_monthly_mean_scp_stack, ReferencingMatrix, Projection)"
   ]
  },
  {
   "cell_type": "code",
   "execution_count": 34,
   "id": "8bf27db0-7e99-4140-9050-902d03d47217",
   "metadata": {},
   "outputs": [],
   "source": [
    "warnings.filterwarnings('ignore')\n",
    "\n",
    "# wy2007\n",
    "january_scp_wy2007 = MonthlySnowCoverPercent(wy2007_sf, january_start_index, january_end_index)\n",
    "february_scp_wy2007 = MonthlySnowCoverPercent(wy2007_sf, february_start_index, february_end_index)\n",
    "march_scp_wy2007 = MonthlySnowCoverPercent(wy2007_sf, march_start_index, march_end_index)\n",
    "april_scp_wy2007 = MonthlySnowCoverPercent(wy2007_sf, april_start_index, april_end_index)\n",
    "may_scp_wy2007 = MonthlySnowCoverPercent(wy2007_sf, may_start_index, may_end_index)\n",
    "june_scp_wy2007 = MonthlySnowCoverPercent(wy2007_sf, june_start_index, june_end_index)\n",
    "july_scp_wy2007 = MonthlySnowCoverPercent(wy2007_sf, july_start_index, july_end_index)\n",
    "august_scp_wy2007 = MonthlySnowCoverPercent(wy2007_sf, august_start_index, august_end_index)\n",
    "september_scp_wy2007 = MonthlySnowCoverPercent(wy2007_sf, september_start_index, september_end_index)\n",
    "october_scp_wy2007 = MonthlySnowCoverPercent(wy2007_sf, october_start_index, october_end_index)\n",
    "november_scp_wy2007 = MonthlySnowCoverPercent(wy2007_sf, november_start_index, november_end_index)\n",
    "december_scp_wy2007 = MonthlySnowCoverPercent(wy2007_sf, december_start_index, december_end_index)\n",
    "\n",
    "# wy2007_monthly_mean_scp_stack = array([january_scp_wy2007, february_scp_wy2007, march_scp_wy2007, april_scp_wy2007,\n",
    "#                                       may_scp_wy2007, june_scp_wy2007, july_scp_wy2007, august_scp_wy2007, \n",
    "#                                        september_scp_wy2007, october_scp_wy2007, november_scp_wy2007, december_scp_wy2007])\n",
    "\n",
    "# wy2007_monthly_mean_scp_stack[wy2007_monthly_mean_scp_stack == 0] = np.nan\n",
    "\n",
    "# CreateGeoTiffStack('stacked_tiffs/wy2007_monthly_mean_scp_stack.tif', wy2007_monthly_mean_scp_stack, ReferencingMatrix, Projection)"
   ]
  },
  {
   "cell_type": "code",
   "execution_count": 35,
   "id": "652bd07c-951f-4408-81a9-426c9693dbd7",
   "metadata": {},
   "outputs": [],
   "source": [
    "warnings.filterwarnings('ignore')\n",
    "\n",
    "# wy2008\n",
    "january_scp_wy2008 = MonthlySnowCoverPercent(wy2008_sf, january_start_index, january_end_index)\n",
    "february_scp_wy2008 = MonthlySnowCoverPercent(wy2008_sf, february_leapyear_start_index, february_leapyear_end_index)\n",
    "march_scp_wy2008 = MonthlySnowCoverPercent(wy2008_sf, march_leapyear_start_index, march_leapyear_end_index)\n",
    "april_scp_wy2008 = MonthlySnowCoverPercent(wy2008_sf, april_leapyear_start_index, april_leapyear_end_index)\n",
    "may_scp_wy2008 = MonthlySnowCoverPercent(wy2008_sf, may_leapyear_start_index, may_leapyear_end_index)\n",
    "june_scp_wy2008 = MonthlySnowCoverPercent(wy2008_sf, june_leapyear_start_index, june_leapyear_end_index)\n",
    "july_scp_wy2008 = MonthlySnowCoverPercent(wy2008_sf, july_leapyear_start_index, july_leapyear_end_index)\n",
    "august_scp_wy2008 = MonthlySnowCoverPercent(wy2008_sf, august_leapyear_start_index, august_leapyear_end_index)\n",
    "september_scp_wy2008 = MonthlySnowCoverPercent(wy2008_sf, september_leapyear_start_index, september_leapyear_end_index)\n",
    "october_scp_wy2008 = MonthlySnowCoverPercent(wy2008_sf, october_start_index, october_end_index)\n",
    "november_scp_wy2008 = MonthlySnowCoverPercent(wy2008_sf, november_start_index, november_end_index)\n",
    "december_scp_wy2008 = MonthlySnowCoverPercent(wy2008_sf, december_start_index, december_end_index)\n",
    "\n",
    "# wy2008_monthly_mean_scp_stack = array([january_scp_wy2008, february_scp_wy2008, march_scp_wy2008, april_scp_wy2008,\n",
    "#                                       may_scp_wy2008, june_scp_wy2008, july_scp_wy2008, august_scp_wy2008, \n",
    "#                                        september_scp_wy2008, october_scp_wy2008, november_scp_wy2008, december_scp_wy2008])\n",
    "\n",
    "# wy2008_monthly_mean_scp_stack[wy2008_monthly_mean_scp_stack == 0] = np.nan\n",
    "\n",
    "# CreateGeoTiffStack('stacked_tiffs/wy2008_monthly_mean_scp_stack.tif', wy2008_monthly_mean_scp_stack, ReferencingMatrix, Projection)"
   ]
  },
  {
   "cell_type": "code",
   "execution_count": 36,
   "id": "7150bb8a-71d6-4df9-be6e-13d66dfe99c3",
   "metadata": {},
   "outputs": [],
   "source": [
    "warnings.filterwarnings('ignore')\n",
    "\n",
    "# wy2009\n",
    "january_scp_wy2009 = MonthlySnowCoverPercent(wy2009_sf, january_start_index, january_end_index)\n",
    "february_scp_wy2009 = MonthlySnowCoverPercent(wy2009_sf, february_start_index, february_end_index)\n",
    "march_scp_wy2009 = MonthlySnowCoverPercent(wy2009_sf, march_start_index, march_end_index)\n",
    "april_scp_wy2009 = MonthlySnowCoverPercent(wy2009_sf, april_start_index, april_end_index)\n",
    "may_scp_wy2009 = MonthlySnowCoverPercent(wy2009_sf, may_start_index, may_end_index)\n",
    "june_scp_wy2009 = MonthlySnowCoverPercent(wy2009_sf, june_start_index, june_end_index)\n",
    "july_scp_wy2009 = MonthlySnowCoverPercent(wy2009_sf, july_start_index, july_end_index)\n",
    "august_scp_wy2009 = MonthlySnowCoverPercent(wy2009_sf, august_start_index, august_end_index)\n",
    "september_scp_wy2009 = MonthlySnowCoverPercent(wy2009_sf, september_start_index, september_end_index)\n",
    "october_scp_wy2009 = MonthlySnowCoverPercent(wy2009_sf, october_start_index, october_end_index)\n",
    "november_scp_wy2009 = MonthlySnowCoverPercent(wy2009_sf, november_start_index, november_end_index)\n",
    "december_scp_wy2009 = MonthlySnowCoverPercent(wy2009_sf, december_start_index, december_end_index)\n",
    "\n",
    "# wy2009_monthly_mean_scp_stack = array([january_scp_wy2009, february_scp_wy2009, march_scp_wy2009, april_scp_wy2009,\n",
    "#                                       may_scp_wy2009, june_scp_wy2009, july_scp_wy2009, august_scp_wy2009, \n",
    "#                                        september_scp_wy2009, october_scp_wy2009, november_scp_wy2009, december_scp_wy2009])\n",
    "\n",
    "# wy2009_monthly_mean_scp_stack[wy2009_monthly_mean_scp_stack == 0] = np.nan\n",
    "\n",
    "# CreateGeoTiffStack('stacked_tiffs/wy2009_monthly_mean_scp_stack.tif', wy2009_monthly_mean_scp_stack, ReferencingMatrix, Projection)"
   ]
  },
  {
   "cell_type": "code",
   "execution_count": 37,
   "id": "5e84b792-73f2-4554-96e4-73da8c1646e0",
   "metadata": {},
   "outputs": [],
   "source": [
    "warnings.filterwarnings('ignore')\n",
    "\n",
    "# wy2010\n",
    "january_scp_wy2010 = MonthlySnowCoverPercent(wy2010_sf, january_start_index, january_end_index)\n",
    "february_scp_wy2010 = MonthlySnowCoverPercent(wy2010_sf, february_start_index, february_end_index)\n",
    "march_scp_wy2010 = MonthlySnowCoverPercent(wy2010_sf, march_start_index, march_end_index)\n",
    "april_scp_wy2010 = MonthlySnowCoverPercent(wy2010_sf, april_start_index, april_end_index)\n",
    "may_scp_wy2010 = MonthlySnowCoverPercent(wy2010_sf, may_start_index, may_end_index)\n",
    "june_scp_wy2010 = MonthlySnowCoverPercent(wy2010_sf, june_start_index, june_end_index)\n",
    "july_scp_wy2010 = MonthlySnowCoverPercent(wy2010_sf, july_start_index, july_end_index)\n",
    "august_scp_wy2010 = MonthlySnowCoverPercent(wy2010_sf, august_start_index, august_end_index)\n",
    "september_scp_wy2010 = MonthlySnowCoverPercent(wy2010_sf, september_start_index, september_end_index)\n",
    "october_scp_wy2010 = MonthlySnowCoverPercent(wy2010_sf, october_start_index, october_end_index)\n",
    "november_scp_wy2010 = MonthlySnowCoverPercent(wy2010_sf, november_start_index, november_end_index)\n",
    "december_scp_wy2010 = MonthlySnowCoverPercent(wy2010_sf, december_start_index, december_end_index)\n",
    "\n",
    "# wy2010_monthly_mean_scp_stack = array([january_scp_wy2010, february_scp_wy2010, march_scp_wy2010, april_scp_wy2010,\n",
    "#                                       may_scp_wy2010, june_scp_wy2010, july_scp_wy2010, august_scp_wy2010, \n",
    "#                                        september_scp_wy2010, october_scp_wy2010, november_scp_wy2010, december_scp_wy2010])\n",
    "\n",
    "# wy2010_monthly_mean_scp_stack[wy2010_monthly_mean_scp_stack == 0] = np.nan\n",
    "\n",
    "# CreateGeoTiffStack('stacked_tiffs/wy2010_monthly_mean_scp_stack.tif', wy2010_monthly_mean_scp_stack, ReferencingMatrix, Projection)"
   ]
  },
  {
   "cell_type": "code",
   "execution_count": 38,
   "id": "d71c6284-9818-45f6-9c91-11150fd014a6",
   "metadata": {},
   "outputs": [],
   "source": [
    "warnings.filterwarnings('ignore')\n",
    "\n",
    "# wy2011\n",
    "january_scp_wy2011 = MonthlySnowCoverPercent(wy2011_sf, january_start_index, january_end_index)\n",
    "february_scp_wy2011 = MonthlySnowCoverPercent(wy2011_sf, february_start_index, february_end_index)\n",
    "march_scp_wy2011 = MonthlySnowCoverPercent(wy2011_sf, march_start_index, march_end_index)\n",
    "april_scp_wy2011 = MonthlySnowCoverPercent(wy2011_sf, april_start_index, april_end_index)\n",
    "may_scp_wy2011 = MonthlySnowCoverPercent(wy2011_sf, may_start_index, may_end_index)\n",
    "june_scp_wy2011 = MonthlySnowCoverPercent(wy2011_sf, june_start_index, june_end_index)\n",
    "july_scp_wy2011 = MonthlySnowCoverPercent(wy2011_sf, july_start_index, july_end_index)\n",
    "august_scp_wy2011 = MonthlySnowCoverPercent(wy2011_sf, august_start_index, august_end_index)\n",
    "september_scp_wy2011 = MonthlySnowCoverPercent(wy2011_sf, september_start_index, september_end_index)\n",
    "october_scp_wy2011 = MonthlySnowCoverPercent(wy2011_sf, october_start_index, october_end_index)\n",
    "november_scp_wy2011 = MonthlySnowCoverPercent(wy2011_sf, november_start_index, november_end_index)\n",
    "december_scp_wy2011 = MonthlySnowCoverPercent(wy2011_sf, december_start_index, december_end_index)\n",
    "\n",
    "# wy2011_monthly_mean_scp_stack = array([january_scp_wy2011, february_scp_wy2011, march_scp_wy2011, april_scp_wy2011,\n",
    "#                                       may_scp_wy2011, june_scp_wy2011, july_scp_wy2011, august_scp_wy2011, \n",
    "#                                        september_scp_wy2011, october_scp_wy2011, november_scp_wy2011, december_scp_wy2011])\n",
    "\n",
    "# wy2011_monthly_mean_scp_stack[wy2011_monthly_mean_scp_stack == 0] = np.nan\n",
    "\n",
    "# CreateGeoTiffStack('stacked_tiffs/wy2011_monthly_mean_scp_stack.tif', wy2011_monthly_mean_scp_stack, ReferencingMatrix, Projection)"
   ]
  },
  {
   "cell_type": "code",
   "execution_count": 39,
   "id": "5974b0bb-3c5b-4b6c-a88a-4df3f58d9593",
   "metadata": {},
   "outputs": [],
   "source": [
    "warnings.filterwarnings('ignore')\n",
    "\n",
    "# wy2012\n",
    "january_scp_wy2012 = MonthlySnowCoverPercent(wy2012_sf, january_start_index, january_end_index)\n",
    "february_scp_wy2012 = MonthlySnowCoverPercent(wy2012_sf, february_leapyear_start_index, february_leapyear_end_index)\n",
    "march_scp_wy2012 = MonthlySnowCoverPercent(wy2012_sf, march_leapyear_start_index, march_leapyear_end_index)\n",
    "april_scp_wy2012 = MonthlySnowCoverPercent(wy2012_sf, april_leapyear_start_index, april_leapyear_end_index)\n",
    "may_scp_wy2012 = MonthlySnowCoverPercent(wy2012_sf, may_leapyear_start_index, may_leapyear_end_index)\n",
    "june_scp_wy2012 = MonthlySnowCoverPercent(wy2012_sf, june_leapyear_start_index, june_leapyear_end_index)\n",
    "july_scp_wy2012 = MonthlySnowCoverPercent(wy2012_sf, july_leapyear_start_index, july_leapyear_end_index)\n",
    "august_scp_wy2012 = MonthlySnowCoverPercent(wy2012_sf, august_leapyear_start_index, august_leapyear_end_index)\n",
    "september_scp_wy2012 = MonthlySnowCoverPercent(wy2012_sf, september_leapyear_start_index, september_leapyear_end_index)\n",
    "october_scp_wy2012 = MonthlySnowCoverPercent(wy2012_sf, october_start_index, october_end_index)\n",
    "november_scp_wy2012 = MonthlySnowCoverPercent(wy2012_sf, november_start_index, november_end_index)\n",
    "december_scp_wy2012 = MonthlySnowCoverPercent(wy2012_sf, december_start_index, december_end_index)\n",
    "\n",
    "# wy2012_monthly_mean_scp_stack = array([january_scp_wy2012, february_scp_wy2012, march_scp_wy2012, april_scp_wy2012,\n",
    "#                                       may_scp_wy2012, june_scp_wy2012, july_scp_wy2012, august_scp_wy2012, \n",
    "#                                        september_scp_wy2012, october_scp_wy2012, november_scp_wy2012, december_scp_wy2012])\n",
    "\n",
    "# wy2012_monthly_mean_scp_stack[wy2012_monthly_mean_scp_stack == 0] = np.nan\n",
    "\n",
    "# CreateGeoTiffStack('stacked_tiffs/wy2012_monthly_mean_scp_stack.tif', wy2012_monthly_mean_scp_stack, ReferencingMatrix, Projection)"
   ]
  },
  {
   "cell_type": "code",
   "execution_count": 40,
   "id": "61bdbe6c-17bc-44c8-b8dd-65f150d243da",
   "metadata": {},
   "outputs": [],
   "source": [
    "warnings.filterwarnings('ignore')\n",
    "\n",
    "# wy2013\n",
    "january_scp_wy2013 = MonthlySnowCoverPercent(wy2013_sf, january_start_index, january_end_index)\n",
    "february_scp_wy2013 = MonthlySnowCoverPercent(wy2013_sf, february_start_index, february_end_index)\n",
    "march_scp_wy2013 = MonthlySnowCoverPercent(wy2013_sf, march_start_index, march_end_index)\n",
    "april_scp_wy2013 = MonthlySnowCoverPercent(wy2013_sf, april_start_index, april_end_index)\n",
    "may_scp_wy2013 = MonthlySnowCoverPercent(wy2013_sf, may_start_index, may_end_index)\n",
    "june_scp_wy2013 = MonthlySnowCoverPercent(wy2013_sf, june_start_index, june_end_index)\n",
    "july_scp_wy2013 = MonthlySnowCoverPercent(wy2013_sf, july_start_index, july_end_index)\n",
    "august_scp_wy2013 = MonthlySnowCoverPercent(wy2013_sf, august_start_index, august_end_index)\n",
    "september_scp_wy2013 = MonthlySnowCoverPercent(wy2013_sf, september_start_index, september_end_index)\n",
    "october_scp_wy2013 = MonthlySnowCoverPercent(wy2013_sf, october_start_index, october_end_index)\n",
    "november_scp_wy2013 = MonthlySnowCoverPercent(wy2013_sf, november_start_index, november_end_index)\n",
    "december_scp_wy2013 = MonthlySnowCoverPercent(wy2013_sf, december_start_index, december_end_index)\n",
    "\n",
    "# wy2013_monthly_mean_scp_stack = array([january_scp_wy2013, february_scp_wy2013, march_scp_wy2013, april_scp_wy2013,\n",
    "#                                       may_scp_wy2013, june_scp_wy2013, july_scp_wy2013, august_scp_wy2013, \n",
    "#                                        september_scp_wy2013, october_scp_wy2013, november_scp_wy2013, december_scp_wy2013])\n",
    "\n",
    "# wy2013_monthly_mean_scp_stack[wy2013_monthly_mean_scp_stack == 0] = np.nan\n",
    "\n",
    "# CreateGeoTiffStack('stacked_tiffs/wy2013_monthly_mean_scp_stack.tif', wy2013_monthly_mean_scp_stack, ReferencingMatrix, Projection)"
   ]
  },
  {
   "cell_type": "code",
   "execution_count": 41,
   "id": "2b1f5eb0-66b2-4738-be94-f6c2ea947018",
   "metadata": {},
   "outputs": [],
   "source": [
    "warnings.filterwarnings('ignore')\n",
    "\n",
    "# wy2014\n",
    "january_scp_wy2014 = MonthlySnowCoverPercent(wy2014_sf, january_start_index, january_end_index)\n",
    "february_scp_wy2014 = MonthlySnowCoverPercent(wy2014_sf, february_start_index, february_end_index)\n",
    "march_scp_wy2014 = MonthlySnowCoverPercent(wy2014_sf, march_start_index, march_end_index)\n",
    "april_scp_wy2014 = MonthlySnowCoverPercent(wy2014_sf, april_start_index, april_end_index)\n",
    "may_scp_wy2014 = MonthlySnowCoverPercent(wy2014_sf, may_start_index, may_end_index)\n",
    "june_scp_wy2014 = MonthlySnowCoverPercent(wy2014_sf, june_start_index, june_end_index)\n",
    "july_scp_wy2014 = MonthlySnowCoverPercent(wy2014_sf, july_start_index, july_end_index)\n",
    "august_scp_wy2014 = MonthlySnowCoverPercent(wy2014_sf, august_start_index, august_end_index)\n",
    "september_scp_wy2014 = MonthlySnowCoverPercent(wy2014_sf, september_start_index, september_end_index)\n",
    "october_scp_wy2014 = MonthlySnowCoverPercent(wy2014_sf, october_start_index, october_end_index)\n",
    "november_scp_wy2014 = MonthlySnowCoverPercent(wy2014_sf, november_start_index, november_end_index)\n",
    "december_scp_wy2014 = MonthlySnowCoverPercent(wy2014_sf, december_start_index, december_end_index)\n",
    "\n",
    "# wy2014_monthly_mean_scp_stack = array([january_scp_wy2014, february_scp_wy2014, march_scp_wy2014, april_scp_wy2014,\n",
    "#                                       may_scp_wy2014, june_scp_wy2014, july_scp_wy2014, august_scp_wy2014, \n",
    "#                                        september_scp_wy2014, october_scp_wy2014, november_scp_wy2014, december_scp_wy2014])\n",
    "\n",
    "# wy2014_monthly_mean_scp_stack[wy2014_monthly_mean_scp_stack == 0] = np.nan\n",
    "\n",
    "# CreateGeoTiffStack('stacked_tiffs/wy2014_monthly_mean_scp_stack.tif', wy2014_monthly_mean_scp_stack, ReferencingMatrix, Projection)"
   ]
  },
  {
   "cell_type": "code",
   "execution_count": 42,
   "id": "2ded3607-2780-46f2-99cf-ecf54b482ec4",
   "metadata": {},
   "outputs": [],
   "source": [
    "warnings.filterwarnings('ignore')\n",
    "\n",
    "# wy2015\n",
    "january_scp_wy2015 = MonthlySnowCoverPercent(wy2015_sf, january_start_index, january_end_index)\n",
    "february_scp_wy2015 = MonthlySnowCoverPercent(wy2015_sf, february_start_index, february_end_index)\n",
    "march_scp_wy2015 = MonthlySnowCoverPercent(wy2015_sf, march_start_index, march_end_index)\n",
    "april_scp_wy2015 = MonthlySnowCoverPercent(wy2015_sf, april_start_index, april_end_index)\n",
    "may_scp_wy2015 = MonthlySnowCoverPercent(wy2015_sf, may_start_index, may_end_index)\n",
    "june_scp_wy2015 = MonthlySnowCoverPercent(wy2015_sf, june_start_index, june_end_index)\n",
    "july_scp_wy2015 = MonthlySnowCoverPercent(wy2015_sf, july_start_index, july_end_index)\n",
    "august_scp_wy2015 = MonthlySnowCoverPercent(wy2015_sf, august_start_index, august_end_index)\n",
    "september_scp_wy2015 = MonthlySnowCoverPercent(wy2015_sf, september_start_index, september_end_index)\n",
    "october_scp_wy2015 = MonthlySnowCoverPercent(wy2015_sf, october_start_index, october_end_index)\n",
    "november_scp_wy2015 = MonthlySnowCoverPercent(wy2015_sf, november_start_index, november_end_index)\n",
    "december_scp_wy2015 = MonthlySnowCoverPercent(wy2015_sf, december_start_index, december_end_index)\n",
    "\n",
    "# wy2015_monthly_mean_scp_stack = array([january_scp_wy2015, february_scp_wy2015, march_scp_wy2015, april_scp_wy2015,\n",
    "#                                       may_scp_wy2015, june_scp_wy2015, july_scp_wy2015, august_scp_wy2015, \n",
    "#                                        september_scp_wy2015, october_scp_wy2015, november_scp_wy2015, december_scp_wy2015])\n",
    "\n",
    "# wy2015_monthly_mean_scp_stack[wy2015_monthly_mean_scp_stack == 0] = np.nan\n",
    "\n",
    "# CreateGeoTiffStack('stacked_tiffs/wy2015_monthly_mean_scp_stack.tif', wy2015_monthly_mean_scp_stack, ReferencingMatrix, Projection)"
   ]
  },
  {
   "cell_type": "code",
   "execution_count": 43,
   "id": "c2826dc9-4766-4c86-b12e-d9625e92990f",
   "metadata": {},
   "outputs": [],
   "source": [
    "warnings.filterwarnings('ignore')\n",
    "\n",
    "# wy2016\n",
    "january_scp_wy2016 = MonthlySnowCoverPercent(wy2016_sf, january_start_index, january_end_index)\n",
    "february_scp_wy2016 = MonthlySnowCoverPercent(wy2016_sf, february_leapyear_start_index, february_leapyear_end_index)\n",
    "march_scp_wy2016 = MonthlySnowCoverPercent(wy2016_sf, march_leapyear_start_index, march_leapyear_end_index)\n",
    "april_scp_wy2016 = MonthlySnowCoverPercent(wy2016_sf, april_leapyear_start_index, april_leapyear_end_index)\n",
    "may_scp_wy2016 = MonthlySnowCoverPercent(wy2016_sf, may_leapyear_start_index, may_leapyear_end_index)\n",
    "june_scp_wy2016 = MonthlySnowCoverPercent(wy2016_sf, june_leapyear_start_index, june_leapyear_end_index)\n",
    "july_scp_wy2016 = MonthlySnowCoverPercent(wy2016_sf, july_leapyear_start_index, july_leapyear_end_index)\n",
    "august_scp_wy2016 = MonthlySnowCoverPercent(wy2016_sf, august_leapyear_start_index, august_leapyear_end_index)\n",
    "september_scp_wy2016 = MonthlySnowCoverPercent(wy2016_sf, september_leapyear_start_index, september_leapyear_end_index)\n",
    "october_scp_wy2016 = MonthlySnowCoverPercent(wy2016_sf, october_start_index, october_end_index)\n",
    "november_scp_wy2016 = MonthlySnowCoverPercent(wy2016_sf, november_start_index, november_end_index)\n",
    "december_scp_wy2016 = MonthlySnowCoverPercent(wy2016_sf, december_start_index, december_end_index)\n",
    "\n",
    "# wy2016_monthly_mean_scp_stack = array([january_scp_wy2016, february_scp_wy2016, march_scp_wy2016, april_scp_wy2016,\n",
    "#                                       may_scp_wy2016, june_scp_wy2016, july_scp_wy2016, august_scp_wy2016, \n",
    "#                                        september_scp_wy2016, october_scp_wy2016, november_scp_wy2016, december_scp_wy2016])\n",
    "\n",
    "# wy2016_monthly_mean_scp_stack[wy2016_monthly_mean_scp_stack == 0] = np.nan\n",
    "\n",
    "# CreateGeoTiffStack('stacked_tiffs/wy2016_monthly_mean_scp_stack.tif', wy2016_monthly_mean_scp_stack, ReferencingMatrix, Projection)"
   ]
  },
  {
   "cell_type": "code",
   "execution_count": 44,
   "id": "cd9e42d9-3776-4167-9583-34269d49ecdd",
   "metadata": {},
   "outputs": [],
   "source": [
    "warnings.filterwarnings('ignore')\n",
    "\n",
    "# wy2017\n",
    "january_scp_wy2017 = MonthlySnowCoverPercent(wy2017_sf, january_start_index, january_end_index)\n",
    "february_scp_wy2017 = MonthlySnowCoverPercent(wy2017_sf, february_start_index, february_end_index)\n",
    "march_scp_wy2017 = MonthlySnowCoverPercent(wy2017_sf, march_start_index, march_end_index)\n",
    "april_scp_wy2017 = MonthlySnowCoverPercent(wy2017_sf, april_start_index, april_end_index)\n",
    "may_scp_wy2017 = MonthlySnowCoverPercent(wy2017_sf, may_start_index, may_end_index)\n",
    "june_scp_wy2017 = MonthlySnowCoverPercent(wy2017_sf, june_start_index, june_end_index)\n",
    "july_scp_wy2017 = MonthlySnowCoverPercent(wy2017_sf, july_start_index, july_end_index)\n",
    "august_scp_wy2017 = MonthlySnowCoverPercent(wy2017_sf, august_start_index, august_end_index)\n",
    "september_scp_wy2017 = MonthlySnowCoverPercent(wy2017_sf, september_start_index, september_end_index)\n",
    "october_scp_wy2017 = MonthlySnowCoverPercent(wy2017_sf, october_start_index, october_end_index)\n",
    "november_scp_wy2017 = MonthlySnowCoverPercent(wy2017_sf, november_start_index, november_end_index)\n",
    "december_scp_wy2017 = MonthlySnowCoverPercent(wy2017_sf, december_start_index, december_end_index)\n",
    "\n",
    "# wy2017_monthly_mean_scp_stack = array([january_scp_wy2017, february_scp_wy2017, march_scp_wy2017, april_scp_wy2017,\n",
    "#                                       may_scp_wy2017, june_scp_wy2017, july_scp_wy2017, august_scp_wy2017, \n",
    "#                                        september_scp_wy2017, october_scp_wy2017, november_scp_wy2017, december_scp_wy2017])\n",
    "\n",
    "# wy2017_monthly_mean_scp_stack[wy2017_monthly_mean_scp_stack == 0] = np.nan\n",
    "\n",
    "# CreateGeoTiffStack('stacked_tiffs/wy2017_monthly_mean_scp_stack.tif', wy2017_monthly_mean_scp_stack, ReferencingMatrix, Projection)"
   ]
  },
  {
   "cell_type": "code",
   "execution_count": 45,
   "id": "cf31caf7-1d26-40ec-9c3b-8e46e78ec241",
   "metadata": {},
   "outputs": [],
   "source": [
    "warnings.filterwarnings('ignore')\n",
    "\n",
    "# wy2018\n",
    "january_scp_wy2018 = MonthlySnowCoverPercent(wy2018_sf, january_start_index, january_end_index)\n",
    "february_scp_wy2018 = MonthlySnowCoverPercent(wy2018_sf, february_start_index, february_end_index)\n",
    "march_scp_wy2018 = MonthlySnowCoverPercent(wy2018_sf, march_start_index, march_end_index)\n",
    "april_scp_wy2018 = MonthlySnowCoverPercent(wy2018_sf, april_start_index, april_end_index)\n",
    "may_scp_wy2018 = MonthlySnowCoverPercent(wy2018_sf, may_start_index, may_end_index)\n",
    "june_scp_wy2018 = MonthlySnowCoverPercent(wy2018_sf, june_start_index, june_end_index)\n",
    "july_scp_wy2018 = MonthlySnowCoverPercent(wy2018_sf, july_start_index, july_end_index)\n",
    "august_scp_wy2018 = MonthlySnowCoverPercent(wy2018_sf, august_start_index, august_end_index)\n",
    "september_scp_wy2018 = MonthlySnowCoverPercent(wy2018_sf, september_start_index, september_end_index)\n",
    "october_scp_wy2018 = MonthlySnowCoverPercent(wy2018_sf, october_start_index, october_end_index)\n",
    "november_scp_wy2018 = MonthlySnowCoverPercent(wy2018_sf, november_start_index, november_end_index)\n",
    "december_scp_wy2018 = MonthlySnowCoverPercent(wy2018_sf, december_start_index, december_end_index)\n",
    "\n",
    "# wy2018_monthly_mean_scp_stack = array([january_scp_wy2018, february_scp_wy2018, march_scp_wy2018, april_scp_wy2018,\n",
    "#                                       may_scp_wy2018, june_scp_wy2018, july_scp_wy2018, august_scp_wy2018, \n",
    "#                                        september_scp_wy2018, october_scp_wy2018, november_scp_wy2018, december_scp_wy2018])\n",
    "\n",
    "# wy2018_monthly_mean_scp_stack[wy2018_monthly_mean_scp_stack == 0] = np.nan\n",
    "\n",
    "# CreateGeoTiffStack('stacked_tiffs/wy2018_monthly_mean_scp_stack.tif', wy2018_monthly_mean_scp_stack, ReferencingMatrix, Projection)"
   ]
  },
  {
   "cell_type": "code",
   "execution_count": 46,
   "id": "9a401240-9374-4c32-9647-b4f68c380700",
   "metadata": {},
   "outputs": [],
   "source": [
    "warnings.filterwarnings('ignore')\n",
    "\n",
    "# wy2019\n",
    "january_scp_wy2019 = MonthlySnowCoverPercent(wy2019_sf, january_start_index, january_end_index)\n",
    "february_scp_wy2019 = MonthlySnowCoverPercent(wy2019_sf, february_start_index, february_end_index)\n",
    "march_scp_wy2019 = MonthlySnowCoverPercent(wy2019_sf, march_start_index, march_end_index)\n",
    "april_scp_wy2019 = MonthlySnowCoverPercent(wy2019_sf, april_start_index, april_end_index)\n",
    "may_scp_wy2019 = MonthlySnowCoverPercent(wy2019_sf, may_start_index, may_end_index)\n",
    "june_scp_wy2019 = MonthlySnowCoverPercent(wy2019_sf, june_start_index, june_end_index)\n",
    "july_scp_wy2019 = MonthlySnowCoverPercent(wy2019_sf, july_start_index, july_end_index)\n",
    "august_scp_wy2019 = MonthlySnowCoverPercent(wy2019_sf, august_start_index, august_end_index)\n",
    "september_scp_wy2019 = MonthlySnowCoverPercent(wy2019_sf, september_start_index, september_end_index)\n",
    "october_scp_wy2019 = MonthlySnowCoverPercent(wy2019_sf, october_start_index, october_end_index)\n",
    "november_scp_wy2019 = MonthlySnowCoverPercent(wy2019_sf, november_start_index, november_end_index)\n",
    "december_scp_wy2019 = MonthlySnowCoverPercent(wy2019_sf, december_start_index, december_end_index)\n",
    "\n",
    "# wy2019_monthly_mean_scp_stack = array([january_scp_wy2019, february_scp_wy2019, march_scp_wy2019, april_scp_wy2019,\n",
    "#                                       may_scp_wy2019, june_scp_wy2019, july_scp_wy2019, august_scp_wy2019, \n",
    "#                                        september_scp_wy2019, october_scp_wy2019, november_scp_wy2019, december_scp_wy2019])\n",
    "\n",
    "# wy2019_monthly_mean_scp_stack[wy2019_monthly_mean_scp_stack == 0] = np.nan\n",
    "\n",
    "# CreateGeoTiffStack('stacked_tiffs/wy2019_monthly_mean_scp_stack.tif', wy2019_monthly_mean_scp_stack, ReferencingMatrix, Projection)"
   ]
  },
  {
   "cell_type": "code",
   "execution_count": 161,
   "id": "72f64659-4087-4f27-a1e8-6fd0bcfbf30e",
   "metadata": {},
   "outputs": [
    {
     "data": {
      "text/plain": [
       "'stacked_tiffs/january_mean_scp_stack.tif'"
      ]
     },
     "execution_count": 161,
     "metadata": {},
     "output_type": "execute_result"
    }
   ],
   "source": [
    "january_mean_scp = (january_scp_wy2001 + january_scp_wy2002 + january_scp_wy2003 + january_scp_wy2004 + january_scp_wy2005 + \n",
    "                    january_scp_wy2006 + january_scp_wy2007 + january_scp_wy2008 + january_scp_wy2009 + january_scp_wy2010 + \n",
    "                    january_scp_wy2011 + january_scp_wy2012 + january_scp_wy2013 + january_scp_wy2014 + january_scp_wy2015 + \n",
    "                    january_scp_wy2016 + january_scp_wy2017 + january_scp_wy2018 + january_scp_wy2019) / 19\n",
    "\n",
    "january_mean_scp_stack = array([january_scp_wy2001, january_scp_wy2002, january_scp_wy2003, january_scp_wy2004, january_scp_wy2005, \n",
    "                                january_scp_wy2006, january_scp_wy2007, january_scp_wy2008, january_scp_wy2009, january_scp_wy2010, \n",
    "                                january_scp_wy2011, january_scp_wy2012, january_scp_wy2013, january_scp_wy2014, january_scp_wy2015, \n",
    "                                january_scp_wy2016, january_scp_wy2017, january_scp_wy2018, january_scp_wy2019, january_mean_scp])\n",
    "\n",
    "january_mean_scp_stack[january_mean_scp_stack == 0] = np.nan\n",
    "\n",
    "CreateGeoTiffStack('stacked_tiffs/january_mean_scp_stack.tif', january_mean_scp_stack, ReferencingMatrix, Projection)"
   ]
  },
  {
   "cell_type": "code",
   "execution_count": 162,
   "id": "40b7e2d3-16bf-43b9-83ec-571b8b232cdc",
   "metadata": {},
   "outputs": [
    {
     "data": {
      "text/plain": [
       "'stacked_tiffs/february_mean_scp_stack.tif'"
      ]
     },
     "execution_count": 162,
     "metadata": {},
     "output_type": "execute_result"
    }
   ],
   "source": [
    "february_mean_scp = (february_scp_wy2001 + february_scp_wy2002 + february_scp_wy2003 + february_scp_wy2004 + february_scp_wy2005 + \n",
    "                    february_scp_wy2006 + february_scp_wy2007 + february_scp_wy2008 + february_scp_wy2009 + february_scp_wy2010 + \n",
    "                    february_scp_wy2011 + february_scp_wy2012 + february_scp_wy2013 + february_scp_wy2014 + february_scp_wy2015 + \n",
    "                    february_scp_wy2016 + february_scp_wy2017 + february_scp_wy2018 + february_scp_wy2019) / 19 \n",
    "\n",
    "february_mean_scp_stack = array([february_scp_wy2001, february_scp_wy2002, february_scp_wy2003, february_scp_wy2004, february_scp_wy2005, \n",
    "                                february_scp_wy2006, february_scp_wy2007, february_scp_wy2008, february_scp_wy2009, february_scp_wy2010, \n",
    "                                february_scp_wy2011, february_scp_wy2012, february_scp_wy2013, february_scp_wy2014, february_scp_wy2015, \n",
    "                                february_scp_wy2016, february_scp_wy2017, february_scp_wy2018, february_scp_wy2019, february_mean_scp])\n",
    "\n",
    "february_mean_scp_stack[february_mean_scp_stack == 0] = np.nan\n",
    "\n",
    "CreateGeoTiffStack('stacked_tiffs/february_mean_scp_stack.tif', february_mean_scp_stack, ReferencingMatrix, Projection)"
   ]
  },
  {
   "cell_type": "code",
   "execution_count": 49,
   "id": "305dae6c-9d85-4763-9e36-8c4c4ea15067",
   "metadata": {},
   "outputs": [
    {
     "data": {
      "text/plain": [
       "'stacked_tiffs/march_mean_scp_stack.tif'"
      ]
     },
     "execution_count": 49,
     "metadata": {},
     "output_type": "execute_result"
    }
   ],
   "source": [
    "march_mean_scp = (march_scp_wy2001 + march_scp_wy2002 + march_scp_wy2003 + march_scp_wy2004 + march_scp_wy2005 + \n",
    "                    march_scp_wy2006 + march_scp_wy2007 + march_scp_wy2008 + march_scp_wy2009 + march_scp_wy2010 + \n",
    "                    march_scp_wy2011 + march_scp_wy2012 + march_scp_wy2013 + march_scp_wy2014 + march_scp_wy2015 + \n",
    "                    march_scp_wy2016 + march_scp_wy2017 + march_scp_wy2018 + march_scp_wy2019) / 19 \n",
    "\n",
    "march_mean_scp_stack = array([march_scp_wy2001, march_scp_wy2002, march_scp_wy2003, march_scp_wy2004, march_scp_wy2005, \n",
    "                                march_scp_wy2006, march_scp_wy2007, march_scp_wy2008, march_scp_wy2009, march_scp_wy2010, \n",
    "                                march_scp_wy2011, march_scp_wy2012, march_scp_wy2013, march_scp_wy2014, march_scp_wy2015, \n",
    "                                march_scp_wy2016, march_scp_wy2017, march_scp_wy2018, march_scp_wy2019, march_mean_scp])\n",
    "\n",
    "march_mean_scp_stack[march_mean_scp_stack == 0] = np.nan\n",
    "\n",
    "CreateGeoTiffStack('stacked_tiffs/march_mean_scp_stack.tif', march_mean_scp_stack, ReferencingMatrix, Projection)"
   ]
  },
  {
   "cell_type": "code",
   "execution_count": 50,
   "id": "5516ff10-6fd0-47a7-aa7b-891b8715b2a9",
   "metadata": {},
   "outputs": [
    {
     "data": {
      "text/plain": [
       "'stacked_tiffs/april_mean_scp_stack.tif'"
      ]
     },
     "execution_count": 50,
     "metadata": {},
     "output_type": "execute_result"
    }
   ],
   "source": [
    "april_mean_scp = (april_scp_wy2001 + april_scp_wy2002 + april_scp_wy2003 + april_scp_wy2004 + april_scp_wy2005 + \n",
    "                    april_scp_wy2006 + april_scp_wy2007 + april_scp_wy2008 + april_scp_wy2009 + april_scp_wy2010 + \n",
    "                    april_scp_wy2011 + april_scp_wy2012 + april_scp_wy2013 + april_scp_wy2014 + april_scp_wy2015 + \n",
    "                    april_scp_wy2016 + april_scp_wy2017 + april_scp_wy2018 + april_scp_wy2019) / 19 \n",
    "\n",
    "april_mean_scp_stack = array([april_scp_wy2001, april_scp_wy2002, april_scp_wy2003, april_scp_wy2004, april_scp_wy2005, \n",
    "                                april_scp_wy2006, april_scp_wy2007, april_scp_wy2008, april_scp_wy2009, april_scp_wy2010, \n",
    "                                april_scp_wy2011, april_scp_wy2012, april_scp_wy2013, april_scp_wy2014, april_scp_wy2015, \n",
    "                                april_scp_wy2016, april_scp_wy2017, april_scp_wy2018, april_scp_wy2019, april_mean_scp])\n",
    "\n",
    "april_mean_scp_stack[april_mean_scp_stack == 0] = np.nan\n",
    "\n",
    "CreateGeoTiffStack('stacked_tiffs/april_mean_scp_stack.tif', april_mean_scp_stack, ReferencingMatrix, Projection)"
   ]
  },
  {
   "cell_type": "code",
   "execution_count": 51,
   "id": "08a9aca0-efe4-4e41-8178-25a9c00092eb",
   "metadata": {},
   "outputs": [
    {
     "data": {
      "text/plain": [
       "'stacked_tiffs/may_mean_scp_stack.tif'"
      ]
     },
     "execution_count": 51,
     "metadata": {},
     "output_type": "execute_result"
    }
   ],
   "source": [
    "may_mean_scp = (may_scp_wy2001 + may_scp_wy2002 + may_scp_wy2003 + may_scp_wy2004 + may_scp_wy2005 + \n",
    "                    may_scp_wy2006 + may_scp_wy2007 + may_scp_wy2008 + may_scp_wy2009 + may_scp_wy2010 + \n",
    "                    may_scp_wy2011 + may_scp_wy2012 + may_scp_wy2013 + may_scp_wy2014 + may_scp_wy2015 + \n",
    "                    may_scp_wy2016 + may_scp_wy2017 + may_scp_wy2018 + may_scp_wy2019) / 19 \n",
    "\n",
    "may_mean_scp_stack = array([may_scp_wy2001, may_scp_wy2002, may_scp_wy2003, may_scp_wy2004, may_scp_wy2005, \n",
    "                                may_scp_wy2006, may_scp_wy2007, may_scp_wy2008, may_scp_wy2009, may_scp_wy2010, \n",
    "                                may_scp_wy2011, may_scp_wy2012, may_scp_wy2013, may_scp_wy2014, may_scp_wy2015, \n",
    "                                may_scp_wy2016, may_scp_wy2017, may_scp_wy2018, may_scp_wy2019, may_mean_scp])\n",
    "\n",
    "may_mean_scp_stack[may_mean_scp_stack == 0] = np.nan\n",
    "\n",
    "CreateGeoTiffStack('stacked_tiffs/may_mean_scp_stack.tif', may_mean_scp_stack, ReferencingMatrix, Projection)"
   ]
  },
  {
   "cell_type": "code",
   "execution_count": 52,
   "id": "f9e58728-324a-4d00-8bba-d4b2bd7259c7",
   "metadata": {},
   "outputs": [
    {
     "data": {
      "text/plain": [
       "'stacked_tiffs/june_mean_scp_stack.tif'"
      ]
     },
     "execution_count": 52,
     "metadata": {},
     "output_type": "execute_result"
    }
   ],
   "source": [
    "june_mean_scp = (june_scp_wy2001 + june_scp_wy2002 + june_scp_wy2003 + june_scp_wy2004 + june_scp_wy2005 + \n",
    "                    june_scp_wy2006 + june_scp_wy2007 + june_scp_wy2008 + june_scp_wy2009 + june_scp_wy2010 + \n",
    "                    june_scp_wy2011 + june_scp_wy2012 + june_scp_wy2013 + june_scp_wy2014 + june_scp_wy2015 + \n",
    "                    june_scp_wy2016 + june_scp_wy2017 + june_scp_wy2018 + june_scp_wy2019) / 19 \n",
    "\n",
    "june_mean_scp_stack = array([june_scp_wy2001, june_scp_wy2002, june_scp_wy2003, june_scp_wy2004, june_scp_wy2005, \n",
    "                                june_scp_wy2006, june_scp_wy2007, june_scp_wy2008, june_scp_wy2009, june_scp_wy2010, \n",
    "                                june_scp_wy2011, june_scp_wy2012, june_scp_wy2013, june_scp_wy2014, june_scp_wy2015, \n",
    "                                june_scp_wy2016, june_scp_wy2017, june_scp_wy2018, june_scp_wy2019, june_mean_scp])\n",
    "\n",
    "june_mean_scp_stack[june_mean_scp_stack == 0] = np.nan\n",
    "\n",
    "CreateGeoTiffStack('stacked_tiffs/june_mean_scp_stack.tif', june_mean_scp_stack, ReferencingMatrix, Projection)"
   ]
  },
  {
   "cell_type": "code",
   "execution_count": 53,
   "id": "ad784304-2da0-4bb0-ab19-bb487ff7dc8b",
   "metadata": {},
   "outputs": [
    {
     "data": {
      "text/plain": [
       "'stacked_tiffs/july_mean_scp_stack.tif'"
      ]
     },
     "execution_count": 53,
     "metadata": {},
     "output_type": "execute_result"
    }
   ],
   "source": [
    "july_mean_scp = (july_scp_wy2001 + july_scp_wy2002 + july_scp_wy2003 + july_scp_wy2004 + july_scp_wy2005 + \n",
    "                    july_scp_wy2006 + july_scp_wy2007 + july_scp_wy2008 + july_scp_wy2009 + july_scp_wy2010 + \n",
    "                    july_scp_wy2011 + july_scp_wy2012 + july_scp_wy2013 + july_scp_wy2014 + july_scp_wy2015 + \n",
    "                    july_scp_wy2016 + july_scp_wy2017 + july_scp_wy2018 + july_scp_wy2019) / 19 \n",
    "\n",
    "july_mean_scp_stack = array([july_scp_wy2001, july_scp_wy2002, july_scp_wy2003, july_scp_wy2004, july_scp_wy2005, \n",
    "                                july_scp_wy2006, july_scp_wy2007, july_scp_wy2008, july_scp_wy2009, july_scp_wy2010, \n",
    "                                july_scp_wy2011, july_scp_wy2012, july_scp_wy2013, july_scp_wy2014, july_scp_wy2015, \n",
    "                                july_scp_wy2016, july_scp_wy2017, july_scp_wy2018, july_scp_wy2019, july_mean_scp])\n",
    "\n",
    "july_mean_scp_stack[july_mean_scp_stack == 0] = np.nan\n",
    "\n",
    "CreateGeoTiffStack('stacked_tiffs/july_mean_scp_stack.tif', july_mean_scp_stack, ReferencingMatrix, Projection)"
   ]
  },
  {
   "cell_type": "code",
   "execution_count": 54,
   "id": "74238c40-2b29-4bf2-932c-a900d3a4a2fc",
   "metadata": {},
   "outputs": [
    {
     "data": {
      "text/plain": [
       "'stacked_tiffs/august_mean_scp_stack.tif'"
      ]
     },
     "execution_count": 54,
     "metadata": {},
     "output_type": "execute_result"
    }
   ],
   "source": [
    "august_mean_scp = (august_scp_wy2001 + august_scp_wy2002 + august_scp_wy2003 + august_scp_wy2004 + august_scp_wy2005 + \n",
    "                    august_scp_wy2006 + august_scp_wy2007 + august_scp_wy2008 + august_scp_wy2009 + august_scp_wy2010 + \n",
    "                    august_scp_wy2011 + august_scp_wy2012 + august_scp_wy2013 + august_scp_wy2014 + august_scp_wy2015 + \n",
    "                    august_scp_wy2016 + august_scp_wy2017 + august_scp_wy2018 + august_scp_wy2019) / 19 \n",
    "\n",
    "august_mean_scp_stack = array([august_scp_wy2001, august_scp_wy2002, august_scp_wy2003, august_scp_wy2004, august_scp_wy2005, \n",
    "                                august_scp_wy2006, august_scp_wy2007, august_scp_wy2008, august_scp_wy2009, august_scp_wy2010, \n",
    "                                august_scp_wy2011, august_scp_wy2012, august_scp_wy2013, august_scp_wy2014, august_scp_wy2015, \n",
    "                                august_scp_wy2016, august_scp_wy2017, august_scp_wy2018, august_scp_wy2019, august_mean_scp])\n",
    "\n",
    "august_mean_scp_stack[august_mean_scp_stack == 0] = np.nan\n",
    "\n",
    "CreateGeoTiffStack('stacked_tiffs/august_mean_scp_stack.tif', august_mean_scp_stack, ReferencingMatrix, Projection)"
   ]
  },
  {
   "cell_type": "code",
   "execution_count": 55,
   "id": "8d56c219-6a4a-4dc9-a930-2e2f44539fb5",
   "metadata": {},
   "outputs": [
    {
     "data": {
      "text/plain": [
       "'stacked_tiffs/september_mean_scp_stack.tif'"
      ]
     },
     "execution_count": 55,
     "metadata": {},
     "output_type": "execute_result"
    }
   ],
   "source": [
    "september_mean_scp = (september_scp_wy2001 + september_scp_wy2002 + september_scp_wy2003 + september_scp_wy2004 + september_scp_wy2005 + \n",
    "                    september_scp_wy2006 + september_scp_wy2007 + september_scp_wy2008 + september_scp_wy2009 + september_scp_wy2010 + \n",
    "                    september_scp_wy2011 + september_scp_wy2012 + september_scp_wy2013 + september_scp_wy2014 + september_scp_wy2015 + \n",
    "                    september_scp_wy2016 + september_scp_wy2017 + september_scp_wy2018 + september_scp_wy2019) / 19 \n",
    "\n",
    "september_mean_scp_stack = array([september_scp_wy2001, september_scp_wy2002, september_scp_wy2003, september_scp_wy2004, september_scp_wy2005, \n",
    "                                september_scp_wy2006, september_scp_wy2007, september_scp_wy2008, september_scp_wy2009, september_scp_wy2010, \n",
    "                                september_scp_wy2011, september_scp_wy2012, september_scp_wy2013, september_scp_wy2014, september_scp_wy2015, \n",
    "                                september_scp_wy2016, september_scp_wy2017, september_scp_wy2018, september_scp_wy2019, september_mean_scp])\n",
    "\n",
    "september_mean_scp_stack[september_mean_scp_stack == 0] = np.nan\n",
    "\n",
    "CreateGeoTiffStack('stacked_tiffs/september_mean_scp_stack.tif', september_mean_scp_stack, ReferencingMatrix, Projection)"
   ]
  },
  {
   "cell_type": "code",
   "execution_count": 56,
   "id": "40cf4daf-30f3-483c-85d4-972b461e59e5",
   "metadata": {},
   "outputs": [
    {
     "data": {
      "text/plain": [
       "'stacked_tiffs/october_mean_scp_stack.tif'"
      ]
     },
     "execution_count": 56,
     "metadata": {},
     "output_type": "execute_result"
    }
   ],
   "source": [
    "october_mean_scp = (october_scp_wy2001 + october_scp_wy2002 + october_scp_wy2003 + october_scp_wy2004 + october_scp_wy2005 + \n",
    "                    october_scp_wy2006 + october_scp_wy2007 + october_scp_wy2008 + october_scp_wy2009 + october_scp_wy2010 + \n",
    "                    october_scp_wy2011 + october_scp_wy2012 + october_scp_wy2013 + october_scp_wy2014 + october_scp_wy2015 + \n",
    "                    october_scp_wy2016 + october_scp_wy2017 + october_scp_wy2018 + october_scp_wy2019) / 19 \n",
    "\n",
    "october_mean_scp_stack = array([october_scp_wy2001, october_scp_wy2002, october_scp_wy2003, october_scp_wy2004, october_scp_wy2005, \n",
    "                                october_scp_wy2006, october_scp_wy2007, october_scp_wy2008, october_scp_wy2009, october_scp_wy2010, \n",
    "                                october_scp_wy2011, october_scp_wy2012, october_scp_wy2013, october_scp_wy2014, october_scp_wy2015, \n",
    "                                october_scp_wy2016, october_scp_wy2017, october_scp_wy2018, october_scp_wy2019, october_mean_scp])\n",
    "\n",
    "october_mean_scp_stack[october_mean_scp_stack == 0] = np.nan\n",
    "\n",
    "CreateGeoTiffStack('stacked_tiffs/october_mean_scp_stack.tif', october_mean_scp_stack, ReferencingMatrix, Projection)"
   ]
  },
  {
   "cell_type": "code",
   "execution_count": 57,
   "id": "f6222544-49c5-4971-bef7-3a50dc451f97",
   "metadata": {},
   "outputs": [
    {
     "data": {
      "text/plain": [
       "'stacked_tiffs/november_mean_scp_stack.tif'"
      ]
     },
     "execution_count": 57,
     "metadata": {},
     "output_type": "execute_result"
    }
   ],
   "source": [
    "november_mean_scp = (november_scp_wy2001 + november_scp_wy2002 + november_scp_wy2003 + november_scp_wy2004 + november_scp_wy2005 + \n",
    "                    november_scp_wy2006 + november_scp_wy2007 + november_scp_wy2008 + november_scp_wy2009 + november_scp_wy2010 + \n",
    "                    november_scp_wy2011 + november_scp_wy2012 + november_scp_wy2013 + november_scp_wy2014 + november_scp_wy2015 + \n",
    "                    november_scp_wy2016 + november_scp_wy2017 + november_scp_wy2018 + november_scp_wy2019) / 19 \n",
    "\n",
    "november_mean_scp_stack = array([november_scp_wy2001, november_scp_wy2002, november_scp_wy2003, november_scp_wy2004, november_scp_wy2005, \n",
    "                                november_scp_wy2006, november_scp_wy2007, november_scp_wy2008, november_scp_wy2009, november_scp_wy2010, \n",
    "                                november_scp_wy2011, november_scp_wy2012, november_scp_wy2013, november_scp_wy2014, november_scp_wy2015, \n",
    "                                november_scp_wy2016, november_scp_wy2017, november_scp_wy2018, november_scp_wy2019, november_mean_scp])\n",
    "\n",
    "november_mean_scp_stack[november_mean_scp_stack == 0] = np.nan\n",
    "\n",
    "CreateGeoTiffStack('stacked_tiffs/november_mean_scp_stack.tif', november_mean_scp_stack, ReferencingMatrix, Projection)"
   ]
  },
  {
   "cell_type": "code",
   "execution_count": 58,
   "id": "d8e0543b-485c-4ff8-b61f-38e185fa3745",
   "metadata": {},
   "outputs": [
    {
     "data": {
      "text/plain": [
       "'stacked_tiffs/december_mean_scp_stack.tif'"
      ]
     },
     "execution_count": 58,
     "metadata": {},
     "output_type": "execute_result"
    }
   ],
   "source": [
    "december_mean_scp = (december_scp_wy2001 + december_scp_wy2002 + december_scp_wy2003 + december_scp_wy2004 + december_scp_wy2005 + \n",
    "                    december_scp_wy2006 + december_scp_wy2007 + december_scp_wy2008 + december_scp_wy2009 + december_scp_wy2010 + \n",
    "                    december_scp_wy2011 + december_scp_wy2012 + december_scp_wy2013 + december_scp_wy2014 + december_scp_wy2015 + \n",
    "                    december_scp_wy2016 + december_scp_wy2017 + december_scp_wy2018 + december_scp_wy2019) / 19 \n",
    "\n",
    "december_mean_scp_stack = array([december_scp_wy2001, december_scp_wy2002, december_scp_wy2003, december_scp_wy2004, december_scp_wy2005, \n",
    "                                december_scp_wy2006, december_scp_wy2007, december_scp_wy2008, december_scp_wy2009, december_scp_wy2010, \n",
    "                                december_scp_wy2011, december_scp_wy2012, december_scp_wy2013, december_scp_wy2014, december_scp_wy2015, \n",
    "                                december_scp_wy2016, december_scp_wy2017, december_scp_wy2018, december_scp_wy2019, december_mean_scp])\n",
    "\n",
    "december_mean_scp_stack[december_mean_scp_stack == 0] = np.nan\n",
    "\n",
    "CreateGeoTiffStack('stacked_tiffs/december_mean_scp_stack.tif', december_mean_scp_stack, ReferencingMatrix, Projection)"
   ]
  },
  {
   "cell_type": "markdown",
   "id": "bdafcea3-f0c9-4de0-abbf-ba793a858cc0",
   "metadata": {},
   "source": [
    "### Anomaly"
   ]
  },
  {
   "cell_type": "code",
   "execution_count": 59,
   "id": "a148d101-47fa-46de-bae7-055f0649a778",
   "metadata": {},
   "outputs": [
    {
     "data": {
      "text/plain": [
       "'stacked_tiffs/january_scp_anomaly_stack.tif'"
      ]
     },
     "execution_count": 59,
     "metadata": {},
     "output_type": "execute_result"
    }
   ],
   "source": [
    "# january snow cover percent anomaly\n",
    "wy2001_january_scp_anomaly = january_scp_wy2001 - january_mean_scp\n",
    "wy2002_january_scp_anomaly = january_scp_wy2002 - january_mean_scp\n",
    "wy2003_january_scp_anomaly = january_scp_wy2003 - january_mean_scp\n",
    "wy2004_january_scp_anomaly = january_scp_wy2004 - january_mean_scp\n",
    "wy2005_january_scp_anomaly = january_scp_wy2005 - january_mean_scp\n",
    "wy2006_january_scp_anomaly = january_scp_wy2006 - january_mean_scp\n",
    "wy2007_january_scp_anomaly = january_scp_wy2007 - january_mean_scp\n",
    "wy2008_january_scp_anomaly = january_scp_wy2008 - january_mean_scp\n",
    "wy2009_january_scp_anomaly = january_scp_wy2009 - january_mean_scp\n",
    "wy2010_january_scp_anomaly = january_scp_wy2010 - january_mean_scp\n",
    "wy2011_january_scp_anomaly = january_scp_wy2011 - january_mean_scp\n",
    "wy2012_january_scp_anomaly = january_scp_wy2012 - january_mean_scp\n",
    "wy2013_january_scp_anomaly = january_scp_wy2013 - january_mean_scp\n",
    "wy2014_january_scp_anomaly = january_scp_wy2014 - january_mean_scp\n",
    "wy2015_january_scp_anomaly = january_scp_wy2015 - january_mean_scp\n",
    "wy2016_january_scp_anomaly = january_scp_wy2016 - january_mean_scp\n",
    "wy2017_january_scp_anomaly = january_scp_wy2017 - january_mean_scp\n",
    "wy2018_january_scp_anomaly = january_scp_wy2018 - january_mean_scp\n",
    "wy2019_january_scp_anomaly = january_scp_wy2019 - january_mean_scp\n",
    "\n",
    "january_scp_anomaly_stack = array([wy2001_january_scp_anomaly, wy2002_january_scp_anomaly, wy2003_january_scp_anomaly, wy2004_january_scp_anomaly, wy2005_january_scp_anomaly,\n",
    "                                   wy2006_january_scp_anomaly, wy2007_january_scp_anomaly, wy2008_january_scp_anomaly, wy2009_january_scp_anomaly, wy2010_january_scp_anomaly, \n",
    "                                   wy2011_january_scp_anomaly, wy2012_january_scp_anomaly, wy2013_january_scp_anomaly, wy2014_january_scp_anomaly, wy2015_january_scp_anomaly,\n",
    "                                   wy2016_january_scp_anomaly, wy2017_january_scp_anomaly, wy2018_january_scp_anomaly, wy2019_january_scp_anomaly, january_mean_scp])\n",
    "\n",
    "january_scp_anomaly_stack[january_scp_anomaly_stack == 0] = np.nan\n",
    "\n",
    "CreateGeoTiffStack('stacked_tiffs/january_scp_anomaly_stack.tif', january_scp_anomaly_stack, ReferencingMatrix, Projection)"
   ]
  },
  {
   "cell_type": "code",
   "execution_count": 257,
   "id": "af855aa8-eeac-4bde-8526-65e24546c5af",
   "metadata": {},
   "outputs": [
    {
     "data": {
      "text/plain": [
       "-91.51782682512734"
      ]
     },
     "execution_count": 257,
     "metadata": {},
     "output_type": "execute_result"
    }
   ],
   "source": [
    "np.nanmin(january_scp_anomaly_stack)"
   ]
  },
  {
   "cell_type": "code",
   "execution_count": 256,
   "id": "0089371d-16da-42c8-8a1b-0a660773c63e",
   "metadata": {},
   "outputs": [
    {
     "data": {
      "text/plain": [
       "99.16977928692701"
      ]
     },
     "execution_count": 256,
     "metadata": {},
     "output_type": "execute_result"
    }
   ],
   "source": [
    "np.nanmax(january_scp_anomaly_stack)"
   ]
  },
  {
   "cell_type": "code",
   "execution_count": 60,
   "id": "b657a289-66f2-4d5a-ac88-7c454c855b9a",
   "metadata": {},
   "outputs": [
    {
     "data": {
      "text/plain": [
       "'stacked_tiffs/february_scp_anomaly_stack.tif'"
      ]
     },
     "execution_count": 60,
     "metadata": {},
     "output_type": "execute_result"
    }
   ],
   "source": [
    "# february snow cover percent anomaly\n",
    "wy2001_february_scp_anomaly = february_scp_wy2001 - february_mean_scp\n",
    "wy2002_february_scp_anomaly = february_scp_wy2002 - february_mean_scp\n",
    "wy2003_february_scp_anomaly = february_scp_wy2003 - february_mean_scp\n",
    "wy2004_february_scp_anomaly = february_scp_wy2004 - february_mean_scp\n",
    "wy2005_february_scp_anomaly = february_scp_wy2005 - february_mean_scp\n",
    "wy2006_february_scp_anomaly = february_scp_wy2006 - february_mean_scp\n",
    "wy2007_february_scp_anomaly = february_scp_wy2007 - february_mean_scp\n",
    "wy2008_february_scp_anomaly = february_scp_wy2008 - february_mean_scp\n",
    "wy2009_february_scp_anomaly = february_scp_wy2009 - february_mean_scp\n",
    "wy2010_february_scp_anomaly = february_scp_wy2010 - february_mean_scp\n",
    "wy2011_february_scp_anomaly = february_scp_wy2011 - february_mean_scp\n",
    "wy2012_february_scp_anomaly = february_scp_wy2012 - february_mean_scp\n",
    "wy2013_february_scp_anomaly = february_scp_wy2013 - february_mean_scp\n",
    "wy2014_february_scp_anomaly = february_scp_wy2014 - february_mean_scp\n",
    "wy2015_february_scp_anomaly = february_scp_wy2015 - february_mean_scp\n",
    "wy2016_february_scp_anomaly = february_scp_wy2016 - february_mean_scp\n",
    "wy2017_february_scp_anomaly = february_scp_wy2017 - february_mean_scp\n",
    "wy2018_february_scp_anomaly = february_scp_wy2018 - february_mean_scp\n",
    "wy2019_february_scp_anomaly = february_scp_wy2019 - february_mean_scp\n",
    "\n",
    "february_scp_anomaly_stack = array([wy2001_february_scp_anomaly, wy2002_february_scp_anomaly, wy2003_february_scp_anomaly, wy2004_february_scp_anomaly, wy2005_february_scp_anomaly,\n",
    "                                   wy2006_february_scp_anomaly, wy2007_february_scp_anomaly, wy2008_february_scp_anomaly, wy2009_february_scp_anomaly, wy2010_february_scp_anomaly, \n",
    "                                   wy2011_february_scp_anomaly, wy2012_february_scp_anomaly, wy2013_february_scp_anomaly, wy2014_february_scp_anomaly, wy2015_february_scp_anomaly,\n",
    "                                   wy2016_february_scp_anomaly, wy2017_february_scp_anomaly, wy2018_february_scp_anomaly, wy2019_february_scp_anomaly, february_mean_scp])\n",
    "\n",
    "february_scp_anomaly_stack[february_scp_anomaly_stack == 0] = np.nan\n",
    "\n",
    "CreateGeoTiffStack('stacked_tiffs/february_scp_anomaly_stack.tif', february_scp_anomaly_stack, ReferencingMatrix, Projection)"
   ]
  },
  {
   "cell_type": "code",
   "execution_count": 61,
   "id": "91781db9-b007-4ced-88df-58b5617e42ec",
   "metadata": {},
   "outputs": [
    {
     "data": {
      "text/plain": [
       "'stacked_tiffs/march_scp_anomaly_stack.tif'"
      ]
     },
     "execution_count": 61,
     "metadata": {},
     "output_type": "execute_result"
    }
   ],
   "source": [
    "# march snow cover percent anomaly\n",
    "wy2001_march_scp_anomaly = march_scp_wy2001 - march_mean_scp\n",
    "wy2002_march_scp_anomaly = march_scp_wy2002 - march_mean_scp\n",
    "wy2003_march_scp_anomaly = march_scp_wy2003 - march_mean_scp\n",
    "wy2004_march_scp_anomaly = march_scp_wy2004 - march_mean_scp\n",
    "wy2005_march_scp_anomaly = march_scp_wy2005 - march_mean_scp\n",
    "wy2006_march_scp_anomaly = march_scp_wy2006 - march_mean_scp\n",
    "wy2007_march_scp_anomaly = march_scp_wy2007 - march_mean_scp\n",
    "wy2008_march_scp_anomaly = march_scp_wy2008 - march_mean_scp\n",
    "wy2009_march_scp_anomaly = march_scp_wy2009 - march_mean_scp\n",
    "wy2010_march_scp_anomaly = march_scp_wy2010 - march_mean_scp\n",
    "wy2011_march_scp_anomaly = march_scp_wy2011 - march_mean_scp\n",
    "wy2012_march_scp_anomaly = march_scp_wy2012 - march_mean_scp\n",
    "wy2013_march_scp_anomaly = march_scp_wy2013 - march_mean_scp\n",
    "wy2014_march_scp_anomaly = march_scp_wy2014 - march_mean_scp\n",
    "wy2015_march_scp_anomaly = march_scp_wy2015 - march_mean_scp\n",
    "wy2016_march_scp_anomaly = march_scp_wy2016 - march_mean_scp\n",
    "wy2017_march_scp_anomaly = march_scp_wy2017 - march_mean_scp\n",
    "wy2018_march_scp_anomaly = march_scp_wy2018 - march_mean_scp\n",
    "wy2019_march_scp_anomaly = march_scp_wy2019 - march_mean_scp\n",
    "\n",
    "march_scp_anomaly_stack = array([wy2001_march_scp_anomaly, wy2002_march_scp_anomaly, wy2003_march_scp_anomaly, wy2004_march_scp_anomaly, wy2005_march_scp_anomaly,\n",
    "                                   wy2006_march_scp_anomaly, wy2007_march_scp_anomaly, wy2008_march_scp_anomaly, wy2009_march_scp_anomaly, wy2010_march_scp_anomaly, \n",
    "                                   wy2011_march_scp_anomaly, wy2012_march_scp_anomaly, wy2013_march_scp_anomaly, wy2014_march_scp_anomaly, wy2015_march_scp_anomaly,\n",
    "                                   wy2016_march_scp_anomaly, wy2017_march_scp_anomaly, wy2018_march_scp_anomaly, wy2019_march_scp_anomaly, march_mean_scp])\n",
    "\n",
    "march_scp_anomaly_stack[march_scp_anomaly_stack == 0] = np.nan\n",
    "\n",
    "CreateGeoTiffStack('stacked_tiffs/march_scp_anomaly_stack.tif', march_scp_anomaly_stack, ReferencingMatrix, Projection)"
   ]
  },
  {
   "cell_type": "code",
   "execution_count": 62,
   "id": "a685fce2-b6ab-4cd8-bef0-7b31bb6ce878",
   "metadata": {},
   "outputs": [
    {
     "data": {
      "text/plain": [
       "'stacked_tiffs/april_scp_anomaly_stack.tif'"
      ]
     },
     "execution_count": 62,
     "metadata": {},
     "output_type": "execute_result"
    }
   ],
   "source": [
    "# april snow cover percent anomaly\n",
    "wy2001_april_scp_anomaly = april_scp_wy2001 - april_mean_scp\n",
    "wy2002_april_scp_anomaly = april_scp_wy2002 - april_mean_scp\n",
    "wy2003_april_scp_anomaly = april_scp_wy2003 - april_mean_scp\n",
    "wy2004_april_scp_anomaly = april_scp_wy2004 - april_mean_scp\n",
    "wy2005_april_scp_anomaly = april_scp_wy2005 - april_mean_scp\n",
    "wy2006_april_scp_anomaly = april_scp_wy2006 - april_mean_scp\n",
    "wy2007_april_scp_anomaly = april_scp_wy2007 - april_mean_scp\n",
    "wy2008_april_scp_anomaly = april_scp_wy2008 - april_mean_scp\n",
    "wy2009_april_scp_anomaly = april_scp_wy2009 - april_mean_scp\n",
    "wy2010_april_scp_anomaly = april_scp_wy2010 - april_mean_scp\n",
    "wy2011_april_scp_anomaly = april_scp_wy2011 - april_mean_scp\n",
    "wy2012_april_scp_anomaly = april_scp_wy2012 - april_mean_scp\n",
    "wy2013_april_scp_anomaly = april_scp_wy2013 - april_mean_scp\n",
    "wy2014_april_scp_anomaly = april_scp_wy2014 - april_mean_scp\n",
    "wy2015_april_scp_anomaly = april_scp_wy2015 - april_mean_scp\n",
    "wy2016_april_scp_anomaly = april_scp_wy2016 - april_mean_scp\n",
    "wy2017_april_scp_anomaly = april_scp_wy2017 - april_mean_scp\n",
    "wy2018_april_scp_anomaly = april_scp_wy2018 - april_mean_scp\n",
    "wy2019_april_scp_anomaly = april_scp_wy2019 - april_mean_scp\n",
    "\n",
    "april_scp_anomaly_stack = array([wy2001_april_scp_anomaly, wy2002_april_scp_anomaly, wy2003_april_scp_anomaly, wy2004_april_scp_anomaly, wy2005_april_scp_anomaly,\n",
    "                                   wy2006_april_scp_anomaly, wy2007_april_scp_anomaly, wy2008_april_scp_anomaly, wy2009_april_scp_anomaly, wy2010_april_scp_anomaly, \n",
    "                                   wy2011_april_scp_anomaly, wy2012_april_scp_anomaly, wy2013_april_scp_anomaly, wy2014_april_scp_anomaly, wy2015_april_scp_anomaly,\n",
    "                                   wy2016_april_scp_anomaly, wy2017_april_scp_anomaly, wy2018_april_scp_anomaly, wy2019_april_scp_anomaly, april_mean_scp])\n",
    "\n",
    "april_scp_anomaly_stack[april_scp_anomaly_stack == 0] = np.nan\n",
    "\n",
    "CreateGeoTiffStack('stacked_tiffs/april_scp_anomaly_stack.tif', april_scp_anomaly_stack, ReferencingMatrix, Projection)"
   ]
  },
  {
   "cell_type": "code",
   "execution_count": 63,
   "id": "c0f4f187-2202-405c-9ec1-3e629e6eeba8",
   "metadata": {},
   "outputs": [
    {
     "data": {
      "text/plain": [
       "'stacked_tiffs/may_scp_anomaly_stack.tif'"
      ]
     },
     "execution_count": 63,
     "metadata": {},
     "output_type": "execute_result"
    }
   ],
   "source": [
    "# may snow cover percent anomaly\n",
    "wy2001_may_scp_anomaly = may_scp_wy2001 - may_mean_scp\n",
    "wy2002_may_scp_anomaly = may_scp_wy2002 - may_mean_scp\n",
    "wy2003_may_scp_anomaly = may_scp_wy2003 - may_mean_scp\n",
    "wy2004_may_scp_anomaly = may_scp_wy2004 - may_mean_scp\n",
    "wy2005_may_scp_anomaly = may_scp_wy2005 - may_mean_scp\n",
    "wy2006_may_scp_anomaly = may_scp_wy2006 - may_mean_scp\n",
    "wy2007_may_scp_anomaly = may_scp_wy2007 - may_mean_scp\n",
    "wy2008_may_scp_anomaly = may_scp_wy2008 - may_mean_scp\n",
    "wy2009_may_scp_anomaly = may_scp_wy2009 - may_mean_scp\n",
    "wy2010_may_scp_anomaly = may_scp_wy2010 - may_mean_scp\n",
    "wy2011_may_scp_anomaly = may_scp_wy2011 - may_mean_scp\n",
    "wy2012_may_scp_anomaly = may_scp_wy2012 - may_mean_scp\n",
    "wy2013_may_scp_anomaly = may_scp_wy2013 - may_mean_scp\n",
    "wy2014_may_scp_anomaly = may_scp_wy2014 - may_mean_scp\n",
    "wy2015_may_scp_anomaly = may_scp_wy2015 - may_mean_scp\n",
    "wy2016_may_scp_anomaly = may_scp_wy2016 - may_mean_scp\n",
    "wy2017_may_scp_anomaly = may_scp_wy2017 - may_mean_scp\n",
    "wy2018_may_scp_anomaly = may_scp_wy2018 - may_mean_scp\n",
    "wy2019_may_scp_anomaly = may_scp_wy2019 - may_mean_scp\n",
    "\n",
    "may_scp_anomaly_stack = array([wy2001_may_scp_anomaly, wy2002_may_scp_anomaly, wy2003_may_scp_anomaly, wy2004_may_scp_anomaly, wy2005_may_scp_anomaly,\n",
    "                                   wy2006_may_scp_anomaly, wy2007_may_scp_anomaly, wy2008_may_scp_anomaly, wy2009_may_scp_anomaly, wy2010_may_scp_anomaly, \n",
    "                                   wy2011_may_scp_anomaly, wy2012_may_scp_anomaly, wy2013_may_scp_anomaly, wy2014_may_scp_anomaly, wy2015_may_scp_anomaly,\n",
    "                                   wy2016_may_scp_anomaly, wy2017_may_scp_anomaly, wy2018_may_scp_anomaly, wy2019_may_scp_anomaly, may_mean_scp])\n",
    "\n",
    "may_scp_anomaly_stack[may_scp_anomaly_stack == 0] = np.nan\n",
    "\n",
    "CreateGeoTiffStack('stacked_tiffs/may_scp_anomaly_stack.tif', may_scp_anomaly_stack, ReferencingMatrix, Projection)"
   ]
  },
  {
   "cell_type": "code",
   "execution_count": 64,
   "id": "d266c6fc-bc68-4e60-a108-a66527aa01e4",
   "metadata": {},
   "outputs": [
    {
     "data": {
      "text/plain": [
       "'stacked_tiffs/june_scp_anomaly_stack.tif'"
      ]
     },
     "execution_count": 64,
     "metadata": {},
     "output_type": "execute_result"
    }
   ],
   "source": [
    "# june snow cover percent anomaly\n",
    "wy2001_june_scp_anomaly = june_scp_wy2001 - june_mean_scp\n",
    "wy2002_june_scp_anomaly = june_scp_wy2002 - june_mean_scp\n",
    "wy2003_june_scp_anomaly = june_scp_wy2003 - june_mean_scp\n",
    "wy2004_june_scp_anomaly = june_scp_wy2004 - june_mean_scp\n",
    "wy2005_june_scp_anomaly = june_scp_wy2005 - june_mean_scp\n",
    "wy2006_june_scp_anomaly = june_scp_wy2006 - june_mean_scp\n",
    "wy2007_june_scp_anomaly = june_scp_wy2007 - june_mean_scp\n",
    "wy2008_june_scp_anomaly = june_scp_wy2008 - june_mean_scp\n",
    "wy2009_june_scp_anomaly = june_scp_wy2009 - june_mean_scp\n",
    "wy2010_june_scp_anomaly = june_scp_wy2010 - june_mean_scp\n",
    "wy2011_june_scp_anomaly = june_scp_wy2011 - june_mean_scp\n",
    "wy2012_june_scp_anomaly = june_scp_wy2012 - june_mean_scp\n",
    "wy2013_june_scp_anomaly = june_scp_wy2013 - june_mean_scp\n",
    "wy2014_june_scp_anomaly = june_scp_wy2014 - june_mean_scp\n",
    "wy2015_june_scp_anomaly = june_scp_wy2015 - june_mean_scp\n",
    "wy2016_june_scp_anomaly = june_scp_wy2016 - june_mean_scp\n",
    "wy2017_june_scp_anomaly = june_scp_wy2017 - june_mean_scp\n",
    "wy2018_june_scp_anomaly = june_scp_wy2018 - june_mean_scp\n",
    "wy2019_june_scp_anomaly = june_scp_wy2019 - june_mean_scp\n",
    "\n",
    "june_scp_anomaly_stack = array([wy2001_june_scp_anomaly, wy2002_june_scp_anomaly, wy2003_june_scp_anomaly, wy2004_june_scp_anomaly, wy2005_june_scp_anomaly,\n",
    "                                   wy2006_june_scp_anomaly, wy2007_june_scp_anomaly, wy2008_june_scp_anomaly, wy2009_june_scp_anomaly, wy2010_june_scp_anomaly, \n",
    "                                   wy2011_june_scp_anomaly, wy2012_june_scp_anomaly, wy2013_june_scp_anomaly, wy2014_june_scp_anomaly, wy2015_june_scp_anomaly,\n",
    "                                   wy2016_june_scp_anomaly, wy2017_june_scp_anomaly, wy2018_june_scp_anomaly, wy2019_june_scp_anomaly, june_mean_scp])\n",
    "\n",
    "june_scp_anomaly_stack[june_scp_anomaly_stack == 0] = np.nan\n",
    "\n",
    "CreateGeoTiffStack('stacked_tiffs/june_scp_anomaly_stack.tif', june_scp_anomaly_stack, ReferencingMatrix, Projection)"
   ]
  },
  {
   "cell_type": "code",
   "execution_count": 65,
   "id": "1beabfe6-c089-4676-8782-080dc749b52f",
   "metadata": {},
   "outputs": [
    {
     "data": {
      "text/plain": [
       "'stacked_tiffs/july_scp_anomaly_stack.tif'"
      ]
     },
     "execution_count": 65,
     "metadata": {},
     "output_type": "execute_result"
    }
   ],
   "source": [
    "# july snow cover percent anomaly\n",
    "wy2001_july_scp_anomaly = july_scp_wy2001 - july_mean_scp\n",
    "wy2002_july_scp_anomaly = july_scp_wy2002 - july_mean_scp\n",
    "wy2003_july_scp_anomaly = july_scp_wy2003 - july_mean_scp\n",
    "wy2004_july_scp_anomaly = july_scp_wy2004 - july_mean_scp\n",
    "wy2005_july_scp_anomaly = july_scp_wy2005 - july_mean_scp\n",
    "wy2006_july_scp_anomaly = july_scp_wy2006 - july_mean_scp\n",
    "wy2007_july_scp_anomaly = july_scp_wy2007 - july_mean_scp\n",
    "wy2008_july_scp_anomaly = july_scp_wy2008 - july_mean_scp\n",
    "wy2009_july_scp_anomaly = july_scp_wy2009 - july_mean_scp\n",
    "wy2010_july_scp_anomaly = july_scp_wy2010 - july_mean_scp\n",
    "wy2011_july_scp_anomaly = july_scp_wy2011 - july_mean_scp\n",
    "wy2012_july_scp_anomaly = july_scp_wy2012 - july_mean_scp\n",
    "wy2013_july_scp_anomaly = july_scp_wy2013 - july_mean_scp\n",
    "wy2014_july_scp_anomaly = july_scp_wy2014 - july_mean_scp\n",
    "wy2015_july_scp_anomaly = july_scp_wy2015 - july_mean_scp\n",
    "wy2016_july_scp_anomaly = july_scp_wy2016 - july_mean_scp\n",
    "wy2017_july_scp_anomaly = july_scp_wy2017 - july_mean_scp\n",
    "wy2018_july_scp_anomaly = july_scp_wy2018 - july_mean_scp\n",
    "wy2019_july_scp_anomaly = july_scp_wy2019 - july_mean_scp\n",
    "\n",
    "july_scp_anomaly_stack = array([wy2001_july_scp_anomaly, wy2002_july_scp_anomaly, wy2003_july_scp_anomaly, wy2004_july_scp_anomaly, wy2005_july_scp_anomaly,\n",
    "                                   wy2006_july_scp_anomaly, wy2007_july_scp_anomaly, wy2008_july_scp_anomaly, wy2009_july_scp_anomaly, wy2010_july_scp_anomaly, \n",
    "                                   wy2011_july_scp_anomaly, wy2012_july_scp_anomaly, wy2013_july_scp_anomaly, wy2014_july_scp_anomaly, wy2015_july_scp_anomaly,\n",
    "                                   wy2016_july_scp_anomaly, wy2017_july_scp_anomaly, wy2018_july_scp_anomaly, wy2019_july_scp_anomaly, july_mean_scp])\n",
    "\n",
    "july_scp_anomaly_stack[july_scp_anomaly_stack == 0] = np.nan\n",
    "\n",
    "CreateGeoTiffStack('stacked_tiffs/july_scp_anomaly_stack.tif', july_scp_anomaly_stack, ReferencingMatrix, Projection)"
   ]
  },
  {
   "cell_type": "code",
   "execution_count": 66,
   "id": "119042fd-9d20-4b82-bb09-ed962cfb8361",
   "metadata": {},
   "outputs": [
    {
     "data": {
      "text/plain": [
       "'stacked_tiffs/august_scp_anomaly_stack.tif'"
      ]
     },
     "execution_count": 66,
     "metadata": {},
     "output_type": "execute_result"
    }
   ],
   "source": [
    "# august snow cover percent anomaly\n",
    "wy2001_august_scp_anomaly = august_scp_wy2001 - august_mean_scp\n",
    "wy2002_august_scp_anomaly = august_scp_wy2002 - august_mean_scp\n",
    "wy2003_august_scp_anomaly = august_scp_wy2003 - august_mean_scp\n",
    "wy2004_august_scp_anomaly = august_scp_wy2004 - august_mean_scp\n",
    "wy2005_august_scp_anomaly = august_scp_wy2005 - august_mean_scp\n",
    "wy2006_august_scp_anomaly = august_scp_wy2006 - august_mean_scp\n",
    "wy2007_august_scp_anomaly = august_scp_wy2007 - august_mean_scp\n",
    "wy2008_august_scp_anomaly = august_scp_wy2008 - august_mean_scp\n",
    "wy2009_august_scp_anomaly = august_scp_wy2009 - august_mean_scp\n",
    "wy2010_august_scp_anomaly = august_scp_wy2010 - august_mean_scp\n",
    "wy2011_august_scp_anomaly = august_scp_wy2011 - august_mean_scp\n",
    "wy2012_august_scp_anomaly = august_scp_wy2012 - august_mean_scp\n",
    "wy2013_august_scp_anomaly = august_scp_wy2013 - august_mean_scp\n",
    "wy2014_august_scp_anomaly = august_scp_wy2014 - august_mean_scp\n",
    "wy2015_august_scp_anomaly = august_scp_wy2015 - august_mean_scp\n",
    "wy2016_august_scp_anomaly = august_scp_wy2016 - august_mean_scp\n",
    "wy2017_august_scp_anomaly = august_scp_wy2017 - august_mean_scp\n",
    "wy2018_august_scp_anomaly = august_scp_wy2018 - august_mean_scp\n",
    "wy2019_august_scp_anomaly = august_scp_wy2019 - august_mean_scp\n",
    "\n",
    "august_scp_anomaly_stack = array([wy2001_august_scp_anomaly, wy2002_august_scp_anomaly, wy2003_august_scp_anomaly, wy2004_august_scp_anomaly, wy2005_august_scp_anomaly,\n",
    "                                   wy2006_august_scp_anomaly, wy2007_august_scp_anomaly, wy2008_august_scp_anomaly, wy2009_august_scp_anomaly, wy2010_august_scp_anomaly, \n",
    "                                   wy2011_august_scp_anomaly, wy2012_august_scp_anomaly, wy2013_august_scp_anomaly, wy2014_august_scp_anomaly, wy2015_august_scp_anomaly,\n",
    "                                   wy2016_august_scp_anomaly, wy2017_august_scp_anomaly, wy2018_august_scp_anomaly, wy2019_august_scp_anomaly, august_mean_scp])\n",
    "\n",
    "august_scp_anomaly_stack[august_scp_anomaly_stack == 0] = np.nan\n",
    "\n",
    "CreateGeoTiffStack('stacked_tiffs/august_scp_anomaly_stack.tif', august_scp_anomaly_stack, ReferencingMatrix, Projection)"
   ]
  },
  {
   "cell_type": "code",
   "execution_count": 67,
   "id": "0339f2e1-ab18-4d41-a5e4-d747cc208d3a",
   "metadata": {},
   "outputs": [
    {
     "data": {
      "text/plain": [
       "'stacked_tiffs/september_scp_anomaly_stack.tif'"
      ]
     },
     "execution_count": 67,
     "metadata": {},
     "output_type": "execute_result"
    }
   ],
   "source": [
    "# september snow cover percent anomaly\n",
    "wy2001_september_scp_anomaly = september_scp_wy2001 - september_mean_scp\n",
    "wy2002_september_scp_anomaly = september_scp_wy2002 - september_mean_scp\n",
    "wy2003_september_scp_anomaly = september_scp_wy2003 - september_mean_scp\n",
    "wy2004_september_scp_anomaly = september_scp_wy2004 - september_mean_scp\n",
    "wy2005_september_scp_anomaly = september_scp_wy2005 - september_mean_scp\n",
    "wy2006_september_scp_anomaly = september_scp_wy2006 - september_mean_scp\n",
    "wy2007_september_scp_anomaly = september_scp_wy2007 - september_mean_scp\n",
    "wy2008_september_scp_anomaly = september_scp_wy2008 - september_mean_scp\n",
    "wy2009_september_scp_anomaly = september_scp_wy2009 - september_mean_scp\n",
    "wy2010_september_scp_anomaly = september_scp_wy2010 - september_mean_scp\n",
    "wy2011_september_scp_anomaly = september_scp_wy2011 - september_mean_scp\n",
    "wy2012_september_scp_anomaly = september_scp_wy2012 - september_mean_scp\n",
    "wy2013_september_scp_anomaly = september_scp_wy2013 - september_mean_scp\n",
    "wy2014_september_scp_anomaly = september_scp_wy2014 - september_mean_scp\n",
    "wy2015_september_scp_anomaly = september_scp_wy2015 - september_mean_scp\n",
    "wy2016_september_scp_anomaly = september_scp_wy2016 - september_mean_scp\n",
    "wy2017_september_scp_anomaly = september_scp_wy2017 - september_mean_scp\n",
    "wy2018_september_scp_anomaly = september_scp_wy2018 - september_mean_scp\n",
    "wy2019_september_scp_anomaly = september_scp_wy2019 - september_mean_scp\n",
    "\n",
    "september_scp_anomaly_stack = array([wy2001_september_scp_anomaly, wy2002_september_scp_anomaly, wy2003_september_scp_anomaly, wy2004_september_scp_anomaly, wy2005_september_scp_anomaly,\n",
    "                                   wy2006_september_scp_anomaly, wy2007_september_scp_anomaly, wy2008_september_scp_anomaly, wy2009_september_scp_anomaly, wy2010_september_scp_anomaly, \n",
    "                                   wy2011_september_scp_anomaly, wy2012_september_scp_anomaly, wy2013_september_scp_anomaly, wy2014_september_scp_anomaly, wy2015_september_scp_anomaly,\n",
    "                                   wy2016_september_scp_anomaly, wy2017_september_scp_anomaly, wy2018_september_scp_anomaly, wy2019_september_scp_anomaly, september_mean_scp])\n",
    "\n",
    "september_scp_anomaly_stack[september_scp_anomaly_stack == 0] = np.nan\n",
    "\n",
    "CreateGeoTiffStack('stacked_tiffs/september_scp_anomaly_stack.tif', september_scp_anomaly_stack, ReferencingMatrix, Projection)"
   ]
  },
  {
   "cell_type": "code",
   "execution_count": 68,
   "id": "5e47ddc9-8f1a-44a0-825a-05084198c16b",
   "metadata": {},
   "outputs": [
    {
     "data": {
      "text/plain": [
       "'stacked_tiffs/october_scp_anomaly_stack.tif'"
      ]
     },
     "execution_count": 68,
     "metadata": {},
     "output_type": "execute_result"
    }
   ],
   "source": [
    "# october snow cover percent anomaly\n",
    "wy2001_october_scp_anomaly = october_scp_wy2001 - october_mean_scp\n",
    "wy2002_october_scp_anomaly = october_scp_wy2002 - october_mean_scp\n",
    "wy2003_october_scp_anomaly = october_scp_wy2003 - october_mean_scp\n",
    "wy2004_october_scp_anomaly = october_scp_wy2004 - october_mean_scp\n",
    "wy2005_october_scp_anomaly = october_scp_wy2005 - october_mean_scp\n",
    "wy2006_october_scp_anomaly = october_scp_wy2006 - october_mean_scp\n",
    "wy2007_october_scp_anomaly = october_scp_wy2007 - october_mean_scp\n",
    "wy2008_october_scp_anomaly = october_scp_wy2008 - october_mean_scp\n",
    "wy2009_october_scp_anomaly = october_scp_wy2009 - october_mean_scp\n",
    "wy2010_october_scp_anomaly = october_scp_wy2010 - october_mean_scp\n",
    "wy2011_october_scp_anomaly = october_scp_wy2011 - october_mean_scp\n",
    "wy2012_october_scp_anomaly = october_scp_wy2012 - october_mean_scp\n",
    "wy2013_october_scp_anomaly = october_scp_wy2013 - october_mean_scp\n",
    "wy2014_october_scp_anomaly = october_scp_wy2014 - october_mean_scp\n",
    "wy2015_october_scp_anomaly = october_scp_wy2015 - october_mean_scp\n",
    "wy2016_october_scp_anomaly = october_scp_wy2016 - october_mean_scp\n",
    "wy2017_october_scp_anomaly = october_scp_wy2017 - october_mean_scp\n",
    "wy2018_october_scp_anomaly = october_scp_wy2018 - october_mean_scp\n",
    "wy2019_october_scp_anomaly = october_scp_wy2019 - october_mean_scp\n",
    "\n",
    "october_scp_anomaly_stack = array([wy2001_october_scp_anomaly, wy2002_october_scp_anomaly, wy2003_october_scp_anomaly, wy2004_october_scp_anomaly, wy2005_october_scp_anomaly,\n",
    "                                   wy2006_october_scp_anomaly, wy2007_october_scp_anomaly, wy2008_october_scp_anomaly, wy2009_october_scp_anomaly, wy2010_october_scp_anomaly, \n",
    "                                   wy2011_october_scp_anomaly, wy2012_october_scp_anomaly, wy2013_october_scp_anomaly, wy2014_october_scp_anomaly, wy2015_october_scp_anomaly,\n",
    "                                   wy2016_october_scp_anomaly, wy2017_october_scp_anomaly, wy2018_october_scp_anomaly, wy2019_october_scp_anomaly, october_mean_scp])\n",
    "\n",
    "october_scp_anomaly_stack[october_scp_anomaly_stack == 0] = np.nan\n",
    "\n",
    "CreateGeoTiffStack('stacked_tiffs/october_scp_anomaly_stack.tif', october_scp_anomaly_stack, ReferencingMatrix, Projection)"
   ]
  },
  {
   "cell_type": "code",
   "execution_count": 69,
   "id": "9802cd32-2c15-44f9-b48e-27ef5830f5d5",
   "metadata": {},
   "outputs": [
    {
     "data": {
      "text/plain": [
       "'stacked_tiffs/november_scp_anomaly_stack.tif'"
      ]
     },
     "execution_count": 69,
     "metadata": {},
     "output_type": "execute_result"
    }
   ],
   "source": [
    "# november snow cover percent anomaly\n",
    "wy2001_november_scp_anomaly = november_scp_wy2001 - november_mean_scp\n",
    "wy2002_november_scp_anomaly = november_scp_wy2002 - november_mean_scp\n",
    "wy2003_november_scp_anomaly = november_scp_wy2003 - november_mean_scp\n",
    "wy2004_november_scp_anomaly = november_scp_wy2004 - november_mean_scp\n",
    "wy2005_november_scp_anomaly = november_scp_wy2005 - november_mean_scp\n",
    "wy2006_november_scp_anomaly = november_scp_wy2006 - november_mean_scp\n",
    "wy2007_november_scp_anomaly = november_scp_wy2007 - november_mean_scp\n",
    "wy2008_november_scp_anomaly = november_scp_wy2008 - november_mean_scp\n",
    "wy2009_november_scp_anomaly = november_scp_wy2009 - november_mean_scp\n",
    "wy2010_november_scp_anomaly = november_scp_wy2010 - november_mean_scp\n",
    "wy2011_november_scp_anomaly = november_scp_wy2011 - november_mean_scp\n",
    "wy2012_november_scp_anomaly = november_scp_wy2012 - november_mean_scp\n",
    "wy2013_november_scp_anomaly = november_scp_wy2013 - november_mean_scp\n",
    "wy2014_november_scp_anomaly = november_scp_wy2014 - november_mean_scp\n",
    "wy2015_november_scp_anomaly = november_scp_wy2015 - november_mean_scp\n",
    "wy2016_november_scp_anomaly = november_scp_wy2016 - november_mean_scp\n",
    "wy2017_november_scp_anomaly = november_scp_wy2017 - november_mean_scp\n",
    "wy2018_november_scp_anomaly = november_scp_wy2018 - november_mean_scp\n",
    "wy2019_november_scp_anomaly = november_scp_wy2019 - november_mean_scp\n",
    "\n",
    "november_scp_anomaly_stack = array([wy2001_november_scp_anomaly, wy2002_november_scp_anomaly, wy2003_november_scp_anomaly, wy2004_november_scp_anomaly, wy2005_november_scp_anomaly,\n",
    "                                   wy2006_november_scp_anomaly, wy2007_november_scp_anomaly, wy2008_november_scp_anomaly, wy2009_november_scp_anomaly, wy2010_november_scp_anomaly, \n",
    "                                   wy2011_november_scp_anomaly, wy2012_november_scp_anomaly, wy2013_november_scp_anomaly, wy2014_november_scp_anomaly, wy2015_november_scp_anomaly,\n",
    "                                   wy2016_november_scp_anomaly, wy2017_november_scp_anomaly, wy2018_november_scp_anomaly, wy2019_november_scp_anomaly, november_mean_scp])\n",
    "\n",
    "november_scp_anomaly_stack[november_scp_anomaly_stack == 0] = np.nan\n",
    "\n",
    "CreateGeoTiffStack('stacked_tiffs/november_scp_anomaly_stack.tif', november_scp_anomaly_stack, ReferencingMatrix, Projection)"
   ]
  },
  {
   "cell_type": "code",
   "execution_count": 70,
   "id": "ea241544-d0f6-40fd-9430-969bf88da438",
   "metadata": {},
   "outputs": [
    {
     "data": {
      "text/plain": [
       "'stacked_tiffs/december_scp_anomaly_stack.tif'"
      ]
     },
     "execution_count": 70,
     "metadata": {},
     "output_type": "execute_result"
    }
   ],
   "source": [
    "# december snow cover percent anomaly\n",
    "wy2001_december_scp_anomaly = december_scp_wy2001 - december_mean_scp\n",
    "wy2002_december_scp_anomaly = december_scp_wy2002 - december_mean_scp\n",
    "wy2003_december_scp_anomaly = december_scp_wy2003 - december_mean_scp\n",
    "wy2004_december_scp_anomaly = december_scp_wy2004 - december_mean_scp\n",
    "wy2005_december_scp_anomaly = december_scp_wy2005 - december_mean_scp\n",
    "wy2006_december_scp_anomaly = december_scp_wy2006 - december_mean_scp\n",
    "wy2007_december_scp_anomaly = december_scp_wy2007 - december_mean_scp\n",
    "wy2008_december_scp_anomaly = december_scp_wy2008 - december_mean_scp\n",
    "wy2009_december_scp_anomaly = december_scp_wy2009 - december_mean_scp\n",
    "wy2010_december_scp_anomaly = december_scp_wy2010 - december_mean_scp\n",
    "wy2011_december_scp_anomaly = december_scp_wy2011 - december_mean_scp\n",
    "wy2012_december_scp_anomaly = december_scp_wy2012 - december_mean_scp\n",
    "wy2013_december_scp_anomaly = december_scp_wy2013 - december_mean_scp\n",
    "wy2014_december_scp_anomaly = december_scp_wy2014 - december_mean_scp\n",
    "wy2015_december_scp_anomaly = december_scp_wy2015 - december_mean_scp\n",
    "wy2016_december_scp_anomaly = december_scp_wy2016 - december_mean_scp\n",
    "wy2017_december_scp_anomaly = december_scp_wy2017 - december_mean_scp\n",
    "wy2018_december_scp_anomaly = december_scp_wy2018 - december_mean_scp\n",
    "wy2019_december_scp_anomaly = december_scp_wy2019 - december_mean_scp\n",
    "\n",
    "december_scp_anomaly_stack = array([wy2001_december_scp_anomaly, wy2002_december_scp_anomaly, wy2003_december_scp_anomaly, wy2004_december_scp_anomaly, wy2005_december_scp_anomaly,\n",
    "                                   wy2006_december_scp_anomaly, wy2007_december_scp_anomaly, wy2008_december_scp_anomaly, wy2009_december_scp_anomaly, wy2010_december_scp_anomaly, \n",
    "                                   wy2011_december_scp_anomaly, wy2012_december_scp_anomaly, wy2013_december_scp_anomaly, wy2014_december_scp_anomaly, wy2015_december_scp_anomaly,\n",
    "                                   wy2016_december_scp_anomaly, wy2017_december_scp_anomaly, wy2018_december_scp_anomaly, wy2019_december_scp_anomaly, december_mean_scp])\n",
    "\n",
    "december_scp_anomaly_stack[december_scp_anomaly_stack == 0] = np.nan\n",
    "CreateGeoTiffStack('stacked_tiffs/december_scp_anomaly_stack.tif', december_scp_anomaly_stack, ReferencingMatrix, Projection)"
   ]
  },
  {
   "cell_type": "code",
   "execution_count": 71,
   "id": "0b5e8368-cef8-44ac-9e11-2a732628da7c",
   "metadata": {},
   "outputs": [],
   "source": [
    "# wy2001_monthly_scp_anomaly_stack = array([wy2001_january_scp_anomaly, wy2001_february_scp_anomaly, wy2001_march_scp_anomaly, wy2001_april_scp_anomaly,\n",
    "#                                          wy2001_may_scp_anomaly, wy2001_june_scp_anomaly, wy2001_july_scp_anomaly, wy2001_august_scp_anomaly, wy2001_september_scp_anomaly, \n",
    "#                                          wy2001_october_scp_anomaly, wy2001_november_scp_anomaly, wy2001_december_scp_anomaly])\n",
    "\n",
    "# wy2001_monthly_scp_anomaly_stack[wy2001_monthly_scp_anomaly_stack == 0] = np.nan\n",
    "\n",
    "# CreateGeoTiffStack('stacked_tiffs/wy2001_monthly_scp_anomaly_stack.tif', wy2001_monthly_scp_anomaly_stack, ReferencingMatrix, Projection)"
   ]
  },
  {
   "cell_type": "code",
   "execution_count": 72,
   "id": "a2c8ab7c-f09a-478d-b98a-8f2825d453a0",
   "metadata": {},
   "outputs": [],
   "source": [
    "# wy2002_monthly_scp_anomaly_stack = array([wy2002_january_scp_anomaly, wy2002_february_scp_anomaly, wy2002_march_scp_anomaly, wy2002_april_scp_anomaly,\n",
    "#                                          wy2002_may_scp_anomaly, wy2002_june_scp_anomaly, wy2002_july_scp_anomaly, wy2002_august_scp_anomaly, wy2002_september_scp_anomaly, \n",
    "#                                          wy2002_october_scp_anomaly, wy2002_november_scp_anomaly, wy2002_december_scp_anomaly])\n",
    "\n",
    "# wy2002_monthly_scp_anomaly_stack[wy2002_monthly_scp_anomaly_stack == 0] = np.nan\n",
    "\n",
    "# CreateGeoTiffStack('stacked_tiffs/wy2002_monthly_scp_anomaly_stack.tif', wy2002_monthly_scp_anomaly_stack, ReferencingMatrix, Projection)"
   ]
  },
  {
   "cell_type": "code",
   "execution_count": 73,
   "id": "fc67b97e-3ab8-4e4b-a2b3-bb6154fcfb75",
   "metadata": {},
   "outputs": [],
   "source": [
    "# wy2003_monthly_scp_anomaly_stack = array([wy2003_january_scp_anomaly, wy2003_february_scp_anomaly, wy2003_march_scp_anomaly, wy2003_april_scp_anomaly,\n",
    "#                                          wy2003_may_scp_anomaly, wy2003_june_scp_anomaly, wy2003_july_scp_anomaly, wy2003_august_scp_anomaly, wy2003_september_scp_anomaly, \n",
    "#                                          wy2003_october_scp_anomaly, wy2003_november_scp_anomaly, wy2003_december_scp_anomaly])\n",
    "\n",
    "# wy2003_monthly_scp_anomaly_stack[wy2003_monthly_scp_anomaly_stack == 0] = np.nan\n",
    "\n",
    "# CreateGeoTiffStack('stacked_tiffs/wy2003_monthly_scp_anomaly_stack.tif', wy2003_monthly_scp_anomaly_stack, ReferencingMatrix, Projection)"
   ]
  },
  {
   "cell_type": "code",
   "execution_count": 74,
   "id": "4a574b29-c93f-4d4a-a73b-68827b3b3cb3",
   "metadata": {},
   "outputs": [],
   "source": [
    "# wy2004_monthly_scp_anomaly_stack = array([wy2004_january_scp_anomaly, wy2004_february_scp_anomaly, wy2004_march_scp_anomaly, wy2004_april_scp_anomaly,\n",
    "#                                          wy2004_may_scp_anomaly, wy2004_june_scp_anomaly, wy2004_july_scp_anomaly, wy2004_august_scp_anomaly, wy2004_september_scp_anomaly, \n",
    "#                                          wy2004_october_scp_anomaly, wy2004_november_scp_anomaly, wy2004_december_scp_anomaly])\n",
    "\n",
    "# wy2004_monthly_scp_anomaly_stack[wy2004_monthly_scp_anomaly_stack == 0] = np.nan\n",
    "\n",
    "# CreateGeoTiffStack('stacked_tiffs/wy2004_monthly_scp_anomaly_stack.tif', wy2004_monthly_scp_anomaly_stack, ReferencingMatrix, Projection)"
   ]
  },
  {
   "cell_type": "code",
   "execution_count": 75,
   "id": "6295cfbf-3483-4808-8308-2087b2f2a540",
   "metadata": {},
   "outputs": [],
   "source": [
    "# wy2005_monthly_scp_anomaly_stack = array([wy2005_january_scp_anomaly, wy2005_february_scp_anomaly, wy2005_march_scp_anomaly, wy2005_april_scp_anomaly,\n",
    "#                                          wy2005_may_scp_anomaly, wy2005_june_scp_anomaly, wy2005_july_scp_anomaly, wy2005_august_scp_anomaly, wy2005_september_scp_anomaly, \n",
    "#                                          wy2005_october_scp_anomaly, wy2005_november_scp_anomaly, wy2005_december_scp_anomaly])\n",
    "\n",
    "# wy2005_monthly_scp_anomaly_stack[wy2005_monthly_scp_anomaly_stack == 0] = np.nan\n",
    "\n",
    "# CreateGeoTiffStack('stacked_tiffs/wy2005_monthly_scp_anomaly_stack.tif', wy2005_monthly_scp_anomaly_stack, ReferencingMatrix, Projection)"
   ]
  },
  {
   "cell_type": "code",
   "execution_count": 163,
   "id": "4d364fae-6125-4de2-8a01-fcd1c60e93a5",
   "metadata": {},
   "outputs": [],
   "source": [
    "# wy2006_monthly_scp_anomaly_stack = array([wy2006_january_scp_anomaly, wy2006_february_scp_anomaly, wy2006_march_scp_anomaly, wy2006_april_scp_anomaly,\n",
    "#                                          wy2006_may_scp_anomaly, wy2006_june_scp_anomaly, wy2006_july_scp_anomaly, wy2006_august_scp_anomaly, wy2006_september_scp_anomaly, \n",
    "#                                          wy2006_october_scp_anomaly, wy2006_november_scp_anomaly, wy2006_december_scp_anomaly])\n",
    "\n",
    "# wy2006_monthly_scp_anomaly_stack[wy2006_monthly_scp_anomaly_stack == 0] = np.nan\n",
    "\n",
    "# CreateGeoTiffStack('stacked_tiffs/wy2006_monthly_scp_anomaly_stack.tif', wy2006_monthly_scp_anomaly_stack, ReferencingMatrix, Projection)"
   ]
  },
  {
   "cell_type": "code",
   "execution_count": 77,
   "id": "54400eaa-aec5-4d8e-b8a7-d7b6631f6c08",
   "metadata": {},
   "outputs": [],
   "source": [
    "# wy2007_monthly_scp_anomaly_stack = array([wy2007_january_scp_anomaly, wy2007_february_scp_anomaly, wy2007_march_scp_anomaly, wy2007_april_scp_anomaly,\n",
    "#                                          wy2007_may_scp_anomaly, wy2007_june_scp_anomaly, wy2007_july_scp_anomaly, wy2007_august_scp_anomaly, wy2007_september_scp_anomaly, \n",
    "#                                          wy2007_october_scp_anomaly, wy2007_november_scp_anomaly, wy2007_december_scp_anomaly])\n",
    "\n",
    "# wy2006_monthly_scp_anomaly_stack[wy2006_monthly_scp_anomaly_stack == 0] = np.nan\n",
    "\n",
    "# CreateGeoTiffStack('stacked_tiffs/wy2007_monthly_scp_anomaly_stack.tif', wy2007_monthly_scp_anomaly_stack, ReferencingMatrix, Projection)"
   ]
  },
  {
   "cell_type": "code",
   "execution_count": 78,
   "id": "db6e1b90-4da0-49c0-b436-3168f41409cb",
   "metadata": {},
   "outputs": [],
   "source": [
    "# wy2008_monthly_scp_anomaly_stack = array([wy2008_january_scp_anomaly, wy2008_february_scp_anomaly, wy2008_march_scp_anomaly, wy2008_april_scp_anomaly,\n",
    "#                                          wy2008_may_scp_anomaly, wy2008_june_scp_anomaly, wy2008_july_scp_anomaly, wy2008_august_scp_anomaly, wy2008_september_scp_anomaly, \n",
    "#                                          wy2008_october_scp_anomaly, wy2008_november_scp_anomaly, wy2008_december_scp_anomaly])\n",
    "\n",
    "# wy2008_monthly_scp_anomaly_stack[wy2008_monthly_scp_anomaly_stack == 0] = np.nan\n",
    "\n",
    "# CreateGeoTiffStack('stacked_tiffs/wy2008_monthly_scp_anomaly_stack.tif', wy2008_monthly_scp_anomaly_stack, ReferencingMatrix, Projection)"
   ]
  },
  {
   "cell_type": "code",
   "execution_count": 79,
   "id": "08b3c263-7cab-4d51-ac2d-04e8f6ea1267",
   "metadata": {},
   "outputs": [],
   "source": [
    "# wy2009_monthly_scp_anomaly_stack = array([wy2009_january_scp_anomaly, wy2009_february_scp_anomaly, wy2009_march_scp_anomaly, wy2009_april_scp_anomaly,\n",
    "#                                          wy2009_may_scp_anomaly, wy2009_june_scp_anomaly, wy2009_july_scp_anomaly, wy2009_august_scp_anomaly, wy2009_september_scp_anomaly, \n",
    "#                                          wy2009_october_scp_anomaly, wy2009_november_scp_anomaly, wy2009_december_scp_anomaly])\n",
    "\n",
    "# wy2009_monthly_scp_anomaly_stack[wy2009_monthly_scp_anomaly_stack == 0] = np.nan\n",
    "\n",
    "# CreateGeoTiffStack('stacked_tiffs/wy2009_monthly_scp_anomaly_stack.tif', wy2009_monthly_scp_anomaly_stack, ReferencingMatrix, Projection)"
   ]
  },
  {
   "cell_type": "code",
   "execution_count": 80,
   "id": "247fa7eb-3c12-4b23-ace4-a515e415f32f",
   "metadata": {},
   "outputs": [],
   "source": [
    "# wy2010_monthly_scp_anomaly_stack = array([wy2010_january_scp_anomaly, wy2010_february_scp_anomaly, wy2010_march_scp_anomaly, wy2010_april_scp_anomaly,\n",
    "#                                          wy2010_may_scp_anomaly, wy2010_june_scp_anomaly, wy2010_july_scp_anomaly, wy2010_august_scp_anomaly, wy2010_september_scp_anomaly, \n",
    "#                                          wy2010_october_scp_anomaly, wy2010_november_scp_anomaly, wy2010_december_scp_anomaly])\n",
    "\n",
    "# wy2010_monthly_scp_anomaly_stack[wy2010_monthly_scp_anomaly_stack == 0] = np.nan\n",
    "\n",
    "# CreateGeoTiffStack('stacked_tiffs/wy2010_monthly_scp_anomaly_stack.tif', wy2010_monthly_scp_anomaly_stack, ReferencingMatrix, Projection)"
   ]
  },
  {
   "cell_type": "code",
   "execution_count": 81,
   "id": "c6788e47-d8ff-49a6-aec6-2e673ad89090",
   "metadata": {},
   "outputs": [],
   "source": [
    "# wy2011_monthly_scp_anomaly_stack = array([wy2011_january_scp_anomaly, wy2011_february_scp_anomaly, wy2011_march_scp_anomaly, wy2011_april_scp_anomaly,\n",
    "#                                          wy2011_may_scp_anomaly, wy2011_june_scp_anomaly, wy2011_july_scp_anomaly, wy2011_august_scp_anomaly, wy2011_september_scp_anomaly, \n",
    "#                                          wy2011_october_scp_anomaly, wy2011_november_scp_anomaly, wy2011_december_scp_anomaly])\n",
    "\n",
    "# wy2011_monthly_scp_anomaly_stack[wy2011_monthly_scp_anomaly_stack == 0] = np.nan\n",
    "\n",
    "# CreateGeoTiffStack('stacked_tiffs/wy2011_monthly_scp_anomaly_stack.tif', wy2011_monthly_scp_anomaly_stack, ReferencingMatrix, Projection)"
   ]
  },
  {
   "cell_type": "code",
   "execution_count": 82,
   "id": "8e141ba5-b4c0-462c-9e5a-0094956940ae",
   "metadata": {},
   "outputs": [],
   "source": [
    "# wy2012_monthly_scp_anomaly_stack = array([wy2012_january_scp_anomaly, wy2012_february_scp_anomaly, wy2012_march_scp_anomaly, wy2012_april_scp_anomaly,\n",
    "#                                          wy2012_may_scp_anomaly, wy2012_june_scp_anomaly, wy2012_july_scp_anomaly, wy2012_august_scp_anomaly, wy2012_september_scp_anomaly, \n",
    "#                                          wy2012_october_scp_anomaly, wy2012_november_scp_anomaly, wy2012_december_scp_anomaly])\n",
    "\n",
    "# wy2012_monthly_scp_anomaly_stack[wy2012_monthly_scp_anomaly_stack == 0] = np.nan\n",
    "\n",
    "# CreateGeoTiffStack('stacked_tiffs/wy2012_monthly_scp_anomaly_stack.tif', wy2012_monthly_scp_anomaly_stack, ReferencingMatrix, Projection)"
   ]
  },
  {
   "cell_type": "code",
   "execution_count": 83,
   "id": "fc2daace-7302-4e4c-be62-773f3bc6c18f",
   "metadata": {},
   "outputs": [],
   "source": [
    "# wy2013_monthly_scp_anomaly_stack = array([wy2013_january_scp_anomaly, wy2013_february_scp_anomaly, wy2013_march_scp_anomaly, wy2013_april_scp_anomaly,\n",
    "#                                          wy2013_may_scp_anomaly, wy2013_june_scp_anomaly, wy2013_july_scp_anomaly, wy2013_august_scp_anomaly, wy2013_september_scp_anomaly, \n",
    "#                                          wy2013_october_scp_anomaly, wy2013_november_scp_anomaly, wy2013_december_scp_anomaly])\n",
    "\n",
    "# wy2013_monthly_scp_anomaly_stack[wy2013_monthly_scp_anomaly_stack == 0] = np.nan\n",
    "\n",
    "# CreateGeoTiffStack('stacked_tiffs/wy2013_monthly_scp_anomaly_stack.tif', wy2013_monthly_scp_anomaly_stack, ReferencingMatrix, Projection)"
   ]
  },
  {
   "cell_type": "code",
   "execution_count": 84,
   "id": "6316175d-6401-4058-8375-e46de14360f2",
   "metadata": {},
   "outputs": [],
   "source": [
    "# wy2014_monthly_scp_anomaly_stack = array([wy2014_january_scp_anomaly, wy2014_february_scp_anomaly, wy2014_march_scp_anomaly, wy2014_april_scp_anomaly,\n",
    "#                                          wy2014_may_scp_anomaly, wy2014_june_scp_anomaly, wy2014_july_scp_anomaly, wy2014_august_scp_anomaly, wy2014_september_scp_anomaly, \n",
    "#                                          wy2014_october_scp_anomaly, wy2014_november_scp_anomaly, wy2014_december_scp_anomaly])\n",
    "\n",
    "# wy2014_monthly_scp_anomaly_stack[wy2014_monthly_scp_anomaly_stack == 0] = np.nan\n",
    "\n",
    "# CreateGeoTiffStack('stacked_tiffs/wy2014_monthly_scp_anomaly_stack.tif', wy2014_monthly_scp_anomaly_stack, ReferencingMatrix, Projection)"
   ]
  },
  {
   "cell_type": "code",
   "execution_count": 85,
   "id": "33b98c52-c034-4237-97f5-6cd166a2452a",
   "metadata": {},
   "outputs": [],
   "source": [
    "# wy2015_monthly_scp_anomaly_stack = array([wy2015_january_scp_anomaly, wy2015_february_scp_anomaly, wy2015_march_scp_anomaly, wy2015_april_scp_anomaly,\n",
    "#                                          wy2015_may_scp_anomaly, wy2015_june_scp_anomaly, wy2015_july_scp_anomaly, wy2015_august_scp_anomaly, wy2015_september_scp_anomaly, \n",
    "#                                          wy2015_october_scp_anomaly, wy2015_november_scp_anomaly, wy2015_december_scp_anomaly])\n",
    "\n",
    "# wy2015_monthly_scp_anomaly_stack[wy2015_monthly_scp_anomaly_stack == 0] = np.nan\n",
    "\n",
    "# CreateGeoTiffStack('stacked_tiffs/wy2015_monthly_scp_anomaly_stack.tif', wy2015_monthly_scp_anomaly_stack, ReferencingMatrix, Projection)"
   ]
  },
  {
   "cell_type": "code",
   "execution_count": 86,
   "id": "5b7a45b2-aaae-47aa-840d-68f811a6cc21",
   "metadata": {},
   "outputs": [],
   "source": [
    "# wy2016_monthly_scp_anomaly_stack = array([wy2016_january_scp_anomaly, wy2016_february_scp_anomaly, wy2016_march_scp_anomaly, wy2016_april_scp_anomaly,\n",
    "#                                          wy2016_may_scp_anomaly, wy2016_june_scp_anomaly, wy2016_july_scp_anomaly, wy2016_august_scp_anomaly, wy2016_september_scp_anomaly, \n",
    "#                                          wy2016_october_scp_anomaly, wy2016_november_scp_anomaly, wy2016_december_scp_anomaly])\n",
    "\n",
    "# wy2016_monthly_scp_anomaly_stack[wy2016_monthly_scp_anomaly_stack == 0] = np.nan\n",
    "\n",
    "# CreateGeoTiffStack('stacked_tiffs/wy2016_monthly_scp_anomaly_stack.tif', wy2016_monthly_scp_anomaly_stack, ReferencingMatrix, Projection)"
   ]
  },
  {
   "cell_type": "code",
   "execution_count": 87,
   "id": "82e0dc46-9c46-4c01-a373-7f973bb95d00",
   "metadata": {},
   "outputs": [],
   "source": [
    "# wy2017_monthly_scp_anomaly_stack = array([wy2017_january_scp_anomaly, wy2017_february_scp_anomaly, wy2017_march_scp_anomaly, wy2017_april_scp_anomaly,\n",
    "#                                          wy2017_may_scp_anomaly, wy2017_june_scp_anomaly, wy2017_july_scp_anomaly, wy2017_august_scp_anomaly, wy2017_september_scp_anomaly, \n",
    "#                                          wy2017_october_scp_anomaly, wy2017_november_scp_anomaly, wy2017_december_scp_anomaly])\n",
    "\n",
    "# wy2017_monthly_scp_anomaly_stack[wy2017_monthly_scp_anomaly_stack == 0] = np.nan\n",
    "\n",
    "# CreateGeoTiffStack('stacked_tiffs/wy2017_monthly_scp_anomaly_stack.tif', wy2017_monthly_scp_anomaly_stack, ReferencingMatrix, Projection)"
   ]
  },
  {
   "cell_type": "code",
   "execution_count": 88,
   "id": "ebbc3d99-a024-4fba-899c-502afb50390d",
   "metadata": {},
   "outputs": [],
   "source": [
    "# wy2018_monthly_scp_anomaly_stack = array([wy2018_january_scp_anomaly, wy2018_february_scp_anomaly, wy2018_march_scp_anomaly, wy2018_april_scp_anomaly,\n",
    "#                                          wy2018_may_scp_anomaly, wy2018_june_scp_anomaly, wy2018_july_scp_anomaly, wy2018_august_scp_anomaly, wy2018_september_scp_anomaly, \n",
    "#                                          wy2018_october_scp_anomaly, wy2018_november_scp_anomaly, wy2018_december_scp_anomaly])\n",
    "\n",
    "# wy2018_monthly_scp_anomaly_stack[wy2018_monthly_scp_anomaly_stack == 0] = np.nan\n",
    "\n",
    "# CreateGeoTiffStack('stacked_tiffs/wy2018_monthly_scp_anomaly_stack.tif', wy2018_monthly_scp_anomaly_stack, ReferencingMatrix, Projection)"
   ]
  },
  {
   "cell_type": "code",
   "execution_count": 89,
   "id": "c23cff1b-ec3d-46ef-a715-ed326b0688da",
   "metadata": {},
   "outputs": [],
   "source": [
    "# wy2019_monthly_scp_anomaly_stack = array([wy2019_january_scp_anomaly, wy2019_february_scp_anomaly, wy2019_march_scp_anomaly, wy2019_april_scp_anomaly,\n",
    "#                                          wy2019_may_scp_anomaly, wy2019_june_scp_anomaly, wy2019_july_scp_anomaly, wy2019_august_scp_anomaly, wy2019_september_scp_anomaly, \n",
    "#                                          wy2019_october_scp_anomaly, wy2019_november_scp_anomaly, wy2019_december_scp_anomaly])\n",
    "\n",
    "# wy2019_monthly_scp_anomaly_stack[wy2019_monthly_scp_anomaly_stack == 0] = np.nan\n",
    "\n",
    "# CreateGeoTiffStack('stacked_tiffs/wy2019_monthly_scp_anomaly_stack.tif', wy2019_monthly_scp_anomaly_stack, ReferencingMatrix, Projection)"
   ]
  },
  {
   "cell_type": "markdown",
   "id": "1a75e6d3-5070-4b5f-b2e5-1e1a2f84e4e3",
   "metadata": {},
   "source": [
    "<a id='albedo'></a> \n",
    "# Albedo\n",
    "## Annual\n",
    "### Mean"
   ]
  },
  {
   "cell_type": "code",
   "execution_count": 90,
   "id": "5819ee9d-4522-4fea-931d-09ae8705fae0",
   "metadata": {},
   "outputs": [],
   "source": [
    "# Trying to remove fill values before averaging\n",
    "def AnnualMeanAlbedo(filepath):\n",
    "    albedo = rioxarray.open_rasterio(filepath)\n",
    "    albedo = albedo.where(albedo != 65535)\n",
    "    annual_mean_albedo = albedo.isel(band=slice(0, 364)).mean(dim=\"band\")\n",
    "    annual_mean_albedo_numpy = annual_mean_albedo.to_numpy()\n",
    "    annual_mean_albedo_numpy = np.transpose(annual_mean_albedo_numpy)\n",
    "    annual_mean_albedo_numpy = annual_mean_albedo_numpy / 10000\n",
    "    \n",
    "    return(annual_mean_albedo_numpy)"
   ]
  },
  {
   "cell_type": "code",
   "execution_count": 91,
   "id": "00f9a895-3fd8-4fcd-9d2a-1691c2926756",
   "metadata": {},
   "outputs": [],
   "source": [
    "warnings.filterwarnings('ignore')\n",
    "\n",
    "# these are numpy arrays\n",
    "annual_mean_albedo_2001 = AnnualMeanAlbedo(wy2001_albedo)\n",
    "annual_mean_albedo_2002 = AnnualMeanAlbedo(wy2002_albedo)\n",
    "annual_mean_albedo_2003 = AnnualMeanAlbedo(wy2003_albedo)\n",
    "annual_mean_albedo_2004 = AnnualMeanAlbedo(wy2004_albedo)\n",
    "annual_mean_albedo_2005 = AnnualMeanAlbedo(wy2005_albedo)\n",
    "annual_mean_albedo_2006 = AnnualMeanAlbedo(wy2006_albedo)\n",
    "annual_mean_albedo_2007 = AnnualMeanAlbedo(wy2007_albedo)\n",
    "annual_mean_albedo_2008 = AnnualMeanAlbedo(wy2008_albedo)\n",
    "annual_mean_albedo_2009 = AnnualMeanAlbedo(wy2009_albedo)\n",
    "annual_mean_albedo_2010 = AnnualMeanAlbedo(wy2010_albedo)\n",
    "annual_mean_albedo_2011 = AnnualMeanAlbedo(wy2011_albedo)\n",
    "annual_mean_albedo_2012 = AnnualMeanAlbedo(wy2012_albedo)\n",
    "annual_mean_albedo_2013 = AnnualMeanAlbedo(wy2013_albedo)\n",
    "annual_mean_albedo_2014 = AnnualMeanAlbedo(wy2014_albedo)\n",
    "annual_mean_albedo_2015 = AnnualMeanAlbedo(wy2015_albedo)\n",
    "annual_mean_albedo_2016 = AnnualMeanAlbedo(wy2016_albedo)\n",
    "annual_mean_albedo_2017 = AnnualMeanAlbedo(wy2017_albedo)\n",
    "annual_mean_albedo_2018 = AnnualMeanAlbedo(wy2018_albedo)\n",
    "annual_mean_albedo_2019 = AnnualMeanAlbedo(wy2019_albedo)"
   ]
  },
  {
   "cell_type": "code",
   "execution_count": 230,
   "id": "24ca8ee4-b343-4c4b-ab25-bc6e5017e4e6",
   "metadata": {},
   "outputs": [],
   "source": [
    "mean_annual_albedo_array = np.array([annual_mean_albedo_2001, annual_mean_albedo_2002, annual_mean_albedo_2003, annual_mean_albedo_2004, annual_mean_albedo_2005, \n",
    "                      annual_mean_albedo_2006, annual_mean_albedo_2007, annual_mean_albedo_2008, annual_mean_albedo_2009, annual_mean_albedo_2010, \n",
    "                      annual_mean_albedo_2011, annual_mean_albedo_2012, annual_mean_albedo_2013, annual_mean_albedo_2014, annual_mean_albedo_2015, \n",
    "                      annual_mean_albedo_2016, annual_mean_albedo_2017, annual_mean_albedo_2018, annual_mean_albedo_2010])\n",
    "\n",
    "mean_annual_albedo = np.nanmean(mean_annual_albedo_array, axis = 0)"
   ]
  },
  {
   "cell_type": "code",
   "execution_count": 231,
   "id": "14525ea0-44e3-4eaa-b662-e373f94ae368",
   "metadata": {},
   "outputs": [
    {
     "data": {
      "text/plain": [
       "'stacked_tiffs/annual_mean_albedo_stack.tif'"
      ]
     },
     "execution_count": 231,
     "metadata": {},
     "output_type": "execute_result"
    }
   ],
   "source": [
    "annual_mean_albedo_stack = array([annual_mean_albedo_2001, annual_mean_albedo_2002, annual_mean_albedo_2003, annual_mean_albedo_2004, annual_mean_albedo_2005,\n",
    "                             annual_mean_albedo_2006, annual_mean_albedo_2007, annual_mean_albedo_2008, annual_mean_albedo_2009, annual_mean_albedo_2010, annual_mean_albedo_2011,\n",
    "                             annual_mean_albedo_2012, annual_mean_albedo_2013, annual_mean_albedo_2014, annual_mean_albedo_2015, annual_mean_albedo_2016, annual_mean_albedo_2017,\n",
    "                             annual_mean_albedo_2018, annual_mean_albedo_2019, mean_annual_albedo])\n",
    "\n",
    "CreateGeoTiffStack('stacked_tiffs/annual_mean_albedo_stack.tif', annual_mean_albedo_stack, ReferencingMatrix, Projection)"
   ]
  },
  {
   "cell_type": "code",
   "execution_count": 232,
   "id": "7df8400d-df36-4be8-bfd1-5815d81acee9",
   "metadata": {},
   "outputs": [
    {
     "data": {
      "text/plain": [
       "0.4731642857142857"
      ]
     },
     "execution_count": 232,
     "metadata": {},
     "output_type": "execute_result"
    }
   ],
   "source": [
    "np.nanmin(annual_mean_albedo_stack)"
   ]
  },
  {
   "cell_type": "code",
   "execution_count": 233,
   "id": "24157494-7460-4ad7-a631-b1dbf4b5b896",
   "metadata": {},
   "outputs": [
    {
     "data": {
      "text/plain": [
       "0.86088"
      ]
     },
     "execution_count": 233,
     "metadata": {},
     "output_type": "execute_result"
    }
   ],
   "source": [
    "np.nanmax(annual_mean_albedo_stack)"
   ]
  },
  {
   "cell_type": "markdown",
   "id": "7d8414ce-6852-4744-b784-e39be48a8d27",
   "metadata": {},
   "source": [
    "### Anomaly"
   ]
  },
  {
   "cell_type": "code",
   "execution_count": 234,
   "id": "fce82a42-643c-4936-84f5-791ed650f3ad",
   "metadata": {},
   "outputs": [
    {
     "data": {
      "text/plain": [
       "'stacked_tiffs/annual_albedo_anomaly_stack.tif'"
      ]
     },
     "execution_count": 234,
     "metadata": {},
     "output_type": "execute_result"
    }
   ],
   "source": [
    "wy2001_albedo_anomaly = annual_mean_albedo_2001 - mean_annual_albedo\n",
    "wy2002_albedo_anomaly = annual_mean_albedo_2002 - mean_annual_albedo\n",
    "wy2003_albedo_anomaly = annual_mean_albedo_2003 - mean_annual_albedo\n",
    "wy2004_albedo_anomaly = annual_mean_albedo_2004 - mean_annual_albedo\n",
    "wy2005_albedo_anomaly = annual_mean_albedo_2005 - mean_annual_albedo\n",
    "wy2006_albedo_anomaly = annual_mean_albedo_2006 - mean_annual_albedo\n",
    "wy2007_albedo_anomaly = annual_mean_albedo_2007 - mean_annual_albedo\n",
    "wy2008_albedo_anomaly = annual_mean_albedo_2008 - mean_annual_albedo\n",
    "wy2009_albedo_anomaly = annual_mean_albedo_2009 - mean_annual_albedo\n",
    "wy2010_albedo_anomaly = annual_mean_albedo_2010 - mean_annual_albedo\n",
    "wy2011_albedo_anomaly = annual_mean_albedo_2011 - mean_annual_albedo\n",
    "wy2012_albedo_anomaly = annual_mean_albedo_2012 - mean_annual_albedo\n",
    "wy2013_albedo_anomaly = annual_mean_albedo_2013 - mean_annual_albedo\n",
    "wy2014_albedo_anomaly = annual_mean_albedo_2014 - mean_annual_albedo\n",
    "wy2015_albedo_anomaly = annual_mean_albedo_2015 - mean_annual_albedo\n",
    "wy2016_albedo_anomaly = annual_mean_albedo_2016 - mean_annual_albedo\n",
    "wy2017_albedo_anomaly = annual_mean_albedo_2017 - mean_annual_albedo\n",
    "wy2018_albedo_anomaly = annual_mean_albedo_2018 - mean_annual_albedo\n",
    "wy2019_albedo_anomaly = annual_mean_albedo_2019 - mean_annual_albedo\n",
    "\n",
    "annual_albedo_anomaly_stack = array([wy2001_albedo_anomaly, wy2002_albedo_anomaly, wy2003_albedo_anomaly, wy2004_albedo_anomaly, wy2005_albedo_anomaly,\n",
    "                                 wy2006_albedo_anomaly, wy2007_albedo_anomaly, wy2008_albedo_anomaly, wy2009_albedo_anomaly, wy2010_albedo_anomaly,\n",
    "                                 wy2011_albedo_anomaly, wy2012_albedo_anomaly, wy2013_albedo_anomaly, wy2014_albedo_anomaly, wy2015_albedo_anomaly,\n",
    "                                 wy2016_albedo_anomaly, wy2017_albedo_anomaly, wy2018_albedo_anomaly, wy2019_albedo_anomaly])\n",
    "\n",
    "CreateGeoTiffStack('stacked_tiffs/annual_albedo_anomaly_stack.tif', annual_albedo_anomaly_stack, ReferencingMatrix, Projection)"
   ]
  },
  {
   "cell_type": "code",
   "execution_count": 235,
   "id": "c7ca4e40-4653-4848-a910-afef2e18c016",
   "metadata": {},
   "outputs": [
    {
     "data": {
      "text/plain": [
       "-0.25539917611007645"
      ]
     },
     "execution_count": 235,
     "metadata": {},
     "output_type": "execute_result"
    }
   ],
   "source": [
    "np.nanmin(annual_albedo_anomaly_stack)"
   ]
  },
  {
   "cell_type": "code",
   "execution_count": 236,
   "id": "93d48d0e-0229-46de-b676-98fa239ceae9",
   "metadata": {},
   "outputs": [
    {
     "data": {
      "text/plain": [
       "0.16670000000000007"
      ]
     },
     "execution_count": 236,
     "metadata": {},
     "output_type": "execute_result"
    }
   ],
   "source": [
    "np.nanmax(annual_albedo_anomaly_stack)"
   ]
  },
  {
   "cell_type": "markdown",
   "id": "4667e8e9-ecf7-4907-9e3f-b6e990e2229c",
   "metadata": {},
   "source": [
    "## Monthly\n",
    "### Mean"
   ]
  },
  {
   "cell_type": "code",
   "execution_count": 265,
   "id": "56e14af9-25de-48be-bc50-7408508f3876",
   "metadata": {},
   "outputs": [],
   "source": [
    "def MonthlyAlbedo(filepath, start_index, end_index):\n",
    "    albedo = rioxarray.open_rasterio(filepath)\n",
    "    albedo = albedo.where(albedo != 65535)\n",
    "    monthly_mean_albedo = albedo.isel(band=slice(start_index, end_index)).mean(dim=\"band\")\n",
    "    monthly_mean_albedo_numpy = monthly_mean_albedo.to_numpy()\n",
    "    monthly_mean_albedo_numpy = np.transpose(monthly_mean_albedo_numpy)\n",
    "    monthly_mean_albedo_numpy = monthly_mean_albedo_numpy / 10000\n",
    "    \n",
    "    return(monthly_mean_albedo_numpy)"
   ]
  },
  {
   "cell_type": "code",
   "execution_count": null,
   "id": "4a0cae34-a8a2-479f-91b0-ba8e13db6c07",
   "metadata": {},
   "outputs": [],
   "source": [
    "#warnings.filterwarnings('ignore')\n",
    "\n",
    "# wy2001\n",
    "january_albedo_wy2001 = MonthlyAlbedo(wy2001_albedo, january_start_index, january_end_index)\n",
    "february_albedo_wy2001 = MonthlyAlbedo(wy2001_albedo, february_start_index, february_end_index)\n",
    "march_albedo_wy2001 = MonthlyAlbedo(wy2001_albedo, march_start_index, march_end_index)\n",
    "april_albedo_wy2001 = MonthlyAlbedo(wy2001_albedo, april_start_index, april_end_index)\n",
    "may_albedo_wy2001 = MonthlyAlbedo(wy2001_albedo, may_start_index, may_end_index)\n",
    "june_albedo_wy2001 = MonthlyAlbedo(wy2001_albedo, june_start_index, june_end_index)\n",
    "july_albedo_wy2001 = MonthlyAlbedo(wy2001_albedo, july_start_index, july_end_index)\n",
    "august_albedo_wy2001 = MonthlyAlbedo(wy2001_albedo, august_start_index, august_end_index)\n",
    "september_albedo_wy2001 = MonthlyAlbedo(wy2001_albedo, september_start_index, september_end_index)\n",
    "october_albedo_wy2001 = MonthlyAlbedo(wy2001_albedo, october_start_index, october_end_index)\n",
    "november_albedo_wy2001 = MonthlyAlbedo(wy2001_albedo, november_start_index, november_end_index)\n",
    "december_albedo_wy2001 = MonthlyAlbedo(wy2001_albedo, december_start_index, december_end_index)\n",
    "\n",
    "# wy2001_monthly_mean_albedo_stack = array([january_albedo_wy2001, february_albedo_wy2001, march_albedo_wy2001, april_albedo_wy2001,\n",
    "#                                       may_albedo_wy2001, june_albedo_wy2001, july_albedo_wy2001, august_albedo_wy2001, \n",
    "#                                        september_albedo_wy2001, october_albedo_wy2001, november_albedo_wy2001, december_albedo_wy2001])\n",
    "\n",
    "# CreateGeoTiffStack('stacked_tiffs/wy2001_monthly_mean_albedo_stack.tif', wy2001_monthly_mean_albedo_stack, ReferencingMatrix, Projection)"
   ]
  },
  {
   "cell_type": "code",
   "execution_count": 97,
   "id": "6e1bf25a-8f1c-4857-9735-136a806635c0",
   "metadata": {},
   "outputs": [],
   "source": [
    "# wy2002\n",
    "january_albedo_wy2002 = MonthlyAlbedo(wy2002_albedo, january_start_index, january_end_index)\n",
    "february_albedo_wy2002 = MonthlyAlbedo(wy2002_albedo, february_start_index, february_end_index)\n",
    "march_albedo_wy2002 = MonthlyAlbedo(wy2002_albedo, march_start_index, march_end_index)\n",
    "april_albedo_wy2002 = MonthlyAlbedo(wy2002_albedo, april_start_index, april_end_index)\n",
    "may_albedo_wy2002 = MonthlyAlbedo(wy2002_albedo, may_start_index, may_end_index)\n",
    "june_albedo_wy2002 = MonthlyAlbedo(wy2002_albedo, june_start_index, june_end_index)\n",
    "july_albedo_wy2002 = MonthlyAlbedo(wy2002_albedo, july_start_index, july_end_index)\n",
    "august_albedo_wy2002 = MonthlyAlbedo(wy2002_albedo, august_start_index, august_end_index)\n",
    "september_albedo_wy2002 = MonthlyAlbedo(wy2002_albedo, september_start_index, september_end_index)\n",
    "october_albedo_wy2002 = MonthlyAlbedo(wy2002_albedo, october_start_index, october_end_index)\n",
    "november_albedo_wy2002 = MonthlyAlbedo(wy2002_albedo, november_start_index, november_end_index)\n",
    "december_albedo_wy2002 = MonthlyAlbedo(wy2002_albedo, december_start_index, december_end_index)\n",
    "\n",
    "# wy2002_monthly_mean_albedo_stack = array([january_albedo_wy2002, february_albedo_wy2002, march_albedo_wy2002, april_albedo_wy2002,\n",
    "#                                       may_albedo_wy2002, june_albedo_wy2002, july_albedo_wy2002, august_albedo_wy2002, \n",
    "#                                        september_albedo_wy2002, october_albedo_wy2002, november_albedo_wy2002, december_albedo_wy2002])\n",
    "\n",
    "# CreateGeoTiffStack('stacked_tiffs/wy2002_monthly_mean_albedo_stack.tif', wy2002_monthly_mean_albedo_stack, ReferencingMatrix, Projection)"
   ]
  },
  {
   "cell_type": "code",
   "execution_count": 98,
   "id": "779bced0-5eb6-46b0-a4d3-c2a249920565",
   "metadata": {},
   "outputs": [],
   "source": [
    "# wy2003\n",
    "january_albedo_wy2003 = MonthlyAlbedo(wy2003_albedo, january_start_index, january_end_index)\n",
    "february_albedo_wy2003 = MonthlyAlbedo(wy2003_albedo, february_start_index, february_end_index)\n",
    "march_albedo_wy2003 = MonthlyAlbedo(wy2003_albedo, march_start_index, march_end_index)\n",
    "april_albedo_wy2003 = MonthlyAlbedo(wy2003_albedo, april_start_index, april_end_index)\n",
    "may_albedo_wy2003 = MonthlyAlbedo(wy2003_albedo, may_start_index, may_end_index)\n",
    "june_albedo_wy2003 = MonthlyAlbedo(wy2003_albedo, june_start_index, june_end_index)\n",
    "july_albedo_wy2003 = MonthlyAlbedo(wy2003_albedo, july_start_index, july_end_index)\n",
    "august_albedo_wy2003 = MonthlyAlbedo(wy2003_albedo, august_start_index, august_end_index)\n",
    "september_albedo_wy2003 = MonthlyAlbedo(wy2003_albedo, september_start_index, september_end_index)\n",
    "october_albedo_wy2003 = MonthlyAlbedo(wy2003_albedo, october_start_index, october_end_index)\n",
    "november_albedo_wy2003 = MonthlyAlbedo(wy2003_albedo, november_start_index, november_end_index)\n",
    "december_albedo_wy2003 = MonthlyAlbedo(wy2003_albedo, december_start_index, december_end_index)\n",
    "\n",
    "# wy2003_monthly_mean_albedo_stack = array([january_albedo_wy2003, february_albedo_wy2003, march_albedo_wy2003, april_albedo_wy2003,\n",
    "#                                       may_albedo_wy2003, june_albedo_wy2003, july_albedo_wy2003, august_albedo_wy2003, \n",
    "#                                        september_albedo_wy2003, october_albedo_wy2003, november_albedo_wy2003, december_albedo_wy2003])\n",
    "\n",
    "# CreateGeoTiffStack('stacked_tiffs/wy2003_monthly_mean_albedo_stack.tif', wy2003_monthly_mean_albedo_stack, ReferencingMatrix, Projection)"
   ]
  },
  {
   "cell_type": "code",
   "execution_count": 99,
   "id": "9d178991-5363-40dc-a1d3-1511026d7b95",
   "metadata": {},
   "outputs": [],
   "source": [
    "#warnings.filterwarnings('ignore')\n",
    "\n",
    "# wy2004\n",
    "january_albedo_wy2004 = MonthlyAlbedo(wy2004_albedo, january_start_index, january_end_index)\n",
    "february_albedo_wy2004 = MonthlyAlbedo(wy2004_albedo, february_leapyear_start_index, february_leapyear_end_index)\n",
    "march_albedo_wy2004 = MonthlyAlbedo(wy2004_albedo, march_leapyear_start_index, march_leapyear_end_index)\n",
    "april_albedo_wy2004 = MonthlyAlbedo(wy2004_albedo, april_leapyear_start_index, april_leapyear_end_index)\n",
    "may_albedo_wy2004 = MonthlyAlbedo(wy2004_albedo, may_leapyear_start_index, may_leapyear_end_index)\n",
    "june_albedo_wy2004 = MonthlyAlbedo(wy2004_albedo, june_leapyear_start_index, june_leapyear_end_index)\n",
    "july_albedo_wy2004 = MonthlyAlbedo(wy2004_albedo, july_leapyear_start_index, july_leapyear_end_index)\n",
    "august_albedo_wy2004 = MonthlyAlbedo(wy2004_albedo, august_leapyear_start_index, august_leapyear_end_index)\n",
    "september_albedo_wy2004 = MonthlyAlbedo(wy2004_albedo, september_leapyear_start_index, september_leapyear_end_index)\n",
    "october_albedo_wy2004 = MonthlyAlbedo(wy2004_albedo, october_start_index, october_end_index)\n",
    "november_albedo_wy2004 = MonthlyAlbedo(wy2004_albedo, november_start_index, november_end_index)\n",
    "december_albedo_wy2004 = MonthlyAlbedo(wy2004_albedo, december_start_index, december_end_index)\n",
    "\n",
    "# wy2004_monthly_mean_albedo_stack = array([january_albedo_wy2004, february_albedo_wy2004, march_albedo_wy2004, april_albedo_wy2004,\n",
    "#                                       may_albedo_wy2004, june_albedo_wy2004, july_albedo_wy2004, august_albedo_wy2004, \n",
    "#                                        september_albedo_wy2004, october_albedo_wy2004, november_albedo_wy2004, december_albedo_wy2004])\n",
    "\n",
    "# CreateGeoTiffStack('stacked_tiffs/wy2004_monthly_mean_albedo_stack.tif', wy2004_monthly_mean_albedo_stack, ReferencingMatrix, Projection)"
   ]
  },
  {
   "cell_type": "code",
   "execution_count": 100,
   "id": "8f578226-8db5-4902-b703-3bd5cb3b0b28",
   "metadata": {},
   "outputs": [],
   "source": [
    "# wy2005\n",
    "january_albedo_wy2005 = MonthlyAlbedo(wy2005_albedo, january_start_index, january_end_index)\n",
    "february_albedo_wy2005 = MonthlyAlbedo(wy2005_albedo, february_start_index, february_end_index)\n",
    "march_albedo_wy2005 = MonthlyAlbedo(wy2005_albedo, march_start_index, march_end_index)\n",
    "april_albedo_wy2005 = MonthlyAlbedo(wy2005_albedo, april_start_index, april_end_index)\n",
    "may_albedo_wy2005 = MonthlyAlbedo(wy2005_albedo, may_start_index, may_end_index)\n",
    "june_albedo_wy2005 = MonthlyAlbedo(wy2005_albedo, june_start_index, june_end_index)\n",
    "july_albedo_wy2005 = MonthlyAlbedo(wy2005_albedo, july_start_index, july_end_index)\n",
    "august_albedo_wy2005 = MonthlyAlbedo(wy2005_albedo, august_start_index, august_end_index)\n",
    "september_albedo_wy2005 = MonthlyAlbedo(wy2005_albedo, september_start_index, september_end_index)\n",
    "october_albedo_wy2005 = MonthlyAlbedo(wy2005_albedo, october_start_index, october_end_index)\n",
    "november_albedo_wy2005 = MonthlyAlbedo(wy2005_albedo, november_start_index, november_end_index)\n",
    "december_albedo_wy2005 = MonthlyAlbedo(wy2005_albedo, december_start_index, december_end_index)\n",
    "\n",
    "# wy2005_monthly_mean_albedo_stack = array([january_albedo_wy2005, february_albedo_wy2005, march_albedo_wy2005, april_albedo_wy2005,\n",
    "#                                       may_albedo_wy2005, june_albedo_wy2005, july_albedo_wy2005, august_albedo_wy2005, \n",
    "#                                        september_albedo_wy2005, october_albedo_wy2005, november_albedo_wy2005, december_albedo_wy2005])\n",
    "\n",
    "# CreateGeoTiffStack('stacked_tiffs/wy2005_monthly_mean_albedo_stack.tif', wy2005_monthly_mean_albedo_stack, ReferencingMatrix, Projection)"
   ]
  },
  {
   "cell_type": "code",
   "execution_count": 101,
   "id": "ff53fc70-5831-4963-9cdf-bffea2aecd70",
   "metadata": {},
   "outputs": [],
   "source": [
    "# wy2006\n",
    "january_albedo_wy2006 = MonthlyAlbedo(wy2006_albedo, january_start_index, january_end_index)\n",
    "february_albedo_wy2006 = MonthlyAlbedo(wy2006_albedo, february_start_index, february_end_index)\n",
    "march_albedo_wy2006 = MonthlyAlbedo(wy2006_albedo, march_start_index, march_end_index)\n",
    "april_albedo_wy2006 = MonthlyAlbedo(wy2006_albedo, april_start_index, april_end_index)\n",
    "may_albedo_wy2006 = MonthlyAlbedo(wy2006_albedo, may_start_index, may_end_index)\n",
    "june_albedo_wy2006 = MonthlyAlbedo(wy2006_albedo, june_start_index, june_end_index)\n",
    "july_albedo_wy2006 = MonthlyAlbedo(wy2006_albedo, july_start_index, july_end_index)\n",
    "august_albedo_wy2006 = MonthlyAlbedo(wy2006_albedo, august_start_index, august_end_index)\n",
    "september_albedo_wy2006 = MonthlyAlbedo(wy2006_albedo, september_start_index, september_end_index)\n",
    "october_albedo_wy2006 = MonthlyAlbedo(wy2006_albedo, october_start_index, october_end_index)\n",
    "november_albedo_wy2006 = MonthlyAlbedo(wy2006_albedo, november_start_index, november_end_index)\n",
    "december_albedo_wy2006 = MonthlyAlbedo(wy2006_albedo, december_start_index, december_end_index)\n",
    "\n",
    "# wy2006_monthly_mean_albedo_stack = array([january_albedo_wy2006, february_albedo_wy2006, march_albedo_wy2006, april_albedo_wy2006,\n",
    "#                                       may_albedo_wy2006, june_albedo_wy2006, july_albedo_wy2006, august_albedo_wy2006, \n",
    "#                                        september_albedo_wy2006, october_albedo_wy2006, november_albedo_wy2006, december_albedo_wy2006])\n",
    "\n",
    "# CreateGeoTiffStack('stacked_tiffs/wy2006_monthly_mean_albedo_stack.tif', wy2006_monthly_mean_albedo_stack, ReferencingMatrix, Projection)"
   ]
  },
  {
   "cell_type": "code",
   "execution_count": 102,
   "id": "6b3a1e39-3d21-4f7b-8cda-2e0f9af9bd56",
   "metadata": {},
   "outputs": [],
   "source": [
    "# wy2007\n",
    "january_albedo_wy2007 = MonthlyAlbedo(wy2007_albedo, january_start_index, january_end_index)\n",
    "february_albedo_wy2007 = MonthlyAlbedo(wy2007_albedo, february_start_index, february_end_index)\n",
    "march_albedo_wy2007 = MonthlyAlbedo(wy2007_albedo, march_start_index, march_end_index)\n",
    "april_albedo_wy2007 = MonthlyAlbedo(wy2007_albedo, april_start_index, april_end_index)\n",
    "may_albedo_wy2007 = MonthlyAlbedo(wy2007_albedo, may_start_index, may_end_index)\n",
    "june_albedo_wy2007 = MonthlyAlbedo(wy2007_albedo, june_start_index, june_end_index)\n",
    "july_albedo_wy2007 = MonthlyAlbedo(wy2007_albedo, july_start_index, july_end_index)\n",
    "august_albedo_wy2007 = MonthlyAlbedo(wy2007_albedo, august_start_index, august_end_index)\n",
    "september_albedo_wy2007 = MonthlyAlbedo(wy2007_albedo, september_start_index, september_end_index)\n",
    "october_albedo_wy2007 = MonthlyAlbedo(wy2007_albedo, october_start_index, october_end_index)\n",
    "november_albedo_wy2007 = MonthlyAlbedo(wy2007_albedo, november_start_index, november_end_index)\n",
    "december_albedo_wy2007 = MonthlyAlbedo(wy2007_albedo, december_start_index, december_end_index)\n",
    "\n",
    "# wy2007_monthly_mean_albedo_stack = array([january_albedo_wy2007, february_albedo_wy2007, march_albedo_wy2007, april_albedo_wy2007,\n",
    "#                                       may_albedo_wy2007, june_albedo_wy2007, july_albedo_wy2007, august_albedo_wy2007, \n",
    "#                                        september_albedo_wy2007, october_albedo_wy2007, november_albedo_wy2007, december_albedo_wy2007])\n",
    "\n",
    "# CreateGeoTiffStack('stacked_tiffs/wy2007_monthly_mean_albedo_stack.tif', wy2007_monthly_mean_albedo_stack, ReferencingMatrix, Projection)"
   ]
  },
  {
   "cell_type": "code",
   "execution_count": 103,
   "id": "f775b78d-8b02-4668-b0c8-50b1f58b7bee",
   "metadata": {},
   "outputs": [],
   "source": [
    "# wy2008\n",
    "january_albedo_wy2008 = MonthlyAlbedo(wy2008_albedo, january_start_index, january_end_index)\n",
    "february_albedo_wy2008 = MonthlyAlbedo(wy2008_albedo, february_leapyear_start_index, february_leapyear_end_index)\n",
    "march_albedo_wy2008 = MonthlyAlbedo(wy2008_albedo, march_leapyear_start_index, march_leapyear_end_index)\n",
    "april_albedo_wy2008 = MonthlyAlbedo(wy2008_albedo, april_leapyear_start_index, april_leapyear_end_index)\n",
    "may_albedo_wy2008 = MonthlyAlbedo(wy2008_albedo, may_leapyear_start_index, may_leapyear_end_index)\n",
    "june_albedo_wy2008 = MonthlyAlbedo(wy2008_albedo, june_leapyear_start_index, june_leapyear_end_index)\n",
    "july_albedo_wy2008 = MonthlyAlbedo(wy2008_albedo, july_leapyear_start_index, july_leapyear_end_index)\n",
    "august_albedo_wy2008 = MonthlyAlbedo(wy2008_albedo, august_leapyear_start_index, august_leapyear_end_index)\n",
    "september_albedo_wy2008 = MonthlyAlbedo(wy2008_albedo, september_leapyear_start_index, september_leapyear_end_index)\n",
    "october_albedo_wy2008 = MonthlyAlbedo(wy2008_albedo, october_start_index, october_end_index)\n",
    "november_albedo_wy2008 = MonthlyAlbedo(wy2008_albedo, november_start_index, november_end_index)\n",
    "december_albedo_wy2008 = MonthlyAlbedo(wy2008_albedo, december_start_index, december_end_index)\n",
    "\n",
    "# wy2008_monthly_mean_albedo_stack = array([january_albedo_wy2008, february_albedo_wy2008, march_albedo_wy2008, april_albedo_wy2008,\n",
    "#                                       may_albedo_wy2008, june_albedo_wy2008, july_albedo_wy2008, august_albedo_wy2008, \n",
    "#                                        september_albedo_wy2008, october_albedo_wy2008, november_albedo_wy2008, december_albedo_wy2008])\n",
    "\n",
    "# CreateGeoTiffStack('stacked_tiffs/wy2008_monthly_mean_albedo_stack.tif', wy2008_monthly_mean_albedo_stack, ReferencingMatrix, Projection)"
   ]
  },
  {
   "cell_type": "code",
   "execution_count": 104,
   "id": "fa220ad2-6977-4ac3-8cac-321ea38db60c",
   "metadata": {},
   "outputs": [],
   "source": [
    "# wy2009\n",
    "january_albedo_wy2009 = MonthlyAlbedo(wy2009_albedo, january_start_index, january_end_index)\n",
    "february_albedo_wy2009 = MonthlyAlbedo(wy2009_albedo, february_start_index, february_end_index)\n",
    "march_albedo_wy2009 = MonthlyAlbedo(wy2009_albedo, march_start_index, march_end_index)\n",
    "april_albedo_wy2009 = MonthlyAlbedo(wy2009_albedo, april_start_index, april_end_index)\n",
    "may_albedo_wy2009 = MonthlyAlbedo(wy2009_albedo, may_start_index, may_end_index)\n",
    "june_albedo_wy2009 = MonthlyAlbedo(wy2009_albedo, june_start_index, june_end_index)\n",
    "july_albedo_wy2009 = MonthlyAlbedo(wy2009_albedo, july_start_index, july_end_index)\n",
    "august_albedo_wy2009 = MonthlyAlbedo(wy2009_albedo, august_start_index, august_end_index)\n",
    "september_albedo_wy2009 = MonthlyAlbedo(wy2009_albedo, september_start_index, september_end_index)\n",
    "october_albedo_wy2009 = MonthlyAlbedo(wy2009_albedo, october_start_index, october_end_index)\n",
    "november_albedo_wy2009 = MonthlyAlbedo(wy2009_albedo, november_start_index, november_end_index)\n",
    "december_albedo_wy2009 = MonthlyAlbedo(wy2009_albedo, december_start_index, december_end_index)\n",
    "\n",
    "# wy2009_monthly_mean_albedo_stack = array([january_albedo_wy2009, february_albedo_wy2009, march_albedo_wy2009, april_albedo_wy2009,\n",
    "#                                       may_albedo_wy2009, june_albedo_wy2009, july_albedo_wy2009, august_albedo_wy2009, \n",
    "#                                        september_albedo_wy2009, october_albedo_wy2009, november_albedo_wy2009, december_albedo_wy2009])\n",
    "\n",
    "# CreateGeoTiffStack('stacked_tiffs/wy2009_monthly_mean_albedo_stack.tif', wy2009_monthly_mean_albedo_stack, ReferencingMatrix, Projection)"
   ]
  },
  {
   "cell_type": "code",
   "execution_count": 105,
   "id": "b1851391-f9cb-4d33-8cbb-87048363dc4c",
   "metadata": {},
   "outputs": [],
   "source": [
    "# wy2010\n",
    "january_albedo_wy2010 = MonthlyAlbedo(wy2010_albedo, january_start_index, january_end_index)\n",
    "february_albedo_wy2010 = MonthlyAlbedo(wy2010_albedo, february_start_index, february_end_index)\n",
    "march_albedo_wy2010 = MonthlyAlbedo(wy2010_albedo, march_start_index, march_end_index)\n",
    "april_albedo_wy2010 = MonthlyAlbedo(wy2010_albedo, april_start_index, april_end_index)\n",
    "may_albedo_wy2010 = MonthlyAlbedo(wy2010_albedo, may_start_index, may_end_index)\n",
    "june_albedo_wy2010 = MonthlyAlbedo(wy2010_albedo, june_start_index, june_end_index)\n",
    "july_albedo_wy2010 = MonthlyAlbedo(wy2010_albedo, july_start_index, july_end_index)\n",
    "august_albedo_wy2010 = MonthlyAlbedo(wy2010_albedo, august_start_index, august_end_index)\n",
    "september_albedo_wy2010 = MonthlyAlbedo(wy2010_albedo, september_start_index, september_end_index)\n",
    "october_albedo_wy2010 = MonthlyAlbedo(wy2010_albedo, october_start_index, october_end_index)\n",
    "november_albedo_wy2010 = MonthlyAlbedo(wy2010_albedo, november_start_index, november_end_index)\n",
    "december_albedo_wy2010 = MonthlyAlbedo(wy2010_albedo, december_start_index, december_end_index)\n",
    "\n",
    "# wy2010_monthly_mean_albedo_stack = array([january_albedo_wy2010, february_albedo_wy2010, march_albedo_wy2010, april_albedo_wy2010,\n",
    "#                                       may_albedo_wy2010, june_albedo_wy2010, july_albedo_wy2010, august_albedo_wy2010, \n",
    "#                                        september_albedo_wy2010, october_albedo_wy2010, november_albedo_wy2010, december_albedo_wy2010])\n",
    "\n",
    "# CreateGeoTiffStack('stacked_tiffs/wy2010_monthly_mean_albedo_stack.tif', wy2010_monthly_mean_albedo_stack, ReferencingMatrix, Projection)"
   ]
  },
  {
   "cell_type": "code",
   "execution_count": 106,
   "id": "1ee3dfac-e7ce-404c-83e0-5c67d513732c",
   "metadata": {},
   "outputs": [],
   "source": [
    "# wy2011\n",
    "january_albedo_wy2011 = MonthlyAlbedo(wy2011_albedo, january_start_index, january_end_index)\n",
    "february_albedo_wy2011 = MonthlyAlbedo(wy2011_albedo, february_start_index, february_end_index)\n",
    "march_albedo_wy2011 = MonthlyAlbedo(wy2011_albedo, march_start_index, march_end_index)\n",
    "april_albedo_wy2011 = MonthlyAlbedo(wy2011_albedo, april_start_index, april_end_index)\n",
    "may_albedo_wy2011 = MonthlyAlbedo(wy2011_albedo, may_start_index, may_end_index)\n",
    "june_albedo_wy2011 = MonthlyAlbedo(wy2011_albedo, june_start_index, june_end_index)\n",
    "july_albedo_wy2011 = MonthlyAlbedo(wy2011_albedo, july_start_index, july_end_index)\n",
    "august_albedo_wy2011 = MonthlyAlbedo(wy2011_albedo, august_start_index, august_end_index)\n",
    "september_albedo_wy2011 = MonthlyAlbedo(wy2011_albedo, september_start_index, september_end_index)\n",
    "october_albedo_wy2011 = MonthlyAlbedo(wy2011_albedo, october_start_index, october_end_index)\n",
    "november_albedo_wy2011 = MonthlyAlbedo(wy2011_albedo, november_start_index, november_end_index)\n",
    "december_albedo_wy2011 = MonthlyAlbedo(wy2011_albedo, december_start_index, december_end_index)\n",
    "\n",
    "# wy2011_monthly_mean_albedo_stack = array([january_albedo_wy2011, february_albedo_wy2011, march_albedo_wy2011, april_albedo_wy2011,\n",
    "#                                       may_albedo_wy2011, june_albedo_wy2011, july_albedo_wy2011, august_albedo_wy2011, \n",
    "#                                        september_albedo_wy2011, october_albedo_wy2011, november_albedo_wy2011, december_albedo_wy2011])\n",
    "\n",
    "# CreateGeoTiffStack('stacked_tiffs/wy2011_monthly_mean_albedo_stack.tif', wy2011_monthly_mean_albedo_stack, ReferencingMatrix, Projection)"
   ]
  },
  {
   "cell_type": "code",
   "execution_count": 107,
   "id": "ee929204-8366-41cd-b946-c57ec4c64af3",
   "metadata": {},
   "outputs": [],
   "source": [
    "# wy2012\n",
    "january_albedo_wy2012 = MonthlyAlbedo(wy2012_albedo, january_start_index, january_end_index)\n",
    "february_albedo_wy2012 = MonthlyAlbedo(wy2012_albedo, february_leapyear_start_index, february_leapyear_end_index)\n",
    "march_albedo_wy2012 = MonthlyAlbedo(wy2012_albedo, march_leapyear_start_index, march_leapyear_end_index)\n",
    "april_albedo_wy2012 = MonthlyAlbedo(wy2012_albedo, april_leapyear_start_index, april_leapyear_end_index)\n",
    "may_albedo_wy2012 = MonthlyAlbedo(wy2012_albedo, may_leapyear_start_index, may_leapyear_end_index)\n",
    "june_albedo_wy2012 = MonthlyAlbedo(wy2012_albedo, june_leapyear_start_index, june_leapyear_end_index)\n",
    "july_albedo_wy2012 = MonthlyAlbedo(wy2012_albedo, july_leapyear_start_index, july_leapyear_end_index)\n",
    "august_albedo_wy2012 = MonthlyAlbedo(wy2012_albedo, august_leapyear_start_index, august_leapyear_end_index)\n",
    "september_albedo_wy2012 = MonthlyAlbedo(wy2012_albedo, september_leapyear_start_index, september_leapyear_end_index)\n",
    "october_albedo_wy2012 = MonthlyAlbedo(wy2012_albedo, october_start_index, october_end_index)\n",
    "november_albedo_wy2012 = MonthlyAlbedo(wy2012_albedo, november_start_index, november_end_index)\n",
    "december_albedo_wy2012 = MonthlyAlbedo(wy2012_albedo, december_start_index, december_end_index)\n",
    "\n",
    "# wy2012_monthly_mean_albedo_stack = array([january_albedo_wy2012, february_albedo_wy2012, march_albedo_wy2012, april_albedo_wy2012,\n",
    "#                                       may_albedo_wy2012, june_albedo_wy2012, july_albedo_wy2012, august_albedo_wy2012, \n",
    "#                                        september_albedo_wy2012, october_albedo_wy2012, november_albedo_wy2012, december_albedo_wy2012])\n",
    "\n",
    "# CreateGeoTiffStack('stacked_tiffs/wy2012_monthly_mean_albedo_stack.tif', wy2012_monthly_mean_albedo_stack, ReferencingMatrix, Projection)"
   ]
  },
  {
   "cell_type": "code",
   "execution_count": 108,
   "id": "521f9a9d-5dd1-4113-b1df-e0f6f1458255",
   "metadata": {},
   "outputs": [],
   "source": [
    "# wy2013\n",
    "january_albedo_wy2013 = MonthlyAlbedo(wy2013_albedo, january_start_index, january_end_index)\n",
    "february_albedo_wy2013 = MonthlyAlbedo(wy2013_albedo, february_start_index, february_end_index)\n",
    "march_albedo_wy2013 = MonthlyAlbedo(wy2013_albedo, march_start_index, march_end_index)\n",
    "april_albedo_wy2013 = MonthlyAlbedo(wy2013_albedo, april_start_index, april_end_index)\n",
    "may_albedo_wy2013 = MonthlyAlbedo(wy2013_albedo, may_start_index, may_end_index)\n",
    "june_albedo_wy2013 = MonthlyAlbedo(wy2013_albedo, june_start_index, june_end_index)\n",
    "july_albedo_wy2013 = MonthlyAlbedo(wy2013_albedo, july_start_index, july_end_index)\n",
    "august_albedo_wy2013 = MonthlyAlbedo(wy2013_albedo, august_start_index, august_end_index)\n",
    "september_albedo_wy2013 = MonthlyAlbedo(wy2013_albedo, september_start_index, september_end_index)\n",
    "october_albedo_wy2013 = MonthlyAlbedo(wy2013_albedo, october_start_index, october_end_index)\n",
    "november_albedo_wy2013 = MonthlyAlbedo(wy2013_albedo, november_start_index, november_end_index)\n",
    "december_albedo_wy2013 = MonthlyAlbedo(wy2013_albedo, december_start_index, december_end_index)\n",
    "\n",
    "# wy2013_monthly_mean_albedo_stack = array([january_albedo_wy2013, february_albedo_wy2013, march_albedo_wy2013, april_albedo_wy2013,\n",
    "#                                       may_albedo_wy2013, june_albedo_wy2013, july_albedo_wy2013, august_albedo_wy2013, \n",
    "#                                        september_albedo_wy2013, october_albedo_wy2013, november_albedo_wy2013, december_albedo_wy2013])\n",
    "\n",
    "# CreateGeoTiffStack('stacked_tiffs/wy2013_monthly_mean_albedo_stack.tif', wy2013_monthly_mean_albedo_stack, ReferencingMatrix, Projection)"
   ]
  },
  {
   "cell_type": "code",
   "execution_count": 109,
   "id": "b0e9ac8a-9910-478d-943d-933466e0f2cb",
   "metadata": {},
   "outputs": [],
   "source": [
    "# wy2014\n",
    "january_albedo_wy2014 = MonthlyAlbedo(wy2014_albedo, january_start_index, january_end_index)\n",
    "february_albedo_wy2014 = MonthlyAlbedo(wy2014_albedo, february_start_index, february_end_index)\n",
    "march_albedo_wy2014 = MonthlyAlbedo(wy2014_albedo, march_start_index, march_end_index)\n",
    "april_albedo_wy2014 = MonthlyAlbedo(wy2014_albedo, april_start_index, april_end_index)\n",
    "may_albedo_wy2014 = MonthlyAlbedo(wy2014_albedo, may_start_index, may_end_index)\n",
    "june_albedo_wy2014 = MonthlyAlbedo(wy2014_albedo, june_start_index, june_end_index)\n",
    "july_albedo_wy2014 = MonthlyAlbedo(wy2014_albedo, july_start_index, july_end_index)\n",
    "august_albedo_wy2014 = MonthlyAlbedo(wy2014_albedo, august_start_index, august_end_index)\n",
    "september_albedo_wy2014 = MonthlyAlbedo(wy2014_albedo, september_start_index, september_end_index)\n",
    "october_albedo_wy2014 = MonthlyAlbedo(wy2014_albedo, october_start_index, october_end_index)\n",
    "november_albedo_wy2014 = MonthlyAlbedo(wy2014_albedo, november_start_index, november_end_index)\n",
    "december_albedo_wy2014 = MonthlyAlbedo(wy2014_albedo, december_start_index, december_end_index)\n",
    "\n",
    "# wy2014_monthly_mean_albedo_stack = array([january_albedo_wy2014, february_albedo_wy2014, march_albedo_wy2014, april_albedo_wy2014,\n",
    "#                                       may_albedo_wy2014, june_albedo_wy2014, july_albedo_wy2014, august_albedo_wy2014, \n",
    "#                                        september_albedo_wy2014, october_albedo_wy2014, november_albedo_wy2014, december_albedo_wy2014])\n",
    "\n",
    "# CreateGeoTiffStack('stacked_tiffs/wy2014_monthly_mean_albedo_stack.tif', wy2014_monthly_mean_albedo_stack, ReferencingMatrix, Projection)"
   ]
  },
  {
   "cell_type": "code",
   "execution_count": 110,
   "id": "9d9447bb-4b67-4157-ae65-71e46c5b96e2",
   "metadata": {},
   "outputs": [],
   "source": [
    "# wy2015\n",
    "january_albedo_wy2015 = MonthlyAlbedo(wy2015_albedo, january_start_index, january_end_index)\n",
    "february_albedo_wy2015 = MonthlyAlbedo(wy2015_albedo, february_start_index, february_end_index)\n",
    "march_albedo_wy2015 = MonthlyAlbedo(wy2015_albedo, march_start_index, march_end_index)\n",
    "april_albedo_wy2015 = MonthlyAlbedo(wy2015_albedo, april_start_index, april_end_index)\n",
    "may_albedo_wy2015 = MonthlyAlbedo(wy2015_albedo, may_start_index, may_end_index)\n",
    "june_albedo_wy2015 = MonthlyAlbedo(wy2015_albedo, june_start_index, june_end_index)\n",
    "july_albedo_wy2015 = MonthlyAlbedo(wy2015_albedo, july_start_index, july_end_index)\n",
    "august_albedo_wy2015 = MonthlyAlbedo(wy2015_albedo, august_start_index, august_end_index)\n",
    "september_albedo_wy2015 = MonthlyAlbedo(wy2015_albedo, september_start_index, september_end_index)\n",
    "october_albedo_wy2015 = MonthlyAlbedo(wy2015_albedo, october_start_index, october_end_index)\n",
    "november_albedo_wy2015 = MonthlyAlbedo(wy2015_albedo, november_start_index, november_end_index)\n",
    "december_albedo_wy2015 = MonthlyAlbedo(wy2015_albedo, december_start_index, december_end_index)\n",
    "\n",
    "# wy2015_monthly_mean_albedo_stack = array([january_albedo_wy2015, february_albedo_wy2015, march_albedo_wy2015, april_albedo_wy2015,\n",
    "#                                       may_albedo_wy2015, june_albedo_wy2015, july_albedo_wy2015, august_albedo_wy2015, \n",
    "#                                        september_albedo_wy2015, october_albedo_wy2015, november_albedo_wy2015, december_albedo_wy2015])\n",
    "\n",
    "# CreateGeoTiffStack('stacked_tiffs/wy2015_monthly_mean_albedo_stack.tif', wy2015_monthly_mean_albedo_stack, ReferencingMatrix, Projection)"
   ]
  },
  {
   "cell_type": "code",
   "execution_count": 111,
   "id": "b1ef258d-26ab-4fdf-8a6a-87fec36cbb71",
   "metadata": {},
   "outputs": [],
   "source": [
    "# wy2016\n",
    "january_albedo_wy2016 = MonthlyAlbedo(wy2016_albedo, january_start_index, january_end_index)\n",
    "february_albedo_wy2016 = MonthlyAlbedo(wy2016_albedo, february_leapyear_start_index, february_leapyear_end_index)\n",
    "march_albedo_wy2016 = MonthlyAlbedo(wy2016_albedo, march_leapyear_start_index, march_leapyear_end_index)\n",
    "april_albedo_wy2016 = MonthlyAlbedo(wy2016_albedo, april_leapyear_start_index, april_leapyear_end_index)\n",
    "may_albedo_wy2016 = MonthlyAlbedo(wy2016_albedo, may_leapyear_start_index, may_leapyear_end_index)\n",
    "june_albedo_wy2016 = MonthlyAlbedo(wy2016_albedo, june_leapyear_start_index, june_leapyear_end_index)\n",
    "july_albedo_wy2016 = MonthlyAlbedo(wy2016_albedo, july_leapyear_start_index, july_leapyear_end_index)\n",
    "august_albedo_wy2016 = MonthlyAlbedo(wy2016_albedo, august_leapyear_start_index, august_leapyear_end_index)\n",
    "september_albedo_wy2016 = MonthlyAlbedo(wy2016_albedo, september_leapyear_start_index, september_leapyear_end_index)\n",
    "october_albedo_wy2016 = MonthlyAlbedo(wy2016_albedo, october_start_index, october_end_index)\n",
    "november_albedo_wy2016 = MonthlyAlbedo(wy2016_albedo, november_start_index, november_end_index)\n",
    "december_albedo_wy2016 = MonthlyAlbedo(wy2016_albedo, december_start_index, december_end_index)\n",
    "\n",
    "# wy2016_monthly_mean_albedo_stack = array([january_albedo_wy2016, february_albedo_wy2016, march_albedo_wy2016, april_albedo_wy2016,\n",
    "#                                       may_albedo_wy2016, june_albedo_wy2016, july_albedo_wy2016, august_albedo_wy2016, \n",
    "#                                        september_albedo_wy2016, october_albedo_wy2016, november_albedo_wy2016, december_albedo_wy2016])\n",
    "\n",
    "# CreateGeoTiffStack('stacked_tiffs/wy2016_monthly_mean_albedo_stack.tif', wy2016_monthly_mean_albedo_stack, ReferencingMatrix, Projection)"
   ]
  },
  {
   "cell_type": "code",
   "execution_count": 112,
   "id": "b8f66e27-008c-4e5f-9b7d-fd40bd42db36",
   "metadata": {},
   "outputs": [],
   "source": [
    "# wy2017\n",
    "january_albedo_wy2017 = MonthlyAlbedo(wy2017_albedo, january_start_index, january_end_index)\n",
    "february_albedo_wy2017 = MonthlyAlbedo(wy2017_albedo, february_start_index, february_end_index)\n",
    "march_albedo_wy2017 = MonthlyAlbedo(wy2017_albedo, march_start_index, march_end_index)\n",
    "april_albedo_wy2017 = MonthlyAlbedo(wy2017_albedo, april_start_index, april_end_index)\n",
    "may_albedo_wy2017 = MonthlyAlbedo(wy2017_albedo, may_start_index, may_end_index)\n",
    "june_albedo_wy2017 = MonthlyAlbedo(wy2017_albedo, june_start_index, june_end_index)\n",
    "july_albedo_wy2017 = MonthlyAlbedo(wy2017_albedo, july_start_index, july_end_index)\n",
    "august_albedo_wy2017 = MonthlyAlbedo(wy2017_albedo, august_start_index, august_end_index)\n",
    "september_albedo_wy2017 = MonthlyAlbedo(wy2017_albedo, september_start_index, september_end_index)\n",
    "october_albedo_wy2017 = MonthlyAlbedo(wy2017_albedo, october_start_index, october_end_index)\n",
    "november_albedo_wy2017 = MonthlyAlbedo(wy2017_albedo, november_start_index, november_end_index)\n",
    "december_albedo_wy2017 = MonthlyAlbedo(wy2017_albedo, december_start_index, december_end_index)\n",
    "\n",
    "# wy2017_monthly_mean_albedo_stack = array([january_albedo_wy2017, february_albedo_wy2017, march_albedo_wy2017, april_albedo_wy2017,\n",
    "#                                       may_albedo_wy2017, june_albedo_wy2017, july_albedo_wy2017, august_albedo_wy2017, \n",
    "#                                        september_albedo_wy2017, october_albedo_wy2017, november_albedo_wy2017, december_albedo_wy2017])\n",
    "\n",
    "# CreateGeoTiffStack('stacked_tiffs/wy2017_monthly_mean_albedo_stack.tif', wy2017_monthly_mean_albedo_stack, ReferencingMatrix, Projection)"
   ]
  },
  {
   "cell_type": "code",
   "execution_count": 113,
   "id": "dd83c083-63df-4ec2-84ac-cd68d1b96db2",
   "metadata": {},
   "outputs": [],
   "source": [
    "# wy2018\n",
    "january_albedo_wy2018 = MonthlyAlbedo(wy2018_albedo, january_start_index, january_end_index)\n",
    "february_albedo_wy2018 = MonthlyAlbedo(wy2018_albedo, february_start_index, february_end_index)\n",
    "march_albedo_wy2018 = MonthlyAlbedo(wy2018_albedo, march_start_index, march_end_index)\n",
    "april_albedo_wy2018 = MonthlyAlbedo(wy2018_albedo, april_start_index, april_end_index)\n",
    "may_albedo_wy2018 = MonthlyAlbedo(wy2018_albedo, may_start_index, may_end_index)\n",
    "june_albedo_wy2018 = MonthlyAlbedo(wy2018_albedo, june_start_index, june_end_index)\n",
    "july_albedo_wy2018 = MonthlyAlbedo(wy2018_albedo, july_start_index, july_end_index)\n",
    "august_albedo_wy2018 = MonthlyAlbedo(wy2018_albedo, august_start_index, august_end_index)\n",
    "september_albedo_wy2018 = MonthlyAlbedo(wy2018_albedo, september_start_index, september_end_index)\n",
    "october_albedo_wy2018 = MonthlyAlbedo(wy2018_albedo, october_start_index, october_end_index)\n",
    "november_albedo_wy2018 = MonthlyAlbedo(wy2018_albedo, november_start_index, november_end_index)\n",
    "december_albedo_wy2018 = MonthlyAlbedo(wy2018_albedo, december_start_index, december_end_index)\n",
    "\n",
    "# wy2018_monthly_mean_albedo_stack = array([january_albedo_wy2018, february_albedo_wy2018, march_albedo_wy2018, april_albedo_wy2018,\n",
    "#                                       may_albedo_wy2018, june_albedo_wy2018, july_albedo_wy2018, august_albedo_wy2018, \n",
    "#                                        september_albedo_wy2018, october_albedo_wy2018, november_albedo_wy2018, december_albedo_wy2018])\n",
    "\n",
    "# CreateGeoTiffStack('stacked_tiffs/wy2018_monthly_mean_albedo_stack.tif', wy2018_monthly_mean_albedo_stack, ReferencingMatrix, Projection)"
   ]
  },
  {
   "cell_type": "code",
   "execution_count": 114,
   "id": "d28ff520-b4eb-421f-b77c-e7feebf13e91",
   "metadata": {},
   "outputs": [],
   "source": [
    "# wy2019\n",
    "january_albedo_wy2019 = MonthlyAlbedo(wy2019_albedo, january_start_index, january_end_index)\n",
    "february_albedo_wy2019 = MonthlyAlbedo(wy2019_albedo, february_start_index, february_end_index)\n",
    "march_albedo_wy2019 = MonthlyAlbedo(wy2019_albedo, march_start_index, march_end_index)\n",
    "april_albedo_wy2019 = MonthlyAlbedo(wy2019_albedo, april_start_index, april_end_index)\n",
    "may_albedo_wy2019 = MonthlyAlbedo(wy2019_albedo, may_start_index, may_end_index)\n",
    "june_albedo_wy2019 = MonthlyAlbedo(wy2019_albedo, june_start_index, june_end_index)\n",
    "july_albedo_wy2019 = MonthlyAlbedo(wy2019_albedo, july_start_index, july_end_index)\n",
    "august_albedo_wy2019 = MonthlyAlbedo(wy2019_albedo, august_start_index, august_end_index)\n",
    "september_albedo_wy2019 = MonthlyAlbedo(wy2019_albedo, september_start_index, september_end_index)\n",
    "october_albedo_wy2019 = MonthlyAlbedo(wy2019_albedo, october_start_index, october_end_index)\n",
    "november_albedo_wy2019 = MonthlyAlbedo(wy2019_albedo, november_start_index, november_end_index)\n",
    "december_albedo_wy2019 = MonthlyAlbedo(wy2019_albedo, december_start_index, december_end_index)\n",
    "\n",
    "# wy2019_monthly_mean_albedo_stack = array([january_albedo_wy2019, february_albedo_wy2019, march_albedo_wy2019, april_albedo_wy2019,\n",
    "#                                       may_albedo_wy2019, june_albedo_wy2019, july_albedo_wy2019, august_albedo_wy2019, \n",
    "#                                        september_albedo_wy2019, october_albedo_wy2019, november_albedo_wy2019, december_albedo_wy2019])\n",
    "\n",
    "# CreateGeoTiffStack('stacked_tiffs/wy2019_monthly_mean_albedo_stack.tif', wy2019_monthly_mean_albedo_stack, ReferencingMatrix, Projection)"
   ]
  },
  {
   "cell_type": "code",
   "execution_count": 115,
   "id": "e8d8b28b-8c85-43b5-a634-be37b86c6030",
   "metadata": {},
   "outputs": [],
   "source": [
    "#type(wy2019_monthly_mean_albedo_stack)"
   ]
  },
  {
   "cell_type": "code",
   "execution_count": 189,
   "id": "1274bf59-6646-4c31-a764-b3af256d7041",
   "metadata": {},
   "outputs": [
    {
     "data": {
      "text/plain": [
       "'stacked_tiffs/january_mean_albedo_stack.tif'"
      ]
     },
     "execution_count": 189,
     "metadata": {},
     "output_type": "execute_result"
    }
   ],
   "source": [
    "january_mean_albedo_array = np.array([january_albedo_wy2001, january_albedo_wy2002, january_albedo_wy2003, january_albedo_wy2004, january_albedo_wy2005, \n",
    "                                   january_albedo_wy2006, january_albedo_wy2007, january_albedo_wy2008, january_albedo_wy2009, january_albedo_wy2010, \n",
    "                                   january_albedo_wy2011, january_albedo_wy2012, january_albedo_wy2013, january_albedo_wy2014, january_albedo_wy2015, \n",
    "                                   january_albedo_wy2016, january_albedo_wy2017, january_albedo_wy2018, january_albedo_wy2019])\n",
    "\n",
    "january_mean_albedo = np.nanmean(january_mean_albedo_array, axis = 0)\n",
    "\n",
    "january_mean_albedo_stack = array([january_albedo_wy2001, january_albedo_wy2002, january_albedo_wy2003, january_albedo_wy2004, january_albedo_wy2005,\n",
    "                                   january_albedo_wy2006, january_albedo_wy2007, january_albedo_wy2008, january_albedo_wy2009, january_albedo_wy2010,\n",
    "                                   january_albedo_wy2011, january_albedo_wy2012, january_albedo_wy2013, january_albedo_wy2014, january_albedo_wy2015,\n",
    "                                   january_albedo_wy2016, january_albedo_wy2017, january_albedo_wy2018, january_albedo_wy2019, january_mean_albedo])\n",
    "\n",
    "CreateGeoTiffStack('stacked_tiffs/january_mean_albedo_stack.tif', january_mean_albedo_stack, ReferencingMatrix, Projection)"
   ]
  },
  {
   "cell_type": "code",
   "execution_count": 190,
   "id": "9d816811-5f2e-4e46-9bc2-9b0abea5fe2a",
   "metadata": {},
   "outputs": [
    {
     "data": {
      "text/plain": [
       "'stacked_tiffs/february_mean_albedo_stack.tif'"
      ]
     },
     "execution_count": 190,
     "metadata": {},
     "output_type": "execute_result"
    }
   ],
   "source": [
    "february_mean_albedo_array = np.array([february_albedo_wy2001, february_albedo_wy2002, february_albedo_wy2003, february_albedo_wy2004, february_albedo_wy2005, \n",
    "                                   february_albedo_wy2006, february_albedo_wy2007, february_albedo_wy2008, february_albedo_wy2009, february_albedo_wy2010, \n",
    "                                   february_albedo_wy2011, february_albedo_wy2012, february_albedo_wy2013, february_albedo_wy2014, february_albedo_wy2015, \n",
    "                                   february_albedo_wy2016, february_albedo_wy2017, february_albedo_wy2018, february_albedo_wy2019])\n",
    "\n",
    "february_mean_albedo = np.nanmean(february_mean_albedo_array, axis = 0)\n",
    "\n",
    "february_mean_albedo_stack = array([february_albedo_wy2001, february_albedo_wy2002, february_albedo_wy2003, february_albedo_wy2004, february_albedo_wy2005,\n",
    "                                   february_albedo_wy2006, february_albedo_wy2007, february_albedo_wy2008, february_albedo_wy2009, february_albedo_wy2010,\n",
    "                                   february_albedo_wy2011, february_albedo_wy2012, february_albedo_wy2013, february_albedo_wy2014, february_albedo_wy2015,\n",
    "                                   february_albedo_wy2016, february_albedo_wy2017, february_albedo_wy2018, february_albedo_wy2019, february_mean_albedo])\n",
    "\n",
    "CreateGeoTiffStack('stacked_tiffs/february_mean_albedo_stack.tif', february_mean_albedo_stack, ReferencingMatrix, Projection)"
   ]
  },
  {
   "cell_type": "code",
   "execution_count": 191,
   "id": "df1ca5d7-32cd-4ea5-ac29-3ca2219cbd80",
   "metadata": {},
   "outputs": [
    {
     "data": {
      "text/plain": [
       "'stacked_tiffs/march_mean_albedo_stack.tif'"
      ]
     },
     "execution_count": 191,
     "metadata": {},
     "output_type": "execute_result"
    }
   ],
   "source": [
    "march_mean_albedo_array = np.array([march_albedo_wy2001, march_albedo_wy2002, march_albedo_wy2003, march_albedo_wy2004, march_albedo_wy2005, \n",
    "                                   march_albedo_wy2006, march_albedo_wy2007, march_albedo_wy2008, march_albedo_wy2009, march_albedo_wy2010, \n",
    "                                   march_albedo_wy2011, march_albedo_wy2012, march_albedo_wy2013, march_albedo_wy2014, march_albedo_wy2015, \n",
    "                                   march_albedo_wy2016, march_albedo_wy2017, march_albedo_wy2018, march_albedo_wy2019])\n",
    "\n",
    "march_mean_albedo = np.nanmean(march_mean_albedo_array, axis = 0)\n",
    "\n",
    "march_mean_albedo_stack = array([march_albedo_wy2001, march_albedo_wy2002, march_albedo_wy2003, march_albedo_wy2004, march_albedo_wy2005,\n",
    "                                   march_albedo_wy2006, march_albedo_wy2007, march_albedo_wy2008, march_albedo_wy2009, march_albedo_wy2010,\n",
    "                                   march_albedo_wy2011, march_albedo_wy2012, march_albedo_wy2013, march_albedo_wy2014, march_albedo_wy2015,\n",
    "                                   march_albedo_wy2016, march_albedo_wy2017, march_albedo_wy2018, march_albedo_wy2019, march_mean_albedo])\n",
    "\n",
    "CreateGeoTiffStack('stacked_tiffs/march_mean_albedo_stack.tif', march_mean_albedo_stack, ReferencingMatrix, Projection)"
   ]
  },
  {
   "cell_type": "code",
   "execution_count": 192,
   "id": "b40813e1-ecf5-4db6-b70c-282b59cf72e5",
   "metadata": {},
   "outputs": [
    {
     "data": {
      "text/plain": [
       "'stacked_tiffs/april_mean_albedo_stack.tif'"
      ]
     },
     "execution_count": 192,
     "metadata": {},
     "output_type": "execute_result"
    }
   ],
   "source": [
    "april_mean_albedo_array = np.array([april_albedo_wy2001, april_albedo_wy2002, april_albedo_wy2003, april_albedo_wy2004, april_albedo_wy2005, \n",
    "                                   april_albedo_wy2006, april_albedo_wy2007, april_albedo_wy2008, april_albedo_wy2009, april_albedo_wy2010, \n",
    "                                   april_albedo_wy2011, april_albedo_wy2012, april_albedo_wy2013, april_albedo_wy2014, april_albedo_wy2015, \n",
    "                                   april_albedo_wy2016, april_albedo_wy2017, april_albedo_wy2018, april_albedo_wy2019])\n",
    "\n",
    "april_mean_albedo = np.nanmean(april_mean_albedo_array, axis = 0)\n",
    "\n",
    "april_mean_albedo_stack = array([april_albedo_wy2001, april_albedo_wy2002, april_albedo_wy2003, april_albedo_wy2004, april_albedo_wy2005,\n",
    "                                   april_albedo_wy2006, april_albedo_wy2007, april_albedo_wy2008, april_albedo_wy2009, april_albedo_wy2010,\n",
    "                                   april_albedo_wy2011, april_albedo_wy2012, april_albedo_wy2013, april_albedo_wy2014, april_albedo_wy2015,\n",
    "                                   april_albedo_wy2016, april_albedo_wy2017, april_albedo_wy2018, april_albedo_wy2019, april_mean_albedo])\n",
    "\n",
    "CreateGeoTiffStack('stacked_tiffs/april_mean_albedo_stack.tif', april_mean_albedo_stack, ReferencingMatrix, Projection)"
   ]
  },
  {
   "cell_type": "code",
   "execution_count": 193,
   "id": "5bfe333d-7990-4ff9-ba5d-a143351f2f87",
   "metadata": {},
   "outputs": [
    {
     "data": {
      "text/plain": [
       "'stacked_tiffs/may_mean_albedo_stack.tif'"
      ]
     },
     "execution_count": 193,
     "metadata": {},
     "output_type": "execute_result"
    }
   ],
   "source": [
    "may_mean_albedo_array = np.array([may_albedo_wy2001, may_albedo_wy2002, may_albedo_wy2003, may_albedo_wy2004, may_albedo_wy2005, \n",
    "                                   may_albedo_wy2006, may_albedo_wy2007, may_albedo_wy2008, may_albedo_wy2009, may_albedo_wy2010, \n",
    "                                   may_albedo_wy2011, may_albedo_wy2012, may_albedo_wy2013, may_albedo_wy2014, may_albedo_wy2015, \n",
    "                                   may_albedo_wy2016, may_albedo_wy2017, may_albedo_wy2018, may_albedo_wy2019])\n",
    "\n",
    "may_mean_albedo = np.nanmean(may_mean_albedo_array, axis = 0)\n",
    "\n",
    "may_mean_albedo_stack = array([may_albedo_wy2001, may_albedo_wy2002, may_albedo_wy2003, may_albedo_wy2004, may_albedo_wy2005,\n",
    "                                   may_albedo_wy2006, may_albedo_wy2007, may_albedo_wy2008, may_albedo_wy2009, may_albedo_wy2010,\n",
    "                                   may_albedo_wy2011, may_albedo_wy2012, may_albedo_wy2013, may_albedo_wy2014, may_albedo_wy2015,\n",
    "                                   may_albedo_wy2016, may_albedo_wy2017, may_albedo_wy2018, may_albedo_wy2019, may_mean_albedo])\n",
    "\n",
    "CreateGeoTiffStack('stacked_tiffs/may_mean_albedo_stack.tif', may_mean_albedo_stack, ReferencingMatrix, Projection)"
   ]
  },
  {
   "cell_type": "code",
   "execution_count": 194,
   "id": "16162285-f385-4f28-9641-db55e7cf82cb",
   "metadata": {},
   "outputs": [
    {
     "data": {
      "text/plain": [
       "'stacked_tiffs/june_mean_albedo_stack.tif'"
      ]
     },
     "execution_count": 194,
     "metadata": {},
     "output_type": "execute_result"
    }
   ],
   "source": [
    "june_mean_albedo_array = np.array([june_albedo_wy2001, june_albedo_wy2002, june_albedo_wy2003, june_albedo_wy2004, june_albedo_wy2005, \n",
    "                                   june_albedo_wy2006, june_albedo_wy2007, june_albedo_wy2008, june_albedo_wy2009, june_albedo_wy2010, \n",
    "                                   june_albedo_wy2011, june_albedo_wy2012, june_albedo_wy2013, june_albedo_wy2014, june_albedo_wy2015, \n",
    "                                   june_albedo_wy2016, june_albedo_wy2017, june_albedo_wy2018, june_albedo_wy2019])\n",
    "\n",
    "june_mean_albedo = np.nanmean(june_mean_albedo_array, axis = 0)\n",
    "\n",
    "june_mean_albedo_stack = array([june_albedo_wy2001, june_albedo_wy2002, june_albedo_wy2003, june_albedo_wy2004, june_albedo_wy2005,\n",
    "                                   june_albedo_wy2006, june_albedo_wy2007, june_albedo_wy2008, june_albedo_wy2009, june_albedo_wy2010,\n",
    "                                   june_albedo_wy2011, june_albedo_wy2012, june_albedo_wy2013, june_albedo_wy2014, june_albedo_wy2015,\n",
    "                                   june_albedo_wy2016, june_albedo_wy2017, june_albedo_wy2018, june_albedo_wy2019, june_mean_albedo])\n",
    "\n",
    "CreateGeoTiffStack('stacked_tiffs/june_mean_albedo_stack.tif', june_mean_albedo_stack, ReferencingMatrix, Projection)"
   ]
  },
  {
   "cell_type": "code",
   "execution_count": 195,
   "id": "1706d1af-abac-45b6-a9e2-046b11fd096b",
   "metadata": {},
   "outputs": [
    {
     "data": {
      "text/plain": [
       "'stacked_tiffs/july_mean_albedo_stack.tif'"
      ]
     },
     "execution_count": 195,
     "metadata": {},
     "output_type": "execute_result"
    }
   ],
   "source": [
    "july_mean_albedo_array = np.array([july_albedo_wy2001, july_albedo_wy2002, july_albedo_wy2003, july_albedo_wy2004, july_albedo_wy2005, \n",
    "                                   july_albedo_wy2006, july_albedo_wy2007, july_albedo_wy2008, july_albedo_wy2009, july_albedo_wy2010, \n",
    "                                   july_albedo_wy2011, july_albedo_wy2012, july_albedo_wy2013, july_albedo_wy2014, july_albedo_wy2015, \n",
    "                                   july_albedo_wy2016, july_albedo_wy2017, july_albedo_wy2018, july_albedo_wy2019])\n",
    "\n",
    "july_mean_albedo = np.nanmean(july_mean_albedo_array, axis = 0)\n",
    "\n",
    "july_mean_albedo_stack = array([july_albedo_wy2001, july_albedo_wy2002, july_albedo_wy2003, july_albedo_wy2004, july_albedo_wy2005,\n",
    "                                   july_albedo_wy2006, july_albedo_wy2007, july_albedo_wy2008, july_albedo_wy2009, july_albedo_wy2010,\n",
    "                                   july_albedo_wy2011, july_albedo_wy2012, july_albedo_wy2013, july_albedo_wy2014, july_albedo_wy2015,\n",
    "                                   july_albedo_wy2016, july_albedo_wy2017, july_albedo_wy2018, july_albedo_wy2019, july_mean_albedo])\n",
    "\n",
    "CreateGeoTiffStack('stacked_tiffs/july_mean_albedo_stack.tif', july_mean_albedo_stack, ReferencingMatrix, Projection)"
   ]
  },
  {
   "cell_type": "code",
   "execution_count": 196,
   "id": "6e8352c4-ca7d-42a3-852c-f260914ac14a",
   "metadata": {},
   "outputs": [
    {
     "data": {
      "text/plain": [
       "'stacked_tiffs/august_mean_albedo_stack.tif'"
      ]
     },
     "execution_count": 196,
     "metadata": {},
     "output_type": "execute_result"
    }
   ],
   "source": [
    "august_mean_albedo_array = np.array([august_albedo_wy2001, august_albedo_wy2002, august_albedo_wy2003, august_albedo_wy2004, august_albedo_wy2005, \n",
    "                                   august_albedo_wy2006, august_albedo_wy2007, august_albedo_wy2008, august_albedo_wy2009, august_albedo_wy2010, \n",
    "                                   august_albedo_wy2011, august_albedo_wy2012, august_albedo_wy2013, august_albedo_wy2014, august_albedo_wy2015, \n",
    "                                   august_albedo_wy2016, august_albedo_wy2017, august_albedo_wy2018, august_albedo_wy2019])\n",
    "\n",
    "august_mean_albedo = np.nanmean(august_mean_albedo_array, axis = 0)\n",
    "\n",
    "august_mean_albedo_stack = array([august_albedo_wy2001, august_albedo_wy2002, august_albedo_wy2003, august_albedo_wy2004, august_albedo_wy2005,\n",
    "                                   august_albedo_wy2006, august_albedo_wy2007, august_albedo_wy2008, august_albedo_wy2009, august_albedo_wy2010,\n",
    "                                   august_albedo_wy2011, august_albedo_wy2012, august_albedo_wy2013, august_albedo_wy2014, august_albedo_wy2015,\n",
    "                                   august_albedo_wy2016, august_albedo_wy2017, august_albedo_wy2018, august_albedo_wy2019, august_mean_albedo])\n",
    "\n",
    "CreateGeoTiffStack('stacked_tiffs/august_mean_albedo_stack.tif', august_mean_albedo_stack, ReferencingMatrix, Projection)"
   ]
  },
  {
   "cell_type": "code",
   "execution_count": 197,
   "id": "c88a2462-ce21-4e2c-80b6-8a6dab2c78bc",
   "metadata": {},
   "outputs": [
    {
     "data": {
      "text/plain": [
       "'stacked_tiffs/september_mean_albedo_stack.tif'"
      ]
     },
     "execution_count": 197,
     "metadata": {},
     "output_type": "execute_result"
    }
   ],
   "source": [
    "september_mean_albedo_array = np.array([september_albedo_wy2001, september_albedo_wy2002, september_albedo_wy2003, september_albedo_wy2004, september_albedo_wy2005, \n",
    "                                   september_albedo_wy2006, september_albedo_wy2007, september_albedo_wy2008, september_albedo_wy2009, september_albedo_wy2010, \n",
    "                                   september_albedo_wy2011, september_albedo_wy2012, september_albedo_wy2013, september_albedo_wy2014, september_albedo_wy2015, \n",
    "                                   september_albedo_wy2016, september_albedo_wy2017, september_albedo_wy2018, september_albedo_wy2019])\n",
    "\n",
    "september_mean_albedo = np.nanmean(september_mean_albedo_array, axis = 0)\n",
    "\n",
    "september_mean_albedo_stack = array([september_albedo_wy2001, september_albedo_wy2002, september_albedo_wy2003, september_albedo_wy2004, september_albedo_wy2005,\n",
    "                                   september_albedo_wy2006, september_albedo_wy2007, september_albedo_wy2008, september_albedo_wy2009, september_albedo_wy2010,\n",
    "                                   september_albedo_wy2011, september_albedo_wy2012, september_albedo_wy2013, september_albedo_wy2014, september_albedo_wy2015,\n",
    "                                   september_albedo_wy2016, september_albedo_wy2017, september_albedo_wy2018, september_albedo_wy2019, september_mean_albedo])\n",
    "\n",
    "CreateGeoTiffStack('stacked_tiffs/september_mean_albedo_stack.tif', september_mean_albedo_stack, ReferencingMatrix, Projection)"
   ]
  },
  {
   "cell_type": "code",
   "execution_count": 198,
   "id": "f024d664-c3c6-4d15-aabc-03453f62936f",
   "metadata": {},
   "outputs": [
    {
     "data": {
      "text/plain": [
       "'stacked_tiffs/october_mean_albedo_stack.tif'"
      ]
     },
     "execution_count": 198,
     "metadata": {},
     "output_type": "execute_result"
    }
   ],
   "source": [
    "october_mean_albedo_array = np.array([october_albedo_wy2001, october_albedo_wy2002, october_albedo_wy2003, october_albedo_wy2004, october_albedo_wy2005, \n",
    "                                   october_albedo_wy2006, october_albedo_wy2007, october_albedo_wy2008, october_albedo_wy2009, october_albedo_wy2010, \n",
    "                                   october_albedo_wy2011, october_albedo_wy2012, october_albedo_wy2013, october_albedo_wy2014, october_albedo_wy2015, \n",
    "                                   october_albedo_wy2016, october_albedo_wy2017, october_albedo_wy2018, october_albedo_wy2019])\n",
    "\n",
    "october_mean_albedo = np.nanmean(october_mean_albedo_array, axis = 0)\n",
    "\n",
    "october_mean_albedo_stack = array([october_albedo_wy2001, october_albedo_wy2002, october_albedo_wy2003, october_albedo_wy2004, october_albedo_wy2005,\n",
    "                                   october_albedo_wy2006, october_albedo_wy2007, october_albedo_wy2008, october_albedo_wy2009, october_albedo_wy2010,\n",
    "                                   october_albedo_wy2011, october_albedo_wy2012, october_albedo_wy2013, october_albedo_wy2014, october_albedo_wy2015,\n",
    "                                   october_albedo_wy2016, october_albedo_wy2017, october_albedo_wy2018, october_albedo_wy2019, october_mean_albedo])\n",
    "\n",
    "CreateGeoTiffStack('stacked_tiffs/october_mean_albedo_stack.tif', october_mean_albedo_stack, ReferencingMatrix, Projection)"
   ]
  },
  {
   "cell_type": "code",
   "execution_count": 199,
   "id": "af2f33a1-4511-4d5f-869c-b84cb0089107",
   "metadata": {},
   "outputs": [
    {
     "data": {
      "text/plain": [
       "'stacked_tiffs/november_mean_albedo_stack.tif'"
      ]
     },
     "execution_count": 199,
     "metadata": {},
     "output_type": "execute_result"
    }
   ],
   "source": [
    "november_mean_albedo_array = np.array([november_albedo_wy2001, november_albedo_wy2002, november_albedo_wy2003, november_albedo_wy2004, november_albedo_wy2005, \n",
    "                                   november_albedo_wy2006, november_albedo_wy2007, november_albedo_wy2008, november_albedo_wy2009, november_albedo_wy2010, \n",
    "                                   november_albedo_wy2011, november_albedo_wy2012, november_albedo_wy2013, november_albedo_wy2014, november_albedo_wy2015, \n",
    "                                   november_albedo_wy2016, november_albedo_wy2017, november_albedo_wy2018, november_albedo_wy2019])\n",
    "\n",
    "november_mean_albedo = np.nanmean(november_mean_albedo_array, axis = 0)\n",
    "\n",
    "november_mean_albedo_stack = array([november_albedo_wy2001, november_albedo_wy2002, november_albedo_wy2003, november_albedo_wy2004, november_albedo_wy2005,\n",
    "                                   november_albedo_wy2006, november_albedo_wy2007, november_albedo_wy2008, november_albedo_wy2009, november_albedo_wy2010,\n",
    "                                   november_albedo_wy2011, november_albedo_wy2012, november_albedo_wy2013, november_albedo_wy2014, november_albedo_wy2015,\n",
    "                                   november_albedo_wy2016, november_albedo_wy2017, november_albedo_wy2018, november_albedo_wy2019, november_mean_albedo])\n",
    "\n",
    "CreateGeoTiffStack('stacked_tiffs/november_mean_albedo_stack.tif', november_mean_albedo_stack, ReferencingMatrix, Projection)"
   ]
  },
  {
   "cell_type": "code",
   "execution_count": 200,
   "id": "76278ee7-a4d3-4ed4-be2b-2a67326a18f1",
   "metadata": {},
   "outputs": [
    {
     "data": {
      "text/plain": [
       "'stacked_tiffs/december_mean_albedo_stack.tif'"
      ]
     },
     "execution_count": 200,
     "metadata": {},
     "output_type": "execute_result"
    }
   ],
   "source": [
    "december_mean_albedo_array = np.array([december_albedo_wy2001, december_albedo_wy2002, december_albedo_wy2003, december_albedo_wy2004, december_albedo_wy2005, \n",
    "                                   december_albedo_wy2006, december_albedo_wy2007, december_albedo_wy2008, december_albedo_wy2009, december_albedo_wy2010, \n",
    "                                   december_albedo_wy2011, december_albedo_wy2012, december_albedo_wy2013, december_albedo_wy2014, december_albedo_wy2015, \n",
    "                                   december_albedo_wy2016, december_albedo_wy2017, december_albedo_wy2018, december_albedo_wy2019])\n",
    "\n",
    "december_mean_albedo = np.nanmean(december_mean_albedo_array, axis = 0)\n",
    "\n",
    "december_mean_albedo_stack = array([december_albedo_wy2001, december_albedo_wy2002, december_albedo_wy2003, december_albedo_wy2004, december_albedo_wy2005,\n",
    "                                   december_albedo_wy2006, december_albedo_wy2007, december_albedo_wy2008, december_albedo_wy2009, december_albedo_wy2010,\n",
    "                                   december_albedo_wy2011, december_albedo_wy2012, december_albedo_wy2013, december_albedo_wy2014, december_albedo_wy2015,\n",
    "                                   december_albedo_wy2016, december_albedo_wy2017, december_albedo_wy2018, december_albedo_wy2019, december_mean_albedo])\n",
    "\n",
    "CreateGeoTiffStack('stacked_tiffs/december_mean_albedo_stack.tif', december_mean_albedo_stack, ReferencingMatrix, Projection)"
   ]
  },
  {
   "cell_type": "markdown",
   "id": "7fc4b89d-f385-4c07-ae6a-db2da1e73746",
   "metadata": {},
   "source": [
    "### Anomaly"
   ]
  },
  {
   "cell_type": "code",
   "execution_count": 260,
   "id": "9cde7c2c-2be0-4f1d-a580-bad0d521d04d",
   "metadata": {},
   "outputs": [
    {
     "data": {
      "text/plain": [
       "'stacked_tiffs/january_albedo_anomaly_stack.tif'"
      ]
     },
     "execution_count": 260,
     "metadata": {},
     "output_type": "execute_result"
    }
   ],
   "source": [
    "# january snow cover percent anomaly\n",
    "wy2001_january_albedo_anomaly = january_albedo_wy2001 - january_mean_albedo\n",
    "wy2002_january_albedo_anomaly = january_albedo_wy2002 - january_mean_albedo\n",
    "wy2003_january_albedo_anomaly = january_albedo_wy2003 - january_mean_albedo\n",
    "wy2004_january_albedo_anomaly = january_albedo_wy2004 - january_mean_albedo\n",
    "wy2005_january_albedo_anomaly = january_albedo_wy2005 - january_mean_albedo\n",
    "wy2006_january_albedo_anomaly = january_albedo_wy2006 - january_mean_albedo\n",
    "wy2007_january_albedo_anomaly = january_albedo_wy2007 - january_mean_albedo\n",
    "wy2008_january_albedo_anomaly = january_albedo_wy2008 - january_mean_albedo\n",
    "wy2009_january_albedo_anomaly = january_albedo_wy2009 - january_mean_albedo\n",
    "wy2010_january_albedo_anomaly = january_albedo_wy2010 - january_mean_albedo\n",
    "wy2011_january_albedo_anomaly = january_albedo_wy2011 - january_mean_albedo\n",
    "wy2012_january_albedo_anomaly = january_albedo_wy2012 - january_mean_albedo\n",
    "wy2013_january_albedo_anomaly = january_albedo_wy2013 - january_mean_albedo\n",
    "wy2014_january_albedo_anomaly = january_albedo_wy2014 - january_mean_albedo\n",
    "wy2015_january_albedo_anomaly = january_albedo_wy2015 - january_mean_albedo\n",
    "wy2016_january_albedo_anomaly = january_albedo_wy2016 - january_mean_albedo\n",
    "wy2017_january_albedo_anomaly = january_albedo_wy2017 - january_mean_albedo\n",
    "wy2018_january_albedo_anomaly = january_albedo_wy2018 - january_mean_albedo\n",
    "wy2019_january_albedo_anomaly = january_albedo_wy2019 - january_mean_albedo\n",
    "\n",
    "january_albedo_anomaly_stack = array([wy2001_january_albedo_anomaly, wy2002_january_albedo_anomaly, wy2003_january_albedo_anomaly, wy2004_january_albedo_anomaly, wy2005_january_albedo_anomaly,\n",
    "                                   wy2006_january_albedo_anomaly, wy2007_january_albedo_anomaly, wy2008_january_albedo_anomaly, wy2009_january_albedo_anomaly, wy2010_january_albedo_anomaly, \n",
    "                                   wy2011_january_albedo_anomaly, wy2012_january_albedo_anomaly, wy2013_january_albedo_anomaly, wy2014_january_albedo_anomaly, wy2015_january_albedo_anomaly,\n",
    "                                   wy2016_january_albedo_anomaly, wy2017_january_albedo_anomaly, wy2018_january_albedo_anomaly, wy2019_january_albedo_anomaly, january_mean_albedo])\n",
    "\n",
    "CreateGeoTiffStack('stacked_tiffs/january_albedo_anomaly_stack.tif', january_albedo_anomaly_stack, ReferencingMatrix, Projection)"
   ]
  },
  {
   "cell_type": "code",
   "execution_count": 261,
   "id": "4694a369-7442-4083-8c37-0565f9129242",
   "metadata": {},
   "outputs": [
    {
     "data": {
      "text/plain": [
       "-0.2415157489779881"
      ]
     },
     "execution_count": 261,
     "metadata": {},
     "output_type": "execute_result"
    }
   ],
   "source": [
    "np.nanmin(january_albedo_anomaly_stack)"
   ]
  },
  {
   "cell_type": "code",
   "execution_count": 262,
   "id": "fcd3e99e-2020-4779-ae9e-803084d9dfe4",
   "metadata": {},
   "outputs": [
    {
     "data": {
      "text/plain": [
       "0.85746"
      ]
     },
     "execution_count": 262,
     "metadata": {},
     "output_type": "execute_result"
    }
   ],
   "source": [
    "np.nanmax(january_albedo_anomaly_stack)"
   ]
  },
  {
   "cell_type": "code",
   "execution_count": 243,
   "id": "feaaf47f-6ea1-489c-888f-abc96867511b",
   "metadata": {},
   "outputs": [
    {
     "data": {
      "text/plain": [
       "'stacked_tiffs/february_albedo_anomaly_stack.tif'"
      ]
     },
     "execution_count": 243,
     "metadata": {},
     "output_type": "execute_result"
    }
   ],
   "source": [
    "# february snow cover percent anomaly\n",
    "wy2001_february_albedo_anomaly = february_albedo_wy2001 - february_mean_albedo\n",
    "wy2002_february_albedo_anomaly = february_albedo_wy2002 - february_mean_albedo\n",
    "wy2003_february_albedo_anomaly = february_albedo_wy2003 - february_mean_albedo\n",
    "wy2004_february_albedo_anomaly = february_albedo_wy2004 - february_mean_albedo\n",
    "wy2005_february_albedo_anomaly = february_albedo_wy2005 - february_mean_albedo\n",
    "wy2006_february_albedo_anomaly = february_albedo_wy2006 - february_mean_albedo\n",
    "wy2007_february_albedo_anomaly = february_albedo_wy2007 - february_mean_albedo\n",
    "wy2008_february_albedo_anomaly = february_albedo_wy2008 - february_mean_albedo\n",
    "wy2009_february_albedo_anomaly = february_albedo_wy2009 - february_mean_albedo\n",
    "wy2010_february_albedo_anomaly = february_albedo_wy2010 - february_mean_albedo\n",
    "wy2011_february_albedo_anomaly = february_albedo_wy2011 - february_mean_albedo\n",
    "wy2012_february_albedo_anomaly = february_albedo_wy2012 - february_mean_albedo\n",
    "wy2013_february_albedo_anomaly = february_albedo_wy2013 - february_mean_albedo\n",
    "wy2014_february_albedo_anomaly = february_albedo_wy2014 - february_mean_albedo\n",
    "wy2015_february_albedo_anomaly = february_albedo_wy2015 - february_mean_albedo\n",
    "wy2016_february_albedo_anomaly = february_albedo_wy2016 - february_mean_albedo\n",
    "wy2017_february_albedo_anomaly = february_albedo_wy2017 - february_mean_albedo\n",
    "wy2018_february_albedo_anomaly = february_albedo_wy2018 - february_mean_albedo\n",
    "wy2019_february_albedo_anomaly = february_albedo_wy2019 - february_mean_albedo\n",
    "\n",
    "february_albedo_anomaly_stack = array([wy2001_february_albedo_anomaly, wy2002_february_albedo_anomaly, wy2003_february_albedo_anomaly, wy2004_february_albedo_anomaly, wy2005_february_albedo_anomaly,\n",
    "                                   wy2006_february_albedo_anomaly, wy2007_february_albedo_anomaly, wy2008_february_albedo_anomaly, wy2009_february_albedo_anomaly, wy2010_february_albedo_anomaly, \n",
    "                                   wy2011_february_albedo_anomaly, wy2012_february_albedo_anomaly, wy2013_february_albedo_anomaly, wy2014_february_albedo_anomaly, wy2015_february_albedo_anomaly,\n",
    "                                   wy2016_february_albedo_anomaly, wy2017_february_albedo_anomaly, wy2018_february_albedo_anomaly, wy2019_february_albedo_anomaly, february_mean_albedo])\n",
    "\n",
    "CreateGeoTiffStack('stacked_tiffs/february_albedo_anomaly_stack.tif', february_albedo_anomaly_stack, ReferencingMatrix, Projection)"
   ]
  },
  {
   "cell_type": "code",
   "execution_count": 263,
   "id": "6af0d73a-4d50-4e91-b5d3-30ad0910291f",
   "metadata": {},
   "outputs": [
    {
     "data": {
      "text/plain": [
       "-0.28682640961513295"
      ]
     },
     "execution_count": 263,
     "metadata": {},
     "output_type": "execute_result"
    }
   ],
   "source": [
    "np.nanmin(february_albedo_anomaly_stack)"
   ]
  },
  {
   "cell_type": "code",
   "execution_count": 264,
   "id": "248f0ca0-4577-4453-9938-11a26c663af4",
   "metadata": {},
   "outputs": [
    {
     "data": {
      "text/plain": [
       "0.85262"
      ]
     },
     "execution_count": 264,
     "metadata": {},
     "output_type": "execute_result"
    }
   ],
   "source": [
    "np.nanmax(february_albedo_anomaly_stack)"
   ]
  },
  {
   "cell_type": "code",
   "execution_count": 244,
   "id": "7387ab65-f95f-4ec9-826e-d5c241e4746c",
   "metadata": {},
   "outputs": [
    {
     "data": {
      "text/plain": [
       "'stacked_tiffs/march_albedo_anomaly_stack.tif'"
      ]
     },
     "execution_count": 244,
     "metadata": {},
     "output_type": "execute_result"
    }
   ],
   "source": [
    "# march snow cover percent anomaly\n",
    "wy2001_march_albedo_anomaly = march_albedo_wy2001 - march_mean_albedo\n",
    "wy2002_march_albedo_anomaly = march_albedo_wy2002 - march_mean_albedo\n",
    "wy2003_march_albedo_anomaly = march_albedo_wy2003 - march_mean_albedo\n",
    "wy2004_march_albedo_anomaly = march_albedo_wy2004 - march_mean_albedo\n",
    "wy2005_march_albedo_anomaly = march_albedo_wy2005 - march_mean_albedo\n",
    "wy2006_march_albedo_anomaly = march_albedo_wy2006 - march_mean_albedo\n",
    "wy2007_march_albedo_anomaly = march_albedo_wy2007 - march_mean_albedo\n",
    "wy2008_march_albedo_anomaly = march_albedo_wy2008 - march_mean_albedo\n",
    "wy2009_march_albedo_anomaly = march_albedo_wy2009 - march_mean_albedo\n",
    "wy2010_march_albedo_anomaly = march_albedo_wy2010 - march_mean_albedo\n",
    "wy2011_march_albedo_anomaly = march_albedo_wy2011 - march_mean_albedo\n",
    "wy2012_march_albedo_anomaly = march_albedo_wy2012 - march_mean_albedo\n",
    "wy2013_march_albedo_anomaly = march_albedo_wy2013 - march_mean_albedo\n",
    "wy2014_march_albedo_anomaly = march_albedo_wy2014 - march_mean_albedo\n",
    "wy2015_march_albedo_anomaly = march_albedo_wy2015 - march_mean_albedo\n",
    "wy2016_march_albedo_anomaly = march_albedo_wy2016 - march_mean_albedo\n",
    "wy2017_march_albedo_anomaly = march_albedo_wy2017 - march_mean_albedo\n",
    "wy2018_march_albedo_anomaly = march_albedo_wy2018 - march_mean_albedo\n",
    "wy2019_march_albedo_anomaly = march_albedo_wy2019 - march_mean_albedo\n",
    "\n",
    "march_albedo_anomaly_stack = array([wy2001_march_albedo_anomaly, wy2002_march_albedo_anomaly, wy2003_march_albedo_anomaly, wy2004_march_albedo_anomaly, wy2005_march_albedo_anomaly,\n",
    "                                   wy2006_march_albedo_anomaly, wy2007_march_albedo_anomaly, wy2008_march_albedo_anomaly, wy2009_march_albedo_anomaly, wy2010_march_albedo_anomaly, \n",
    "                                   wy2011_march_albedo_anomaly, wy2012_march_albedo_anomaly, wy2013_march_albedo_anomaly, wy2014_march_albedo_anomaly, wy2015_march_albedo_anomaly,\n",
    "                                   wy2016_march_albedo_anomaly, wy2017_march_albedo_anomaly, wy2018_march_albedo_anomaly, wy2019_march_albedo_anomaly, march_mean_albedo])\n",
    "\n",
    "CreateGeoTiffStack('stacked_tiffs/march_albedo_anomaly_stack.tif', march_albedo_anomaly_stack, ReferencingMatrix, Projection)"
   ]
  },
  {
   "cell_type": "code",
   "execution_count": 245,
   "id": "9980a616-9629-4195-a3ae-626b357b4872",
   "metadata": {},
   "outputs": [
    {
     "data": {
      "text/plain": [
       "'stacked_tiffs/april_albedo_anomaly_stack.tif'"
      ]
     },
     "execution_count": 245,
     "metadata": {},
     "output_type": "execute_result"
    }
   ],
   "source": [
    "# april snow cover percent anomaly\n",
    "wy2001_april_albedo_anomaly = april_albedo_wy2001 - april_mean_albedo\n",
    "wy2002_april_albedo_anomaly = april_albedo_wy2002 - april_mean_albedo\n",
    "wy2003_april_albedo_anomaly = april_albedo_wy2003 - april_mean_albedo\n",
    "wy2004_april_albedo_anomaly = april_albedo_wy2004 - april_mean_albedo\n",
    "wy2005_april_albedo_anomaly = april_albedo_wy2005 - april_mean_albedo\n",
    "wy2006_april_albedo_anomaly = april_albedo_wy2006 - april_mean_albedo\n",
    "wy2007_april_albedo_anomaly = april_albedo_wy2007 - april_mean_albedo\n",
    "wy2008_april_albedo_anomaly = april_albedo_wy2008 - april_mean_albedo\n",
    "wy2009_april_albedo_anomaly = april_albedo_wy2009 - april_mean_albedo\n",
    "wy2010_april_albedo_anomaly = april_albedo_wy2010 - april_mean_albedo\n",
    "wy2011_april_albedo_anomaly = april_albedo_wy2011 - april_mean_albedo\n",
    "wy2012_april_albedo_anomaly = april_albedo_wy2012 - april_mean_albedo\n",
    "wy2013_april_albedo_anomaly = april_albedo_wy2013 - april_mean_albedo\n",
    "wy2014_april_albedo_anomaly = april_albedo_wy2014 - april_mean_albedo\n",
    "wy2015_april_albedo_anomaly = april_albedo_wy2015 - april_mean_albedo\n",
    "wy2016_april_albedo_anomaly = april_albedo_wy2016 - april_mean_albedo\n",
    "wy2017_april_albedo_anomaly = april_albedo_wy2017 - april_mean_albedo\n",
    "wy2018_april_albedo_anomaly = april_albedo_wy2018 - april_mean_albedo\n",
    "wy2019_april_albedo_anomaly = april_albedo_wy2019 - april_mean_albedo\n",
    "\n",
    "april_albedo_anomaly_stack = array([wy2001_april_albedo_anomaly, wy2002_april_albedo_anomaly, wy2003_april_albedo_anomaly, wy2004_april_albedo_anomaly, wy2005_april_albedo_anomaly,\n",
    "                                   wy2006_april_albedo_anomaly, wy2007_april_albedo_anomaly, wy2008_april_albedo_anomaly, wy2009_april_albedo_anomaly, wy2010_april_albedo_anomaly, \n",
    "                                   wy2011_april_albedo_anomaly, wy2012_april_albedo_anomaly, wy2013_april_albedo_anomaly, wy2014_april_albedo_anomaly, wy2015_april_albedo_anomaly,\n",
    "                                   wy2016_april_albedo_anomaly, wy2017_april_albedo_anomaly, wy2018_april_albedo_anomaly, wy2019_april_albedo_anomaly, april_mean_albedo])\n",
    "\n",
    "CreateGeoTiffStack('stacked_tiffs/april_albedo_anomaly_stack.tif', april_albedo_anomaly_stack, ReferencingMatrix, Projection)"
   ]
  },
  {
   "cell_type": "code",
   "execution_count": 246,
   "id": "a23338bb-ca14-4e9b-9919-16519b0bb56d",
   "metadata": {},
   "outputs": [
    {
     "data": {
      "text/plain": [
       "'stacked_tiffs/may_albedo_anomaly_stack.tif'"
      ]
     },
     "execution_count": 246,
     "metadata": {},
     "output_type": "execute_result"
    }
   ],
   "source": [
    "# may snow cover percent anomaly\n",
    "wy2001_may_albedo_anomaly = may_albedo_wy2001 - may_mean_albedo\n",
    "wy2002_may_albedo_anomaly = may_albedo_wy2002 - may_mean_albedo\n",
    "wy2003_may_albedo_anomaly = may_albedo_wy2003 - may_mean_albedo\n",
    "wy2004_may_albedo_anomaly = may_albedo_wy2004 - may_mean_albedo\n",
    "wy2005_may_albedo_anomaly = may_albedo_wy2005 - may_mean_albedo\n",
    "wy2006_may_albedo_anomaly = may_albedo_wy2006 - may_mean_albedo\n",
    "wy2007_may_albedo_anomaly = may_albedo_wy2007 - may_mean_albedo\n",
    "wy2008_may_albedo_anomaly = may_albedo_wy2008 - may_mean_albedo\n",
    "wy2009_may_albedo_anomaly = may_albedo_wy2009 - may_mean_albedo\n",
    "wy2010_may_albedo_anomaly = may_albedo_wy2010 - may_mean_albedo\n",
    "wy2011_may_albedo_anomaly = may_albedo_wy2011 - may_mean_albedo\n",
    "wy2012_may_albedo_anomaly = may_albedo_wy2012 - may_mean_albedo\n",
    "wy2013_may_albedo_anomaly = may_albedo_wy2013 - may_mean_albedo\n",
    "wy2014_may_albedo_anomaly = may_albedo_wy2014 - may_mean_albedo\n",
    "wy2015_may_albedo_anomaly = may_albedo_wy2015 - may_mean_albedo\n",
    "wy2016_may_albedo_anomaly = may_albedo_wy2016 - may_mean_albedo\n",
    "wy2017_may_albedo_anomaly = may_albedo_wy2017 - may_mean_albedo\n",
    "wy2018_may_albedo_anomaly = may_albedo_wy2018 - may_mean_albedo\n",
    "wy2019_may_albedo_anomaly = may_albedo_wy2019 - may_mean_albedo\n",
    "\n",
    "may_albedo_anomaly_stack = array([wy2001_may_albedo_anomaly, wy2002_may_albedo_anomaly, wy2003_may_albedo_anomaly, wy2004_may_albedo_anomaly, wy2005_may_albedo_anomaly,\n",
    "                                   wy2006_may_albedo_anomaly, wy2007_may_albedo_anomaly, wy2008_may_albedo_anomaly, wy2009_may_albedo_anomaly, wy2010_may_albedo_anomaly, \n",
    "                                   wy2011_may_albedo_anomaly, wy2012_may_albedo_anomaly, wy2013_may_albedo_anomaly, wy2014_may_albedo_anomaly, wy2015_may_albedo_anomaly,\n",
    "                                   wy2016_may_albedo_anomaly, wy2017_may_albedo_anomaly, wy2018_may_albedo_anomaly, wy2019_may_albedo_anomaly, may_mean_albedo])\n",
    "\n",
    "CreateGeoTiffStack('stacked_tiffs/may_albedo_anomaly_stack.tif', may_albedo_anomaly_stack, ReferencingMatrix, Projection)"
   ]
  },
  {
   "cell_type": "code",
   "execution_count": 247,
   "id": "c68c7d9a-fc2e-4022-ba46-505ff4b42e96",
   "metadata": {},
   "outputs": [
    {
     "data": {
      "text/plain": [
       "'stacked_tiffs/june_albedo_anomaly_stack.tif'"
      ]
     },
     "execution_count": 247,
     "metadata": {},
     "output_type": "execute_result"
    }
   ],
   "source": [
    "# june snow cover percent anomaly\n",
    "wy2001_june_albedo_anomaly = june_albedo_wy2001 - june_mean_albedo\n",
    "wy2002_june_albedo_anomaly = june_albedo_wy2002 - june_mean_albedo\n",
    "wy2003_june_albedo_anomaly = june_albedo_wy2003 - june_mean_albedo\n",
    "wy2004_june_albedo_anomaly = june_albedo_wy2004 - june_mean_albedo\n",
    "wy2005_june_albedo_anomaly = june_albedo_wy2005 - june_mean_albedo\n",
    "wy2006_june_albedo_anomaly = june_albedo_wy2006 - june_mean_albedo\n",
    "wy2007_june_albedo_anomaly = june_albedo_wy2007 - june_mean_albedo\n",
    "wy2008_june_albedo_anomaly = june_albedo_wy2008 - june_mean_albedo\n",
    "wy2009_june_albedo_anomaly = june_albedo_wy2009 - june_mean_albedo\n",
    "wy2010_june_albedo_anomaly = june_albedo_wy2010 - june_mean_albedo\n",
    "wy2011_june_albedo_anomaly = june_albedo_wy2011 - june_mean_albedo\n",
    "wy2012_june_albedo_anomaly = june_albedo_wy2012 - june_mean_albedo\n",
    "wy2013_june_albedo_anomaly = june_albedo_wy2013 - june_mean_albedo\n",
    "wy2014_june_albedo_anomaly = june_albedo_wy2014 - june_mean_albedo\n",
    "wy2015_june_albedo_anomaly = june_albedo_wy2015 - june_mean_albedo\n",
    "wy2016_june_albedo_anomaly = june_albedo_wy2016 - june_mean_albedo\n",
    "wy2017_june_albedo_anomaly = june_albedo_wy2017 - june_mean_albedo\n",
    "wy2018_june_albedo_anomaly = june_albedo_wy2018 - june_mean_albedo\n",
    "wy2019_june_albedo_anomaly = june_albedo_wy2019 - june_mean_albedo\n",
    "\n",
    "june_albedo_anomaly_stack = array([wy2001_june_albedo_anomaly, wy2002_june_albedo_anomaly, wy2003_june_albedo_anomaly, wy2004_june_albedo_anomaly, wy2005_june_albedo_anomaly,\n",
    "                                   wy2006_june_albedo_anomaly, wy2007_june_albedo_anomaly, wy2008_june_albedo_anomaly, wy2009_june_albedo_anomaly, wy2010_june_albedo_anomaly, \n",
    "                                   wy2011_june_albedo_anomaly, wy2012_june_albedo_anomaly, wy2013_june_albedo_anomaly, wy2014_june_albedo_anomaly, wy2015_june_albedo_anomaly,\n",
    "                                   wy2016_june_albedo_anomaly, wy2017_june_albedo_anomaly, wy2018_june_albedo_anomaly, wy2019_june_albedo_anomaly, june_mean_albedo])\n",
    "\n",
    "CreateGeoTiffStack('stacked_tiffs/june_albedo_anomaly_stack.tif', june_albedo_anomaly_stack, ReferencingMatrix, Projection)"
   ]
  },
  {
   "cell_type": "code",
   "execution_count": 248,
   "id": "d7deaa04-57fb-42eb-800e-3f05b8716bfb",
   "metadata": {},
   "outputs": [
    {
     "data": {
      "text/plain": [
       "'stacked_tiffs/july_albedo_anomaly_stack.tif'"
      ]
     },
     "execution_count": 248,
     "metadata": {},
     "output_type": "execute_result"
    }
   ],
   "source": [
    "# july snow cover percent anomaly\n",
    "wy2001_july_albedo_anomaly = july_albedo_wy2001 - july_mean_albedo\n",
    "wy2002_july_albedo_anomaly = july_albedo_wy2002 - july_mean_albedo\n",
    "wy2003_july_albedo_anomaly = july_albedo_wy2003 - july_mean_albedo\n",
    "wy2004_july_albedo_anomaly = july_albedo_wy2004 - july_mean_albedo\n",
    "wy2005_july_albedo_anomaly = july_albedo_wy2005 - july_mean_albedo\n",
    "wy2006_july_albedo_anomaly = july_albedo_wy2006 - july_mean_albedo\n",
    "wy2007_july_albedo_anomaly = july_albedo_wy2007 - july_mean_albedo\n",
    "wy2008_july_albedo_anomaly = july_albedo_wy2008 - july_mean_albedo\n",
    "wy2009_july_albedo_anomaly = july_albedo_wy2009 - july_mean_albedo\n",
    "wy2010_july_albedo_anomaly = july_albedo_wy2010 - july_mean_albedo\n",
    "wy2011_july_albedo_anomaly = july_albedo_wy2011 - july_mean_albedo\n",
    "wy2012_july_albedo_anomaly = july_albedo_wy2012 - july_mean_albedo\n",
    "wy2013_july_albedo_anomaly = july_albedo_wy2013 - july_mean_albedo\n",
    "wy2014_july_albedo_anomaly = july_albedo_wy2014 - july_mean_albedo\n",
    "wy2015_july_albedo_anomaly = july_albedo_wy2015 - july_mean_albedo\n",
    "wy2016_july_albedo_anomaly = july_albedo_wy2016 - july_mean_albedo\n",
    "wy2017_july_albedo_anomaly = july_albedo_wy2017 - july_mean_albedo\n",
    "wy2018_july_albedo_anomaly = july_albedo_wy2018 - july_mean_albedo\n",
    "wy2019_july_albedo_anomaly = july_albedo_wy2019 - july_mean_albedo\n",
    "\n",
    "july_albedo_anomaly_stack = array([wy2001_july_albedo_anomaly, wy2002_july_albedo_anomaly, wy2003_july_albedo_anomaly, wy2004_july_albedo_anomaly, wy2005_july_albedo_anomaly,\n",
    "                                   wy2006_july_albedo_anomaly, wy2007_july_albedo_anomaly, wy2008_july_albedo_anomaly, wy2009_july_albedo_anomaly, wy2010_july_albedo_anomaly, \n",
    "                                   wy2011_july_albedo_anomaly, wy2012_july_albedo_anomaly, wy2013_july_albedo_anomaly, wy2014_july_albedo_anomaly, wy2015_july_albedo_anomaly,\n",
    "                                   wy2016_july_albedo_anomaly, wy2017_july_albedo_anomaly, wy2018_july_albedo_anomaly, wy2019_july_albedo_anomaly, july_mean_albedo])\n",
    "\n",
    "CreateGeoTiffStack('stacked_tiffs/july_albedo_anomaly_stack.tif', july_albedo_anomaly_stack, ReferencingMatrix, Projection)"
   ]
  },
  {
   "cell_type": "code",
   "execution_count": 249,
   "id": "0df23c73-e478-4499-b5be-13189d53c95e",
   "metadata": {},
   "outputs": [
    {
     "data": {
      "text/plain": [
       "'stacked_tiffs/august_albedo_anomaly_stack.tif'"
      ]
     },
     "execution_count": 249,
     "metadata": {},
     "output_type": "execute_result"
    }
   ],
   "source": [
    "# august snow cover percent anomaly\n",
    "wy2001_august_albedo_anomaly = august_albedo_wy2001 - august_mean_albedo\n",
    "wy2002_august_albedo_anomaly = august_albedo_wy2002 - august_mean_albedo\n",
    "wy2003_august_albedo_anomaly = august_albedo_wy2003 - august_mean_albedo\n",
    "wy2004_august_albedo_anomaly = august_albedo_wy2004 - august_mean_albedo\n",
    "wy2005_august_albedo_anomaly = august_albedo_wy2005 - august_mean_albedo\n",
    "wy2006_august_albedo_anomaly = august_albedo_wy2006 - august_mean_albedo\n",
    "wy2007_august_albedo_anomaly = august_albedo_wy2007 - august_mean_albedo\n",
    "wy2008_august_albedo_anomaly = august_albedo_wy2008 - august_mean_albedo\n",
    "wy2009_august_albedo_anomaly = august_albedo_wy2009 - august_mean_albedo\n",
    "wy2010_august_albedo_anomaly = august_albedo_wy2010 - august_mean_albedo\n",
    "wy2011_august_albedo_anomaly = august_albedo_wy2011 - august_mean_albedo\n",
    "wy2012_august_albedo_anomaly = august_albedo_wy2012 - august_mean_albedo\n",
    "wy2013_august_albedo_anomaly = august_albedo_wy2013 - august_mean_albedo\n",
    "wy2014_august_albedo_anomaly = august_albedo_wy2014 - august_mean_albedo\n",
    "wy2015_august_albedo_anomaly = august_albedo_wy2015 - august_mean_albedo\n",
    "wy2016_august_albedo_anomaly = august_albedo_wy2016 - august_mean_albedo\n",
    "wy2017_august_albedo_anomaly = august_albedo_wy2017 - august_mean_albedo\n",
    "wy2018_august_albedo_anomaly = august_albedo_wy2018 - august_mean_albedo\n",
    "wy2019_august_albedo_anomaly = august_albedo_wy2019 - august_mean_albedo\n",
    "\n",
    "august_albedo_anomaly_stack = array([wy2001_august_albedo_anomaly, wy2002_august_albedo_anomaly, wy2003_august_albedo_anomaly, wy2004_august_albedo_anomaly, wy2005_august_albedo_anomaly,\n",
    "                                   wy2006_august_albedo_anomaly, wy2007_august_albedo_anomaly, wy2008_august_albedo_anomaly, wy2009_august_albedo_anomaly, wy2010_august_albedo_anomaly, \n",
    "                                   wy2011_august_albedo_anomaly, wy2012_august_albedo_anomaly, wy2013_august_albedo_anomaly, wy2014_august_albedo_anomaly, wy2015_august_albedo_anomaly,\n",
    "                                   wy2016_august_albedo_anomaly, wy2017_august_albedo_anomaly, wy2018_august_albedo_anomaly, wy2019_august_albedo_anomaly, august_mean_albedo])\n",
    "\n",
    "CreateGeoTiffStack('stacked_tiffs/august_albedo_anomaly_stack.tif', august_albedo_anomaly_stack, ReferencingMatrix, Projection)"
   ]
  },
  {
   "cell_type": "code",
   "execution_count": 250,
   "id": "c0a51571-7ed3-4329-871b-6d9734624adb",
   "metadata": {},
   "outputs": [
    {
     "data": {
      "text/plain": [
       "'stacked_tiffs/september_albedo_anomaly_stack.tif'"
      ]
     },
     "execution_count": 250,
     "metadata": {},
     "output_type": "execute_result"
    }
   ],
   "source": [
    "# september snow cover percent anomaly\n",
    "wy2001_september_albedo_anomaly = september_albedo_wy2001 - september_mean_albedo\n",
    "wy2002_september_albedo_anomaly = september_albedo_wy2002 - september_mean_albedo\n",
    "wy2003_september_albedo_anomaly = september_albedo_wy2003 - september_mean_albedo\n",
    "wy2004_september_albedo_anomaly = september_albedo_wy2004 - september_mean_albedo\n",
    "wy2005_september_albedo_anomaly = september_albedo_wy2005 - september_mean_albedo\n",
    "wy2006_september_albedo_anomaly = september_albedo_wy2006 - september_mean_albedo\n",
    "wy2007_september_albedo_anomaly = september_albedo_wy2007 - september_mean_albedo\n",
    "wy2008_september_albedo_anomaly = september_albedo_wy2008 - september_mean_albedo\n",
    "wy2009_september_albedo_anomaly = september_albedo_wy2009 - september_mean_albedo\n",
    "wy2010_september_albedo_anomaly = september_albedo_wy2010 - september_mean_albedo\n",
    "wy2011_september_albedo_anomaly = september_albedo_wy2011 - september_mean_albedo\n",
    "wy2012_september_albedo_anomaly = september_albedo_wy2012 - september_mean_albedo\n",
    "wy2013_september_albedo_anomaly = september_albedo_wy2013 - september_mean_albedo\n",
    "wy2014_september_albedo_anomaly = september_albedo_wy2014 - september_mean_albedo\n",
    "wy2015_september_albedo_anomaly = september_albedo_wy2015 - september_mean_albedo\n",
    "wy2016_september_albedo_anomaly = september_albedo_wy2016 - september_mean_albedo\n",
    "wy2017_september_albedo_anomaly = september_albedo_wy2017 - september_mean_albedo\n",
    "wy2018_september_albedo_anomaly = september_albedo_wy2018 - september_mean_albedo\n",
    "wy2019_september_albedo_anomaly = september_albedo_wy2019 - september_mean_albedo\n",
    "\n",
    "september_albedo_anomaly_stack = array([wy2001_september_albedo_anomaly, wy2002_september_albedo_anomaly, wy2003_september_albedo_anomaly, wy2004_september_albedo_anomaly, wy2005_september_albedo_anomaly,\n",
    "                                   wy2006_september_albedo_anomaly, wy2007_september_albedo_anomaly, wy2008_september_albedo_anomaly, wy2009_september_albedo_anomaly, wy2010_september_albedo_anomaly, \n",
    "                                   wy2011_september_albedo_anomaly, wy2012_september_albedo_anomaly, wy2013_september_albedo_anomaly, wy2014_september_albedo_anomaly, wy2015_september_albedo_anomaly,\n",
    "                                   wy2016_september_albedo_anomaly, wy2017_september_albedo_anomaly, wy2018_september_albedo_anomaly, wy2019_september_albedo_anomaly, september_mean_albedo])\n",
    "\n",
    "CreateGeoTiffStack('stacked_tiffs/september_albedo_anomaly_stack.tif', september_albedo_anomaly_stack, ReferencingMatrix, Projection)"
   ]
  },
  {
   "cell_type": "code",
   "execution_count": 251,
   "id": "c268fc5a-1371-488e-8b83-f273d7610bc5",
   "metadata": {},
   "outputs": [
    {
     "data": {
      "text/plain": [
       "'stacked_tiffs/october_albedo_anomaly_stack.tif'"
      ]
     },
     "execution_count": 251,
     "metadata": {},
     "output_type": "execute_result"
    }
   ],
   "source": [
    "# october snow cover percent anomaly\n",
    "wy2001_october_albedo_anomaly = october_albedo_wy2001 - october_mean_albedo\n",
    "wy2002_october_albedo_anomaly = october_albedo_wy2002 - october_mean_albedo\n",
    "wy2003_october_albedo_anomaly = october_albedo_wy2003 - october_mean_albedo\n",
    "wy2004_october_albedo_anomaly = october_albedo_wy2004 - october_mean_albedo\n",
    "wy2005_october_albedo_anomaly = october_albedo_wy2005 - october_mean_albedo\n",
    "wy2006_october_albedo_anomaly = october_albedo_wy2006 - october_mean_albedo\n",
    "wy2007_october_albedo_anomaly = october_albedo_wy2007 - october_mean_albedo\n",
    "wy2008_october_albedo_anomaly = october_albedo_wy2008 - october_mean_albedo\n",
    "wy2009_october_albedo_anomaly = october_albedo_wy2009 - october_mean_albedo\n",
    "wy2010_october_albedo_anomaly = october_albedo_wy2010 - october_mean_albedo\n",
    "wy2011_october_albedo_anomaly = october_albedo_wy2011 - october_mean_albedo\n",
    "wy2012_october_albedo_anomaly = october_albedo_wy2012 - october_mean_albedo\n",
    "wy2013_october_albedo_anomaly = october_albedo_wy2013 - october_mean_albedo\n",
    "wy2014_october_albedo_anomaly = october_albedo_wy2014 - october_mean_albedo\n",
    "wy2015_october_albedo_anomaly = october_albedo_wy2015 - october_mean_albedo\n",
    "wy2016_october_albedo_anomaly = october_albedo_wy2016 - october_mean_albedo\n",
    "wy2017_october_albedo_anomaly = october_albedo_wy2017 - october_mean_albedo\n",
    "wy2018_october_albedo_anomaly = october_albedo_wy2018 - october_mean_albedo\n",
    "wy2019_october_albedo_anomaly = october_albedo_wy2019 - october_mean_albedo\n",
    "\n",
    "october_albedo_anomaly_stack = array([wy2001_october_albedo_anomaly, wy2002_october_albedo_anomaly, wy2003_october_albedo_anomaly, wy2004_october_albedo_anomaly, wy2005_october_albedo_anomaly,\n",
    "                                   wy2006_october_albedo_anomaly, wy2007_october_albedo_anomaly, wy2008_october_albedo_anomaly, wy2009_october_albedo_anomaly, wy2010_october_albedo_anomaly, \n",
    "                                   wy2011_october_albedo_anomaly, wy2012_october_albedo_anomaly, wy2013_october_albedo_anomaly, wy2014_october_albedo_anomaly, wy2015_october_albedo_anomaly,\n",
    "                                   wy2016_october_albedo_anomaly, wy2017_october_albedo_anomaly, wy2018_october_albedo_anomaly, wy2019_october_albedo_anomaly, october_mean_albedo])\n",
    "\n",
    "CreateGeoTiffStack('stacked_tiffs/october_albedo_anomaly_stack.tif', october_albedo_anomaly_stack, ReferencingMatrix, Projection)"
   ]
  },
  {
   "cell_type": "code",
   "execution_count": 252,
   "id": "d2916465-664d-4bc7-b91b-fdba18e5edf8",
   "metadata": {},
   "outputs": [
    {
     "data": {
      "text/plain": [
       "'stacked_tiffs/november_albedo_anomaly_stack.tif'"
      ]
     },
     "execution_count": 252,
     "metadata": {},
     "output_type": "execute_result"
    }
   ],
   "source": [
    "# november snow cover percent anomaly\n",
    "wy2001_november_albedo_anomaly = november_albedo_wy2001 - november_mean_albedo\n",
    "wy2002_november_albedo_anomaly = november_albedo_wy2002 - november_mean_albedo\n",
    "wy2003_november_albedo_anomaly = november_albedo_wy2003 - november_mean_albedo\n",
    "wy2004_november_albedo_anomaly = november_albedo_wy2004 - november_mean_albedo\n",
    "wy2005_november_albedo_anomaly = november_albedo_wy2005 - november_mean_albedo\n",
    "wy2006_november_albedo_anomaly = november_albedo_wy2006 - november_mean_albedo\n",
    "wy2007_november_albedo_anomaly = november_albedo_wy2007 - november_mean_albedo\n",
    "wy2008_november_albedo_anomaly = november_albedo_wy2008 - november_mean_albedo\n",
    "wy2009_november_albedo_anomaly = november_albedo_wy2009 - november_mean_albedo\n",
    "wy2010_november_albedo_anomaly = november_albedo_wy2010 - november_mean_albedo\n",
    "wy2011_november_albedo_anomaly = november_albedo_wy2011 - november_mean_albedo\n",
    "wy2012_november_albedo_anomaly = november_albedo_wy2012 - november_mean_albedo\n",
    "wy2013_november_albedo_anomaly = november_albedo_wy2013 - november_mean_albedo\n",
    "wy2014_november_albedo_anomaly = november_albedo_wy2014 - november_mean_albedo\n",
    "wy2015_november_albedo_anomaly = november_albedo_wy2015 - november_mean_albedo\n",
    "wy2016_november_albedo_anomaly = november_albedo_wy2016 - november_mean_albedo\n",
    "wy2017_november_albedo_anomaly = november_albedo_wy2017 - november_mean_albedo\n",
    "wy2018_november_albedo_anomaly = november_albedo_wy2018 - november_mean_albedo\n",
    "wy2019_november_albedo_anomaly = november_albedo_wy2019 - november_mean_albedo\n",
    "\n",
    "november_albedo_anomaly_stack = array([wy2001_november_albedo_anomaly, wy2002_november_albedo_anomaly, wy2003_november_albedo_anomaly, wy2004_november_albedo_anomaly, wy2005_november_albedo_anomaly,\n",
    "                                   wy2006_november_albedo_anomaly, wy2007_november_albedo_anomaly, wy2008_november_albedo_anomaly, wy2009_november_albedo_anomaly, wy2010_november_albedo_anomaly, \n",
    "                                   wy2011_november_albedo_anomaly, wy2012_november_albedo_anomaly, wy2013_november_albedo_anomaly, wy2014_november_albedo_anomaly, wy2015_november_albedo_anomaly,\n",
    "                                   wy2016_november_albedo_anomaly, wy2017_november_albedo_anomaly, wy2018_november_albedo_anomaly, wy2019_november_albedo_anomaly, november_mean_albedo])\n",
    "\n",
    "CreateGeoTiffStack('stacked_tiffs/november_albedo_anomaly_stack.tif', november_albedo_anomaly_stack, ReferencingMatrix, Projection)"
   ]
  },
  {
   "cell_type": "code",
   "execution_count": 253,
   "id": "b353baa6-05ff-45ac-9148-e585740b974d",
   "metadata": {},
   "outputs": [
    {
     "data": {
      "text/plain": [
       "'stacked_tiffs/december_albedo_anomaly_stack.tif'"
      ]
     },
     "execution_count": 253,
     "metadata": {},
     "output_type": "execute_result"
    }
   ],
   "source": [
    "# december snow cover percent anomaly\n",
    "wy2001_december_albedo_anomaly = december_albedo_wy2001 - december_mean_albedo\n",
    "wy2002_december_albedo_anomaly = december_albedo_wy2002 - december_mean_albedo\n",
    "wy2003_december_albedo_anomaly = december_albedo_wy2003 - december_mean_albedo\n",
    "wy2004_december_albedo_anomaly = december_albedo_wy2004 - december_mean_albedo\n",
    "wy2005_december_albedo_anomaly = december_albedo_wy2005 - december_mean_albedo\n",
    "wy2006_december_albedo_anomaly = december_albedo_wy2006 - december_mean_albedo\n",
    "wy2007_december_albedo_anomaly = december_albedo_wy2007 - december_mean_albedo\n",
    "wy2008_december_albedo_anomaly = december_albedo_wy2008 - december_mean_albedo\n",
    "wy2009_december_albedo_anomaly = december_albedo_wy2009 - december_mean_albedo\n",
    "wy2010_december_albedo_anomaly = december_albedo_wy2010 - december_mean_albedo\n",
    "wy2011_december_albedo_anomaly = december_albedo_wy2011 - december_mean_albedo\n",
    "wy2012_december_albedo_anomaly = december_albedo_wy2012 - december_mean_albedo\n",
    "wy2013_december_albedo_anomaly = december_albedo_wy2013 - december_mean_albedo\n",
    "wy2014_december_albedo_anomaly = december_albedo_wy2014 - december_mean_albedo\n",
    "wy2015_december_albedo_anomaly = december_albedo_wy2015 - december_mean_albedo\n",
    "wy2016_december_albedo_anomaly = december_albedo_wy2016 - december_mean_albedo\n",
    "wy2017_december_albedo_anomaly = december_albedo_wy2017 - december_mean_albedo\n",
    "wy2018_december_albedo_anomaly = december_albedo_wy2018 - december_mean_albedo\n",
    "wy2019_december_albedo_anomaly = december_albedo_wy2019 - december_mean_albedo\n",
    "\n",
    "december_albedo_anomaly_stack = array([wy2001_december_albedo_anomaly, wy2002_december_albedo_anomaly, wy2003_december_albedo_anomaly, wy2004_december_albedo_anomaly, wy2005_december_albedo_anomaly,\n",
    "                                   wy2006_december_albedo_anomaly, wy2007_december_albedo_anomaly, wy2008_december_albedo_anomaly, wy2009_december_albedo_anomaly, wy2010_december_albedo_anomaly, \n",
    "                                   wy2011_december_albedo_anomaly, wy2012_december_albedo_anomaly, wy2013_december_albedo_anomaly, wy2014_december_albedo_anomaly, wy2015_december_albedo_anomaly,\n",
    "                                   wy2016_december_albedo_anomaly, wy2017_december_albedo_anomaly, wy2018_december_albedo_anomaly, wy2019_december_albedo_anomaly, december_mean_albedo])\n",
    "\n",
    "CreateGeoTiffStack('stacked_tiffs/december_albedo_anomaly_stack.tif', december_albedo_anomaly_stack, ReferencingMatrix, Projection)"
   ]
  },
  {
   "cell_type": "code",
   "execution_count": 140,
   "id": "169f0ffe-cdd3-4163-933c-6ae322744e27",
   "metadata": {},
   "outputs": [],
   "source": [
    "# wy2001_albedo_anomaly_stack = array([wy2001_january_albedo_anomaly, wy2001_february_albedo_anomaly, wy2001_march_albedo_anomaly, wy2001_april_albedo_anomaly,\n",
    "#                                     wy2001_may_albedo_anomaly, wy2001_june_albedo_anomaly, wy2001_july_albedo_anomaly, wy2001_august_albedo_anomaly, \n",
    "#                                      wy2001_september_albedo_anomaly, wy2001_october_albedo_anomaly, wy2001_november_albedo_anomaly, wy2001_december_albedo_anomaly])\n",
    "\n",
    "# CreateGeoTiffStack('stacked_tiffs/wy2001_albedo_anomaly_stack.tif', wy2001_albedo_anomaly_stack, ReferencingMatrix, Projection)"
   ]
  },
  {
   "cell_type": "code",
   "execution_count": 141,
   "id": "8458c8de-f149-4cea-a963-158ced1501ce",
   "metadata": {},
   "outputs": [],
   "source": [
    "# wy2002_albedo_anomaly_stack = array([wy2002_january_albedo_anomaly, wy2002_february_albedo_anomaly, wy2002_march_albedo_anomaly, wy2002_april_albedo_anomaly,\n",
    "#                                     wy2002_may_albedo_anomaly, wy2002_june_albedo_anomaly, wy2002_july_albedo_anomaly, wy2002_august_albedo_anomaly, \n",
    "#                                      wy2002_september_albedo_anomaly, wy2002_october_albedo_anomaly, wy2002_november_albedo_anomaly, wy2002_december_albedo_anomaly])\n",
    "\n",
    "# CreateGeoTiffStack('stacked_tiffs/wy2002_albedo_anomaly_stack.tif', wy2002_albedo_anomaly_stack, ReferencingMatrix, Projection)"
   ]
  },
  {
   "cell_type": "code",
   "execution_count": 142,
   "id": "0578d2ee-6c64-4e50-9860-6a572df378e3",
   "metadata": {},
   "outputs": [],
   "source": [
    "# wy2003_albedo_anomaly_stack = array([wy2003_january_albedo_anomaly, wy2003_february_albedo_anomaly, wy2003_march_albedo_anomaly, wy2003_april_albedo_anomaly,\n",
    "#                                     wy2003_may_albedo_anomaly, wy2003_june_albedo_anomaly, wy2003_july_albedo_anomaly, wy2003_august_albedo_anomaly, \n",
    "#                                      wy2003_september_albedo_anomaly, wy2003_october_albedo_anomaly, wy2003_november_albedo_anomaly, wy2003_december_albedo_anomaly])\n",
    "\n",
    "# CreateGeoTiffStack('stacked_tiffs/wy2003_albedo_anomaly_stack.tif', wy2003_albedo_anomaly_stack, ReferencingMatrix, Projection)"
   ]
  },
  {
   "cell_type": "code",
   "execution_count": 143,
   "id": "a8d61a3f-3ac8-460d-8071-0a2392425349",
   "metadata": {},
   "outputs": [],
   "source": [
    "# wy2004_albedo_anomaly_stack = array([wy2004_january_albedo_anomaly, wy2004_february_albedo_anomaly, wy2004_march_albedo_anomaly, wy2004_april_albedo_anomaly,\n",
    "#                                     wy2004_may_albedo_anomaly, wy2004_june_albedo_anomaly, wy2004_july_albedo_anomaly, wy2004_august_albedo_anomaly, \n",
    "#                                      wy2004_september_albedo_anomaly, wy2004_october_albedo_anomaly, wy2004_november_albedo_anomaly, wy2004_december_albedo_anomaly])\n",
    "\n",
    "# CreateGeoTiffStack('stacked_tiffs/wy2004_albedo_anomaly_stack.tif', wy2004_albedo_anomaly_stack, ReferencingMatrix, Projection)"
   ]
  },
  {
   "cell_type": "code",
   "execution_count": 144,
   "id": "21407a87-65f7-4ff5-8118-d3ba8d047478",
   "metadata": {},
   "outputs": [],
   "source": [
    "# wy2005_albedo_anomaly_stack = array([wy2005_january_albedo_anomaly, wy2005_february_albedo_anomaly, wy2005_march_albedo_anomaly, wy2005_april_albedo_anomaly,\n",
    "#                                     wy2005_may_albedo_anomaly, wy2005_june_albedo_anomaly, wy2005_july_albedo_anomaly, wy2005_august_albedo_anomaly, \n",
    "#                                      wy2005_september_albedo_anomaly, wy2005_october_albedo_anomaly, wy2005_november_albedo_anomaly, wy2005_december_albedo_anomaly])\n",
    "\n",
    "# CreateGeoTiffStack('stacked_tiffs/wy2005_albedo_anomaly_stack.tif', wy2005_albedo_anomaly_stack, ReferencingMatrix, Projection)"
   ]
  },
  {
   "cell_type": "code",
   "execution_count": 145,
   "id": "30057692-b3a5-4052-b3b8-c3029ded0479",
   "metadata": {},
   "outputs": [],
   "source": [
    "# wy2006_albedo_anomaly_stack = array([wy2006_january_albedo_anomaly, wy2006_february_albedo_anomaly, wy2006_march_albedo_anomaly, wy2006_april_albedo_anomaly,\n",
    "#                                     wy2006_may_albedo_anomaly, wy2006_june_albedo_anomaly, wy2006_july_albedo_anomaly, wy2006_august_albedo_anomaly, \n",
    "#                                      wy2006_september_albedo_anomaly, wy2006_october_albedo_anomaly, wy2006_november_albedo_anomaly, wy2006_december_albedo_anomaly])\n",
    "\n",
    "# CreateGeoTiffStack('stacked_tiffs/wy2006_albedo_anomaly_stack.tif', wy2006_albedo_anomaly_stack, ReferencingMatrix, Projection)"
   ]
  },
  {
   "cell_type": "code",
   "execution_count": 146,
   "id": "b61f4695-b3e2-4338-bb1a-9f45ad7fe0d8",
   "metadata": {},
   "outputs": [],
   "source": [
    "# wy2007_albedo_anomaly_stack = array([wy2007_january_albedo_anomaly, wy2007_february_albedo_anomaly, wy2007_march_albedo_anomaly, wy2007_april_albedo_anomaly,\n",
    "#                                     wy2007_may_albedo_anomaly, wy2007_june_albedo_anomaly, wy2007_july_albedo_anomaly, wy2007_august_albedo_anomaly, \n",
    "#                                      wy2007_september_albedo_anomaly, wy2007_october_albedo_anomaly, wy2007_november_albedo_anomaly, wy2007_december_albedo_anomaly])\n",
    "\n",
    "# CreateGeoTiffStack('stacked_tiffs/wy2007_albedo_anomaly_stack.tif', wy2007_albedo_anomaly_stack, ReferencingMatrix, Projection)"
   ]
  },
  {
   "cell_type": "code",
   "execution_count": 147,
   "id": "ccf922d8-1e98-42a9-b66e-cd961797a45b",
   "metadata": {},
   "outputs": [],
   "source": [
    "# wy2008_albedo_anomaly_stack = array([wy2008_january_albedo_anomaly, wy2008_february_albedo_anomaly, wy2008_march_albedo_anomaly, wy2008_april_albedo_anomaly,\n",
    "#                                     wy2008_may_albedo_anomaly, wy2008_june_albedo_anomaly, wy2008_july_albedo_anomaly, wy2008_august_albedo_anomaly, \n",
    "#                                      wy2008_september_albedo_anomaly, wy2008_october_albedo_anomaly, wy2008_november_albedo_anomaly, wy2008_december_albedo_anomaly])\n",
    "\n",
    "# CreateGeoTiffStack('stacked_tiffs/wy2008_albedo_anomaly_stack.tif', wy2008_albedo_anomaly_stack, ReferencingMatrix, Projection)"
   ]
  },
  {
   "cell_type": "code",
   "execution_count": 148,
   "id": "a7871433-841a-4cb9-b8e7-e94d2c7e8730",
   "metadata": {},
   "outputs": [],
   "source": [
    "# wy2009_albedo_anomaly_stack = array([wy2009_january_albedo_anomaly, wy2009_february_albedo_anomaly, wy2009_march_albedo_anomaly, wy2009_april_albedo_anomaly,\n",
    "#                                     wy2009_may_albedo_anomaly, wy2009_june_albedo_anomaly, wy2009_july_albedo_anomaly, wy2009_august_albedo_anomaly, \n",
    "#                                      wy2009_september_albedo_anomaly, wy2009_october_albedo_anomaly, wy2009_november_albedo_anomaly, wy2009_december_albedo_anomaly])\n",
    "\n",
    "# CreateGeoTiffStack('stacked_tiffs/wy2009_albedo_anomaly_stack.tif', wy2009_albedo_anomaly_stack, ReferencingMatrix, Projection)"
   ]
  },
  {
   "cell_type": "code",
   "execution_count": 149,
   "id": "ab962885-1886-42da-8778-70036c294372",
   "metadata": {},
   "outputs": [],
   "source": [
    "# wy2010_albedo_anomaly_stack = array([wy2010_january_albedo_anomaly, wy2010_february_albedo_anomaly, wy2010_march_albedo_anomaly, wy2010_april_albedo_anomaly,\n",
    "#                                     wy2010_may_albedo_anomaly, wy2010_june_albedo_anomaly, wy2010_july_albedo_anomaly, wy2010_august_albedo_anomaly, \n",
    "#                                      wy2010_september_albedo_anomaly, wy2010_october_albedo_anomaly, wy2010_november_albedo_anomaly, wy2010_december_albedo_anomaly])\n",
    "\n",
    "# CreateGeoTiffStack('stacked_tiffs/wy2010_albedo_anomaly_stack.tif', wy2010_albedo_anomaly_stack, ReferencingMatrix, Projection)"
   ]
  },
  {
   "cell_type": "code",
   "execution_count": 150,
   "id": "6d0b2a3c-472b-4c2b-9b23-45523d844215",
   "metadata": {},
   "outputs": [],
   "source": [
    "# wy2011_albedo_anomaly_stack = array([wy2011_january_albedo_anomaly, wy2011_february_albedo_anomaly, wy2011_march_albedo_anomaly, wy2011_april_albedo_anomaly,\n",
    "#                                     wy2011_may_albedo_anomaly, wy2011_june_albedo_anomaly, wy2011_july_albedo_anomaly, wy2011_august_albedo_anomaly, \n",
    "#                                      wy2011_september_albedo_anomaly, wy2011_october_albedo_anomaly, wy2011_november_albedo_anomaly, wy2011_december_albedo_anomaly])\n",
    "\n",
    "# CreateGeoTiffStack('stacked_tiffs/wy2011_albedo_anomaly_stack.tif', wy2011_albedo_anomaly_stack, ReferencingMatrix, Projection)"
   ]
  },
  {
   "cell_type": "code",
   "execution_count": 151,
   "id": "e17bb8db-323d-48cc-b899-bde34b4af0d6",
   "metadata": {},
   "outputs": [],
   "source": [
    "# wy2012_albedo_anomaly_stack = array([wy2012_january_albedo_anomaly, wy2012_february_albedo_anomaly, wy2012_march_albedo_anomaly, wy2012_april_albedo_anomaly,\n",
    "#                                     wy2012_may_albedo_anomaly, wy2012_june_albedo_anomaly, wy2012_july_albedo_anomaly, wy2012_august_albedo_anomaly, \n",
    "#                                      wy2012_september_albedo_anomaly, wy2012_october_albedo_anomaly, wy2012_november_albedo_anomaly, wy2012_december_albedo_anomaly])\n",
    "\n",
    "# CreateGeoTiffStack('stacked_tiffs/wy2012_albedo_anomaly_stack.tif', wy2012_albedo_anomaly_stack, ReferencingMatrix, Projection)"
   ]
  },
  {
   "cell_type": "code",
   "execution_count": 152,
   "id": "ed41aaae-4f16-44b2-a34e-d08d20834c57",
   "metadata": {},
   "outputs": [],
   "source": [
    "# wy2013_albedo_anomaly_stack = array([wy2013_january_albedo_anomaly, wy2013_february_albedo_anomaly, wy2013_march_albedo_anomaly, wy2013_april_albedo_anomaly,\n",
    "#                                     wy2013_may_albedo_anomaly, wy2013_june_albedo_anomaly, wy2013_july_albedo_anomaly, wy2013_august_albedo_anomaly, \n",
    "#                                      wy2013_september_albedo_anomaly, wy2013_october_albedo_anomaly, wy2013_november_albedo_anomaly, wy2013_december_albedo_anomaly])\n",
    "\n",
    "# CreateGeoTiffStack('stacked_tiffs/wy2013_albedo_anomaly_stack.tif', wy2013_albedo_anomaly_stack, ReferencingMatrix, Projection)"
   ]
  },
  {
   "cell_type": "code",
   "execution_count": 153,
   "id": "89b19a6b-c2b8-4616-ace8-2d4ce3e9cf35",
   "metadata": {},
   "outputs": [],
   "source": [
    "# wy2014_albedo_anomaly_stack = array([wy2014_january_albedo_anomaly, wy2014_february_albedo_anomaly, wy2014_march_albedo_anomaly, wy2014_april_albedo_anomaly,\n",
    "#                                     wy2014_may_albedo_anomaly, wy2014_june_albedo_anomaly, wy2014_july_albedo_anomaly, wy2014_august_albedo_anomaly, \n",
    "#                                      wy2014_september_albedo_anomaly, wy2014_october_albedo_anomaly, wy2014_november_albedo_anomaly, wy2014_december_albedo_anomaly])\n",
    "\n",
    "# CreateGeoTiffStack('stacked_tiffs/wy2014_albedo_anomaly_stack.tif', wy2014_albedo_anomaly_stack, ReferencingMatrix, Projection)"
   ]
  },
  {
   "cell_type": "code",
   "execution_count": 154,
   "id": "2737a9c7-ea23-45e2-8cdc-1172af9ec5b6",
   "metadata": {},
   "outputs": [],
   "source": [
    "# wy2015_albedo_anomaly_stack = array([wy2015_january_albedo_anomaly, wy2015_february_albedo_anomaly, wy2015_march_albedo_anomaly, wy2015_april_albedo_anomaly,\n",
    "#                                     wy2015_may_albedo_anomaly, wy2015_june_albedo_anomaly, wy2015_july_albedo_anomaly, wy2015_august_albedo_anomaly, \n",
    "#                                      wy2015_september_albedo_anomaly, wy2015_october_albedo_anomaly, wy2015_november_albedo_anomaly, wy2015_december_albedo_anomaly])\n",
    "\n",
    "# CreateGeoTiffStack('stacked_tiffs/wy2015_albedo_anomaly_stack.tif', wy2015_albedo_anomaly_stack, ReferencingMatrix, Projection)"
   ]
  },
  {
   "cell_type": "code",
   "execution_count": 155,
   "id": "b37a8751-19d0-4801-9352-2a19dde1a625",
   "metadata": {},
   "outputs": [],
   "source": [
    "# wy2016_albedo_anomaly_stack = array([wy2016_january_albedo_anomaly, wy2016_february_albedo_anomaly, wy2016_march_albedo_anomaly, wy2016_april_albedo_anomaly,\n",
    "#                                     wy2016_may_albedo_anomaly, wy2016_june_albedo_anomaly, wy2016_july_albedo_anomaly, wy2016_august_albedo_anomaly, \n",
    "#                                      wy2016_september_albedo_anomaly, wy2016_october_albedo_anomaly, wy2016_november_albedo_anomaly, wy2016_december_albedo_anomaly])\n",
    "\n",
    "# CreateGeoTiffStack('stacked_tiffs/wy2016_albedo_anomaly_stack.tif', wy2016_albedo_anomaly_stack, ReferencingMatrix, Projection)"
   ]
  },
  {
   "cell_type": "code",
   "execution_count": 156,
   "id": "0659d764-3b0a-4b94-a2c2-49d50bc54faa",
   "metadata": {},
   "outputs": [],
   "source": [
    "# wy2017_albedo_anomaly_stack = array([wy2017_january_albedo_anomaly, wy2017_february_albedo_anomaly, wy2017_march_albedo_anomaly, wy2017_april_albedo_anomaly,\n",
    "#                                     wy2017_may_albedo_anomaly, wy2017_june_albedo_anomaly, wy2017_july_albedo_anomaly, wy2017_august_albedo_anomaly, \n",
    "#                                      wy2017_september_albedo_anomaly, wy2017_october_albedo_anomaly, wy2017_november_albedo_anomaly, wy2017_december_albedo_anomaly])\n",
    "\n",
    "# CreateGeoTiffStack('stacked_tiffs/wy2017_albedo_anomaly_stack.tif', wy2017_albedo_anomaly_stack, ReferencingMatrix, Projection)"
   ]
  },
  {
   "cell_type": "code",
   "execution_count": 157,
   "id": "1dd01519-a5e4-4702-9fe8-7fe60e33af91",
   "metadata": {},
   "outputs": [],
   "source": [
    "# wy2018_albedo_anomaly_stack = array([wy2018_january_albedo_anomaly, wy2018_february_albedo_anomaly, wy2018_march_albedo_anomaly, wy2018_april_albedo_anomaly,\n",
    "#                                     wy2018_may_albedo_anomaly, wy2018_june_albedo_anomaly, wy2018_july_albedo_anomaly, wy2018_august_albedo_anomaly, \n",
    "#                                      wy2018_september_albedo_anomaly, wy2018_october_albedo_anomaly, wy2018_november_albedo_anomaly, wy2018_december_albedo_anomaly])\n",
    "\n",
    "# CreateGeoTiffStack('stacked_tiffs/wy2018_albedo_anomaly_stack.tif', wy2018_albedo_anomaly_stack, ReferencingMatrix, Projection)"
   ]
  },
  {
   "cell_type": "code",
   "execution_count": 158,
   "id": "c6cd5f80-8750-4251-8907-0627921ac7bd",
   "metadata": {},
   "outputs": [
    {
     "data": {
      "text/plain": [
       "'stacked_tiffs/wy2019_albedo_anomaly_stack.tif'"
      ]
     },
     "execution_count": 158,
     "metadata": {},
     "output_type": "execute_result"
    }
   ],
   "source": [
    "# wy2019_albedo_anomaly_stack = array([wy2019_january_albedo_anomaly, wy2019_february_albedo_anomaly, wy2019_march_albedo_anomaly, wy2019_april_albedo_anomaly,\n",
    "#                                     wy2019_may_albedo_anomaly, wy2019_june_albedo_anomaly, wy2019_july_albedo_anomaly, wy2019_august_albedo_anomaly, \n",
    "#                                      wy2019_september_albedo_anomaly, wy2019_october_albedo_anomaly, wy2019_november_albedo_anomaly, wy2019_december_albedo_anomaly])\n",
    "\n",
    "# CreateGeoTiffStack('stacked_tiffs/wy2019_albedo_anomaly_stack.tif', wy2019_albedo_anomaly_stack, ReferencingMatrix, Projection)"
   ]
  },
  {
   "cell_type": "markdown",
   "id": "8cb06fac-1490-449c-ab67-3fd11c6fc528",
   "metadata": {},
   "source": [
    "<a id='mask'></a> \n",
    "# Project Area Mask"
   ]
  },
  {
   "cell_type": "code",
   "execution_count": 159,
   "id": "d13c4adc-cfbb-475e-b8ab-f3ae65d78f3a",
   "metadata": {},
   "outputs": [],
   "source": [
    "warnings.filterwarnings('ignore')\n",
    "\n",
    "project_area_mask = rioxarray.open_rasterio('../data/snow_fraction_data/Sierra2001.h5')\n",
    "project_area_mask_xarray = project_area_mask['Grid_MODIS_GRID_500m_snow_fraction']\n",
    "project_area_mask_xarray = project_area_mask_xarray.where(project_area_mask_xarray != 255)\n",
    "project_area_mask_xarray = project_area_mask_xarray.isel(band=slice(0, 364)).mean(dim=\"band\") \n",
    "project_area_mask_numpy = project_area_mask_xarray.to_numpy()\n",
    "project_area_mask_numpy = np.transpose(project_area_mask_numpy)\n",
    "project_area_mask_numpy[project_area_mask_numpy >= 0] = 999"
   ]
  },
  {
   "cell_type": "code",
   "execution_count": 160,
   "id": "55b5f05e-6e06-4d4c-8d50-f156288f6de6",
   "metadata": {},
   "outputs": [
    {
     "data": {
      "text/plain": [
       "'stacked_tiffs/project_area_mask.tif'"
      ]
     },
     "execution_count": 160,
     "metadata": {},
     "output_type": "execute_result"
    }
   ],
   "source": [
    "project_area_mask = array([project_area_mask_numpy, project_area_mask_numpy])\n",
    "\n",
    "CreateGeoTiffStack('stacked_tiffs/project_area_mask.tif', project_area_mask, ReferencingMatrix, Projection)"
   ]
  }
 ],
 "metadata": {
  "kernelspec": {
   "display_name": "Python 3 (ipykernel)",
   "language": "python",
   "name": "python3"
  },
  "language_info": {
   "codemirror_mode": {
    "name": "ipython",
    "version": 3
   },
   "file_extension": ".py",
   "mimetype": "text/x-python",
   "name": "python",
   "nbconvert_exporter": "python",
   "pygments_lexer": "ipython3",
   "version": "3.8.12"
  }
 },
 "nbformat": 4,
 "nbformat_minor": 5
}
